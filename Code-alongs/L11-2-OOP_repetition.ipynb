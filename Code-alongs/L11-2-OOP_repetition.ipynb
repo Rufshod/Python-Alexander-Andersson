{
 "cells": [
  {
   "cell_type": "code",
   "execution_count": 16,
   "metadata": {},
   "outputs": [
    {
     "name": "stdout",
     "output_type": "stream",
     "text": [
      "Setter called...\n",
      "Setter called...\n",
      "getter called...\n",
      "Person runs away from class ...\n"
     ]
    }
   ],
   "source": [
    "class Person: #The class is the Template. In this case we need \n",
    "    \n",
    "    def __init__(self, age: float) -> None:\n",
    "    #bare attribute\n",
    "    # assignment -> setter körs\n",
    "        self.age = age\n",
    "\n",
    "    @property    #Must have getter first\n",
    "    def age(self) -> float:\n",
    "        print(\"getter called...\")\n",
    "        return self._age #backing variable, do not touch\n",
    "\n",
    "    #andra metoder ...\n",
    "    def run_away(self):\n",
    "        print(\"Person runs away from class ...\")\n",
    "\n",
    "    @age.setter\n",
    "    def age(self, value: float) -> None:\n",
    "        #valideringskod that forces a positive number e.g\n",
    "\n",
    "        print(\"Setter called...\")\n",
    "        self._age = value #backing variable, do not touch\n",
    "\n",
    "person_instance = Person(40) # Setter runs \n",
    "\n",
    "person_instance.age = 20 # setter runs again\n",
    "\n",
    "person_instance.age #getter gets called.\n",
    "\n",
    "person_instance.run_away()\n",
    "\n",
    "#If we do not want the ability to set the age to a negative number or string we need a setter. "
   ]
  },
  {
   "cell_type": "code",
   "execution_count": 12,
   "metadata": {},
   "outputs": [
    {
     "name": "stdout",
     "output_type": "stream",
     "text": [
      "Setter called...\n",
      "{'_age': 200}\n",
      "getter called...\n"
     ]
    },
    {
     "data": {
      "text/plain": [
       "200"
      ]
     },
     "execution_count": 12,
     "metadata": {},
     "output_type": "execute_result"
    }
   ],
   "source": [
    "person_instance1 = Person(200)\n",
    "print(person_instance1.__dict__)\n",
    "person_instance1.age"
   ]
  },
  {
   "cell_type": "code",
   "execution_count": 13,
   "metadata": {},
   "outputs": [
    {
     "data": {
      "text/plain": [
       "<__main__.Person at 0x2b3e2abeb20>"
      ]
     },
     "execution_count": 13,
     "metadata": {},
     "output_type": "execute_result"
    }
   ],
   "source": [
    "class Person: #The class is the Template. In this case we need \n",
    "    \n",
    "    def __init__(self, age: float) -> None:\n",
    "    #bare attribute\n",
    "    # assignment -> setter körs\n",
    "        self.age = age # This is now a bare attribute\n",
    "\n",
    "person2 = Person(4)\n",
    "person2"
   ]
  },
  {
   "cell_type": "code",
   "execution_count": null,
   "metadata": {},
   "outputs": [],
   "source": [
    "# i andra språk använder man getters och setters \n",
    "class Person:\n",
    "    \n",
    "    # type hinting - returns None\n",
    "    def __init__(self, age: float) -> None:\n",
    "        # bare attribute\n",
    "        self._age = age\n",
    "\n",
    "    def get_age(self) -> float:\n",
    "        return self._age\n",
    "    \n",
    "    def set_age(self, value: float) -> None:\n",
    "        # valideringskod\n",
    "        self._age = value\n",
    "\n",
    "person_instance = Person(40)\n",
    "#person_instance.age = -5\n",
    "print(person_instance.get_age())\n",
    "\n",
    "person_instance.set_age(10)\n",
    "person_instance.get_age()"
   ]
  },
  {
   "cell_type": "code",
   "execution_count": null,
   "metadata": {},
   "outputs": [],
   "source": [
    "# i Python vill man direkt komma åt ens property och då dekorerar med med @property\n",
    "\n",
    "class Person:\n",
    "    \n",
    "    # type hinting - returns None\n",
    "    def __init__(self, age: float) -> None:\n",
    "        # assignment -> setter körs\n",
    "        self.age = age\n",
    "\n",
    "    @property\n",
    "    def age(self) -> float:\n",
    "        print(\"getter called ...\")\n",
    "        return self._age\n",
    "    \n",
    "    # andra metoder ...\n",
    "    def run_away(self):\n",
    "        print(\"Person runs away from class ...\")\n",
    "\n",
    "    @age.setter\n",
    "    def age(self, value: float) -> None:\n",
    "        # valideringskod\n",
    "\n",
    "        print(\"Setter called ...\")\n",
    "        self._age = value\n",
    "\n",
    "person_instance = Person(40)\n",
    "person_instance.age = 20\n",
    "person_instance.age"
   ]
  },
  {
   "cell_type": "markdown",
   "metadata": {},
   "source": [
    "# Decorators\n",
    "\n",
    "-Wrapper function"
   ]
  },
  {
   "cell_type": "code",
   "execution_count": 6,
   "metadata": {},
   "outputs": [
    {
     "name": "stdout",
     "output_type": "stream",
     "text": [
      "Started\n",
      "Hello\n",
      "Ended\n"
     ]
    }
   ],
   "source": [
    "def f1(func):\n",
    "    def wrapper():\n",
    "        print(\"Started\")\n",
    "        func() # Calls a function\n",
    "        print(\"Ended\")\n",
    "\n",
    "    return wrapper\n",
    "\n",
    "@f1 # Makes the f() function call f1 function when called.\n",
    "def f():\n",
    "    print(\"Hello\")\n",
    "\n",
    "#f1(f) # Never calls f function\n",
    "#f1(f)() #Return wrapper is an object. This works. This allows us to decorate a function\n",
    "\n",
    "f()\n",
    "\n"
   ]
  },
  {
   "cell_type": "code",
   "execution_count": 16,
   "metadata": {},
   "outputs": [
    {
     "name": "stdout",
     "output_type": "stream",
     "text": [
      "Started\n",
      "Ended\n",
      "9\n"
     ]
    }
   ],
   "source": [
    "def f1(func):\n",
    "    def wrapper(*args, **kwargs): #All we know is that we are going to have, so we allow any type of parameter\n",
    "        print(\"Started\")\n",
    "        val = func(*args, **kwargs) # Calls a function, If we do not add args and kwargs is \"wrapper() takes 0 positional arguments but 1 was given\"\n",
    "        print(\"Ended\")\n",
    "        return val\n",
    "\n",
    "    return wrapper\n",
    "\n",
    "@f1\n",
    "def f(a, b=9):\n",
    "    print(a, b)\n",
    "\n",
    "@f1 # \"Decorate with f1\"\n",
    "def add(x,y):\n",
    "    return x+y\n",
    "\n",
    "print(add(4,5))"
   ]
  },
  {
   "cell_type": "code",
   "execution_count": 18,
   "metadata": {},
   "outputs": [
    {
     "name": "stdout",
     "output_type": "stream",
     "text": [
      "Before\n",
      "run\n",
      "After\n"
     ]
    }
   ],
   "source": [
    "# Python Decorators - Example 1\n",
    "\n",
    "import time\n",
    "\n",
    "def before_after(func):\n",
    "    def wrapper(*args):\n",
    "        print(\"Before\")\n",
    "        func(*args)\n",
    "        print(\"After\")\n",
    "\n",
    "    return wrapper\n",
    "\n",
    "class Test:\n",
    "    @before_after\n",
    "    def decorated_method(self):\n",
    "        print(\"run\")\n",
    "\n",
    "t = Test()\n",
    "t.decorated_method()"
   ]
  },
  {
   "cell_type": "code",
   "execution_count": 22,
   "metadata": {},
   "outputs": [
    {
     "name": "stdout",
     "output_type": "stream",
     "text": [
      "Function took: 2.0150346755981445 seconds\n"
     ]
    }
   ],
   "source": [
    "# Python Decorators - Example 2\n",
    "\n",
    "import time\n",
    "\n",
    "def timer(func):\n",
    "    def wrapper():\n",
    "        before = time.time() # Creates a time object\n",
    "        func()\n",
    "        print(f\"Function took: {time.time() - before} seconds\") # Calls the time and prints after before is called.\n",
    "\n",
    "    return wrapper\n",
    "\n",
    "@timer\n",
    "def run():\n",
    "    time.sleep(2) #Pauses or makes the function \"Sleep\"\n",
    "\n",
    "run()"
   ]
  },
  {
   "cell_type": "code",
   "execution_count": 24,
   "metadata": {},
   "outputs": [
    {
     "name": "stdout",
     "output_type": "stream",
     "text": [
      "13\n"
     ]
    }
   ],
   "source": [
    "#Python Decorators - Example 3\n",
    "\n",
    "import datetime\n",
    "\n",
    "def log(func):\n",
    "    def wrapper(*args, **kwargs):\n",
    "        with open(\"logs.txt\", \"a\") as f:\n",
    "            f.write(\"Called function with\" + \" \".join([str(arg) for arg in args]) + \" at \" + str(datetime.datetime.now()) + \"\\n\")\n",
    "        val = func(*args, **kwargs)\n",
    "        return val\n",
    "\n",
    "    return wrapper\n",
    "\n",
    "@log\n",
    "def run(a, b, c=9):\n",
    "    print(a+b+c)\n",
    "\n",
    "run(1,3, c=9)"
   ]
  },
  {
   "cell_type": "code",
   "execution_count": 3,
   "metadata": {},
   "outputs": [
    {
     "ename": "NameError",
     "evalue": "name 'AI' is not defined",
     "output_type": "error",
     "traceback": [
      "\u001b[1;31m---------------------------------------------------------------------------\u001b[0m",
      "\u001b[1;31mNameError\u001b[0m                                 Traceback (most recent call last)",
      "\u001b[1;32mc:\\Users\\Agam\\Documents\\Github\\Python-Alexander-Andersson\\Code-alongs\\L11-2-OOP_repetition.ipynb Cell 6\u001b[0m in \u001b[0;36m<cell line: 3>\u001b[1;34m()\u001b[0m\n\u001b[0;32m      <a href='vscode-notebook-cell:/c%3A/Users/Agam/Documents/Github/Python-Alexander-Andersson/Code-alongs/L11-2-OOP_repetition.ipynb#W5sZmlsZQ%3D%3D?line=0'>1</a>\u001b[0m \u001b[39mimport\u001b[39;00m \u001b[39mmatplotlib\u001b[39;00m \u001b[39mas\u001b[39;00m \u001b[39mplt\u001b[39;00m\n\u001b[1;32m----> <a href='vscode-notebook-cell:/c%3A/Users/Agam/Documents/Github/Python-Alexander-Andersson/Code-alongs/L11-2-OOP_repetition.ipynb#W5sZmlsZQ%3D%3D?line=2'>3</a>\u001b[0m \u001b[39mclass\u001b[39;00m \u001b[39mAIE\u001b[39;00m:\n\u001b[0;32m      <a href='vscode-notebook-cell:/c%3A/Users/Agam/Documents/Github/Python-Alexander-Andersson/Code-alongs/L11-2-OOP_repetition.ipynb#W5sZmlsZQ%3D%3D?line=4'>5</a>\u001b[0m     \u001b[39mdef\u001b[39;00m \u001b[39m__init__\u001b[39m(\u001b[39mself\u001b[39m, year : \u001b[39mint\u001b[39m, teachers_name: \u001b[39mstr\u001b[39m, teachers_pet: \u001b[39mstr\u001b[39m):\n\u001b[0;32m      <a href='vscode-notebook-cell:/c%3A/Users/Agam/Documents/Github/Python-Alexander-Andersson/Code-alongs/L11-2-OOP_repetition.ipynb#W5sZmlsZQ%3D%3D?line=5'>6</a>\u001b[0m         \u001b[39mself\u001b[39m\u001b[39m.\u001b[39mteachers_name \u001b[39m=\u001b[39m teachers_name\n",
      "\u001b[1;32mc:\\Users\\Agam\\Documents\\Github\\Python-Alexander-Andersson\\Code-alongs\\L11-2-OOP_repetition.ipynb Cell 6\u001b[0m in \u001b[0;36mAIE\u001b[1;34m()\u001b[0m\n\u001b[0;32m     <a href='vscode-notebook-cell:/c%3A/Users/Agam/Documents/Github/Python-Alexander-Andersson/Code-alongs/L11-2-OOP_repetition.ipynb#W5sZmlsZQ%3D%3D?line=17'>18</a>\u001b[0m \u001b[39mdef\u001b[39;00m \u001b[39mpredict\u001b[39m (\u001b[39mself\u001b[39m):\n\u001b[0;32m     <a href='vscode-notebook-cell:/c%3A/Users/Agam/Documents/Github/Python-Alexander-Andersson/Code-alongs/L11-2-OOP_repetition.ipynb#W5sZmlsZQ%3D%3D?line=18'>19</a>\u001b[0m     \u001b[39mprint\u001b[39m(\u001b[39mf\u001b[39m\u001b[39m\"\u001b[39m\u001b[39mAI\u001b[39m\u001b[39m{\u001b[39;00m\u001b[39mstr\u001b[39m(\u001b[39mself\u001b[39m\u001b[39m.\u001b[39myear)[\u001b[39m-\u001b[39m\u001b[39m2\u001b[39m:]\u001b[39m}\u001b[39;00m\u001b[39m predicts: dog .98696\u001b[39m\u001b[39m\"\u001b[39m)\n\u001b[1;32m---> <a href='vscode-notebook-cell:/c%3A/Users/Agam/Documents/Github/Python-Alexander-Andersson/Code-alongs/L11-2-OOP_repetition.ipynb#W5sZmlsZQ%3D%3D?line=20'>21</a>\u001b[0m AI21 \u001b[39m=\u001b[39m AI(\u001b[39m2021\u001b[39m, \u001b[39m\"\u001b[39m\u001b[39mKokchun\u001b[39m\u001b[39m\"\u001b[39m, \u001b[39m\"\u001b[39m\u001b[39mBella\u001b[39m\u001b[39m\"\u001b[39m)\n\u001b[0;32m     <a href='vscode-notebook-cell:/c%3A/Users/Agam/Documents/Github/Python-Alexander-Andersson/Code-alongs/L11-2-OOP_repetition.ipynb#W5sZmlsZQ%3D%3D?line=21'>22</a>\u001b[0m AI21\u001b[39m.\u001b[39mteacher_speak(\u001b[39m\"\u001b[39m\u001b[39mHello class!\u001b[39m\u001b[39m\"\u001b[39m)\n\u001b[0;32m     <a href='vscode-notebook-cell:/c%3A/Users/Agam/Documents/Github/Python-Alexander-Andersson/Code-alongs/L11-2-OOP_repetition.ipynb#W5sZmlsZQ%3D%3D?line=22'>23</a>\u001b[0m AI21\u001b[39m.\u001b[39mteacher_speak(\u001b[39mf\u001b[39m\u001b[39m\"\u001b[39m\u001b[39mThis is my pet \u001b[39m\u001b[39m{\u001b[39;00mAI21\u001b[39m.\u001b[39mteacher\u001b[39m}\u001b[39;00m\u001b[39m\"\u001b[39m)\n",
      "\u001b[1;31mNameError\u001b[0m: name 'AI' is not defined"
     ]
    }
   ],
   "source": [
    "import matplotlib as plt\n",
    "\n",
    "class AI:\n",
    "    def __init__(self, year : int, teachers_name: str, teachers_pet: str):\n",
    "        self.teachers_name = teachers_name\n",
    "        self.teachers_pet = teachers_pet\n",
    "        self.year = year\n",
    "\n",
    "    def teacher_speak(self, sentence: str):\n",
    "        print(f\"{self.teachers:name} says: {sentence}\")\n",
    "\n",
    "    def teacher_show_pet(selt, image_path: str):\n",
    "        image = plt.imread(image_path)\n",
    "        plt.imshow(image)\n",
    "        plt.axis(\"off\")\n",
    "\n",
    "    def predict (self):\n",
    "        print(f\"AI{str(self.year)[-2:]} predicts: dog .98696\") #self year part, makes it into str so that we can get the last two indexes from the string.\n",
    "\n",
    "    AI21 = AI(2021, \"Kokchun\", \"Bella\")\n",
    "    AI21.teacher_speak(\"Hello class!\")\n",
    "    AI21.teacher_speak(f\"This is my pet {AI21.teacher}\")\n",
    "    AI21.teacher_show_pet(\"./beLla, jpeg\")\n",
    "    AI21.predict()\n",
    " "
   ]
  }
 ],
 "metadata": {
  "kernelspec": {
   "display_name": "Python 3.9.13 ('Python-Alexander-Andersson-rXBoH5sP')",
   "language": "python",
   "name": "python3"
  },
  "language_info": {
   "codemirror_mode": {
    "name": "ipython",
    "version": 3
   },
   "file_extension": ".py",
   "mimetype": "text/x-python",
   "name": "python",
   "nbconvert_exporter": "python",
   "pygments_lexer": "ipython3",
   "version": "3.9.13"
  },
  "orig_nbformat": 4,
  "vscode": {
   "interpreter": {
    "hash": "b14cc422d827dd3ad3e166e9b0c2744dfcee3cbacc81397c64432efd767b4494"
   }
  }
 },
 "nbformat": 4,
 "nbformat_minor": 2
}
