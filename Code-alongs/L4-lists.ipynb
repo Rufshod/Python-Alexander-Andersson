{
 "cells": [
  {
   "cell_type": "markdown",
   "metadata": {},
   "source": [
    "# Lists"
   ]
  },
  {
   "cell_type": "code",
   "execution_count": 7,
   "metadata": {},
   "outputs": [
    {
     "name": "stdout",
     "output_type": "stream",
     "text": [
      "['pizza', 'lasange', 'sushi', 'stew', 'pancakes', 'shrimps']\n",
      "nice_foods [0] = 'pizza'\n",
      "nice_foods [-1] = 'shrimps'\n",
      "nice_foods [-2] = 'pancakes'\n",
      "nice_foods [4] = 'pancakes'\n"
     ]
    }
   ],
   "source": [
    "#Creating a new list with the elements some elements, in this example strings []\n",
    "\n",
    "nice_foods = [\"pizza\", \"lasange\", \"sushi\", \"stew\", \"pancakes\", \"shrimps\"]\n",
    "\n",
    "print(nice_foods)\n",
    "\n",
    "#to get a the first element of the list\n",
    "print(f\"{nice_foods [0] = }\")\n",
    "# gets last element\n",
    "print(f\"{nice_foods [-1] = }\") # same as writing nice_foods[5] which is the last in the above list\n",
    "\n",
    "# if i want the element at index 4,\n",
    "print(f\"{nice_foods [-2] = }\")\n",
    "print(f\"{nice_foods [4] = }\")"
   ]
  },
  {
   "cell_type": "markdown",
   "metadata": {},
   "source": [
    "# Slicing"
   ]
  },
  {
   "cell_type": "code",
   "execution_count": 19,
   "metadata": {},
   "outputs": [
    {
     "name": "stdout",
     "output_type": "stream",
     "text": [
      "['pizza', 'lasange', 'sushi', 'stew', 'pancakes', 'shrimps']\n",
      "nice_foods[1:4] = ['lasange', 'sushi', 'stew']\n",
      "nice_foods[:-1] = ['pizza', 'lasange', 'sushi', 'stew', 'pancakes']\n",
      "nice_foods[::-1] = ['shrimps', 'pancakes', 'stew', 'sushi', 'lasange', 'pizza']\n"
     ]
    }
   ],
   "source": [
    "print(nice_foods)\n",
    "print(f\"{nice_foods[1:4] = }\") #Getting element 1 2 3 not 0 or 4 5 \n",
    "print(f\"{nice_foods[:-1] = }\") #Getting all elements except the last one \n",
    "\n",
    "print(f\"{nice_foods[::-1] = }\") # reverses the list with -1\n"
   ]
  },
  {
   "cell_type": "code",
   "execution_count": 21,
   "metadata": {},
   "outputs": [
    {
     "name": "stdout",
     "output_type": "stream",
     "text": [
      "['lasange', 'pancakes', 'pizza', 'shrimps', 'stew', 'sushi']\n",
      "[2, 1, 5, -5]\n",
      "[-5, 1, 2, 5]\n"
     ]
    }
   ],
   "source": [
    "nice_foods.sort() # sorts alphabetically\n",
    "print(nice_foods) \n",
    "\n",
    "#sorting in ascending order\n",
    "numbers = [2,1,5,-5]\n",
    "print(numbers)\n",
    "\n",
    "numbers.sort()\n",
    "\n",
    "print(numbers)"
   ]
  },
  {
   "cell_type": "markdown",
   "metadata": {},
   "source": [
    "## for-loop with enumerate"
   ]
  },
  {
   "cell_type": "code",
   "execution_count": 25,
   "metadata": {},
   "outputs": [
    {
     "name": "stdout",
     "output_type": "stream",
     "text": [
      "['lasange', 'pancakes', 'pizza', 'shrimps', 'stew', 'sushi']\n",
      "1. lasange\n",
      "2. pancakes\n",
      "3. pizza\n",
      "4. shrimps\n",
      "5. stew\n",
      "6. sushi\n"
     ]
    }
   ],
   "source": [
    "print(nice_foods)\n",
    "\n",
    "# enumerate -> (index, element) in list \n",
    "for i, food in enumerate(nice_foods,1):   #getting the index for all the elements in list. ,1 after nice_foods makes it so that it starts counting from the number. in this case 1 if you leave it with nothing it starts at zero\n",
    "    print(f\"{i}. {food}\")"
   ]
  },
  {
   "cell_type": "code",
   "execution_count": 30,
   "metadata": {},
   "outputs": [
    {
     "name": "stdout",
     "output_type": "stream",
     "text": [
      "0. lasange\n",
      "1. pancakes\n",
      "2. pizza\n",
      "3. shrimps\n",
      "4. stew\n",
      "5. sushi\n"
     ]
    }
   ],
   "source": [
    "#Same as above.\n",
    "for i in range(len(nice_foods)):\n",
    "    print(f\"{i}. {nice_foods[i]}\")"
   ]
  },
  {
   "cell_type": "markdown",
   "metadata": {},
   "source": [
    "## List comprehension"
   ]
  },
  {
   "cell_type": "code",
   "execution_count": 31,
   "metadata": {},
   "outputs": [
    {
     "name": "stdout",
     "output_type": "stream",
     "text": [
      "[0, 1, 8, 27, 64, 125, 216, 343, 512, 729]\n"
     ]
    }
   ],
   "source": [
    "# \"normal way\" using append\n",
    "cubes = []\n",
    "\n",
    "for i in range(10):\n",
    "    cubes.append(i**3) # i^3\n",
    "\n",
    "print(cubes)"
   ]
  },
  {
   "cell_type": "code",
   "execution_count": 34,
   "metadata": {},
   "outputs": [
    {
     "name": "stdout",
     "output_type": "stream",
     "text": [
      "[0, 1, 8, 27, 64, 125, 216, 343, 512, 729]\n"
     ]
    }
   ],
   "source": [
    "# list comprehension\n",
    "#same as above\n",
    "cubes = [i**3 for i in range(10)]\n",
    "\n",
    "print(cubes)"
   ]
  },
  {
   "cell_type": "code",
   "execution_count": 35,
   "metadata": {},
   "outputs": [
    {
     "name": "stdout",
     "output_type": "stream",
     "text": [
      "[1, 27, 125, 343, 729]\n"
     ]
    }
   ],
   "source": [
    "#cubes ever odd number \n",
    "cubes_odd = [i**3 for i in range(10) if i%2!=0]\n",
    "print(cubes_odd)"
   ]
  },
  {
   "cell_type": "code",
   "execution_count": 36,
   "metadata": {},
   "outputs": [
    {
     "name": "stdout",
     "output_type": "stream",
     "text": [
      "[5, 3, 1, 2, 2, 1, 1, 5, 2, 3]\n"
     ]
    }
   ],
   "source": [
    "import random as rnd\n",
    "# dice list\n",
    "dices = [rnd.randint(1,6) for _ in range(10)] # why _ ? convention to use _ when not using the loop variable.\n",
    "print(dices)"
   ]
  },
  {
   "cell_type": "markdown",
   "metadata": {},
   "source": []
  },
  {
   "cell_type": "markdown",
   "metadata": {},
   "source": [
    "## lists in lists"
   ]
  },
  {
   "cell_type": "code",
   "execution_count": 43,
   "metadata": {},
   "outputs": [
    {
     "name": "stdout",
     "output_type": "stream",
     "text": [
      "grades[1] = ['B', 20]\n",
      "grades[1][0] = 'B'\n",
      "grades[1][1] = 20\n",
      "1\n"
     ]
    }
   ],
   "source": [
    "grades = [[\"A\", 25], [\"B\", 20], [\"F\", 5]]\n",
    "\n",
    "print(f\"{grades[1] = }\") #getting one list in the list\n",
    "print(f\"{grades[1][0] = }\") #indexing in the index\n",
    "print(f\"{grades[1][1] = }\") #indexing in the index\n",
    "\n",
    "print(1**2)"
   ]
  }
 ],
 "metadata": {
  "kernelspec": {
   "display_name": "Python 3.9.13 ('Python-Alexander-Andersson-6f9gzyEi')",
   "language": "python",
   "name": "python3"
  },
  "language_info": {
   "codemirror_mode": {
    "name": "ipython",
    "version": 3
   },
   "file_extension": ".py",
   "mimetype": "text/x-python",
   "name": "python",
   "nbconvert_exporter": "python",
   "pygments_lexer": "ipython3",
   "version": "3.9.13"
  },
  "orig_nbformat": 4,
  "vscode": {
   "interpreter": {
    "hash": "0e170795d12b9f00bb6c905343705ccb98da647a4486686bf7cb14fa618c1741"
   }
  }
 },
 "nbformat": 4,
 "nbformat_minor": 2
}
