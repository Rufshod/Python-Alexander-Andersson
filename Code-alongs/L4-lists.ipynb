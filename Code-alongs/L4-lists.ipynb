{
 "cells": [
  {
   "cell_type": "markdown",
   "metadata": {},
   "source": [
    "# Lists"
   ]
  },
  {
   "cell_type": "code",
   "execution_count": 2,
   "metadata": {},
   "outputs": [
    {
     "name": "stdout",
     "output_type": "stream",
     "text": [
      "['pizza', 'lasange', 'sushi', 'stew', 'pancakes', 'shrimps']\n",
      "nice_foods[0]='pizza'\n",
      "nice_foods[-1]='shrimps'\n"
     ]
    }
   ],
   "source": [
    "#Creating a new list with the elements some elements, in this example strings []\n",
    "\n",
    "nice_foods = [\"pizza\", \"lasange\", \"sushi\", \"stew\", \"pancakes\", \"shrimps\"]\n",
    "\n",
    "print(nice_foods)\n",
    "\n",
    "#to get a the first element of the list\n",
    "print(f\"{nice_foods[0]=}\")\n",
    "# gets last element\n",
    "print(f\"{nice_foods[-1]=}\") # same as writing nice_foods[5] which is the last in the above list"
   ]
  }
 ],
 "metadata": {
  "kernelspec": {
   "display_name": "Python 3.9.13 ('Python-Alexander-Andersson-6f9gzyEi')",
   "language": "python",
   "name": "python3"
  },
  "language_info": {
   "codemirror_mode": {
    "name": "ipython",
    "version": 3
   },
   "file_extension": ".py",
   "mimetype": "text/x-python",
   "name": "python",
   "nbconvert_exporter": "python",
   "pygments_lexer": "ipython3",
   "version": "3.9.13"
  },
  "orig_nbformat": 4,
  "vscode": {
   "interpreter": {
    "hash": "0e170795d12b9f00bb6c905343705ccb98da647a4486686bf7cb14fa618c1741"
   }
  }
 },
 "nbformat": 4,
 "nbformat_minor": 2
}
