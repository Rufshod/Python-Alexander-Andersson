{
 "cells": [
  {
   "cell_type": "markdown",
   "metadata": {},
   "source": [
    "## Problem description\n",
    "\n",
    "3 developers, the task is to implement a photosynthesis method for 3 different plants.\n",
    "\n"
   ]
  },
  {
   "cell_type": "code",
   "execution_count": 24,
   "metadata": {},
   "outputs": [
    {
     "name": "stdout",
     "output_type": "stream",
     "text": [
      "Venus Fly Trap is digesting a fly\n",
      "VenusFlyTrap does photosynthesis\n"
     ]
    }
   ],
   "source": [
    "# developer 1 does the following:\n",
    "class VenusFlyTrap:\n",
    "    def venus_photosynthesis(self):\n",
    "        print(\"Venus Fly Trap is digesting a fly\")\n",
    "        # checks the instance class and its name ↓\n",
    "        print(f\"{type(self).__name__} does photosynthesis\")\n",
    "\n",
    "\n",
    "# developer 2 does the following:\n",
    "class Monstera:\n",
    "    def monstera_photosynthesis(self):\n",
    "        print(\"Monstera is looking at the sun\")\n",
    "        print(f\"{type(self).__name__} does photosynthesis\")\n",
    "\n",
    "# developer 3 does the following\n",
    "class MoneyPlant:\n",
    "    def photosynthesis(self):\n",
    "        print(\"Money Plant is making it rain\")\n",
    "        print(f\"{type(self).__name__} does photosynthesis\")\n",
    "\n",
    "\n",
    "venus = VenusFlyTrap()\n",
    "venus.venus_photosynthesis()"
   ]
  },
  {
   "cell_type": "code",
   "execution_count": 25,
   "metadata": {},
   "outputs": [
    {
     "ename": "AttributeError",
     "evalue": "'VenusFlyTrap' object has no attribute 'photosynthesis'",
     "output_type": "error",
     "traceback": [
      "\u001b[1;31m---------------------------------------------------------------------------\u001b[0m",
      "\u001b[1;31mAttributeError\u001b[0m                            Traceback (most recent call last)",
      "\u001b[1;32mc:\\Users\\Agam\\Documents\\Github\\Python-Alexander-Andersson\\Code-alongs\\Lec19-OOP_abstract_class.ipynb Cell 3\u001b[0m in \u001b[0;36m<cell line: 4>\u001b[1;34m()\u001b[0m\n\u001b[0;32m      <a href='vscode-notebook-cell:/c%3A/Users/Agam/Documents/Github/Python-Alexander-Andersson/Code-alongs/Lec19-OOP_abstract_class.ipynb#W2sZmlsZQ%3D%3D?line=1'>2</a>\u001b[0m plants \u001b[39m=\u001b[39m (VenusFlyTrap(), Monstera(), MoneyPlant()) \u001b[39m# Plant holds instance objects in a tuple\u001b[39;00m\n\u001b[0;32m      <a href='vscode-notebook-cell:/c%3A/Users/Agam/Documents/Github/Python-Alexander-Andersson/Code-alongs/Lec19-OOP_abstract_class.ipynb#W2sZmlsZQ%3D%3D?line=3'>4</a>\u001b[0m \u001b[39mfor\u001b[39;00m plant \u001b[39min\u001b[39;00m plants:\n\u001b[1;32m----> <a href='vscode-notebook-cell:/c%3A/Users/Agam/Documents/Github/Python-Alexander-Andersson/Code-alongs/Lec19-OOP_abstract_class.ipynb#W2sZmlsZQ%3D%3D?line=4'>5</a>\u001b[0m     plant\u001b[39m.\u001b[39mphotosynthesis()\n",
      "\u001b[1;31mAttributeError\u001b[0m: 'VenusFlyTrap' object has no attribute 'photosynthesis'"
     ]
    }
   ],
   "source": [
    "# want to use polymorphism and loop through these plants\n",
    "plants = (VenusFlyTrap(), Monstera(), MoneyPlant()) # Plant holds instance objects in a tuple\n",
    "\n",
    "for plant in plants:\n",
    "    plant.photosynthesis()"
   ]
  },
  {
   "cell_type": "markdown",
   "metadata": {},
   "source": [
    "## ABC - abstract base class\n",
    "\n",
    "- can make a base class abstract by giving it atleast 1 abstract method\n",
    "- can't instantiate from an abstract class.\n",
    "- subclasses of this abstract class, must implement the abstract methods in order to be instantiable"
   ]
  },
  {
   "cell_type": "code",
   "execution_count": null,
   "metadata": {},
   "outputs": [
    {
     "ename": "TypeError",
     "evalue": "Can't instantiate abstract class Plant with abstract method photosynthesis",
     "output_type": "error",
     "traceback": [
      "\u001b[1;31m---------------------------------------------------------------------------\u001b[0m",
      "\u001b[1;31mTypeError\u001b[0m                                 Traceback (most recent call last)",
      "\u001b[1;32mc:\\Users\\Agam\\Documents\\Github\\Python-Alexander-Andersson\\Code-alongs\\Lec19-OOP_abstract_class.ipynb Cell 5\u001b[0m in \u001b[0;36m<cell line: 9>\u001b[1;34m()\u001b[0m\n\u001b[0;32m      <a href='vscode-notebook-cell:/c%3A/Users/Agam/Documents/Github/Python-Alexander-Andersson/Code-alongs/Lec19-OOP_abstract_class.ipynb#W3sZmlsZQ%3D%3D?line=4'>5</a>\u001b[0m     \u001b[39m@abstractmethod\u001b[39m\n\u001b[0;32m      <a href='vscode-notebook-cell:/c%3A/Users/Agam/Documents/Github/Python-Alexander-Andersson/Code-alongs/Lec19-OOP_abstract_class.ipynb#W3sZmlsZQ%3D%3D?line=5'>6</a>\u001b[0m     \u001b[39mdef\u001b[39;00m \u001b[39mphotosynthesis\u001b[39m(\u001b[39mself\u001b[39m):\n\u001b[0;32m      <a href='vscode-notebook-cell:/c%3A/Users/Agam/Documents/Github/Python-Alexander-Andersson/Code-alongs/Lec19-OOP_abstract_class.ipynb#W3sZmlsZQ%3D%3D?line=6'>7</a>\u001b[0m         \u001b[39mpass\u001b[39;00m\n\u001b[1;32m----> <a href='vscode-notebook-cell:/c%3A/Users/Agam/Documents/Github/Python-Alexander-Andersson/Code-alongs/Lec19-OOP_abstract_class.ipynb#W3sZmlsZQ%3D%3D?line=8'>9</a>\u001b[0m Sunflower \u001b[39m=\u001b[39m Plant()\n",
      "\u001b[1;31mTypeError\u001b[0m: Can't instantiate abstract class Plant with abstract method photosynthesis"
     ]
    }
   ],
   "source": [
    "from abc import abstractmethod, ABC\n",
    "\n",
    "# the abstract base class must inherit from ABC.\n",
    "class Plant(ABC):\n",
    "    @abstractmethod\n",
    "    def photosynthesis(self):\n",
    "        pass\n",
    "\n",
    "# can't instantiate from an abstract class, a class is abstract if it has an abstract method.\n",
    "Sunflower = Plant()"
   ]
  },
  {
   "cell_type": "code",
   "execution_count": null,
   "metadata": {},
   "outputs": [
    {
     "name": "stdout",
     "output_type": "stream",
     "text": [
      "<__main__.MoneyPlant object at 0x0000020D5CD9A0A0>\n"
     ]
    },
    {
     "ename": "TypeError",
     "evalue": "Can't instantiate abstract class Monstera with abstract method photosynthesis",
     "output_type": "error",
     "traceback": [
      "\u001b[1;31m---------------------------------------------------------------------------\u001b[0m",
      "\u001b[1;31mTypeError\u001b[0m                                 Traceback (most recent call last)",
      "\u001b[1;32mc:\\Users\\Agam\\Documents\\Github\\Python-Alexander-Andersson\\Code-alongs\\Lec19-OOP_abstract_class.ipynb Cell 6\u001b[0m in \u001b[0;36m<cell line: 31>\u001b[1;34m()\u001b[0m\n\u001b[0;32m     <a href='vscode-notebook-cell:/c%3A/Users/Agam/Documents/Github/Python-Alexander-Andersson/Code-alongs/Lec19-OOP_abstract_class.ipynb#W5sZmlsZQ%3D%3D?line=28'>29</a>\u001b[0m \u001b[39mprint\u001b[39m(money)\n\u001b[0;32m     <a href='vscode-notebook-cell:/c%3A/Users/Agam/Documents/Github/Python-Alexander-Andersson/Code-alongs/Lec19-OOP_abstract_class.ipynb#W5sZmlsZQ%3D%3D?line=29'>30</a>\u001b[0m \u001b[39m# we inherit from Plant, so Monstera has a method called photosynthesis that is abstract, which makes Monstera Abstract\u001b[39;00m\n\u001b[1;32m---> <a href='vscode-notebook-cell:/c%3A/Users/Agam/Documents/Github/Python-Alexander-Andersson/Code-alongs/Lec19-OOP_abstract_class.ipynb#W5sZmlsZQ%3D%3D?line=30'>31</a>\u001b[0m monstera \u001b[39m=\u001b[39m Monstera()\n",
      "\u001b[1;31mTypeError\u001b[0m: Can't instantiate abstract class Monstera with abstract method photosynthesis"
     ]
    }
   ],
   "source": [
    "from abc import abstractmethod, ABC\n",
    "\n",
    "# the abstract base class must inherit from ABC.\n",
    "class Plant(ABC):\n",
    "    @abstractmethod\n",
    "    def photosynthesis(self):\n",
    "        pass\n",
    "\n",
    "class VenusFlyTrap(Plant):\n",
    "    def venus_photosynthesis(self):\n",
    "        print(\"Venus Fly Trap is digesting a fly\")\n",
    "        # checks the instance class and its name ↓\n",
    "        print(f\"{type(self).__name__} does photosynthesis\")\n",
    "\n",
    "\n",
    "# developer 2 does the following:\n",
    "class Monstera(Plant):\n",
    "    def monstera_photosynthesis(self):\n",
    "        print(\"Monstera is looking at the sun\")\n",
    "        print(f\"{type(self).__name__} does photosynthesis\")\n",
    "\n",
    "# developer 3 does the following\n",
    "class MoneyPlant(Plant):\n",
    "    def photosynthesis(self):\n",
    "        print(\"Money Plant is making it rain\")\n",
    "        print(f\"{type(self).__name__} does photosynthesis\")\n",
    "\n",
    "money = MoneyPlant()\n",
    "print(money)\n",
    "# we inherit from Plant, so Monstera has a method called photosynthesis that is abstract, which makes Monstera Abstract\n",
    "monstera = Monstera()\n"
   ]
  },
  {
   "cell_type": "code",
   "execution_count": 27,
   "metadata": {},
   "outputs": [
    {
     "name": "stdout",
     "output_type": "stream",
     "text": [
      "Monstera is looking at the sun...\n",
      "Monstera does photosynthesis\n",
      "Money Plant is making it rain...\n",
      "MoneyPlant does photosynthesis\n",
      "Venus Fly Trap is digesting a fly...\n",
      "VenusFlyTrap does photosynthesis\n"
     ]
    }
   ],
   "source": [
    "from abc import abstractmethod, ABC\n",
    "\n",
    "# the abstract base class must inherit from ABC.\n",
    "class Plant(ABC):\n",
    "    @abstractmethod\n",
    "    def photosynthesis(self):\n",
    "        pass\n",
    "\n",
    "class VenusFlyTrap(Plant):\n",
    "    def photosynthesis(self):\n",
    "        print(\"Venus Fly Trap is digesting a fly...\")\n",
    "        # checks the instance class and its name ↓\n",
    "        print(f\"{type(self).__name__} does photosynthesis\")\n",
    "\n",
    "\n",
    "# developer 2 does the following:\n",
    "class Monstera(Plant):\n",
    "    def photosynthesis(self):\n",
    "        print(\"Monstera is looking at the sun...\")\n",
    "        print(f\"{type(self).__name__} does photosynthesis\")\n",
    "\n",
    "# developer 3 does the following\n",
    "class MoneyPlant(Plant):\n",
    "    def photosynthesis(self):\n",
    "        print(\"Money Plant is making it rain...\")\n",
    "        print(f\"{type(self).__name__} does photosynthesis\")\n",
    "\n",
    "money = MoneyPlant()\n",
    "\n",
    "# we inherit from Plant, so Monstera has a method called photosynthesis that is abstract, which makes Monstera Abstract\n",
    "monstera = Monstera()\n",
    "\n",
    "venus = VenusFlyTrap()\n",
    "\n",
    "for plant in (monstera, money, venus):\n",
    "    plant.photosynthesis()"
   ]
  }
 ],
 "metadata": {
  "kernelspec": {
   "display_name": "Python 3.9.13 ('Python-Alexander-Andersson-rXBoH5sP')",
   "language": "python",
   "name": "python3"
  },
  "language_info": {
   "codemirror_mode": {
    "name": "ipython",
    "version": 3
   },
   "file_extension": ".py",
   "mimetype": "text/x-python",
   "name": "python",
   "nbconvert_exporter": "python",
   "pygments_lexer": "ipython3",
   "version": "3.9.13"
  },
  "orig_nbformat": 4,
  "vscode": {
   "interpreter": {
    "hash": "b14cc422d827dd3ad3e166e9b0c2744dfcee3cbacc81397c64432efd767b4494"
   }
  }
 },
 "nbformat": 4,
 "nbformat_minor": 2
}
