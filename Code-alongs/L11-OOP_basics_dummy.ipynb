{
 "cells": [
  {
   "cell_type": "markdown",
   "metadata": {},
   "source": [
    "# OOP Basics"
   ]
  },
  {
   "cell_type": "code",
   "execution_count": 1,
   "metadata": {},
   "outputs": [
    {
     "data": {
      "text/plain": [
       "<__main__.Person at 0x2b1e106e2b0>"
      ]
     },
     "execution_count": 1,
     "metadata": {},
     "output_type": "execute_result"
    }
   ],
   "source": [
    "\n",
    "#Created a class called Person\n",
    "class Person:\n",
    "    pass # This code does nothing right now\n",
    "\n",
    "#Instantiates an instance from the class Person using the callable syntax (), classes are callables.\n",
    "person1 = Person()\n",
    "\n",
    "person1"
   ]
  },
  {
   "cell_type": "code",
   "execution_count": 2,
   "metadata": {},
   "outputs": [
    {
     "data": {
      "text/plain": [
       "'Ada'"
      ]
     },
     "execution_count": 2,
     "metadata": {},
     "output_type": "execute_result"
    }
   ],
   "source": [
    "# creates an instance attribute on the fly\n",
    "#name is an instance attribute, person is an instance object.\n",
    "person1.name = \"Ada\"\n",
    "person1.name"
   ]
  },
  {
   "cell_type": "code",
   "execution_count": 3,
   "metadata": {},
   "outputs": [
    {
     "data": {
      "text/plain": [
       "<__main__.Person at 0x2b1e106eb20>"
      ]
     },
     "execution_count": 3,
     "metadata": {},
     "output_type": "execute_result"
    }
   ],
   "source": [
    "#Adds \n",
    "person2 = Person()\n",
    "person2"
   ]
  },
  {
   "cell_type": "code",
   "execution_count": 4,
   "metadata": {},
   "outputs": [
    {
     "ename": "AttributeError",
     "evalue": "'Person' object has no attribute 'name'",
     "output_type": "error",
     "traceback": [
      "\u001b[1;31m---------------------------------------------------------------------------\u001b[0m",
      "\u001b[1;31mAttributeError\u001b[0m                            Traceback (most recent call last)",
      "\u001b[1;32mc:\\Users\\Agam\\Documents\\Github\\Python-Alexander-Andersson\\Code-alongs\\L11-OOP_basics_dummy.ipynb Cell 5\u001b[0m in \u001b[0;36m<cell line: 2>\u001b[1;34m()\u001b[0m\n\u001b[0;32m      <a href='vscode-notebook-cell:/c%3A/Users/Agam/Documents/Github/Python-Alexander-Andersson/Code-alongs/L11-OOP_basics_dummy.ipynb#W4sZmlsZQ%3D%3D?line=0'>1</a>\u001b[0m \u001b[39m#person2 does not have a name so returns an error.\u001b[39;00m\n\u001b[1;32m----> <a href='vscode-notebook-cell:/c%3A/Users/Agam/Documents/Github/Python-Alexander-Andersson/Code-alongs/L11-OOP_basics_dummy.ipynb#W4sZmlsZQ%3D%3D?line=1'>2</a>\u001b[0m person2\u001b[39m.\u001b[39;49mname\n",
      "\u001b[1;31mAttributeError\u001b[0m: 'Person' object has no attribute 'name'"
     ]
    }
   ],
   "source": [
    "#person2 does not have a name so returns an error.\n",
    "person2.name"
   ]
  },
  {
   "cell_type": "markdown",
   "metadata": {},
   "source": [
    "## `__init__()`\n",
    "\n",
    "- dunder init method\n",
    "- initializer method that runs after the object has been created\n",
    "- used for setting initial values attributes to an instance object\n"
   ]
  },
  {
   "cell_type": "code",
   "execution_count": null,
   "metadata": {},
   "outputs": [
    {
     "name": "stdout",
     "output_type": "stream",
     "text": [
      "person1.name = 'Alexander'\n",
      "person2.name = 'Bella'\n",
      "person1.accept = True\n",
      "person2.accept = False\n",
      "person1.program = 'AI'\n",
      "person2.program = 'Java'\n",
      "person2.program = 'Data Science'\n"
     ]
    },
    {
     "data": {
      "text/plain": [
       "Antagning('Super cool schoool', 'AI', 'Alexander', 'True')"
      ]
     },
     "execution_count": 17,
     "metadata": {},
     "output_type": "execute_result"
    }
   ],
   "source": [
    "class Antagning:\n",
    "    # initializer\n",
    "    # for methods it's a convention to have first argument as self.\n",
    "    def __init__(self, school, program, name, accept):\n",
    "        # assigns arguments to instance attributes\n",
    "        self.school = school\n",
    "        self.program = program\n",
    "        self.name = name\n",
    "        self.accept = accept\n",
    "\n",
    "\n",
    "    # __repr__() a representation of the instance object -> used for other developers.\n",
    "    # pronounciation: \"dunder repper\"  \n",
    "    def __repr__(self): \n",
    "        return f\"Antagning('{self.school}', '{self.program}', '{self.name}', '{self.accept}')\"\n",
    "# When a method is called -> the instance istelf is injected to the method as the first argument.\n",
    "\n",
    "\n",
    "# here we instantiate from the class Antagning\n",
    "person1 = Antagning(\"Super cool schoool\", \"AI\", \"Alexander\", accept = True) # You can write just True instead of accept = True.\n",
    "person2 = Antagning(\"Okay School\", \"Java\", \"Bella\", False)\n",
    "\n",
    "print(f\"{person1.name = }\")\n",
    "print(f\"{person2.name = }\") #Because we use .name with person 2 the instance attribute is created.\n",
    "\n",
    "print(f\"{person1.accept = }\")\n",
    "print(f\"{person2.accept = }\") \n",
    "\n",
    "print(f\"{person1.program = }\")\n",
    "print(f\"{person2.program = }\")\n",
    "#We can change a attribute on the fly\n",
    "person2.program = \"Data Science\"\n",
    "print(f\"{person2.program = }\")\n",
    "\n",
    "\n",
    "person1"
   ]
  },
  {
   "cell_type": "code",
   "execution_count": null,
   "metadata": {},
   "outputs": [
    {
     "data": {
      "text/plain": [
       "Antagning('Okay School', 'Data Science', 'Bella', 'False')"
      ]
     },
     "execution_count": 18,
     "metadata": {},
     "output_type": "execute_result"
    }
   ],
   "source": [
    "person2"
   ]
  },
  {
   "cell_type": "code",
   "execution_count": null,
   "metadata": {},
   "outputs": [
    {
     "data": {
      "text/plain": [
       "[1, 2, 3]"
      ]
     },
     "execution_count": 19,
     "metadata": {},
     "output_type": "execute_result"
    }
   ],
   "source": [
    "# the __repr__ of list gives output [1,2,3]\n",
    "\n",
    "example_list = [1,2,3]\n",
    "example_list"
   ]
  },
  {
   "cell_type": "markdown",
   "metadata": {},
   "source": [
    "## Encapsulation\n",
    "\n",
    "- hide information that is used with the class, but shouldn't be accessed from outside the class\n",
    "- so want to create som kind of interface between attributes within the class to prevent from missuse\n",
    "- in many OOP languages, we can make attributes private, this is not possible in Python\n",
    "- all attributes in Python are public\n",
    "- in Python: private by convention, use an underscore before the attribute. e.g. _name\n",
    "- also possible to use double underscore __name(symbol mangling)"
   ]
  },
  {
   "cell_type": "code",
   "execution_count": null,
   "metadata": {},
   "outputs": [
    {
     "name": "stdout",
     "output_type": "stream",
     "text": [
      "Patient(name='Ada', diagnosis='Influenza')\n",
      "Patient(name='Beda', diagnosis='Covid')\n",
      "Patient(name='Ceda', diagnosis='Influenza')\n",
      "Patient(name='Ceda', diagnosis='Influenza')\n",
      "{'_name': 'Ceda', '_Patient__diagnosis': 'Influenza', '__diagnosis': 'Migraine'}\n",
      "Patient(name='Ceda', diagnosis='Influenza')\n",
      "Patient(name='Ceda', diagnosis='Influenza')\n",
      "Patient(name='Ceda', diagnosis='Influenza')\n"
     ]
    }
   ],
   "source": [
    "class Patient:\n",
    "    def __init__(self, name, diagnosis):\n",
    "        self._name = name\n",
    "        self.__diagnosis = diagnosis\n",
    "    \n",
    "    def __repr__(self):\n",
    "        return f\"Patient(name='{self._name}', diagnosis='{self.__diagnosis}')\"\n",
    "\n",
    "patient1 = Patient(\"Ada\", \"Influenza\")\n",
    "patient2 = Patient(\"Beda\", \"Covid\")\n",
    "\n",
    "print(patient1)\n",
    "print(patient2)\n",
    "\n",
    "# can access the private attribute, but really shouldn't\n",
    "patient1._name = \"Ceda\"\n",
    "print(patient1)\n",
    "\n",
    "# due to name mangling \n",
    "patient1.__diagnosis = \"Migraine\"\n",
    "print(patient1)\n",
    "\n",
    "print(patient1.__dict__)\n",
    "patient1._Patient__diagnosis\n",
    "\n",
    "\n",
    "\n",
    "\n",
    "\n",
    "\n",
    "\n",
    "\n",
    "\n",
    "\n",
    "\n"
   ]
  },
  {
   "cell_type": "markdown",
   "metadata": {},
   "source": [
    "## Property\n",
    "\n",
    "- want to expose few to none bare attributes\n",
    "- when wanting to change attributes\n",
    "    - getter and setter (common in many other languages)\n",
    "    - in Python make int property\n",
    "\n",
    "With porperty:\n",
    "- can include error handling\n",
    "- computed properties\n",
    "- can make read-only and write only properties\n"
   ]
  },
  {
   "cell_type": "code",
   "execution_count": null,
   "metadata": {},
   "outputs": [
    {
     "ename": "AttributeError",
     "evalue": "can't set attribute",
     "output_type": "error",
     "traceback": [
      "\u001b[1;31m---------------------------------------------------------------------------\u001b[0m",
      "\u001b[1;31mAttributeError\u001b[0m                            Traceback (most recent call last)",
      "\u001b[1;32mc:\\Users\\Agam\\Documents\\Github\\Python-Alexander-Andersson\\Code-alongs\\L11-OOP_basics.ipynb Cell 13\u001b[0m in \u001b[0;36m<cell line: 37>\u001b[1;34m()\u001b[0m\n\u001b[0;32m     <a href='vscode-notebook-cell:/c%3A/Users/Agam/Documents/Github/Python-Alexander-Andersson/Code-alongs/L11-OOP_basics.ipynb#X15sZmlsZQ%3D%3D?line=30'>31</a>\u001b[0m             \u001b[39mraise\u001b[39;00m \u001b[39mValueError\u001b[39;00m(\u001b[39mf\u001b[39m\u001b[39m\"\u001b[39m\u001b[39mAge must be between 0 and 125\u001b[39m\u001b[39m\"\u001b[39m)\n\u001b[0;32m     <a href='vscode-notebook-cell:/c%3A/Users/Agam/Documents/Github/Python-Alexander-Andersson/Code-alongs/L11-OOP_basics.ipynb#X15sZmlsZQ%3D%3D?line=35'>36</a>\u001b[0m student1 \u001b[39m=\u001b[39m Student(\u001b[39m\"\u001b[39m\u001b[39mDavid\u001b[39m\u001b[39m\"\u001b[39m, \u001b[39m30\u001b[39m, \u001b[39mTrue\u001b[39;00m)\n\u001b[1;32m---> <a href='vscode-notebook-cell:/c%3A/Users/Agam/Documents/Github/Python-Alexander-Andersson/Code-alongs/L11-OOP_basics.ipynb#X15sZmlsZQ%3D%3D?line=36'>37</a>\u001b[0m student1\u001b[39m.\u001b[39;49mname \u001b[39m=\u001b[39m \u001b[39m\"\u001b[39m\u001b[39mElla\u001b[39m\u001b[39m\"\u001b[39m\n",
      "\u001b[1;31mAttributeError\u001b[0m: can't set attribute"
     ]
    }
   ],
   "source": [
    "\n",
    "class Student:\n",
    "    \"\"\"Student class for representing students with name, age and activity\"\"\" # docstring, appears when typing help\n",
    "\n",
    "\n",
    "    # note type hinting: name, str, age, int so on.\n",
    "    def __init__(self, name: str, age: int, active: bool) -> None:\n",
    "        self._name = name\n",
    "        self.age = age\n",
    "        self.active = active\n",
    "\n",
    "\n",
    "    # read-only property - @ symbol makes it into a decorator\n",
    "    @property\n",
    "    def name(self) -> str: \n",
    "        \"\"\"Read-only property, we can't write to name\"\"\"\n",
    "        return self._name\n",
    "\n",
    "    # Getter\n",
    "    @property\n",
    "    def age(self) -> int:\n",
    "        return self._age\n",
    "\n",
    "    # Setter\n",
    "    @age.setter\n",
    "    def age(self, value: int):\n",
    "        \"\"\"Setter for age with error handling\"\"\"\n",
    "        if not isinstance(value, int):\n",
    "            raise TypeError(f\"Age must be an int, not {type(value)}\")\n",
    "\n",
    "        if not (0 <= value <= 125):\n",
    "            raise ValueError(f\"Age must be between 0 and 125\")\n",
    "\n",
    "        \n",
    "\n",
    "\n",
    "student1 = Student(\"David\", 30, True)\n",
    "student1.name = \"Ella\"\n"
   ]
  },
  {
   "cell_type": "code",
   "execution_count": null,
   "metadata": {},
   "outputs": [
    {
     "ename": "AttributeError",
     "evalue": "'Student' object has no attribute '_age'",
     "output_type": "error",
     "traceback": [
      "\u001b[1;31m---------------------------------------------------------------------------\u001b[0m",
      "\u001b[1;31mAttributeError\u001b[0m                            Traceback (most recent call last)",
      "\u001b[1;32mc:\\Users\\Agam\\Documents\\Github\\Python-Alexander-Andersson\\Code-alongs\\L11-OOP_basics.ipynb Cell 14\u001b[0m in \u001b[0;36m<cell line: 3>\u001b[1;34m()\u001b[0m\n\u001b[0;32m      <a href='vscode-notebook-cell:/c%3A/Users/Agam/Documents/Github/Python-Alexander-Andersson/Code-alongs/L11-OOP_basics.ipynb#X20sZmlsZQ%3D%3D?line=0'>1</a>\u001b[0m student2 \u001b[39m=\u001b[39m Student(\u001b[39m\"\u001b[39m\u001b[39mAlexander\u001b[39m\u001b[39m\"\u001b[39m, \u001b[39m5\u001b[39m, \u001b[39mFalse\u001b[39;00m)\n\u001b[0;32m      <a href='vscode-notebook-cell:/c%3A/Users/Agam/Documents/Github/Python-Alexander-Andersson/Code-alongs/L11-OOP_basics.ipynb#X20sZmlsZQ%3D%3D?line=1'>2</a>\u001b[0m student2\u001b[39m.\u001b[39mage \u001b[39m=\u001b[39m \u001b[39m50\u001b[39m\n\u001b[1;32m----> <a href='vscode-notebook-cell:/c%3A/Users/Agam/Documents/Github/Python-Alexander-Andersson/Code-alongs/L11-OOP_basics.ipynb#X20sZmlsZQ%3D%3D?line=2'>3</a>\u001b[0m \u001b[39mprint\u001b[39m(\u001b[39mf\u001b[39m\u001b[39m\"\u001b[39m\u001b[39m{\u001b[39;00mstudent2\u001b[39m.\u001b[39mage\u001b[39m=}\u001b[39;00m\u001b[39m\"\u001b[39m)\n",
      "\u001b[1;32mc:\\Users\\Agam\\Documents\\Github\\Python-Alexander-Andersson\\Code-alongs\\L11-OOP_basics.ipynb Cell 14\u001b[0m in \u001b[0;36mStudent.age\u001b[1;34m(self)\u001b[0m\n\u001b[0;32m     <a href='vscode-notebook-cell:/c%3A/Users/Agam/Documents/Github/Python-Alexander-Andersson/Code-alongs/L11-OOP_basics.ipynb#X20sZmlsZQ%3D%3D?line=18'>19</a>\u001b[0m \u001b[39m@property\u001b[39m\n\u001b[0;32m     <a href='vscode-notebook-cell:/c%3A/Users/Agam/Documents/Github/Python-Alexander-Andersson/Code-alongs/L11-OOP_basics.ipynb#X20sZmlsZQ%3D%3D?line=19'>20</a>\u001b[0m \u001b[39mdef\u001b[39;00m \u001b[39mage\u001b[39m(\u001b[39mself\u001b[39m) \u001b[39m-\u001b[39m\u001b[39m>\u001b[39m \u001b[39mint\u001b[39m:\n\u001b[1;32m---> <a href='vscode-notebook-cell:/c%3A/Users/Agam/Documents/Github/Python-Alexander-Andersson/Code-alongs/L11-OOP_basics.ipynb#X20sZmlsZQ%3D%3D?line=20'>21</a>\u001b[0m     \u001b[39mreturn\u001b[39;00m \u001b[39mself\u001b[39;49m\u001b[39m.\u001b[39;49m_age\n",
      "\u001b[1;31mAttributeError\u001b[0m: 'Student' object has no attribute '_age'"
     ]
    }
   ],
   "source": [
    "student2 = Student(\"Alexander\", 5, False)\n",
    "student2.age = 50\n",
    "print(f\"{student2.age=}\")"
   ]
  },
  {
   "cell_type": "code",
   "execution_count": null,
   "metadata": {},
   "outputs": [
    {
     "name": "stdout",
     "output_type": "stream",
     "text": [
      "Help on class Student in module __main__:\n",
      "\n",
      "class Student(builtins.object)\n",
      " |  Student(name: str, age: int, active: bool) -> None\n",
      " |  \n",
      " |  Student class for representing students with name, age and activity\n",
      " |  \n",
      " |  Methods defined here:\n",
      " |  \n",
      " |  __init__(self, name: str, age: int, active: bool) -> None\n",
      " |      Initialize self.  See help(type(self)) for accurate signature.\n",
      " |  \n",
      " |  ----------------------------------------------------------------------\n",
      " |  Data descriptors defined here:\n",
      " |  \n",
      " |  __dict__\n",
      " |      dictionary for instance variables (if defined)\n",
      " |  \n",
      " |  __weakref__\n",
      " |      list of weak references to the object (if defined)\n",
      "\n"
     ]
    }
   ],
   "source": [
    "help(Student)"
   ]
  }
 ],
 "metadata": {
  "kernelspec": {
   "display_name": "Python 3.9.13 ('Python-Alexander-Andersson-rXBoH5sP')",
   "language": "python",
   "name": "python3"
  },
  "language_info": {
   "codemirror_mode": {
    "name": "ipython",
    "version": 3
   },
   "file_extension": ".py",
   "mimetype": "text/x-python",
   "name": "python",
   "nbconvert_exporter": "python",
   "pygments_lexer": "ipython3",
   "version": "3.9.13"
  },
  "orig_nbformat": 4,
  "vscode": {
   "interpreter": {
    "hash": "b14cc422d827dd3ad3e166e9b0c2744dfcee3cbacc81397c64432efd767b4494"
   }
  }
 },
 "nbformat": 4,
 "nbformat_minor": 2
}
