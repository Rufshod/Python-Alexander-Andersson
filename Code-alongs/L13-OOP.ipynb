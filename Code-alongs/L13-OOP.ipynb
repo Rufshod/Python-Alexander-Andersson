{
 "cells": [
  {
   "cell_type": "code",
   "execution_count": null,
   "metadata": {},
   "outputs": [],
   "source": []
  }
 ],
 "metadata": {
  "kernelspec": {
   "display_name": "Python 3.9.13 64-bit",
   "language": "python",
   "name": "python3"
  },
  "language_info": {
   "name": "python",
   "version": "3.9.13"
  },
  "orig_nbformat": 4,
  "vscode": {
   "interpreter": {
    "hash": "287876418b1177767fd3ee26a082a634abf206aa424861d57cf76d9abc857edd"
   }
  }
 },
 "nbformat": 4,
 "nbformat_minor": 2
}
