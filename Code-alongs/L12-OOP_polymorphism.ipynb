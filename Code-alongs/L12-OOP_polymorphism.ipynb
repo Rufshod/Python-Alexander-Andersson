{
 "cells": [
  {
   "cell_type": "markdown",
   "metadata": {},
   "source": [
    "# OOP Polymorphism\n"
   ]
  },
  {
   "cell_type": "code",
   "execution_count": 83,
   "metadata": {},
   "outputs": [
    {
     "name": "stdout",
     "output_type": "stream",
     "text": [
      "len([1,23,4])=3\n",
      "len('1234')=4\n"
     ]
    }
   ],
   "source": [
    "# example with Python built in\n",
    "\n",
    "#Example of Plymorphic behavior\n",
    "print(f\"{len([1,23,4])=}\") # Length of a list\n",
    "print(f\"{len('1234')=}\") # Length of string"
   ]
  },
  {
   "cell_type": "markdown",
   "metadata": {},
   "source": [
    "## Polymorphism in class method"
   ]
  },
  {
   "cell_type": "code",
   "execution_count": 84,
   "metadata": {},
   "outputs": [],
   "source": [
    "from unicodedata import name\n",
    "\n",
    "\n",
    "class Fish: # Fish template\n",
    "    def __init__(self, name) -> None:\n",
    "        self.name = name\n",
    "\n",
    "    # Overrided dunder string method\n",
    "    def __str__(self): #Overrides what we prints?\n",
    "        return f\"I am a fish with a name {self.name}\"\n",
    "\n",
    "    # Overrided dunder repper method, so that it is not default\n",
    "    def __repr__(self) -> str:\n",
    "        return f\"Fish(name = '{self.name}')\"\n",
    "\n",
    "    def speak(self):\n",
    "        print(\"Bluppy blip blib bloop\")\n",
    "\n",
    "class Fox:\n",
    "    def __init__(self, name) -> None:\n",
    "        self.name = name\n",
    "\n",
    "    def __str__(self) -> str:\n",
    "        return f\"I am a fox with a name {self.name}, my sound is mysterious\"\n",
    "\n",
    "    def speak(self):\n",
    "        return NotImplemented\n",
    "\n"
   ]
  },
  {
   "cell_type": "code",
   "execution_count": 85,
   "metadata": {},
   "outputs": [
    {
     "name": "stdout",
     "output_type": "stream",
     "text": [
      "I am a fish with a name Guppie\n",
      "Bluppy blip blib bloop\n"
     ]
    }
   ],
   "source": [
    "fish1 = Fish(\"Guppie\")\n",
    "\n",
    "print(fish1)\n",
    "\n",
    "repr(fish1)\n",
    "\n",
    "fish1.speak()"
   ]
  },
  {
   "cell_type": "code",
   "execution_count": 86,
   "metadata": {},
   "outputs": [
    {
     "name": "stdout",
     "output_type": "stream",
     "text": [
      "I am a fish with a name Guppie\n",
      "Bluppy blip blib bloop\n",
      "I am a fox with a name Ylvis, my sound is mysterious\n"
     ]
    }
   ],
   "source": [
    "fox1 = Fox(\"Ylvis\")\n",
    "\n",
    "animals = (fish1, fox1) #lists are mutational, touples are not\n",
    "\n",
    "for animal in animals:\n",
    "    print(animal)\n",
    "    animal.speak()"
   ]
  },
  {
   "cell_type": "markdown",
   "metadata": {},
   "source": [
    "## Operator overloading\n",
    "\n",
    "- Magic, Dunder, Special operator, Loved child has many names.\n",
    "- ```py \n",
    "    \"+\" = __add__(self, other) , \"<\" = __lt__(self, other), \"-=\"  = __isub__(self, other) \"/=\" = __idiv__(self, other) \"-\" = __neg__(self)\n",
    "-\n",
    "-\n"
   ]
  },
  {
   "cell_type": "code",
   "execution_count": 107,
   "metadata": {},
   "outputs": [
    {
     "name": "stdout",
     "output_type": "stream",
     "text": [
      "Vector(1.0, 2.0, 3.0)\n",
      "Vectors can't be empty\n",
      "(-1.0, -2.0)\n"
     ]
    }
   ],
   "source": [
    "from __future__ import annotations # In this case it allows us to get a functionality from Python 3.10, in def __init__ its the | symbol to check for both float and int\n",
    "\n",
    "class Vector:\n",
    "    \"\"\"\"A class to represent Euclidean vector with magnitude and direction\"\"\" # This enables the help() method.\n",
    "\n",
    "    def __init__(self, *numbers: float | int) -> None: # *numbers  = arbitrary ammount of positional args, so can be many, instead of number1, number2, number3 and so on.\n",
    "        \n",
    "        # validation\n",
    "        for number in numbers:\n",
    "            if not isinstance(number, (float, int)):\n",
    "                raise TypeError(f\"{number} is not a valid number\") # Helps the programmer get functional error messages\n",
    "\n",
    "        if len(numbers) <= 0:\n",
    "            raise ValueError(\"Vectors can't be empty\")\n",
    "\n",
    "        self._numbers = tuple(float(number) for number in numbers)\n",
    "    \n",
    "    @property\n",
    "    def numbers(self) -> tuple:\n",
    "        \"\"\"Returns numbers\"\"\"\n",
    "        return self._numbers\n",
    "\n",
    "    # operator overload + addition\n",
    "    def __add__(self, other: Vector) -> Vector:\n",
    "        if self.validate_vectors(other):\n",
    "            # (1,2)+,(2,3) -> numbers = 1+2, 2+3\n",
    "            numbers = (a+b for a,b in zip(self.numbers, other.numbers)) # creates a tuple list, Self is itself a Vector, Inserts another Vector,(other) and \n",
    "            return Vector(*numbers)\n",
    "\n",
    "    # operator overload - subtraction\n",
    "    def __sub__ (self, other: Vector) -> Vector:\n",
    "        if self.validate_vectors(other):\n",
    "            numbers = (a-b for a,b in zip(self.numbers, other.numbers))\n",
    "            return Vector(*numbers)\n",
    "\n",
    "    def validate_vectors(self, other: Vector) -> bool: # This does not need to be in the beginning because the program checks all methods in a class before running.\n",
    "        \"\"\"Validates if two vectors have same length\"\"\"\n",
    "        if not isinstance(other, Vector) or len(other) != len(self): #isistance checks if instance is a part of the Vector class.\n",
    "            raise TypeError(\"Both Vectors must have the same lenght\")\n",
    "\n",
    "        return len(self) == len(other)\n",
    "\n",
    "    # to use len() on Vector we have to overload it\n",
    "    def __len__(self) -> int:\n",
    "        \"\"\"Return number of elements in a Vector, not the norm\"\"\" #norm is the total value of a vector\n",
    "\n",
    "        return len(self.numbers)\n",
    "\n",
    "\n",
    "\n",
    "    def __repr__(self) -> str:\n",
    "        return f\"Vector{self._numbers}\"\n",
    "\n",
    "\n",
    "v1 = Vector(1,2,3)\n",
    "print(v1)\n",
    "\n",
    "try:\n",
    "    v2 = Vector()\n",
    "except ValueError as err:\n",
    "    print(err)\n",
    "\n",
    "v2 = Vector(-1,-2)\n",
    "\n",
    "print(v2.numbers)\n",
    "\n",
    "v3 = Vector(2,3)\n",
    "\n"
   ]
  },
  {
   "cell_type": "code",
   "execution_count": 108,
   "metadata": {},
   "outputs": [
    {
     "ename": "TypeError",
     "evalue": "Both Vectors must have the same lenght",
     "output_type": "error",
     "traceback": [
      "\u001b[1;31m---------------------------------------------------------------------------\u001b[0m",
      "\u001b[1;31mTypeError\u001b[0m                                 Traceback (most recent call last)",
      "\u001b[1;32mc:\\Users\\Agam\\Documents\\Github\\Python-Alexander-Andersson\\Code-alongs\\L12-OOP_polymorphism.ipynb Cell 9\u001b[0m in \u001b[0;36m<cell line: 1>\u001b[1;34m()\u001b[0m\n\u001b[1;32m----> <a href='vscode-notebook-cell:/c%3A/Users/Agam/Documents/Github/Python-Alexander-Andersson/Code-alongs/L12-OOP_polymorphism.ipynb#X21sZmlsZQ%3D%3D?line=0'>1</a>\u001b[0m Vector(\u001b[39m1\u001b[39;49m,\u001b[39m2\u001b[39;49m)\u001b[39m-\u001b[39;49mVector(\u001b[39m3\u001b[39;49m,\u001b[39m5\u001b[39;49m,\u001b[39m2\u001b[39;49m)\n",
      "\u001b[1;32mc:\\Users\\Agam\\Documents\\Github\\Python-Alexander-Andersson\\Code-alongs\\L12-OOP_polymorphism.ipynb Cell 9\u001b[0m in \u001b[0;36mVector.__sub__\u001b[1;34m(self, other)\u001b[0m\n\u001b[0;32m     <a href='vscode-notebook-cell:/c%3A/Users/Agam/Documents/Github/Python-Alexander-Andersson/Code-alongs/L12-OOP_polymorphism.ipynb#X21sZmlsZQ%3D%3D?line=30'>31</a>\u001b[0m \u001b[39mdef\u001b[39;00m \u001b[39m__sub__\u001b[39m (\u001b[39mself\u001b[39m, other: Vector) \u001b[39m-\u001b[39m\u001b[39m>\u001b[39m Vector:\n\u001b[1;32m---> <a href='vscode-notebook-cell:/c%3A/Users/Agam/Documents/Github/Python-Alexander-Andersson/Code-alongs/L12-OOP_polymorphism.ipynb#X21sZmlsZQ%3D%3D?line=31'>32</a>\u001b[0m     \u001b[39mif\u001b[39;00m \u001b[39mself\u001b[39;49m\u001b[39m.\u001b[39;49mvalidate_vectors(other):\n\u001b[0;32m     <a href='vscode-notebook-cell:/c%3A/Users/Agam/Documents/Github/Python-Alexander-Andersson/Code-alongs/L12-OOP_polymorphism.ipynb#X21sZmlsZQ%3D%3D?line=32'>33</a>\u001b[0m         numbers \u001b[39m=\u001b[39m (a\u001b[39m-\u001b[39mb \u001b[39mfor\u001b[39;00m a,b \u001b[39min\u001b[39;00m \u001b[39mzip\u001b[39m(\u001b[39mself\u001b[39m\u001b[39m.\u001b[39mnumbers, other\u001b[39m.\u001b[39mnumbers))\n\u001b[0;32m     <a href='vscode-notebook-cell:/c%3A/Users/Agam/Documents/Github/Python-Alexander-Andersson/Code-alongs/L12-OOP_polymorphism.ipynb#X21sZmlsZQ%3D%3D?line=33'>34</a>\u001b[0m         \u001b[39mreturn\u001b[39;00m Vector(\u001b[39m*\u001b[39mnumbers)\n",
      "\u001b[1;32mc:\\Users\\Agam\\Documents\\Github\\Python-Alexander-Andersson\\Code-alongs\\L12-OOP_polymorphism.ipynb Cell 9\u001b[0m in \u001b[0;36mVector.validate_vectors\u001b[1;34m(self, other)\u001b[0m\n\u001b[0;32m     <a href='vscode-notebook-cell:/c%3A/Users/Agam/Documents/Github/Python-Alexander-Andersson/Code-alongs/L12-OOP_polymorphism.ipynb#X21sZmlsZQ%3D%3D?line=36'>37</a>\u001b[0m \u001b[39m\"\"\"Validates if two vectors have same length\"\"\"\u001b[39;00m\n\u001b[0;32m     <a href='vscode-notebook-cell:/c%3A/Users/Agam/Documents/Github/Python-Alexander-Andersson/Code-alongs/L12-OOP_polymorphism.ipynb#X21sZmlsZQ%3D%3D?line=37'>38</a>\u001b[0m \u001b[39mif\u001b[39;00m \u001b[39mnot\u001b[39;00m \u001b[39misinstance\u001b[39m(other, Vector) \u001b[39mor\u001b[39;00m \u001b[39mlen\u001b[39m(other) \u001b[39m!=\u001b[39m \u001b[39mlen\u001b[39m(\u001b[39mself\u001b[39m): \u001b[39m#isistance checks if instance is a part of the Vector class.\u001b[39;00m\n\u001b[1;32m---> <a href='vscode-notebook-cell:/c%3A/Users/Agam/Documents/Github/Python-Alexander-Andersson/Code-alongs/L12-OOP_polymorphism.ipynb#X21sZmlsZQ%3D%3D?line=38'>39</a>\u001b[0m     \u001b[39mraise\u001b[39;00m \u001b[39mTypeError\u001b[39;00m(\u001b[39m\"\u001b[39m\u001b[39mBoth Vectors must have the same lenght\u001b[39m\u001b[39m\"\u001b[39m)\n\u001b[0;32m     <a href='vscode-notebook-cell:/c%3A/Users/Agam/Documents/Github/Python-Alexander-Andersson/Code-alongs/L12-OOP_polymorphism.ipynb#X21sZmlsZQ%3D%3D?line=40'>41</a>\u001b[0m \u001b[39mreturn\u001b[39;00m \u001b[39mlen\u001b[39m(\u001b[39mself\u001b[39m) \u001b[39m==\u001b[39m \u001b[39mlen\u001b[39m(other)\n",
      "\u001b[1;31mTypeError\u001b[0m: Both Vectors must have the same lenght"
     ]
    }
   ],
   "source": [
    "Vector(1,2)-Vector(3,5,2)"
   ]
  },
  {
   "cell_type": "code",
   "execution_count": 88,
   "metadata": {},
   "outputs": [
    {
     "name": "stdout",
     "output_type": "stream",
     "text": [
      "v2 = Vector(-1.0, -2.0), v3 = Vector(2.0, 3.0), Vector(1.0, 1.0)\n",
      "Vector(1.0, 1.0)\n"
     ]
    },
    {
     "data": {
      "text/plain": [
       "Vector(1.0, 1.0)"
      ]
     },
     "execution_count": 88,
     "metadata": {},
     "output_type": "execute_result"
    }
   ],
   "source": [
    "print(f\"{v2 = }, {v3 = }, {v3+v2}\")\n",
    "\n",
    "\n",
    "print(v2.__add__(v3))\n",
    "v3+v2 # is the same as above \n",
    "# We can do this because we have \"overloaded\" \n",
    "# + operator works in different ways, we have used __add__ in order to add in a way we want to."
   ]
  },
  {
   "cell_type": "code",
   "execution_count": 105,
   "metadata": {},
   "outputs": [
    {
     "data": {
      "text/plain": [
       "Vector(-1.0, -1.0)"
      ]
     },
     "execution_count": 105,
     "metadata": {},
     "output_type": "execute_result"
    }
   ],
   "source": [
    "v1-v3 # cant use minus because we have not added the __sub__ operand\n",
    "#We have now set the minus operand in the code"
   ]
  },
  {
   "cell_type": "code",
   "execution_count": 102,
   "metadata": {},
   "outputs": [
    {
     "data": {
      "text/plain": [
       "(2, 3)"
      ]
     },
     "execution_count": 102,
     "metadata": {},
     "output_type": "execute_result"
    }
   ],
   "source": [
    "len(v2), len(v1)"
   ]
  },
  {
   "cell_type": "code",
   "execution_count": 111,
   "metadata": {},
   "outputs": [
    {
     "ename": "TypeError",
     "evalue": "Both Vectors must have the same lenght",
     "output_type": "error",
     "traceback": [
      "\u001b[1;31m---------------------------------------------------------------------------\u001b[0m",
      "\u001b[1;31mTypeError\u001b[0m                                 Traceback (most recent call last)",
      "\u001b[1;32mc:\\Users\\Agam\\Documents\\Github\\Python-Alexander-Andersson\\Code-alongs\\L12-OOP_polymorphism.ipynb Cell 13\u001b[0m in \u001b[0;36m<cell line: 1>\u001b[1;34m()\u001b[0m\n\u001b[1;32m----> <a href='vscode-notebook-cell:/c%3A/Users/Agam/Documents/Github/Python-Alexander-Andersson/Code-alongs/L12-OOP_polymorphism.ipynb#X15sZmlsZQ%3D%3D?line=0'>1</a>\u001b[0m v2\u001b[39m+\u001b[39;49mVector(\u001b[39m1\u001b[39;49m,\u001b[39m2\u001b[39;49m,\u001b[39m3\u001b[39;49m)\n",
      "\u001b[1;32mc:\\Users\\Agam\\Documents\\Github\\Python-Alexander-Andersson\\Code-alongs\\L12-OOP_polymorphism.ipynb Cell 13\u001b[0m in \u001b[0;36mVector.__add__\u001b[1;34m(self, other)\u001b[0m\n\u001b[0;32m     <a href='vscode-notebook-cell:/c%3A/Users/Agam/Documents/Github/Python-Alexander-Andersson/Code-alongs/L12-OOP_polymorphism.ipynb#X15sZmlsZQ%3D%3D?line=23'>24</a>\u001b[0m \u001b[39mdef\u001b[39;00m \u001b[39m__add__\u001b[39m(\u001b[39mself\u001b[39m, other: Vector) \u001b[39m-\u001b[39m\u001b[39m>\u001b[39m Vector:\n\u001b[1;32m---> <a href='vscode-notebook-cell:/c%3A/Users/Agam/Documents/Github/Python-Alexander-Andersson/Code-alongs/L12-OOP_polymorphism.ipynb#X15sZmlsZQ%3D%3D?line=24'>25</a>\u001b[0m     \u001b[39mif\u001b[39;00m \u001b[39mself\u001b[39;49m\u001b[39m.\u001b[39;49mvalidate_vectors(other):\n\u001b[0;32m     <a href='vscode-notebook-cell:/c%3A/Users/Agam/Documents/Github/Python-Alexander-Andersson/Code-alongs/L12-OOP_polymorphism.ipynb#X15sZmlsZQ%3D%3D?line=25'>26</a>\u001b[0m         \u001b[39m# (1,2)+,(2,3) -> numbers = 1+2, 2+3\u001b[39;00m\n\u001b[0;32m     <a href='vscode-notebook-cell:/c%3A/Users/Agam/Documents/Github/Python-Alexander-Andersson/Code-alongs/L12-OOP_polymorphism.ipynb#X15sZmlsZQ%3D%3D?line=26'>27</a>\u001b[0m         numbers \u001b[39m=\u001b[39m (a\u001b[39m+\u001b[39mb \u001b[39mfor\u001b[39;00m a,b \u001b[39min\u001b[39;00m \u001b[39mzip\u001b[39m(\u001b[39mself\u001b[39m\u001b[39m.\u001b[39mnumbers, other\u001b[39m.\u001b[39mnumbers)) \u001b[39m# creates a tuple list, Self is itself a Vector, Inserts another Vector,(other) and \u001b[39;00m\n\u001b[0;32m     <a href='vscode-notebook-cell:/c%3A/Users/Agam/Documents/Github/Python-Alexander-Andersson/Code-alongs/L12-OOP_polymorphism.ipynb#X15sZmlsZQ%3D%3D?line=27'>28</a>\u001b[0m         \u001b[39mreturn\u001b[39;00m Vector(\u001b[39m*\u001b[39mnumbers)\n",
      "\u001b[1;32mc:\\Users\\Agam\\Documents\\Github\\Python-Alexander-Andersson\\Code-alongs\\L12-OOP_polymorphism.ipynb Cell 13\u001b[0m in \u001b[0;36mVector.validate_vectors\u001b[1;34m(self, other)\u001b[0m\n\u001b[0;32m     <a href='vscode-notebook-cell:/c%3A/Users/Agam/Documents/Github/Python-Alexander-Andersson/Code-alongs/L12-OOP_polymorphism.ipynb#X15sZmlsZQ%3D%3D?line=36'>37</a>\u001b[0m \u001b[39m\"\"\"Validates if two vectors have same length\"\"\"\u001b[39;00m\n\u001b[0;32m     <a href='vscode-notebook-cell:/c%3A/Users/Agam/Documents/Github/Python-Alexander-Andersson/Code-alongs/L12-OOP_polymorphism.ipynb#X15sZmlsZQ%3D%3D?line=37'>38</a>\u001b[0m \u001b[39mif\u001b[39;00m \u001b[39mnot\u001b[39;00m \u001b[39misinstance\u001b[39m(other, Vector) \u001b[39mor\u001b[39;00m \u001b[39mlen\u001b[39m(other) \u001b[39m!=\u001b[39m \u001b[39mlen\u001b[39m(\u001b[39mself\u001b[39m): \u001b[39m#isistance checks if instance is a part of the Vector class.\u001b[39;00m\n\u001b[1;32m---> <a href='vscode-notebook-cell:/c%3A/Users/Agam/Documents/Github/Python-Alexander-Andersson/Code-alongs/L12-OOP_polymorphism.ipynb#X15sZmlsZQ%3D%3D?line=38'>39</a>\u001b[0m     \u001b[39mraise\u001b[39;00m \u001b[39mTypeError\u001b[39;00m(\u001b[39m\"\u001b[39m\u001b[39mBoth Vectors must have the same lenght\u001b[39m\u001b[39m\"\u001b[39m)\n\u001b[0;32m     <a href='vscode-notebook-cell:/c%3A/Users/Agam/Documents/Github/Python-Alexander-Andersson/Code-alongs/L12-OOP_polymorphism.ipynb#X15sZmlsZQ%3D%3D?line=40'>41</a>\u001b[0m \u001b[39mreturn\u001b[39;00m \u001b[39mlen\u001b[39m(\u001b[39mself\u001b[39m) \u001b[39m==\u001b[39m \u001b[39mlen\u001b[39m(other)\n",
      "\u001b[1;31mTypeError\u001b[0m: Both Vectors must have the same lenght"
     ]
    }
   ],
   "source": [
    "v2+Vector(1,2,3) #logical error, cant add a 2d vector with a 3d vector.\n",
    "# Previously showed (0,0) (0,0) because v2 + 1,2 = 0 0"
   ]
  },
  {
   "cell_type": "code",
   "execution_count": 98,
   "metadata": {},
   "outputs": [
    {
     "name": "stdout",
     "output_type": "stream",
     "text": [
      "<generator object <genexpr> at 0x0000023FE1AC72E0>\n",
      "Vector(0.0, 1.0, 2.0, 3.0, 4.0, 5.0, 6.0, 7.0, 8.0, 9.0)\n",
      "<class 'generator'>\n"
     ]
    }
   ],
   "source": [
    "gen = (i for i in range(10))\n",
    "print(gen)\n",
    "\n",
    "print(Vector(*gen)) # With a * we allow Vector to get multiple values\n",
    "print(type(gen))\n"
   ]
  },
  {
   "cell_type": "code",
   "execution_count": 92,
   "metadata": {},
   "outputs": [
    {
     "name": "stdout",
     "output_type": "stream",
     "text": [
      "Help on class Vector in module __main__:\n",
      "\n",
      "class Vector(builtins.object)\n",
      " |  Vector(*numbers: 'float | int') -> 'None'\n",
      " |  \n",
      " |  \"A class to represent Euclidean vector with magnitude and direction\n",
      " |  \n",
      " |  Methods defined here:\n",
      " |  \n",
      " |  __add__(self, other: 'Vector') -> 'Vector'\n",
      " |      # operator overload + addition\n",
      " |  \n",
      " |  __init__(self, *numbers: 'float | int') -> 'None'\n",
      " |      Initialize self.  See help(type(self)) for accurate signature.\n",
      " |  \n",
      " |  __repr__(self) -> 'str'\n",
      " |      Return repr(self).\n",
      " |  \n",
      " |  __sub__(self, other: 'Vector') -> 'Vector'\n",
      " |      # operator overload - subtraction\n",
      " |  \n",
      " |  validate_vectors(self, other: 'Vector') -> 'bool'\n",
      " |      Validates if two vectors have same length\n",
      " |  \n",
      " |  ----------------------------------------------------------------------\n",
      " |  Readonly properties defined here:\n",
      " |  \n",
      " |  numbers\n",
      " |      Returns numbers\n",
      " |  \n",
      " |  ----------------------------------------------------------------------\n",
      " |  Data descriptors defined here:\n",
      " |  \n",
      " |  __dict__\n",
      " |      dictionary for instance variables (if defined)\n",
      " |  \n",
      " |  __weakref__\n",
      " |      list of weak references to the object (if defined)\n",
      "\n"
     ]
    }
   ],
   "source": [
    "help(Vector)"
   ]
  },
  {
   "cell_type": "code",
   "execution_count": 93,
   "metadata": {},
   "outputs": [
    {
     "data": {
      "text/plain": [
       "(True, False)"
      ]
     },
     "execution_count": 93,
     "metadata": {},
     "output_type": "execute_result"
    }
   ],
   "source": [
    "isinstance(fish1, Fish), isinstance(fish1, Fox) #isinstance checks if the instance is true with the second parameter"
   ]
  }
 ],
 "metadata": {
  "kernelspec": {
   "display_name": "Python 3.9.13 ('Python-Alexander-Andersson-rXBoH5sP')",
   "language": "python",
   "name": "python3"
  },
  "language_info": {
   "codemirror_mode": {
    "name": "ipython",
    "version": 3
   },
   "file_extension": ".py",
   "mimetype": "text/x-python",
   "name": "python",
   "nbconvert_exporter": "python",
   "pygments_lexer": "ipython3",
   "version": "3.9.13"
  },
  "orig_nbformat": 4,
  "vscode": {
   "interpreter": {
    "hash": "b14cc422d827dd3ad3e166e9b0c2744dfcee3cbacc81397c64432efd767b4494"
   }
  }
 },
 "nbformat": 4,
 "nbformat_minor": 2
}
