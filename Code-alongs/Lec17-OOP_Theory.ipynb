{
 "cells": [
  {
   "cell_type": "markdown",
   "metadata": {},
   "source": [
    "# OOP Theory"
   ]
  },
  {
   "cell_type": "markdown",
   "metadata": {},
   "source": [
    "## Class instantiation\n",
    "\n",
    "When instantiating an object from a class\n",
    "`__new__()` is run\n",
    "`__init__()` is run -> gives the instance object its initial state.\n",
    "\n",
    "Gets `__repr__` from inheritence from the Object class"
   ]
  },
  {
   "cell_type": "code",
   "execution_count": 4,
   "metadata": {},
   "outputs": [
    {
     "name": "stdout",
     "output_type": "stream",
     "text": [
      "<__main__.Student object at 0x0000029E9FCC0CD0>\n",
      "<class '__main__.Student'>\n"
     ]
    },
    {
     "data": {
      "text/plain": [
       "True"
      ]
     },
     "execution_count": 4,
     "metadata": {},
     "output_type": "execute_result"
    }
   ],
   "source": [
    "# Convention for classes is PascalCase\n",
    "class Student:\n",
    "    pass\n",
    "\n",
    "\n",
    "# variable names have snake_case\n",
    "# functions also have snake_case\n",
    "\n",
    "s1 = Student()\n",
    "# s1 has a __repr__(), but this __repr__() is in the object class.\n",
    "print(repr(s1))\n",
    "\n",
    "print(type(s1))\n",
    "\n",
    "print(isinstance(s1, object))\n"
   ]
  },
  {
   "cell_type": "code",
   "execution_count": 5,
   "metadata": {},
   "outputs": [
    {
     "data": {
      "text/plain": [
       "(True, False)"
      ]
     },
     "execution_count": 5,
     "metadata": {},
     "output_type": "execute_result"
    }
   ],
   "source": [
    "isinstance(Student, object), isinstance(s1, int)"
   ]
  },
  {
   "cell_type": "code",
   "execution_count": 6,
   "metadata": {},
   "outputs": [
    {
     "data": {
      "text/plain": [
       "False"
      ]
     },
     "execution_count": 6,
     "metadata": {},
     "output_type": "execute_result"
    }
   ],
   "source": [
    "s2 = Student()\n",
    "s1 is s2 # Checks memory adress. \n"
   ]
  },
  {
   "cell_type": "code",
   "execution_count": 8,
   "metadata": {},
   "outputs": [
    {
     "name": "stdout",
     "output_type": "stream",
     "text": [
      "True\n",
      "True\n"
     ]
    }
   ],
   "source": [
    "fruit1 = \"apple\"\n",
    "fruit2 = \"apple\"\n",
    "\n",
    "# dont know exactly how is works here\n",
    "print(fruit1 is fruit2)\n",
    "print(fruit1 == fruit2)"
   ]
  },
  {
   "cell_type": "code",
   "execution_count": 10,
   "metadata": {},
   "outputs": [
    {
     "data": {
      "text/plain": [
       "(False, True)"
      ]
     },
     "execution_count": 10,
     "metadata": {},
     "output_type": "execute_result"
    }
   ],
   "source": [
    "l1 = [1,2,3]\n",
    "l2 = [1,2,3]\n",
    "\n",
    "l1 is l2, l1 == l2"
   ]
  },
  {
   "cell_type": "code",
   "execution_count": 9,
   "metadata": {},
   "outputs": [
    {
     "data": {
      "text/plain": [
       "('0x29e9fcc0cd0', '0x29e9fcccc10')"
      ]
     },
     "execution_count": 9,
     "metadata": {},
     "output_type": "execute_result"
    }
   ],
   "source": [
    "hex(id(s1)), hex(id(s2))"
   ]
  },
  {
   "cell_type": "markdown",
   "metadata": {},
   "source": [
    "## Attribute\n",
    "\n",
    "- can be defined in class\n",
    "- can be created on the fly (during runtime) using dot notation\n",
    "- can be created inside methods"
   ]
  },
  {
   "cell_type": "code",
   "execution_count": 13,
   "metadata": {},
   "outputs": [
    {
     "name": "stdout",
     "output_type": "stream",
     "text": [
      "{'__module__': '__main__', 'name': 'default', '__dict__': <attribute '__dict__' of 'Student' objects>, '__weakref__': <attribute '__weakref__' of 'Student' objects>, '__doc__': None}\n"
     ]
    },
    {
     "data": {
      "text/plain": [
       "'default'"
      ]
     },
     "execution_count": 13,
     "metadata": {},
     "output_type": "execute_result"
    }
   ],
   "source": [
    "class Student:\n",
    "    name = \"default\"\n",
    "\n",
    "print(Student.__dict__)\n",
    "\n",
    "# gets the name attribute from the class\n",
    "Student.name"
   ]
  },
  {
   "cell_type": "code",
   "execution_count": 15,
   "metadata": {},
   "outputs": [
    {
     "name": "stdout",
     "output_type": "stream",
     "text": [
      "{}\n"
     ]
    },
    {
     "data": {
      "text/plain": [
       "'default'"
      ]
     },
     "execution_count": 15,
     "metadata": {},
     "output_type": "execute_result"
    }
   ],
   "source": [
    "s1 = Student() # creating s1 object.\n",
    "print(s1.__dict__)\n",
    "s1.name"
   ]
  },
  {
   "cell_type": "code",
   "execution_count": 17,
   "metadata": {},
   "outputs": [
    {
     "name": "stdout",
     "output_type": "stream",
     "text": [
      "{'name': 'Ada', 'shoe_size': 43}\n"
     ]
    }
   ],
   "source": [
    "# created an attribute on the fly with dot notation\n",
    "s1.name = \"Ada\"\n",
    "s1.shoe_size = 43\n",
    "print(s1.__dict__)"
   ]
  },
  {
   "cell_type": "code",
   "execution_count": 19,
   "metadata": {},
   "outputs": [
    {
     "data": {
      "text/plain": [
       "(mappingproxy({'__module__': '__main__',\n",
       "               'name': 'default',\n",
       "               '__dict__': <attribute '__dict__' of 'Student' objects>,\n",
       "               '__weakref__': <attribute '__weakref__' of 'Student' objects>,\n",
       "               '__doc__': None}),\n",
       " {'name': 'Ada', 'shoe_size': 43})"
      ]
     },
     "execution_count": 19,
     "metadata": {},
     "output_type": "execute_result"
    }
   ],
   "source": [
    "Student.__dict__, s1.__dict__\n",
    "#Student name is still default.\n",
    "#Mappingproxy is a \"special\" kind of dictionary."
   ]
  },
  {
   "cell_type": "code",
   "execution_count": 21,
   "metadata": {},
   "outputs": [
    {
     "data": {
      "text/plain": [
       "{}"
      ]
     },
     "execution_count": 21,
     "metadata": {},
     "output_type": "execute_result"
    }
   ],
   "source": [
    "s2 = Student()\n",
    "s2.__dict__ # The attributes we created earlier in s1 is not transferd to s2. .name will return default, because it exists in Student Class\n",
    "# s2.shoe_size will return an error because it does not exist in class"
   ]
  },
  {
   "cell_type": "code",
   "execution_count": 29,
   "metadata": {},
   "outputs": [
    {
     "name": "stdout",
     "output_type": "stream",
     "text": [
      "<__main__.Student object at 0x0000029EA02365E0> says hi\n"
     ]
    }
   ],
   "source": [
    "# method on the fly\n",
    "def say_hi(self):\n",
    "    print(f\"{self} says hi\")\n",
    "\n",
    "s1.say_hi = say_hi\n",
    "s1.__dict__\n",
    "# Why would we create a method on the fly? Maybe in certian case where an if statement \"splits\" the code in two and want another method in that case"
   ]
  },
  {
   "cell_type": "markdown",
   "metadata": {},
   "source": [
    "## Namespace\n",
    "\n",
    "- class attributes live in the class namespace\n",
    "- namespace - dictionary of symbols (keys): reference to objects (values)\n",
    "\n",
    "Python will look at local scope -> enclosing scope -> global scope -> built-in-scope\n",
    "- local scope = (inner most scope of a function / method)"
   ]
  },
  {
   "cell_type": "code",
   "execution_count": 30,
   "metadata": {},
   "outputs": [],
   "source": [
    "#build in scope ↑\n",
    "\n",
    "# global scope\n",
    "class Functions:\n",
    "    #enclosing scope\n",
    "    def f(x):\n",
    "        #local scope\n",
    "        return x"
   ]
  },
  {
   "cell_type": "code",
   "execution_count": 44,
   "metadata": {},
   "outputs": [
    {
     "name": "stdout",
     "output_type": "stream",
     "text": [
      "{'__module__': '__main__', 'eyes': 2, 'nose': 1, 'has_tail': True, '__init__': <function Rabbit.__init__ at 0x0000029EA1BFE160>, '__dict__': <attribute '__dict__' of 'Rabbit' objects>, '__weakref__': <attribute '__weakref__' of 'Rabbit' objects>, '__doc__': None}\n",
      "{'name': 'Snurrespratt', 'has_tail': False}\n"
     ]
    },
    {
     "data": {
      "text/plain": [
       "False"
      ]
     },
     "execution_count": 44,
     "metadata": {},
     "output_type": "execute_result"
    }
   ],
   "source": [
    "class Rabbit:\n",
    "    #class attributes - class namespace, not in instance namespace\n",
    "    eyes = 2\n",
    "    nose = 1\n",
    "    has_tail = True\n",
    "    \n",
    "    def __init__(self, name) -> None:\n",
    "        #Name exists in instance namespace, not the class namespace.\n",
    "        self.name = name\n",
    "        self.has_tail = False\n",
    "\n",
    "rabbit1 = Rabbit(\"Snurrespratt\")\n",
    "print(Rabbit.__dict__)\n",
    "\n",
    "print(rabbit1.__dict__)\n",
    "rabbit1.has_tail"
   ]
  },
  {
   "cell_type": "code",
   "execution_count": 43,
   "metadata": {},
   "outputs": [
    {
     "data": {
      "text/plain": [
       "('101010', 1)"
      ]
     },
     "execution_count": 43,
     "metadata": {},
     "output_type": "execute_result"
    }
   ],
   "source": [
    "#finds name in local namespace,     finds nose in enclosing scope\n",
    "rabbit1.name,                        rabbit1.nose"
   ]
  },
  {
   "cell_type": "code",
   "execution_count": 45,
   "metadata": {},
   "outputs": [
    {
     "data": {
      "text/plain": [
       "4"
      ]
     },
     "execution_count": 45,
     "metadata": {},
     "output_type": "execute_result"
    }
   ],
   "source": [
    "import numpy as np\n",
    "# x is in global scope\n",
    "x = np.linspace(-5,5)\n",
    "# x here is in local scope\n",
    "#f = lambda x: x**2\n",
    "\n",
    "def f(x): \n",
    "    y = x + 2 # does not care about x in global space, the x we set in row 3.\n",
    "    return y\n",
    "\n",
    "f(2)"
   ]
  }
 ],
 "metadata": {
  "kernelspec": {
   "display_name": "Python 3.9.13 ('Python-Alexander-Andersson-6f9gzyEi')",
   "language": "python",
   "name": "python3"
  },
  "language_info": {
   "codemirror_mode": {
    "name": "ipython",
    "version": 3
   },
   "file_extension": ".py",
   "mimetype": "text/x-python",
   "name": "python",
   "nbconvert_exporter": "python",
   "pygments_lexer": "ipython3",
   "version": "3.9.13"
  },
  "orig_nbformat": 4,
  "vscode": {
   "interpreter": {
    "hash": "0e170795d12b9f00bb6c905343705ccb98da647a4486686bf7cb14fa618c1741"
   }
  }
 },
 "nbformat": 4,
 "nbformat_minor": 2
}
