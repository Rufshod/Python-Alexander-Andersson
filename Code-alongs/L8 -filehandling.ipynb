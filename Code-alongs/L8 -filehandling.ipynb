{
 "cells": [
  {
   "cell_type": "markdown",
   "metadata": {},
   "source": [
    "## File Handling\n",
    "```py\n",
    "with open(path, option) as file_name\n",
    "    statements\n",
    "```\n",
    "```\n",
    "\n",
    "options\n",
    "- \"r\" - read\n",
    "- \"a\" - append to a file (if it does'nt exist - it will create the file)\n",
    "- \"w\" - write (if it doesn't exist - it will create the file)\n",
    "- \"x\" - create a file, error if it already exists "
   ]
  },
  {
   "cell_type": "code",
   "execution_count": 2,
   "metadata": {},
   "outputs": [
    {
     "data": {
      "text/plain": [
       "'  If     we     knew what it was      we were doing, it would not be called research,          would it?     - Albert Einstein\\n\\nTime is a drug. Too       much of it kills you.  -  Terry Pratchett\\n\\n\\n An expert is a person who       has made all the mistakes that           can be made in a          very narrow field - Niels Bohr\\n\\n   Everything must be made as simple as possible. But not simpler. - Albert Einstein     \\n\\n\\n  Nothing in life                is to be feared, it is only to be understood. Now is the time to understand more, so that we may fear less. - Marie  Curie  \\n\\nIf I have seen further     it is by standing on the shoulders of Giants. - Isaac Newton'"
      ]
     },
     "execution_count": 2,
     "metadata": {},
     "output_type": "execute_result"
    }
   ],
   "source": [
    "with open(\"../Data/quotes.txt\", \"r\") as f: #../ means you go back one step \n",
    "    text = f.read()\n",
    "\n",
    "text"
   ]
  },
  {
   "cell_type": "code",
   "execution_count": 4,
   "metadata": {},
   "outputs": [
    {
     "name": "stdout",
     "output_type": "stream",
     "text": [
      "  If     we     knew what it was      we were doing, it would not be called research,          would it?     - Albert Einstein\n",
      "\n",
      "Time is a drug. Too       much of it kills you.  -  Terry Pratchett\n",
      "\n",
      "\n",
      " An expert is a person who       has made all the mistakes that           can be made in a          very narrow field - Niels Bohr\n",
      "\n",
      "   Everything must be made as simple as possible. But not simpler. - Albert Einstein     \n",
      "\n",
      "\n",
      "  Nothing in life                is to be feared, it is only to be understood. Now is the time to understand more, so that we may fear less. - Marie  Curie  \n",
      "\n",
      "If I have seen further     it is by standing on the shoulders of Giants. - Isaac Newton\n"
     ]
    }
   ],
   "source": [
    "path = \"../Data/quotes.txt\"\n",
    "\n",
    "with open(path, \"r\") as f: #../ means you go back one step \n",
    "    text = f.read()\n",
    "\n",
    "print(text)"
   ]
  },
  {
   "cell_type": "markdown",
   "metadata": {},
   "source": [
    "## Cleaning up quotes.txt\n",
    "\n",
    "- inspect txt file manually (some prankster has added random naise in form of whitespace and newlines)\n",
    "- remove leading and trailing whitespaces\n",
    "- remove excessive white spaces in between\n",
    "- add quote numbers"
   ]
  },
  {
   "cell_type": "code",
   "execution_count": 58,
   "metadata": {},
   "outputs": [
    {
     "name": "stdout",
     "output_type": "stream",
     "text": [
      "2. If we knew what it was we were doing, it would not be called research, would it? - Albert Einstein\n",
      "\n",
      "2. \n",
      "\n",
      "3. Time is a drug. Too much of it kills you. - Terry Pratchett\n",
      "\n",
      "3. \n",
      "\n",
      "3. \n",
      "\n",
      "4. An expert is a person who has made all the mistakes that can be made in a very narrow field - Niels Bohr\n",
      "\n",
      "4. \n",
      "\n",
      "5. Everything must be made as simple as possible. But not simpler. - Albert Einstein\n",
      "\n",
      "5. \n",
      "\n",
      "5. \n",
      "\n",
      "6. Nothing in life is to be feared, it is only to be understood. Now is the time to understand more, so that we may fear less. - Marie Curie\n",
      "\n",
      "6. \n",
      "\n",
      "7. If I have seen further it is by standing on the shoulders of Giants. - Isaac Newton\n",
      "\n"
     ]
    }
   ],
   "source": [
    "import re\n",
    "\n",
    "#f_read and f_write are variables,\n",
    "with open(path, \"r\") as f_read, open(\"../Data/quotes_clean.txt\", \"w\") as f_write: # with opens several. we create quotes_clean.txt\n",
    "    quotes_number = 1\n",
    "\n",
    "    for quote in f_read: #loops through each line in the text file\n",
    "        quote = quote.strip(\" \\n\") # removes leading and trailing spaces and\n",
    "        quote = re.sub(\" +\", \" \", quote) #regex to substitute\" +\" = one and more whitespaces, substitute it for \" \"\n",
    "       \n",
    "        # write to the new file if the line is not \"\" (blank)\n",
    "        if quote != \"\": #check if we find a blank row\n",
    "            f_write.write(f\"{quotes_number}. {quote}\\n\") # if its a blank row, change it into blank row. add a number infront of the newline.\n",
    "            #write changes the file. if we append it adds. \n",
    "            quotes_number += 1\n",
    "\n",
    "        print(f\"{quotes_number}. {quote}\\n\")"
   ]
  },
  {
   "cell_type": "markdown",
   "metadata": {},
   "source": [
    "## Pick out the authors\n",
    "\n",
    "- find digit to find quote\n",
    "- join into full name\n",
    "- get unique values\n",
    "- at the end of every line we can find a pattern, the authors name"
   ]
  },
  {
   "cell_type": "code",
   "execution_count": 2,
   "metadata": {},
   "outputs": [
    {
     "name": "stdout",
     "output_type": "stream",
     "text": [
      "['1. If we knew what it was we were doing, it would not be called research, would it? - Albert Einstein', '2. Time is a drug. Too much of it kills you. - Terry Pratchett', '3. An expert is a person who has made all the mistakes that can be made in a very narrow field - Niels Bohr', '4. Everything must be made as simple as possible. But not simpler. - Albert Einstein', '5. Nothing in life is to be feared, it is only to be understood. Now is the time to understand more, so that we may fear less. - Marie Curie', '6. If I have seen further it is by standing on the shoulders of Giants. - Isaac Newton', '', 'Authors: Terry Pratchett, Niels Bohr, Albert Einstein, Isaac Newton, Marie Curie, ', 'Authors: Isaac Newton, , Marie Curie, Terry Pratchett, Albert Einstein, Niels Bohr, Marie Curie,, ', 'Authors: Isaac Newton, , Marie Curie, Terry Pratchett, Albert Einstein, Marie Curie,,, Niels Bohr, Marie Curie,, ']\n",
      "[['Albert', 'Einstein'], ['Terry', 'Pratchett'], ['Niels', 'Bohr'], ['Albert', 'Einstein'], ['Marie', 'Curie'], ['Isaac', 'Newton'], [], ['Marie', 'Curie,'], ['Marie', 'Curie,,'], ['Marie', 'Curie,,']]\n"
     ]
    }
   ],
   "source": [
    "with open(\"../Data/quotes_clean.txt\", \"r\") as f_quotes, open(\"../Data/quotes_clean.txt\", \"a\") as f_append:\n",
    "    #reads in each line as a list\n",
    "    #strips away \"\\n\" (newlines)\n",
    "    quotes = [quote.strip(\"\\n\") for quote in f_quotes.readlines()]\n",
    "    authors = [quote.split()[-2:] for quote in quotes] # creates a list for every word/line\n",
    "    print(quotes)\n",
    "    print(authors)\n",
    "    #To join the lists toghether to not have them seperated as first and lastname\n",
    "    #set gives the unique elements \n",
    "    authors = set([\" \".join(author) for author in authors])\n",
    "\n",
    "    #f_append.write(\"\\nAuthors: \")\n",
    "    #for author in authors:\n",
    "        #f_append.write(f\"{author}, \")\n"
   ]
  },
  {
   "cell_type": "code",
   "execution_count": 46,
   "metadata": {},
   "outputs": [
    {
     "data": {
      "text/plain": [
       "'Alexander Andersson'"
      ]
     },
     "execution_count": 46,
     "metadata": {},
     "output_type": "execute_result"
    }
   ],
   "source": [
    "name = [[\"Alexander\", \"Andersson\"]]\n",
    "\" \".join(name[0]) #Takes index one from a list and joins them togheter with \" \" in this example\n"
   ]
  }
 ],
 "metadata": {
  "kernelspec": {
   "display_name": "Python 3.9.13 ('Python-Alexander-Andersson-6f9gzyEi')",
   "language": "python",
   "name": "python3"
  },
  "language_info": {
   "codemirror_mode": {
    "name": "ipython",
    "version": 3
   },
   "file_extension": ".py",
   "mimetype": "text/x-python",
   "name": "python",
   "nbconvert_exporter": "python",
   "pygments_lexer": "ipython3",
   "version": "3.9.13"
  },
  "orig_nbformat": 4,
  "vscode": {
   "interpreter": {
    "hash": "0e170795d12b9f00bb6c905343705ccb98da647a4486686bf7cb14fa618c1741"
   }
  }
 },
 "nbformat": 4,
 "nbformat_minor": 2
}
