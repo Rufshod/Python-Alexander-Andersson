{
 "cells": [
  {
   "cell_type": "markdown",
   "metadata": {},
   "source": [
    "# Code along - input-output"
   ]
  },
  {
   "cell_type": "code",
   "execution_count": 1,
   "metadata": {},
   "outputs": [
    {
     "name": "stdout",
     "output_type": "stream",
     "text": [
      "hej Alexander, du är 28.7 gammal\n"
     ]
    }
   ],
   "source": [
    "#create a variable (\"box\") and assings a value, bool, string, integer, float.\n",
    "\n",
    "name = \"Alexander\" #variable - string\n",
    "age = 28.7 #variable - data type float\n",
    "\n",
    "# this is an f-string (formatted string)\n",
    "print(f\"hej {name}, du är {age} gammal\")\n",
    "\n",
    "# reassings\n",
    "# note: bad practice because variable names are important.\n",
    "name = 20"
   ]
  },
  {
   "cell_type": "markdown",
   "metadata": {},
   "source": [
    "## Inputs from user"
   ]
  },
  {
   "cell_type": "code",
   "execution_count": 4,
   "metadata": {},
   "outputs": [
    {
     "name": "stdout",
     "output_type": "stream",
     "text": [
      "Hello Alexander, you are 28 years old\n"
     ]
    }
   ],
   "source": [
    "name = input(\"What is your name? : \")\n",
    "age = input(\"What is your age? : \")\n",
    "\n",
    "print(f\"Hello {name}, you are {age} years old\")"
   ]
  },
  {
   "cell_type": "markdown",
   "metadata": {},
   "source": [
    "## Calculations"
   ]
  },
  {
   "cell_type": "code",
   "execution_count": 20,
   "metadata": {},
   "outputs": [
    {
     "name": "stdout",
     "output_type": "stream",
     "text": [
      "Your force is 608.84 N\n"
     ]
    }
   ],
   "source": [
    "gravity = 9.82\n",
    "mass = 62\n",
    "\n",
    "force = mass*gravity\n",
    "\n",
    "print(f\"Your force is {force} N\")"
   ]
  },
  {
   "cell_type": "code",
   "execution_count": 1,
   "metadata": {},
   "outputs": [
    {
     "ename": "NameError",
     "evalue": "name 'gravity' is not defined",
     "output_type": "error",
     "traceback": [
      "\u001b[1;31m---------------------------------------------------------------------------\u001b[0m",
      "\u001b[1;31mNameError\u001b[0m                                 Traceback (most recent call last)",
      "\u001b[1;32mc:\\Users\\agam\\Documents\\Github\\Python-Alexander-Andersson\\Code-alongs\\L0-input-output.ipynb Cell 7\u001b[0m in \u001b[0;36m<cell line: 2>\u001b[1;34m()\u001b[0m\n\u001b[0;32m      <a href='vscode-notebook-cell:/c%3A/Users/agam/Documents/Github/Python-Alexander-Andersson/Code-alongs/L0-input-output.ipynb#W6sZmlsZQ%3D%3D?line=0'>1</a>\u001b[0m mass \u001b[39m=\u001b[39m \u001b[39mfloat\u001b[39m(\u001b[39minput\u001b[39m(\u001b[39m\"\u001b[39m\u001b[39mEnter your mass (kg): \u001b[39m\u001b[39m\"\u001b[39m))\n\u001b[1;32m----> <a href='vscode-notebook-cell:/c%3A/Users/agam/Documents/Github/Python-Alexander-Andersson/Code-alongs/L0-input-output.ipynb#W6sZmlsZQ%3D%3D?line=1'>2</a>\u001b[0m force \u001b[39m=\u001b[39m mass\u001b[39m*\u001b[39mgravity\n\u001b[0;32m      <a href='vscode-notebook-cell:/c%3A/Users/agam/Documents/Github/Python-Alexander-Andersson/Code-alongs/L0-input-output.ipynb#W6sZmlsZQ%3D%3D?line=2'>3</a>\u001b[0m \u001b[39m#Can't multiply a string with a float\u001b[39;00m\n\u001b[0;32m      <a href='vscode-notebook-cell:/c%3A/Users/agam/Documents/Github/Python-Alexander-Andersson/Code-alongs/L0-input-output.ipynb#W6sZmlsZQ%3D%3D?line=4'>5</a>\u001b[0m \u001b[39mprint\u001b[39m(\u001b[39mf\u001b[39m\u001b[39m\"\u001b[39m\u001b[39m{\u001b[39;00mforce\u001b[39m=:\u001b[39;00m\u001b[39m.1f\u001b[39m\u001b[39m}\u001b[39;00m\u001b[39mN\u001b[39m\u001b[39m\"\u001b[39m) \u001b[39m#Force=:.1f .1f makes it so that it rounds to the first decimal\u001b[39;00m\n",
      "\u001b[1;31mNameError\u001b[0m: name 'gravity' is not defined"
     ]
    }
   ],
   "source": [
    "mass = float(input(\"Enter your mass (kg): \"))\n",
    "force = mass*gravity\n",
    "#Can't multiply a string with a float\n",
    "\n",
    "print(f\"{force=:.1f}N\") #Force=:.1f .1f makes it so that it rounds to the first decimal\n",
    "#force= makes it so that we do not have to write print(f\"force={force}N\")\n",
    "#in order to print {} curly brackets\n",
    "print(f\"{{}}\") #or "
   ]
  },
  {
   "cell_type": "markdown",
   "metadata": {},
   "source": []
  },
  {
   "cell_type": "markdown",
   "metadata": {},
   "source": []
  }
 ],
 "metadata": {
  "kernelspec": {
   "display_name": "Python 3.9.13 ('Python-Alexander-Andersson-6f9gzyEi')",
   "language": "python",
   "name": "python3"
  },
  "language_info": {
   "codemirror_mode": {
    "name": "ipython",
    "version": 3
   },
   "file_extension": ".py",
   "mimetype": "text/x-python",
   "name": "python",
   "nbconvert_exporter": "python",
   "pygments_lexer": "ipython3",
   "version": "3.9.13"
  },
  "orig_nbformat": 4,
  "vscode": {
   "interpreter": {
    "hash": "0e170795d12b9f00bb6c905343705ccb98da647a4486686bf7cb14fa618c1741"
   }
  }
 },
 "nbformat": 4,
 "nbformat_minor": 2
}
