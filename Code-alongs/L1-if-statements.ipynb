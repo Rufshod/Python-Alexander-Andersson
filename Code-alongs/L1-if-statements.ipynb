{
 "cells": [
  {
   "cell_type": "markdown",
   "metadata": {},
   "source": [
    "# if-statements"
   ]
  },
  {
   "cell_type": "markdown",
   "metadata": {},
   "source": [
    "## if-else"
   ]
  },
  {
   "cell_type": "code",
   "execution_count": 7,
   "metadata": {},
   "outputs": [
    {
     "name": "stdout",
     "output_type": "stream",
     "text": [
      "Du är 10 år gammal, gränsen är 18\n",
      "Du får inte gå in på systembolaget\n"
     ]
    }
   ],
   "source": [
    "age = int(input(\"Hur gammal är du?: \"))\n",
    "\n",
    "if age < 18:\n",
    "        print(f\"Du är {age} år gammal, gränsen är 18\")\n",
    "        print(\"Du får inte gå in på systembolaget\")\n",
    "else:\n",
    "        print(\"Welcome back!\")"
   ]
  },
  {
   "cell_type": "markdown",
   "metadata": {},
   "source": []
  },
  {
   "cell_type": "code",
   "execution_count": 15,
   "metadata": {},
   "outputs": [
    {
     "name": "stdout",
     "output_type": "stream",
     "text": [
      "Du får åka Balder\n"
     ]
    }
   ],
   "source": [
    "age = 15\n",
    "height = 210\n",
    "\n",
    "if age > 10 and 130 < height <= 210:\n",
    "    print(\"Du får åka Balder\")\n",
    "else:\n",
    "    print(\"Du får inte åka Balder\")"
   ]
  },
  {
   "cell_type": "markdown",
   "metadata": {},
   "source": [
    "### Modulo Operator (%)"
   ]
  },
  {
   "cell_type": "code",
   "execution_count": 23,
   "metadata": {},
   "outputs": [
    {
     "name": "stdout",
     "output_type": "stream",
     "text": [
      "jämnt tal\n"
     ]
    }
   ],
   "source": [
    "number = 42\n",
    "\n",
    "# 2 equal signs checks if left is equal to right\n",
    "if number % 3 == 0:\n",
    "    print(\"jämnt tal\")"
   ]
  },
  {
   "cell_type": "code",
   "execution_count": 31,
   "metadata": {},
   "outputs": [
    {
     "name": "stdout",
     "output_type": "stream",
     "text": [
      "3==4 = False\n",
      "3==3 = True\n",
      "3>=3 = True\n",
      "3!=3 = False\n"
     ]
    }
   ],
   "source": [
    "print(f\"{3==4 = }\")\n",
    "print(f\"{3==3 = }\")\n",
    "print(f\"{3>=3 = }\")\n",
    "print(f\"{3!=3 = }\")\n",
    "\n"
   ]
  },
  {
   "cell_type": "markdown",
   "metadata": {},
   "source": []
  }
 ],
 "metadata": {
  "kernelspec": {
   "display_name": "Python 3.9.13 ('Python-Alexander-Andersson-6f9gzyEi')",
   "language": "python",
   "name": "python3"
  },
  "language_info": {
   "codemirror_mode": {
    "name": "ipython",
    "version": 3
   },
   "file_extension": ".py",
   "mimetype": "text/x-python",
   "name": "python",
   "nbconvert_exporter": "python",
   "pygments_lexer": "ipython3",
   "version": "3.9.13"
  },
  "orig_nbformat": 4,
  "vscode": {
   "interpreter": {
    "hash": "0e170795d12b9f00bb6c905343705ccb98da647a4486686bf7cb14fa618c1741"
   }
  }
 },
 "nbformat": 4,
 "nbformat_minor": 2
}
