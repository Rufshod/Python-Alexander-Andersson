{
 "cells": [
  {
   "cell_type": "markdown",
   "metadata": {},
   "source": [
    "# if-statements"
   ]
  },
  {
   "cell_type": "markdown",
   "metadata": {},
   "source": [
    "## if-else"
   ]
  },
  {
   "cell_type": "code",
   "execution_count": 7,
   "metadata": {},
   "outputs": [
    {
     "name": "stdout",
     "output_type": "stream",
     "text": [
      "Du är 10 år gammal, gränsen är 18\n",
      "Du får inte gå in på systembolaget\n"
     ]
    }
   ],
   "source": [
    "age = int(input(\"Hur gammal är du?: \"))\n",
    "\n",
    "if age < 18:\n",
    "        print(f\"Du är {age} år gammal, gränsen är 18\")\n",
    "        print(\"Du får inte gå in på systembolaget\")\n",
    "else:\n",
    "        print(\"Welcome back!\")"
   ]
  },
  {
   "cell_type": "markdown",
   "metadata": {},
   "source": []
  },
  {
   "cell_type": "code",
   "execution_count": 15,
   "metadata": {},
   "outputs": [
    {
     "name": "stdout",
     "output_type": "stream",
     "text": [
      "Du får åka Balder\n"
     ]
    }
   ],
   "source": [
    "age = 15\n",
    "height = 210\n",
    "# Other languages use && for and, \n",
    "# || for or.\n",
    "if age > 10 and 130 < height <= 210:\n",
    "    print(\"Du får åka Balder\")\n",
    "else:\n",
    "    print(\"Du får inte åka Balder\") "
   ]
  },
  {
   "cell_type": "markdown",
   "metadata": {},
   "source": [
    "### Modulo Operator (%)"
   ]
  },
  {
   "cell_type": "code",
   "execution_count": 23,
   "metadata": {},
   "outputs": [
    {
     "name": "stdout",
     "output_type": "stream",
     "text": [
      "jämnt tal\n"
     ]
    }
   ],
   "source": [
    "number = 42\n",
    "\n",
    "# 2 equal signs checks if left is equal to right\n",
    "# % Gives the rest after an integer divisio\n",
    "\n",
    "# ex,  5 % 3 = 2 eller 22%9=4 klockmatte\n",
    "if number % 3 == 0:\n",
    "    print(\"jämnt tal\")"
   ]
  },
  {
   "cell_type": "code",
   "execution_count": 31,
   "metadata": {},
   "outputs": [
    {
     "name": "stdout",
     "output_type": "stream",
     "text": [
      "3==4 = False\n",
      "3==3 = True\n",
      "3>=3 = True\n",
      "3!=3 = False\n"
     ]
    }
   ],
   "source": [
    "print(f\"{3==4 = }\")\n",
    "print(f\"{3==3 = }\") # equal operator\n",
    "print(f\"{3>=3 = }\") # lager than or equal operator\n",
    "print(f\"{3!=3 = }\") # not equal operator\n",
    "\n"
   ]
  },
  {
   "cell_type": "code",
   "execution_count": null,
   "metadata": {},
   "outputs": [],
   "source": []
  },
  {
   "cell_type": "markdown",
   "metadata": {},
   "source": [
    "## if - elif - else\n",
    "\n",
    "```py\n",
    "if condition_0:  # if this is false ↓\n",
    "    statement_1\n",
    "    ...\n",
    "    statement_n  # if this is false ↓\n",
    "elif condition_1:\n",
    "    statement_1\n",
    "    ...\n",
    "    statement_m   # if this is TRUE ← skip the rest of the statement ↓\n",
    "elif condition_2:\n",
    "    statement_1\n",
    "    ...\n",
    "else:\n",
    "    statements\n",
    "    ...\n",
    "\n",
    "program continues."
   ]
  },
  {
   "cell_type": "markdown",
   "metadata": {},
   "source": []
  },
  {
   "cell_type": "code",
   "execution_count": 8,
   "metadata": {},
   "outputs": [
    {
     "name": "stdout",
     "output_type": "stream",
     "text": [
      "weight = 12.0\n",
      "give patient 500mg\n"
     ]
    }
   ],
   "source": [
    "#weight is a string below\n",
    "weight = input(\"Enter patients wheight (kg): \")\n",
    "\n",
    "#now we convert it to a float\n",
    "weight = float(weight)\n",
    "\n",
    "print(f\"{weight = }\")\n",
    "\n",
    "if weight < 20:\n",
    "    print(\"give patient 500mg\")\n",
    "elif weight < 40:\n",
    "    print(\"Give patient 750mg\")\n",
    "else:\n",
    "    print(\"Give patient 1000mg\")"
   ]
  },
  {
   "cell_type": "markdown",
   "metadata": {},
   "source": [
    "## Nested if-statements"
   ]
  },
  {
   "cell_type": "code",
   "execution_count": 9,
   "metadata": {},
   "outputs": [
    {
     "name": "stdout",
     "output_type": "stream",
     "text": [
      "10 divisible by 5\n",
      "Even number\n"
     ]
    }
   ],
   "source": [
    "number = 10\n",
    "\n",
    "if number % 5 == 0:\n",
    "    print(f\"{number} divisible by 5\")\n",
    "    if number % 2 == 0:         #This is nested if-statement\n",
    "        print(\"Even number\")\n",
    "    else:\n",
    "        print(\"Odd number\")     #The nested if-statement ends here\n",
    "else:\n",
    "    print(\"Not divisible by 5\")"
   ]
  },
  {
   "cell_type": "markdown",
   "metadata": {},
   "source": []
  }
 ],
 "metadata": {
  "kernelspec": {
   "display_name": "Python 3.9.13 ('Python-Alexander-Andersson-6f9gzyEi')",
   "language": "python",
   "name": "python3"
  },
  "language_info": {
   "codemirror_mode": {
    "name": "ipython",
    "version": 3
   },
   "file_extension": ".py",
   "mimetype": "text/x-python",
   "name": "python",
   "nbconvert_exporter": "python",
   "pygments_lexer": "ipython3",
   "version": "3.9.13"
  },
  "orig_nbformat": 4,
  "vscode": {
   "interpreter": {
    "hash": "0e170795d12b9f00bb6c905343705ccb98da647a4486686bf7cb14fa618c1741"
   }
  }
 },
 "nbformat": 4,
 "nbformat_minor": 2
}
