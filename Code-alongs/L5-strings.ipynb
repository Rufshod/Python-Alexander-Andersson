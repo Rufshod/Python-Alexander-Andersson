{
 "cells": [
  {
   "cell_type": "markdown",
   "metadata": {},
   "source": [
    "# Strings"
   ]
  },
  {
   "cell_type": "code",
   "execution_count": 5,
   "metadata": {},
   "outputs": [
    {
     "name": "stdout",
     "output_type": "stream",
     "text": [
      "Alexander Andersson\n",
      "\n",
      "Name: Alexander Andersson\n",
      "Age: 28\n",
      "Adress: Göteborg\n",
      "Phone: 911\n",
      "\n"
     ]
    }
   ],
   "source": [
    "firstname = \"Alexander\"\n",
    "lastname = \"Andersson\"\n",
    "\n",
    "# Concatenate strings\n",
    "\n",
    "fullname = firstname + \" \" + lastname\n",
    "age = 28\n",
    "adress = \"Göteborg\"\n",
    "phone = \"911\"\n",
    "\n",
    "\n",
    "\n",
    "print(fullname)\n",
    "\n",
    "#multiline f-string\n",
    "contact = f\"\"\"\n",
    "Name: {fullname}\n",
    "Age: {age}\n",
    "Adress: {adress}\n",
    "Phone: {phone}\n",
    "\"\"\"\n",
    "\n",
    "print(contact)"
   ]
  },
  {
   "cell_type": "markdown",
   "metadata": {},
   "source": [
    "## iterate through lists and concatenates"
   ]
  },
  {
   "cell_type": "code",
   "execution_count": 12,
   "metadata": {},
   "outputs": [
    {
     "name": "stdout",
     "output_type": "stream",
     "text": [
      "Plan \n",
      "Må: Ai intro\n",
      "Ti: Python\n",
      "On: Matte\n",
      "To: Självstudier\n",
      "Fr: Chilla\n",
      "Lö: Städa\n",
      "Sö: NULL\n",
      "\n"
     ]
    }
   ],
   "source": [
    "schedule = [\"Ai intro\", \"Python\", \"Matte\", \"Självstudier\", \"Chilla\", \"Städa\",\"\"]\n",
    "days = [\"Må\",\"Ti\",\"On\",\"To\",\"Fr\",\"Lö\",\"Sö\"]\n",
    "week_plan = \"Plan \\n\"\n",
    "\n",
    "\n",
    "#Mål är att printa ↓\n",
    "#Må: AI intro\n",
    "#Ti: Python\n",
    "\n",
    "\n",
    "for day, task in zip(days,schedule):\n",
    "    week_plan += f\"{day}: {task}\\n\" #\\n = newline\n",
    "\n",
    "print(week_plan)"
   ]
  },
  {
   "cell_type": "code",
   "execution_count": 15,
   "metadata": {},
   "outputs": [
    {
     "name": "stdout",
     "output_type": "stream",
     "text": [
      "quote[0]='!'\n",
      "quote[:6]='!False'\n",
      "quote[-4]='t'\n",
      "Backwards: quote[::-1]=\"eurt s'ti esuaceb ynnuf s'ti - eslaF!\"\n",
      "Lenght of string: 37, characters\n"
     ]
    }
   ],
   "source": [
    "quote = \"!False - it's funny because it's true\"\n",
    "\n",
    "print(f\"{quote[0]=}\")\n",
    "print(f\"{quote[:6]=}\")\n",
    "print(f\"{quote[-4]=}\")\n",
    "\n",
    "print(f\"Backwards: {quote[::-1]=}\")\n",
    "\n",
    "print(f\"Lenght of string: {len(quote)}, characters\")"
   ]
  },
  {
   "cell_type": "code",
   "execution_count": 22,
   "metadata": {},
   "outputs": [
    {
     "name": "stdout",
     "output_type": "stream",
     "text": [
      "numbers = [3.0, 4.0, 11.0]\n",
      "mean_value = 6.0\n"
     ]
    }
   ],
   "source": [
    "# not possible\n",
    "# numbers = float(input(\"Ange tre tal (separerade med kommatecken): \")) #Because 1,1,1 is not a valid \n",
    "\n",
    "#Attempt 2\n",
    "numbers = input(\"Ange tre tal (separerade med kommatecken): \")\n",
    "#Goal: \n",
    "#1: split the string into a list of 3 strings\n",
    "#2: type convert each string into a float by iterating through the list\n",
    "\n",
    "# list comprehension\n",
    "numbers = [float(number) for number in numbers.split(\",\")]\n",
    "mean_value = sum(numbers)/len(numbers)\n",
    "print(f\"{numbers = }\")\n",
    "print(f\"{mean_value = }\")"
   ]
  },
  {
   "cell_type": "code",
   "execution_count": 20,
   "metadata": {},
   "outputs": [
    {
     "data": {
      "text/plain": [
       "['2', '3', '4']"
      ]
     },
     "execution_count": 20,
     "metadata": {},
     "output_type": "execute_result"
    }
   ],
   "source": [
    "numbers_test = \"2,3,4\"\n",
    "numbers_test.split(\",\")\n",
    "help(str.split)"
   ]
  },
  {
   "cell_type": "code",
   "execution_count": 23,
   "metadata": {},
   "outputs": [
    {
     "name": "stdout",
     "output_type": "stream",
     "text": [
      "Help on method_descriptor:\n",
      "\n",
      "split(self, /, sep=None, maxsplit=-1)\n",
      "    Return a list of the words in the string, using sep as the delimiter string.\n",
      "    \n",
      "    sep\n",
      "      The delimiter according which to split the string.\n",
      "      None (the default value) means split according to any whitespace,\n",
      "      and discard empty strings from the result.\n",
      "    maxsplit\n",
      "      Maximum number of splits to do.\n",
      "      -1 (the default value) means no limit.\n",
      "\n"
     ]
    }
   ],
   "source": []
  },
  {
   "cell_type": "markdown",
   "metadata": {},
   "source": [
    "## Regular expression\n",
    "\n",
    "- find patterns in a string\n",
    "- e.g. phone numbers, email, capital letters, sequences ..."
   ]
  },
  {
   "cell_type": "code",
   "execution_count": 33,
   "metadata": {},
   "outputs": [
    {
     "name": "stdout",
     "output_type": "stream",
     "text": [
      "['021-432512', '042-321345', '739-242521']\n",
      "hej\n",
      "då\n",
      "hej\\ndå\n",
      "['021-432512', '042-321345', '739-242521']\n"
     ]
    }
   ],
   "source": [
    "import re\n",
    "#re = RegEx\n",
    "text = \"Mitt telefonnummer är 021-432512, Adas nummer är 042-321345, Beda nummer är: 0739-242521\"\n",
    "\n",
    "# extract the numbers\n",
    "match1 = re.findall(r\"\\d\\d\\d-\\d\\d\\d\\d\\d\\d\", text) \n",
    "print(match1)\n",
    "\n",
    "\n",
    "\n",
    "#example, r\"\" = rawstring\n",
    "print(\"hej\\ndå\")\n",
    "print(r\"hej\\ndå\")\n",
    "\n",
    "\n",
    "\n",
    "match2 = re.findall(r\"\\d{3}-\\d{6}\", text) #same as match1\n",
    "\n",
    "print(match2)"
   ]
  },
  {
   "cell_type": "code",
   "execution_count": 38,
   "metadata": {},
   "outputs": [
    {
     "name": "stdout",
     "output_type": "stream",
     "text": [
      "['katt', 'hatt', 'matt', 'natt']\n"
     ]
    }
   ],
   "source": [
    "text =\"Det var en gång en katt, som tig sig på en hatt, och spelade schack, fickk schackmatt och fick fnatt\"\n",
    "\n",
    "match = re.findall(r\".att\", text) # Try to fix the code so that it extracts whole words that ends with att\n",
    "print(match)"
   ]
  },
  {
   "cell_type": "markdown",
   "metadata": {},
   "source": []
  }
 ],
 "metadata": {
  "kernelspec": {
   "display_name": "Python 3.9.13 ('Python-Alexander-Andersson-6f9gzyEi')",
   "language": "python",
   "name": "python3"
  },
  "language_info": {
   "codemirror_mode": {
    "name": "ipython",
    "version": 3
   },
   "file_extension": ".py",
   "mimetype": "text/x-python",
   "name": "python",
   "nbconvert_exporter": "python",
   "pygments_lexer": "ipython3",
   "version": "3.9.13"
  },
  "orig_nbformat": 4,
  "vscode": {
   "interpreter": {
    "hash": "0e170795d12b9f00bb6c905343705ccb98da647a4486686bf7cb14fa618c1741"
   }
  }
 },
 "nbformat": 4,
 "nbformat_minor": 2
}
