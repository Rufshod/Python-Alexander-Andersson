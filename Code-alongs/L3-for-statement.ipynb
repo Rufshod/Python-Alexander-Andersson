{
 "cells": [
  {
   "cell_type": "markdown",
   "metadata": {},
   "source": [
    "# For Loop"
   ]
  },
  {
   "cell_type": "code",
   "execution_count": 11,
   "metadata": {},
   "outputs": [
    {
     "name": "stdout",
     "output_type": "stream",
     "text": [
      "i = 1\n",
      "i = 2\n",
      "i = 3\n",
      "i = 4\n",
      "i = 5\n",
      "j = 1\n",
      "j = 2\n",
      "j = 3\n",
      "j = 4\n",
      "j = 5\n"
     ]
    }
   ],
   "source": [
    "i = 0\n",
    "while i < 5:\n",
    "    i += 1\n",
    "    print(f\"i = {i}\")\n",
    "# is the same as\n",
    "for j in range(1,6):\n",
    "    print(f\"j = {j}\")\n",
    "\n",
    "# other langueages\n",
    "# for ( int i = 0; i<5 i++){\n",
    "#   statements\n",
    "# }"
   ]
  },
  {
   "cell_type": "code",
   "execution_count": 12,
   "metadata": {},
   "outputs": [
    {
     "name": "stdout",
     "output_type": "stream",
     "text": [
      "0\t1\t2\t3\t4\t5\t6\t7\t8\t9\t"
     ]
    }
   ],
   "source": [
    "for i in range(10):\n",
    "    print(i, end =\"\\t\") #\\t = tab #\\n = new line"
   ]
  },
  {
   "cell_type": "code",
   "execution_count": 15,
   "metadata": {},
   "outputs": [
    {
     "name": "stdout",
     "output_type": "stream",
     "text": [
      "0 + 1 + 2 + ... + 9 = my_sum = 45\n"
     ]
    }
   ],
   "source": [
    "my_sum = 0\n",
    "\n",
    "for i in range(10):\n",
    "    my_sum += i\n",
    "\n",
    "print(f\"0 + 1 + 2 + ... + 9 = {my_sum = }\")"
   ]
  },
  {
   "cell_type": "markdown",
   "metadata": {},
   "source": [
    "## Loop through a list"
   ]
  },
  {
   "cell_type": "code",
   "execution_count": 18,
   "metadata": {},
   "outputs": [
    {
     "name": "stdout",
     "output_type": "stream",
     "text": [
      "rabbit is cute\n",
      "turlte is cute\n",
      "puppy is cute\n",
      "cat is cute\n"
     ]
    }
   ],
   "source": [
    "cute_animals = [\"rabbit\", \"turlte\", \"puppy\", \"cat\"]\n",
    "\n",
    "for animal in cute_animals:\n",
    "    print(f\"{animal} is cute\")"
   ]
  },
  {
   "cell_type": "markdown",
   "metadata": {},
   "source": [
    "## random module"
   ]
  },
  {
   "cell_type": "code",
   "execution_count": 35,
   "metadata": {},
   "outputs": [
    {
     "name": "stdout",
     "output_type": "stream",
     "text": [
      "number_sixes = 1\n",
      "Proportion of sixes 0.1\n"
     ]
    }
   ],
   "source": [
    "#simple random dice program\n",
    "import random as rnd\n",
    "\n",
    "dice = rnd.randint(1,6)\n",
    "#get number of sixes rolled\n",
    "number_sixes = 0\n",
    "number_rolls = 10\n",
    "for i in range(number_rolls):\n",
    "    dice = rnd.randint(1,6)\n",
    "    if dice == 6:\n",
    "        number_sixes += 1\n",
    "#Print number of sixes during the ten rolls\n",
    "print(f\"{number_sixes = }\")\n",
    "#The % chance of throwing a six\n",
    "print(f\"Proportion of sixes {number_sixes/number_rolls}\")\n",
    "\n",
    "#why does it seem to converge towards 0.166...\n",
    "\n",
    "#w3schools random python for more information and specefic function for what I would need in my program."
   ]
  },
  {
   "cell_type": "code",
   "execution_count": 36,
   "metadata": {},
   "outputs": [
    {
     "name": "stdout",
     "output_type": "stream",
     "text": [
      "2\n",
      "5\n",
      "8\n"
     ]
    }
   ],
   "source": [
    "# for x in range(2, 10, 3) the 2 is start, 10 end 3 step (step is how many it goes through see print below)\n",
    "for x in range(2,10,3):\n",
    "    print(x)\n",
    "#the print is 2 because it starts there, 5 is the next one because 2+3=5 and ends att 8 because 8+3 = 11 > 10"
   ]
  }
 ],
 "metadata": {
  "kernelspec": {
   "display_name": "Python 3.9.13 ('Python-Alexander-Andersson-6f9gzyEi')",
   "language": "python",
   "name": "python3"
  },
  "language_info": {
   "codemirror_mode": {
    "name": "ipython",
    "version": 3
   },
   "file_extension": ".py",
   "mimetype": "text/x-python",
   "name": "python",
   "nbconvert_exporter": "python",
   "pygments_lexer": "ipython3",
   "version": "3.9.13"
  },
  "orig_nbformat": 4,
  "vscode": {
   "interpreter": {
    "hash": "0e170795d12b9f00bb6c905343705ccb98da647a4486686bf7cb14fa618c1741"
   }
  }
 },
 "nbformat": 4,
 "nbformat_minor": 2
}
