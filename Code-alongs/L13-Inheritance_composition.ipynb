{
 "cells": [
  {
   "cell_type": "markdown",
   "metadata": {},
   "source": [
    "# Inheritance and composition"
   ]
  },
  {
   "cell_type": "code",
   "execution_count": 1,
   "metadata": {},
   "outputs": [],
   "source": [
    "from typing import Type\n",
    "import re\n",
    "\n",
    "class Person:\n",
    "    def __init__(self, name: str, age: int) -> None:\n",
    "        self.age = age\n",
    "        self.name = name\n",
    "\n",
    "    @property #Getter\n",
    "    def age(self) -> int:\n",
    "        return self._age\n",
    "\n",
    "    @age.setter\n",
    "    def age(self, value: int) -> None:\n",
    "        if not isinstance(value, int):\n",
    "            raise TypeError(f\"Age must be int or float not {type(value).__name__}\") # dunder name returns name for class\n",
    "        self._age = value\n",
    "\n",
    "    @property #Getter name\n",
    "    def name(self) -> str:\n",
    "        return self._name\n",
    "\n",
    "    @name.setter\n",
    "    def name(self, value: str) -> None:\n",
    "        if not isinstance(value, str):\n",
    "            raise TypeError(f\"Name must be string\")\n",
    "        \n",
    "        if re.search(r'^[A-Ö][-a-öA-Ö]+(\\s[A-Ö][-a-öA-Ö]+)?$', value.strip()) is None:\n",
    "            raise ValueError(f\"{value} is not a valid name\")\n",
    "        \n",
    "        self._name = value\n",
    "\n",
    "#Should give error.\n",
    "p = Person(\"hej\", 52)\n"
   ]
  },
  {
   "cell_type": "code",
   "execution_count": 14,
   "metadata": {},
   "outputs": [
    {
     "name": "stdout",
     "output_type": "stream",
     "text": [
      "Person Doris says hi!\n",
      "Person Alban says hi!\n"
     ]
    }
   ],
   "source": [
    "import re\n",
    "\n",
    "class Person:\n",
    "    def __init__(self, name: str, age: int) -> None:\n",
    "        self.age = age\n",
    "        self.name = name\n",
    "\n",
    "    @property\n",
    "    def age(self) -> int:\n",
    "        return self._age\n",
    "\n",
    "    @age.setter\n",
    "    def age(self, value: int) -> None:\n",
    "        if not isinstance(value, int):\n",
    "            raise TypeError(f\"Age must be int or float not {type(value).__name__}\")\n",
    "        self._age = value\n",
    "\n",
    "    @property\n",
    "    def name(self) -> str:\n",
    "        return self._name\n",
    "    \n",
    "    @name.setter\n",
    "    def name(self, value: str) -> None:\n",
    "        # Regex fixed \n",
    "        if re.search(r\"^[A-ö]+(\\s[A-ö]+)?$\", value.strip()) is None:\n",
    "            raise ValueError(f\"{value} is not a valid name\")\n",
    "\n",
    "        self._name = value\n",
    "\n",
    "    def say_hi(self) -> None:\n",
    "        print(f\"Person {self.name} says hi!\")\n",
    "\n",
    "# synonyms: Subclass(Superclass), ChildClass(ParentClass), DerivedClass(BaseClass)\n",
    "class Student(Person):\n",
    "    pass\n",
    "\n",
    "\n",
    "\n",
    "\n",
    "\n",
    "#Creating the objects\n",
    "#student1 uses __init__() from its parent class\n",
    "student1 = Student(\"Doris\", 24)\n",
    "#student1 uses say_hi() from its parent class\n",
    "student1.say_hi()\n",
    "\n",
    "\n",
    "p = Person(\"Alban\", 52)\n",
    "\n",
    "p.say_hi()"
   ]
  }
 ],
 "metadata": {
  "kernelspec": {
   "display_name": "Python 3.9.13 ('Python-Alexander-Andersson-rXBoH5sP')",
   "language": "python",
   "name": "python3"
  },
  "language_info": {
   "codemirror_mode": {
    "name": "ipython",
    "version": 3
   },
   "file_extension": ".py",
   "mimetype": "text/x-python",
   "name": "python",
   "nbconvert_exporter": "python",
   "pygments_lexer": "ipython3",
   "version": "3.9.13"
  },
  "orig_nbformat": 4,
  "vscode": {
   "interpreter": {
    "hash": "b14cc422d827dd3ad3e166e9b0c2744dfcee3cbacc81397c64432efd767b4494"
   }
  }
 },
 "nbformat": 4,
 "nbformat_minor": 2
}
