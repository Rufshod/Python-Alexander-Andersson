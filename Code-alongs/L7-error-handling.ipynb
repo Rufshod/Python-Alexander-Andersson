{
 "cells": [
  {
   "cell_type": "markdown",
   "metadata": {},
   "source": [
    "# Errors\n",
    "- syntax errors - Python does not understand\n",
    "- logical errors - Occur when the program runs without crashing but giving wrong results e.g. 1+1=3\n",
    "- exception errors - Errors detected during execution, python parser understands what to do, but can't do it "
   ]
  },
  {
   "cell_type": "code",
   "execution_count": 2,
   "metadata": {},
   "outputs": [
    {
     "ename": "NameError",
     "evalue": "name 'prin' is not defined",
     "output_type": "error",
     "traceback": [
      "\u001b[1;31m---------------------------------------------------------------------------\u001b[0m",
      "\u001b[1;31mNameError\u001b[0m                                 Traceback (most recent call last)",
      "\u001b[1;32mc:\\Users\\agam\\Documents\\Github\\Python-Alexander-Andersson\\Code-alongs\\L7-error-handling.ipynb Cell 2\u001b[0m in \u001b[0;36m<cell line: 1>\u001b[1;34m()\u001b[0m\n\u001b[1;32m----> <a href='vscode-notebook-cell:/c%3A/Users/agam/Documents/Github/Python-Alexander-Andersson/Code-alongs/L7-error-handling.ipynb#W0sZmlsZQ%3D%3D?line=0'>1</a>\u001b[0m prin(\u001b[39m\"\u001b[39m\u001b[39mhello world\u001b[39m\u001b[39m\"\u001b[39m)\n",
      "\u001b[1;31mNameError\u001b[0m: name 'prin' is not defined"
     ]
    }
   ],
   "source": [
    "#syntaxerror\n",
    "prin(\"hello world\")"
   ]
  },
  {
   "cell_type": "code",
   "execution_count": 3,
   "metadata": {},
   "outputs": [
    {
     "name": "stdout",
     "output_type": "stream",
     "text": [
      "hello this code works\n"
     ]
    }
   ],
   "source": [
    "print(\"hello this code works\")"
   ]
  },
  {
   "cell_type": "code",
   "execution_count": 6,
   "metadata": {},
   "outputs": [
    {
     "ename": "SyntaxError",
     "evalue": "invalid syntax (998990184.py, line 2)",
     "output_type": "error",
     "traceback": [
      "\u001b[1;36m  Input \u001b[1;32mIn [6]\u001b[1;36m\u001b[0m\n\u001b[1;33m    print(\"Goodbye\")\u001b[0m\n\u001b[1;37m    ^\u001b[0m\n\u001b[1;31mSyntaxError\u001b[0m\u001b[1;31m:\u001b[0m invalid syntax\n"
     ]
    }
   ],
   "source": [
    "print(\"Hello\"\n",
    "print(\"Goodbye\")"
   ]
  },
  {
   "cell_type": "markdown",
   "metadata": {},
   "source": [
    "# Traceback"
   ]
  },
  {
   "cell_type": "code",
   "execution_count": 9,
   "metadata": {},
   "outputs": [
    {
     "name": "stdout",
     "output_type": "stream",
     "text": [
      "Start function 1\n",
      "Start function 2\n",
      "Start function 3\n"
     ]
    },
    {
     "ename": "ZeroDivisionError",
     "evalue": "division by zero",
     "output_type": "error",
     "traceback": [
      "\u001b[1;31m---------------------------------------------------------------------------\u001b[0m",
      "\u001b[1;31mZeroDivisionError\u001b[0m                         Traceback (most recent call last)",
      "\u001b[1;32mc:\\Users\\agam\\Documents\\Github\\Python-Alexander-Andersson\\Code-alongs\\L7-error-handling.ipynb Cell 5\u001b[0m in \u001b[0;36m<cell line: 13>\u001b[1;34m()\u001b[0m\n\u001b[0;32m     <a href='vscode-notebook-cell:/c%3A/Users/agam/Documents/Github/Python-Alexander-Andersson/Code-alongs/L7-error-handling.ipynb#W4sZmlsZQ%3D%3D?line=9'>10</a>\u001b[0m     \u001b[39mprint\u001b[39m(\u001b[39m\"\u001b[39m\u001b[39mStart function 3\u001b[39m\u001b[39m\"\u001b[39m)\n\u001b[0;32m     <a href='vscode-notebook-cell:/c%3A/Users/agam/Documents/Github/Python-Alexander-Andersson/Code-alongs/L7-error-handling.ipynb#W4sZmlsZQ%3D%3D?line=10'>11</a>\u001b[0m     \u001b[39m3\u001b[39m\u001b[39m/\u001b[39m\u001b[39m0\u001b[39m\n\u001b[1;32m---> <a href='vscode-notebook-cell:/c%3A/Users/agam/Documents/Github/Python-Alexander-Andersson/Code-alongs/L7-error-handling.ipynb#W4sZmlsZQ%3D%3D?line=12'>13</a>\u001b[0m func1()\n",
      "\u001b[1;32mc:\\Users\\agam\\Documents\\Github\\Python-Alexander-Andersson\\Code-alongs\\L7-error-handling.ipynb Cell 5\u001b[0m in \u001b[0;36mfunc1\u001b[1;34m()\u001b[0m\n\u001b[0;32m      <a href='vscode-notebook-cell:/c%3A/Users/agam/Documents/Github/Python-Alexander-Andersson/Code-alongs/L7-error-handling.ipynb#W4sZmlsZQ%3D%3D?line=0'>1</a>\u001b[0m \u001b[39mdef\u001b[39;00m \u001b[39mfunc1\u001b[39m():\n\u001b[0;32m      <a href='vscode-notebook-cell:/c%3A/Users/agam/Documents/Github/Python-Alexander-Andersson/Code-alongs/L7-error-handling.ipynb#W4sZmlsZQ%3D%3D?line=1'>2</a>\u001b[0m     \u001b[39mprint\u001b[39m(\u001b[39m\"\u001b[39m\u001b[39mStart function 1\u001b[39m\u001b[39m\"\u001b[39m)\n\u001b[1;32m----> <a href='vscode-notebook-cell:/c%3A/Users/agam/Documents/Github/Python-Alexander-Andersson/Code-alongs/L7-error-handling.ipynb#W4sZmlsZQ%3D%3D?line=2'>3</a>\u001b[0m     func2()\n",
      "\u001b[1;32mc:\\Users\\agam\\Documents\\Github\\Python-Alexander-Andersson\\Code-alongs\\L7-error-handling.ipynb Cell 5\u001b[0m in \u001b[0;36mfunc2\u001b[1;34m()\u001b[0m\n\u001b[0;32m      <a href='vscode-notebook-cell:/c%3A/Users/agam/Documents/Github/Python-Alexander-Andersson/Code-alongs/L7-error-handling.ipynb#W4sZmlsZQ%3D%3D?line=4'>5</a>\u001b[0m \u001b[39mdef\u001b[39;00m \u001b[39mfunc2\u001b[39m():\n\u001b[0;32m      <a href='vscode-notebook-cell:/c%3A/Users/agam/Documents/Github/Python-Alexander-Andersson/Code-alongs/L7-error-handling.ipynb#W4sZmlsZQ%3D%3D?line=5'>6</a>\u001b[0m     \u001b[39mprint\u001b[39m(\u001b[39m\"\u001b[39m\u001b[39mStart function 2\u001b[39m\u001b[39m\"\u001b[39m)\n\u001b[1;32m----> <a href='vscode-notebook-cell:/c%3A/Users/agam/Documents/Github/Python-Alexander-Andersson/Code-alongs/L7-error-handling.ipynb#W4sZmlsZQ%3D%3D?line=6'>7</a>\u001b[0m     func3()\n",
      "\u001b[1;32mc:\\Users\\agam\\Documents\\Github\\Python-Alexander-Andersson\\Code-alongs\\L7-error-handling.ipynb Cell 5\u001b[0m in \u001b[0;36mfunc3\u001b[1;34m()\u001b[0m\n\u001b[0;32m      <a href='vscode-notebook-cell:/c%3A/Users/agam/Documents/Github/Python-Alexander-Andersson/Code-alongs/L7-error-handling.ipynb#W4sZmlsZQ%3D%3D?line=8'>9</a>\u001b[0m \u001b[39mdef\u001b[39;00m \u001b[39mfunc3\u001b[39m():\n\u001b[0;32m     <a href='vscode-notebook-cell:/c%3A/Users/agam/Documents/Github/Python-Alexander-Andersson/Code-alongs/L7-error-handling.ipynb#W4sZmlsZQ%3D%3D?line=9'>10</a>\u001b[0m     \u001b[39mprint\u001b[39m(\u001b[39m\"\u001b[39m\u001b[39mStart function 3\u001b[39m\u001b[39m\"\u001b[39m)\n\u001b[1;32m---> <a href='vscode-notebook-cell:/c%3A/Users/agam/Documents/Github/Python-Alexander-Andersson/Code-alongs/L7-error-handling.ipynb#W4sZmlsZQ%3D%3D?line=10'>11</a>\u001b[0m     \u001b[39m3\u001b[39;49m\u001b[39m/\u001b[39;49m\u001b[39m0\u001b[39;49m\n",
      "\u001b[1;31mZeroDivisionError\u001b[0m: division by zero"
     ]
    }
   ],
   "source": [
    "def func1():\n",
    "    print(\"Start function 1\")\n",
    "    func2()\n",
    "\n",
    "def func2():\n",
    "    print(\"Start function 2\")\n",
    "    func3()\n",
    "\n",
    "def func3():\n",
    "    print(\"Start function 3\")\n",
    "    3/0 # exception error\n",
    "\n",
    "func1()"
   ]
  },
  {
   "cell_type": "markdown",
   "metadata": {},
   "source": [
    "# Logical error"
   ]
  },
  {
   "cell_type": "code",
   "execution_count": null,
   "metadata": {},
   "outputs": [],
   "source": [
    "#\"test\""
   ]
  },
  {
   "cell_type": "code",
   "execution_count": 11,
   "metadata": {},
   "outputs": [
    {
     "name": "stdout",
     "output_type": "stream",
     "text": [
      "12.566370614359172\n"
     ]
    }
   ],
   "source": [
    "import math\n",
    "\n",
    "circumference = lambda radius: math.pi*radius**2 # formula for area, not radius.\n",
    "\n",
    "print(circumference(2))\n",
    "\n",
    "# program does what it has been told\n",
    "# we compute the area instead of the circumference\n",
    "# logical error -> hard to find"
   ]
  }
 ],
 "metadata": {
  "kernelspec": {
   "display_name": "Python 3.9.13 ('Python-Alexander-Andersson-6f9gzyEi')",
   "language": "python",
   "name": "python3"
  },
  "language_info": {
   "codemirror_mode": {
    "name": "ipython",
    "version": 3
   },
   "file_extension": ".py",
   "mimetype": "text/x-python",
   "name": "python",
   "nbconvert_exporter": "python",
   "pygments_lexer": "ipython3",
   "version": "3.9.13"
  },
  "orig_nbformat": 4,
  "vscode": {
   "interpreter": {
    "hash": "0e170795d12b9f00bb6c905343705ccb98da647a4486686bf7cb14fa618c1741"
   }
  }
 },
 "nbformat": 4,
 "nbformat_minor": 2
}
