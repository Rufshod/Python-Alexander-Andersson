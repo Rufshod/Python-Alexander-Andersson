{
 "cells": [
  {
   "cell_type": "markdown",
   "metadata": {},
   "source": [
    "# OOP Basics"
   ]
  },
  {
   "cell_type": "code",
   "execution_count": 1,
   "metadata": {},
   "outputs": [
    {
     "data": {
      "text/plain": [
       "<__main__.Person at 0x1ac2e69abb0>"
      ]
     },
     "execution_count": 1,
     "metadata": {},
     "output_type": "execute_result"
    }
   ],
   "source": [
    "\n",
    "#Created a class called Person\n",
    "class Person:\n",
    "    pass # This code does nothing right now\n",
    "\n",
    "#Instantiates an instance from the class Person using the callable syntax (), classes are callables.\n",
    "person1 = Person()\n",
    "\n",
    "person1"
   ]
  },
  {
   "cell_type": "code",
   "execution_count": 5,
   "metadata": {},
   "outputs": [
    {
     "data": {
      "text/plain": [
       "'Ada'"
      ]
     },
     "execution_count": 5,
     "metadata": {},
     "output_type": "execute_result"
    }
   ],
   "source": [
    "# creates an instance attribute on the fly\n",
    "#name is an instance attribute, person is an instance object.\n",
    "person1.name = \"Ada\"\n",
    "person1.name"
   ]
  },
  {
   "cell_type": "code",
   "execution_count": 6,
   "metadata": {},
   "outputs": [
    {
     "data": {
      "text/plain": [
       "<__main__.Person at 0x1ac2e69a550>"
      ]
     },
     "execution_count": 6,
     "metadata": {},
     "output_type": "execute_result"
    }
   ],
   "source": [
    "#Adds \n",
    "person2 = Person()\n",
    "person2"
   ]
  },
  {
   "cell_type": "code",
   "execution_count": 7,
   "metadata": {},
   "outputs": [
    {
     "ename": "AttributeError",
     "evalue": "'Person' object has no attribute 'name'",
     "output_type": "error",
     "traceback": [
      "\u001b[1;31m---------------------------------------------------------------------------\u001b[0m",
      "\u001b[1;31mAttributeError\u001b[0m                            Traceback (most recent call last)",
      "\u001b[1;32mc:\\Users\\Agam\\Documents\\Github\\Python-Alexander-Andersson\\Code-alongs\\L11-OOP_basics.ipynb Cell 5\u001b[0m in \u001b[0;36m<cell line: 1>\u001b[1;34m()\u001b[0m\n\u001b[1;32m----> <a href='vscode-notebook-cell:/c%3A/Users/Agam/Documents/Github/Python-Alexander-Andersson/Code-alongs/L11-OOP_basics.ipynb#W4sZmlsZQ%3D%3D?line=0'>1</a>\u001b[0m person2\u001b[39m.\u001b[39;49mname\n",
      "\u001b[1;31mAttributeError\u001b[0m: 'Person' object has no attribute 'name'"
     ]
    }
   ],
   "source": [
    "#person2 does not have a name so returns an error.\n",
    "person2.name"
   ]
  },
  {
   "cell_type": "markdown",
   "metadata": {},
   "source": [
    "## `__init__()`\n",
    "\n",
    "- dunder init method\n",
    "- initializer method that runs after the object has been created\n",
    "- used for setting initial values attributes to an instance object\n"
   ]
  },
  {
   "cell_type": "code",
   "execution_count": 17,
   "metadata": {},
   "outputs": [
    {
     "name": "stdout",
     "output_type": "stream",
     "text": [
      "person1.name = 'Alexander'\n",
      "person2.name = 'Bella'\n",
      "person1.accept = True\n",
      "person2.accept = False\n",
      "person1.program = 'AI'\n",
      "person2.program = 'Java'\n",
      "person2.program = 'Data Science'\n"
     ]
    },
    {
     "data": {
      "text/plain": [
       "Antagning('Super cool schoool', 'AI', 'Alexander', 'True')"
      ]
     },
     "execution_count": 17,
     "metadata": {},
     "output_type": "execute_result"
    }
   ],
   "source": [
    "class Antagning:\n",
    "    # initializer\n",
    "    # for methods it's a convention to have first argument as self.\n",
    "    def __init__(self, school, program, name, accept):\n",
    "        # assigns arguments to instance attributes\n",
    "        self.school = school\n",
    "        self.program = program\n",
    "        self.name = name\n",
    "        self.accept = accept\n",
    "\n",
    "\n",
    "    # __repr__() a representation of the instance object -> used for other developers.\n",
    "    # pronounciation: \"dunder repper\"  \n",
    "    def __repr__(self): \n",
    "        return f\"Antagning('{self.school}', '{self.program}', '{self.name}', '{self.accept}')\"\n",
    "# When a method is called -> the instance istelf is injected to the method as the first argument.\n",
    "\n",
    "\n",
    "# here we instantiate from the class Antagning\n",
    "person1 = Antagning(\"Super cool schoool\", \"AI\", \"Alexander\", accept = True) # You can write just True instead of accept = True.\n",
    "person2 = Antagning(\"Okay School\", \"Java\", \"Bella\", False)\n",
    "\n",
    "print(f\"{person1.name = }\")\n",
    "print(f\"{person2.name = }\") #Because we use .name with person 2 the instance attribute is created.\n",
    "\n",
    "print(f\"{person1.accept = }\")\n",
    "print(f\"{person2.accept = }\") \n",
    "\n",
    "print(f\"{person1.program = }\")\n",
    "print(f\"{person2.program = }\")\n",
    "#We can change a attribute on the fly\n",
    "person2.program = \"Data Science\"\n",
    "print(f\"{person2.program = }\")\n",
    "\n",
    "\n",
    "person1"
   ]
  },
  {
   "cell_type": "code",
   "execution_count": 18,
   "metadata": {},
   "outputs": [
    {
     "data": {
      "text/plain": [
       "Antagning('Okay School', 'Data Science', 'Bella', 'False')"
      ]
     },
     "execution_count": 18,
     "metadata": {},
     "output_type": "execute_result"
    }
   ],
   "source": [
    "person2"
   ]
  },
  {
   "cell_type": "code",
   "execution_count": 19,
   "metadata": {},
   "outputs": [
    {
     "data": {
      "text/plain": [
       "[1, 2, 3]"
      ]
     },
     "execution_count": 19,
     "metadata": {},
     "output_type": "execute_result"
    }
   ],
   "source": [
    "# the __repr__ of list gives output [1,2,3]\n",
    "\n",
    "example_list = [1,2,3]\n",
    "example_list"
   ]
  }
 ],
 "metadata": {
  "kernelspec": {
   "display_name": "Python 3.9.13 ('Python-Alexander-Andersson-rXBoH5sP')",
   "language": "python",
   "name": "python3"
  },
  "language_info": {
   "codemirror_mode": {
    "name": "ipython",
    "version": 3
   },
   "file_extension": ".py",
   "mimetype": "text/x-python",
   "name": "python",
   "nbconvert_exporter": "python",
   "pygments_lexer": "ipython3",
   "version": "3.9.13"
  },
  "orig_nbformat": 4,
  "vscode": {
   "interpreter": {
    "hash": "b14cc422d827dd3ad3e166e9b0c2744dfcee3cbacc81397c64432efd767b4494"
   }
  }
 },
 "nbformat": 4,
 "nbformat_minor": 2
}
