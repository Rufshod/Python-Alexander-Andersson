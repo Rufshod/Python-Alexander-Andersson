{
 "cells": [
  {
   "cell_type": "markdown",
   "metadata": {},
   "source": [
    "##  Dataclass\n",
    "\n",
    "- give s some boilerplate code for free\n",
    "- usually used for classes that store alot of data\n",
    "- in method heavy classes, dataclass might not help much.\n",
    "\n",
    "gives free:\n",
    "- `__init__()`\n",
    "- `__repr__()`\n",
    "- `__eq__()`\n",
    "- and more"
   ]
  },
  {
   "cell_type": "code",
   "execution_count": 9,
   "metadata": {},
   "outputs": [
    {
     "name": "stdout",
     "output_type": "stream",
     "text": [
      "value setter\n",
      "value must be int or float, not property\n",
      "value setter\n",
      "value getter\n",
      "42 units\n"
     ]
    }
   ],
   "source": [
    "from __future__ import annotations\n",
    "from dataclasses import dataclass\n",
    "\n",
    "@dataclass # Checks fields. \n",
    "class Prefix:\n",
    "    # fields will go into the automatically generated __init__(), repr__()\n",
    "    #fields - variable: type annotation\n",
    "    value: int|float # positional argument\n",
    "    unit: str = \"unit\" # keyword argument # \"unit\" is default value\n",
    "    prefix_symbol: str = None\n",
    "\n",
    "    #bare class attributes, they are not in __init__ or __repr__\n",
    "    # note they don't have type annotation so they are not fields\n",
    "    symbols = \"T G M k h d c m μ n p\".split()\n",
    "    names = \"tera giga mega kilo hekto deci centi milli mikro nano piko\".split()\n",
    "    values = (10**i for i in (12, 9, 6,3,2,-1,-2,-3,6,-9,-12))\n",
    "    \n",
    "\n",
    "    # dictionary comprehension\n",
    "    prefix_dict = {\n",
    "        symbol: [value, name]\n",
    "        for name, symbol, value in zip(names, symbols, values)\n",
    "    }\n",
    "\n",
    "    def convert(self, symbol: str) -> float|int: ## Todo add errorhandling\n",
    "        self.prefix_symbol = symbol\n",
    "        return self.value/self.prefix_dict[symbol][0]\n",
    "\n",
    "    def __str__(self) -> str:\n",
    "        if self.prefix_symbol: # is not None\n",
    "            return f\"{self.convert(self.prefix_symbol)}{self.prefix_symbol}{self.unit}\"\n",
    "        return f\"{self.value} units\"\n",
    "\n",
    "    @property\n",
    "    def value(self):\n",
    "        print(\"value getter\")\n",
    "        return self._value\n",
    "\n",
    "    @value.setter\n",
    "    def value(self, value):\n",
    "        print(\"value setter\")\n",
    "        if not isinstance(value, (float,int)):\n",
    "            raise TypeError(f\"value must be int or float, not {type(value).__name__}\")\n",
    "        self._value = value\n",
    "\n",
    "# in the def __init__(self, value,...)\n",
    "#           self.value = value\n",
    "#           self.unit = unit\n",
    "\n",
    "try:\n",
    "    p1 = Prefix() # a __init__ is created with the help of dataclass.\n",
    "except TypeError as err:\n",
    "    print(err)\n",
    "\n",
    "p1 = Prefix(42) # setter runs.\n",
    "print(p1) # the __repr__ picks the value wich will run the getter. # data class gives us __repr__\n",
    "\n"
   ]
  },
  {
   "cell_type": "code",
   "execution_count": 10,
   "metadata": {},
   "outputs": [
    {
     "name": "stdout",
     "output_type": "stream",
     "text": [
      "value setter\n",
      "value getter\n",
      "42 units\n"
     ]
    }
   ],
   "source": [
    "p1 = Prefix(42, \"g\")\n",
    "print(p1)"
   ]
  }
 ],
 "metadata": {
  "kernelspec": {
   "display_name": "Python 3.9.13 ('Python-Alexander-Andersson-rXBoH5sP')",
   "language": "python",
   "name": "python3"
  },
  "language_info": {
   "codemirror_mode": {
    "name": "ipython",
    "version": 3
   },
   "file_extension": ".py",
   "mimetype": "text/x-python",
   "name": "python",
   "nbconvert_exporter": "python",
   "pygments_lexer": "ipython3",
   "version": "3.9.13"
  },
  "orig_nbformat": 4,
  "vscode": {
   "interpreter": {
    "hash": "b14cc422d827dd3ad3e166e9b0c2744dfcee3cbacc81397c64432efd767b4494"
   }
  }
 },
 "nbformat": 4,
 "nbformat_minor": 2
}
