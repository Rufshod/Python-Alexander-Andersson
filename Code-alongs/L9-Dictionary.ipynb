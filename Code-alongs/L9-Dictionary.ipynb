{
 "cells": [
  {
   "cell_type": "markdown",
   "metadata": {},
   "source": [
    "# Dictionary\n",
    "\n",
    "- datastrucutre (like list) that stores data in key:value pairs\n",
    "- keyword : dict() or {}"
   ]
  },
  {
   "cell_type": "code",
   "execution_count": 52,
   "metadata": {},
   "outputs": [
    {
     "name": "stdout",
     "output_type": "stream",
     "text": [
      "person dictionary {'name': 'Alexander', 'age': 28, 'work': 'Student', 'interests': ['cooking', 'games', 'fermenting', 'lifting weights'], 'phone': 707070707}\n",
      "person dictionary Student\n",
      "person dictionary 28\n",
      "person dictionary ['cooking', 'games']\n",
      "Alexander's likes cooking\n",
      "Alexander's likes games\n",
      "Alexander's likes fermenting\n",
      "Alexander's likes lifting weights\n"
     ]
    }
   ],
   "source": [
    "# create a dictionary with dict()\n",
    "\n",
    "person = dict(\n",
    "    name=\"Alexander\",\n",
    "    age=28,\n",
    "    work=\"Student\",\n",
    "    interests=[\"cooking\", \"games\", \"fermenting\", \"lifting weights\"],\n",
    "    phone=707070707,\n",
    ")\n",
    "\n",
    "print(f\"person dictionary {person}\")\n",
    "print(f\"person dictionary {person['work']}\") # use '' here instead of \"\" with work otherwise program thinks we try to end the f string to early\n",
    "print(f\"person dictionary {person['age']}\")\n",
    "print(f\"person dictionary {person['interests'][:2]}\") # get index 2\n",
    "\n",
    "for interest in person[\"interests\"]:\n",
    "    print(f\"Alexander's likes {interest}\")\n",
    "\n"
   ]
  },
  {
   "cell_type": "code",
   "execution_count": 54,
   "metadata": {},
   "outputs": [
    {
     "ename": "KeyError",
     "evalue": "2",
     "output_type": "error",
     "traceback": [
      "\u001b[1;31m---------------------------------------------------------------------------\u001b[0m",
      "\u001b[1;31mKeyError\u001b[0m                                  Traceback (most recent call last)",
      "\u001b[1;32mc:\\Users\\agam\\Documents\\Github\\Python-Alexander-Andersson\\Code-alongs\\L9-Dictionary.ipynb Cell 3\u001b[0m in \u001b[0;36m<cell line: 1>\u001b[1;34m()\u001b[0m\n\u001b[1;32m----> <a href='vscode-notebook-cell:/c%3A/Users/agam/Documents/Github/Python-Alexander-Andersson/Code-alongs/L9-Dictionary.ipynb#X12sZmlsZQ%3D%3D?line=0'>1</a>\u001b[0m \u001b[39mprint\u001b[39m(\u001b[39mf\u001b[39m\u001b[39m\"\u001b[39m\u001b[39mperson dictionary \u001b[39m\u001b[39m{\u001b[39;00mperson[\u001b[39m2\u001b[39m]\u001b[39m}\u001b[39;00m\u001b[39m\"\u001b[39m)\n",
      "\u001b[1;31mKeyError\u001b[0m: 2"
     ]
    }
   ],
   "source": [
    "print(f\"person dictionary {person}\")"
   ]
  },
  {
   "cell_type": "code",
   "execution_count": 11,
   "metadata": {},
   "outputs": [
    {
     "name": "stdout",
     "output_type": "stream",
     "text": [
      "{'assign': 'assings a value to a variable', 'dictionary': 'data structure to store data in key-value pairs', 'method': 'a function bound to an object'}\n",
      "We will learn theese words \n",
      "\n",
      "assign assings a value to a variable\n",
      "dictionary data structure to store data in key-value pairs\n",
      "method a function bound to an object\n"
     ]
    }
   ],
   "source": [
    "# create dictionary with curly braces {}\n",
    "words = {\n",
    "    \"assign\": \"assings a value to a variable\",\n",
    "    \"dictionary\": \"data structure to store data in key-value pairs\",\n",
    "    \"method\": \"a function bound to an object\",\n",
    "}\n",
    "\n",
    "print(words)\n",
    "print(\"We will learn theese words \\n\")\n",
    "\n",
    "for key in words:\n",
    "    print(key, words [key])\n",
    "\n"
   ]
  },
  {
   "cell_type": "code",
   "execution_count": 19,
   "metadata": {},
   "outputs": [
    {
     "name": "stdout",
     "output_type": "stream",
     "text": [
      "Glossary \n",
      "\n",
      "assign          assings a value to a variable\n",
      "dictionary      data structure to store data in key-value pairs\n",
      "method          a function bound to an object\n",
      "...............\n"
     ]
    }
   ],
   "source": [
    "print(\"Glossary \\n\")\n",
    "\n",
    "for key, value in words.items():\n",
    "    print(f\"{key:<15} {value}\") #:<15 writes align with width 15\n",
    "\n",
    "print(\".\"*15)"
   ]
  },
  {
   "cell_type": "code",
   "execution_count": 26,
   "metadata": {},
   "outputs": [
    {
     "name": "stdout",
     "output_type": "stream",
     "text": [
      "{'F': 0, 'E': 10, 'D': 20, 'C': 30, 'B': 40, 'A': 50}\n",
      "{'F': '< 10', 'E': 10, 'D': 20, 'C': 30, 'B': 40, 'A': 50, 'Course': 'Programmering 1'}\n"
     ]
    }
   ],
   "source": [
    "# F < 10, E: 10, D: 20, C: 30, B: 40 A: 50,\n",
    "\n",
    "#empty dictionardy\n",
    "grade_limit = {}\n",
    "\n",
    "for i, character in enumerate(\"ABCDEF\"[::-1]):\n",
    "    grade_limit[character] = i*10\n",
    "\n",
    "print(grade_limit)\n",
    "\n",
    "# assings a new value that is associated with the key F\n",
    "grade_limit[\"F\"] = \"< 10\"\n",
    "grade_limit[\"Course\"] = \"Programmering 1\"\n",
    "\n",
    "print(grade_limit)"
   ]
  },
  {
   "cell_type": "markdown",
   "metadata": {},
   "source": [
    "## Dictionary comprehension"
   ]
  },
  {
   "cell_type": "code",
   "execution_count": 49,
   "metadata": {},
   "outputs": [
    {
     "name": "stdout",
     "output_type": "stream",
     "text": [
      "grade_limit={'F': 0, 'E': 10, 'D': 20, 'C': 30, 'B': 40, 'A': 50}\n",
      "scores=[39, 59, 34, 45, 23, 36, 37, 46, 10, 49, 52, 21, 24, 40, 50, 23, 58, 19, 25, 44, 13, 48, 42, 55, 58, 23, 6, 27, 52, 40]\n",
      "The amount of students that got: {'F': 1, 'E': 3, 'D': 7, 'C': 4, 'B': 8, 'A': 7}\n"
     ]
    }
   ],
   "source": [
    "import random as rnd\n",
    "\n",
    "grade_limit = {grade: i*10 for i, grade in enumerate(\"ABCDEF\"[::-1])}\n",
    "\n",
    "grade_limit\n",
    "def generate_scores(number_students):\n",
    "    rnd.seed(1337)\n",
    "    scores = [rnd.randint(0,60) for _ in range(number_students)]\n",
    "    return scores\n",
    "\n",
    "scores = generate_scores(30)\n",
    "\n",
    "print(f\"{grade_limit=}\")\n",
    "print(f\"{scores=}\")\n",
    "\n",
    "# number of students in each grade category\n",
    "students_in_grade = {key: 0 for key in grade_limit}\n",
    "\n",
    "for score in scores: # loop through scores\n",
    "    for grade, limit in grade_limit.items(): # loop through limit ( 10, 20, ..., 50)\n",
    "        if limit <= score < limit+10:\n",
    "            students_in_grade[grade] += 1\n",
    "\n",
    "\n",
    "print(f\"The amount of students that got: {students_in_grade}\")"
   ]
  },
  {
   "cell_type": "code",
   "execution_count": 50,
   "metadata": {},
   "outputs": [
    {
     "data": {
      "text/plain": [
       "30"
      ]
     },
     "execution_count": 50,
     "metadata": {},
     "output_type": "execute_result"
    }
   ],
   "source": [
    "#check that all students have been put in categories\n",
    "\n",
    "total_students = 0\n",
    "for _, number_students in students_in_grade.items(): #for _, (to loop through a )\n",
    "    total_students += number_students\n",
    "\n",
    "total_students"
   ]
  },
  {
   "cell_type": "code",
   "execution_count": null,
   "metadata": {},
   "outputs": [],
   "source": []
  }
 ],
 "metadata": {
  "kernelspec": {
   "display_name": "Python 3.9.13 ('Python-Alexander-Andersson-6f9gzyEi')",
   "language": "python",
   "name": "python3"
  },
  "language_info": {
   "codemirror_mode": {
    "name": "ipython",
    "version": 3
   },
   "file_extension": ".py",
   "mimetype": "text/x-python",
   "name": "python",
   "nbconvert_exporter": "python",
   "pygments_lexer": "ipython3",
   "version": "3.9.13"
  },
  "orig_nbformat": 4,
  "vscode": {
   "interpreter": {
    "hash": "0e170795d12b9f00bb6c905343705ccb98da647a4486686bf7cb14fa618c1741"
   }
  }
 },
 "nbformat": 4,
 "nbformat_minor": 2
}
