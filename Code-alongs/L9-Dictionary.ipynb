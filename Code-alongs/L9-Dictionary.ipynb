{
 "cells": [
  {
   "cell_type": "markdown",
   "metadata": {},
   "source": [
    "# Dictionary\n",
    "\n",
    "- datastrucutre (like list) that stores data in key:value pairs\n",
    "- keyword : dict()"
   ]
  },
  {
   "cell_type": "code",
   "execution_count": 2,
   "metadata": {},
   "outputs": [
    {
     "name": "stdout",
     "output_type": "stream",
     "text": [
      "person dictionary {'name': 'Alexander', 'age': 28, 'work': 'Student', 'interests': ['cooking', 'games'], 'phone': 707070707}\n"
     ]
    }
   ],
   "source": [
    "# create a dictionary\n",
    "\n",
    "person = dict(\n",
    "    \n",
    "    name=\"Alexander\",\n",
    "    age=28,\n",
    "    work=\"Student\",\n",
    "    interests=[\"cooking\", \"games\"],\n",
    "    phone=707070707,\n",
    ")\n",
    "\n",
    "print(f\"person dictionary {person}\")\n"
   ]
  },
  {
   "cell_type": "markdown",
   "metadata": {},
   "source": []
  }
 ],
 "metadata": {
  "kernelspec": {
   "display_name": "Python 3.9.13 ('Python-Alexander-Andersson-6f9gzyEi')",
   "language": "python",
   "name": "python3"
  },
  "language_info": {
   "codemirror_mode": {
    "name": "ipython",
    "version": 3
   },
   "file_extension": ".py",
   "mimetype": "text/x-python",
   "name": "python",
   "nbconvert_exporter": "python",
   "pygments_lexer": "ipython3",
   "version": "3.9.13"
  },
  "orig_nbformat": 4,
  "vscode": {
   "interpreter": {
    "hash": "0e170795d12b9f00bb6c905343705ccb98da647a4486686bf7cb14fa618c1741"
   }
  }
 },
 "nbformat": 4,
 "nbformat_minor": 2
}
