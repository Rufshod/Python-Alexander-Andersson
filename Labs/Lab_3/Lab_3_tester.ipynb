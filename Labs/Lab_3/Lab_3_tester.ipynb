{
 "cells": [
  {
   "cell_type": "markdown",
   "metadata": {},
   "source": [
    "## Tester file for Objects file."
   ]
  },
  {
   "cell_type": "code",
   "execution_count": 41,
   "metadata": {},
   "outputs": [
    {
     "name": "stdout",
     "output_type": "stream",
     "text": [
      "True\n",
      "False\n",
      "True\n",
      "False\n"
     ]
    }
   ],
   "source": [
    "from Objects import Circle, Rectangle # Importing relevant classes.\n",
    "from math import pi, hypot\n",
    "\n",
    "cirkel1 = Circle(0,0,1) # Enhetscirkel\n",
    "cirkel2 = Circle(1,1,1)\n",
    "cirkel3 = Circle(0,0,2)\n",
    "rektangel1 = Rectangle(0,0,1,1)\n",
    "rektangel2 = Rectangle(1,1,1,1)\n",
    "rektangel3 = Rectangle(0,0,2,3)\n",
    "\n",
    "\n",
    "\n",
    "print(cirkel1==cirkel2) # True\n",
    "print(cirkel2==rektangel1) # False\n",
    "\n",
    "print(cirkel1.point_inside_circle(0.5,0.5)) # True\n",
    "\n",
    "cirkel1.translation(5,5) \n",
    "\n",
    "print(cirkel1.point_inside_circle(0.5,0.5)) # False\n",
    "\n",
    "#cirkel1.translation(5,\"TRE\") # ge ValueError med lämplig kommentar\n"
   ]
  },
  {
   "cell_type": "markdown",
   "metadata": {},
   "source": [
    "## Testing equal operator"
   ]
  },
  {
   "cell_type": "markdown",
   "metadata": {},
   "source": []
  },
  {
   "cell_type": "code",
   "execution_count": 34,
   "metadata": {},
   "outputs": [
    {
     "name": "stdout",
     "output_type": "stream",
     "text": [
      "True\n",
      "True\n",
      "False\n"
     ]
    }
   ],
   "source": [
    "print(cirkel1==cirkel2) # True\n",
    "print(rektangel1==rektangel2) # True\n",
    "print(cirkel2==rektangel1) # False"
   ]
  },
  {
   "cell_type": "markdown",
   "metadata": {},
   "source": [
    "## Less than operator"
   ]
  },
  {
   "cell_type": "code",
   "execution_count": 35,
   "metadata": {},
   "outputs": [
    {
     "name": "stdout",
     "output_type": "stream",
     "text": [
      "True\n",
      "True\n",
      "False\n"
     ]
    }
   ],
   "source": [
    "print(cirkel1<cirkel3) # True\n",
    "print(rektangel1<rektangel3) # True\n",
    "print(rektangel3<rektangel2) # False"
   ]
  },
  {
   "cell_type": "markdown",
   "metadata": {},
   "source": [
    "## Greater than operator"
   ]
  },
  {
   "cell_type": "code",
   "execution_count": 36,
   "metadata": {},
   "outputs": [
    {
     "name": "stdout",
     "output_type": "stream",
     "text": [
      "False\n",
      "False\n",
      "True\n"
     ]
    }
   ],
   "source": [
    "print(cirkel1>cirkel3) # False\n",
    "print(rektangel1>rektangel3) # False\n",
    "print(rektangel3>rektangel2) # True"
   ]
  },
  {
   "cell_type": "markdown",
   "metadata": {},
   "source": [
    "## Lesser or Equal"
   ]
  },
  {
   "cell_type": "code",
   "execution_count": 37,
   "metadata": {},
   "outputs": [
    {
     "name": "stdout",
     "output_type": "stream",
     "text": [
      "True\n",
      "False\n",
      "True\n"
     ]
    }
   ],
   "source": [
    "print(cirkel1<=cirkel2) # True\n",
    "print(rektangel3<=rektangel1) # False\n",
    "print(rektangel1<=rektangel2) # True"
   ]
  },
  {
   "cell_type": "markdown",
   "metadata": {},
   "source": [
    "## Greater or Equal"
   ]
  },
  {
   "cell_type": "code",
   "execution_count": 38,
   "metadata": {},
   "outputs": [
    {
     "name": "stdout",
     "output_type": "stream",
     "text": [
      "True\n",
      "False\n",
      "True\n"
     ]
    }
   ],
   "source": [
    "print(cirkel1>=cirkel2) # True\n",
    "print(rektangel1>=rektangel3) # False\n",
    "print(rektangel2>=rektangel1) # True"
   ]
  },
  {
   "cell_type": "markdown",
   "metadata": {},
   "source": [
    "## Translation Method"
   ]
  },
  {
   "cell_type": "code",
   "execution_count": 39,
   "metadata": {},
   "outputs": [
    {
     "ename": "TypeError",
     "evalue": "y_value must be float or int. Not str",
     "output_type": "error",
     "traceback": [
      "\u001b[1;31m---------------------------------------------------------------------------\u001b[0m",
      "\u001b[1;31mTypeError\u001b[0m                                 Traceback (most recent call last)",
      "\u001b[1;32mc:\\Users\\Agam\\Documents\\Github\\Python-Alexander-Andersson\\Labs\\Lab_3\\Lab_3_tester.ipynb Cell 15\u001b[0m in \u001b[0;36m<cell line: 1>\u001b[1;34m()\u001b[0m\n\u001b[1;32m----> <a href='vscode-notebook-cell:/c%3A/Users/Agam/Documents/Github/Python-Alexander-Andersson/Labs/Lab_3/Lab_3_tester.ipynb#X25sZmlsZQ%3D%3D?line=0'>1</a>\u001b[0m \u001b[39mprint\u001b[39m(cirkel1\u001b[39m.\u001b[39mtranslation(\u001b[39m1\u001b[39m,\u001b[39m\"\u001b[39m\u001b[39m1\u001b[39m\u001b[39m\"\u001b[39m))\n",
      "File \u001b[1;32mc:\\Users\\Agam\\Documents\\Github\\Python-Alexander-Andersson\\Labs\\Lab_3\\Objects.py:112\u001b[0m, in \u001b[0;36mShape.translation\u001b[1;34m(self, x_value, y_value)\u001b[0m\n\u001b[0;32m    110\u001b[0m \u001b[39mself\u001b[39m\u001b[39m.\u001b[39mx_pos \u001b[39m+\u001b[39m\u001b[39m=\u001b[39m x_value\n\u001b[0;32m    111\u001b[0m \u001b[39mif\u001b[39;00m \u001b[39mnot\u001b[39;00m \u001b[39misinstance\u001b[39m(y_value, (\u001b[39mint\u001b[39m, \u001b[39mfloat\u001b[39m)):\n\u001b[1;32m--> 112\u001b[0m     \u001b[39mraise\u001b[39;00m \u001b[39mTypeError\u001b[39;00m(\n\u001b[0;32m    113\u001b[0m         \u001b[39mf\u001b[39m\u001b[39m\"\u001b[39m\u001b[39my_value must be float or int. Not \u001b[39m\u001b[39m{\u001b[39;00m\u001b[39mtype\u001b[39m(y_value)\u001b[39m.\u001b[39m\u001b[39m__name__\u001b[39m\u001b[39m}\u001b[39;00m\u001b[39m\"\u001b[39m\n\u001b[0;32m    114\u001b[0m     )\n\u001b[0;32m    115\u001b[0m \u001b[39mself\u001b[39m\u001b[39m.\u001b[39my_pos \u001b[39m+\u001b[39m\u001b[39m=\u001b[39m y_value\n",
      "\u001b[1;31mTypeError\u001b[0m: y_value must be float or int. Not str"
     ]
    }
   ],
   "source": [
    "print(cirkel1.translation(1,\"1\"))\n"
   ]
  },
  {
   "cell_type": "code",
   "execution_count": null,
   "metadata": {},
   "outputs": [
    {
     "ename": "TypeError",
     "evalue": "x_value must be float or int. Not str",
     "output_type": "error",
     "traceback": [
      "\u001b[1;31m---------------------------------------------------------------------------\u001b[0m",
      "\u001b[1;31mTypeError\u001b[0m                                 Traceback (most recent call last)",
      "\u001b[1;32mc:\\Users\\Agam\\Documents\\Github\\Python-Alexander-Andersson\\Labs\\Lab_3\\Lab_3_tester.ipynb Cell 16\u001b[0m in \u001b[0;36m<cell line: 1>\u001b[1;34m()\u001b[0m\n\u001b[1;32m----> <a href='vscode-notebook-cell:/c%3A/Users/Agam/Documents/Github/Python-Alexander-Andersson/Labs/Lab_3/Lab_3_tester.ipynb#X32sZmlsZQ%3D%3D?line=0'>1</a>\u001b[0m \u001b[39mprint\u001b[39m(cirkel2\u001b[39m.\u001b[39mtranslation(\u001b[39m\"\u001b[39m\u001b[39m1\u001b[39m\u001b[39m\"\u001b[39m,\u001b[39m1\u001b[39m))\n",
      "File \u001b[1;32mc:\\Users\\Agam\\Documents\\Github\\Python-Alexander-Andersson\\Labs\\Lab_3\\Objects.py:105\u001b[0m, in \u001b[0;36mShape.translation\u001b[1;34m(self, x_value, y_value)\u001b[0m\n\u001b[0;32m    103\u001b[0m \u001b[39m\"\"\"Translation method is used in order to change the values of the x, y position for\"\"\"\u001b[39;00m\n\u001b[0;32m    104\u001b[0m \u001b[39mif\u001b[39;00m \u001b[39mnot\u001b[39;00m \u001b[39misinstance\u001b[39m(x_value, (\u001b[39mint\u001b[39m, \u001b[39mfloat\u001b[39m)):\n\u001b[1;32m--> 105\u001b[0m     \u001b[39mraise\u001b[39;00m \u001b[39mTypeError\u001b[39;00m(\n\u001b[0;32m    106\u001b[0m         \u001b[39mf\u001b[39m\u001b[39m\"\u001b[39m\u001b[39mx_value must be float or int. Not \u001b[39m\u001b[39m{\u001b[39;00m\u001b[39mtype\u001b[39m(x_value)\u001b[39m.\u001b[39m\u001b[39m__name__\u001b[39m\u001b[39m}\u001b[39;00m\u001b[39m\"\u001b[39m\n\u001b[0;32m    107\u001b[0m     )\n\u001b[0;32m    108\u001b[0m \u001b[39mself\u001b[39m\u001b[39m.\u001b[39mx_pos \u001b[39m+\u001b[39m\u001b[39m=\u001b[39m x_value\n\u001b[0;32m    109\u001b[0m \u001b[39mif\u001b[39;00m \u001b[39mnot\u001b[39;00m \u001b[39misinstance\u001b[39m(y_value, (\u001b[39mint\u001b[39m, \u001b[39mfloat\u001b[39m)):\n",
      "\u001b[1;31mTypeError\u001b[0m: x_value must be float or int. Not str"
     ]
    }
   ],
   "source": [
    "print(cirkel2.translation(\"1\",1))"
   ]
  },
  {
   "cell_type": "markdown",
   "metadata": {},
   "source": [
    "## Center of rectangle"
   ]
  },
  {
   "cell_type": "code",
   "execution_count": null,
   "metadata": {},
   "outputs": [
    {
     "name": "stdout",
     "output_type": "stream",
     "text": [
      "The center of the rectangle is at: x = 1, y = 1\n",
      "The center of the rectangle is at: x = 2, y = 2\n",
      "The center of the rectangle is at: x = 3, y = 2\n"
     ]
    }
   ],
   "source": [
    "print(rektangel1.r_center())\n",
    "print(rektangel2.r_center())\n",
    "print(rektangel3.r_center())"
   ]
  },
  {
   "cell_type": "markdown",
   "metadata": {},
   "source": [
    "## Area and Perimiter, Circumference of Rectangle and Circle"
   ]
  },
  {
   "cell_type": "code",
   "execution_count": null,
   "metadata": {},
   "outputs": [
    {
     "name": "stdout",
     "output_type": "stream",
     "text": [
      "1\n",
      "4\n",
      "3.141592653589793\n",
      "1\n",
      "6.283185307179586\n"
     ]
    }
   ],
   "source": [
    "print(rektangel1.area)\n",
    "print(rektangel1.perimiter)\n",
    "\n",
    "print(cirkel1.area)\n",
    "print(cirkel1.c_radius)\n",
    "print(cirkel1.circumference)"
   ]
  },
  {
   "cell_type": "markdown",
   "metadata": {},
   "source": [
    "## is unit Circle and is Rectangle square"
   ]
  },
  {
   "cell_type": "code",
   "execution_count": null,
   "metadata": {},
   "outputs": [
    {
     "name": "stdout",
     "output_type": "stream",
     "text": [
      "False\n",
      "False\n",
      "True\n",
      "False\n"
     ]
    }
   ],
   "source": [
    "print(cirkel1.is_unit_circle)\n",
    "print(cirkel2.is_unit_circle)\n",
    "\n",
    "print(rektangel1.is_square)\n",
    "print(rektangel3.is_square)\n",
    "\n"
   ]
  },
  {
   "cell_type": "markdown",
   "metadata": {},
   "source": [
    "## Point inside Circle and Rectangle"
   ]
  },
  {
   "cell_type": "code",
   "execution_count": 49,
   "metadata": {},
   "outputs": [
    {
     "name": "stdout",
     "output_type": "stream",
     "text": [
      "True\n",
      "False\n",
      "True\n",
      "False\n"
     ]
    }
   ],
   "source": [
    "cirkel4 = Circle(0,0,1)\n",
    "rektangel4 = Rectangle(0,0,5,5)\n",
    "\n",
    "print(cirkel4.point_inside_circle(0.5,0.5)) # True\n",
    "\n",
    "cirkel4.translation(5,5) \n",
    "\n",
    "print(cirkel4.point_inside_circle(0.5,0.5)) # False\n",
    "\n",
    "print(rektangel4.point_inside_rectangle(0.5,0.5)) # True\n",
    "\n",
    "rektangel4.translation(5,5) \n",
    "\n",
    "print(rektangel4.point_inside_rectangle(0.5,0.5)) # False"
   ]
  }
 ],
 "metadata": {
  "kernelspec": {
   "display_name": "Python 3.9.13 ('Python-Alexander-Andersson-rXBoH5sP')",
   "language": "python",
   "name": "python3"
  },
  "language_info": {
   "codemirror_mode": {
    "name": "ipython",
    "version": 3
   },
   "file_extension": ".py",
   "mimetype": "text/x-python",
   "name": "python",
   "nbconvert_exporter": "python",
   "pygments_lexer": "ipython3",
   "version": "3.9.13"
  },
  "orig_nbformat": 4,
  "vscode": {
   "interpreter": {
    "hash": "b14cc422d827dd3ad3e166e9b0c2744dfcee3cbacc81397c64432efd767b4494"
   }
  }
 },
 "nbformat": 4,
 "nbformat_minor": 2
}
