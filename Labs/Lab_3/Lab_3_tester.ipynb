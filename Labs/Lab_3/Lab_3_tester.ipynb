{
 "cells": [
  {
   "cell_type": "code",
   "execution_count": null,
   "metadata": {},
   "outputs": [],
   "source": [
    "    "
   ]
  },
  {
   "cell_type": "code",
   "execution_count": 69,
   "metadata": {},
   "outputs": [
    {
     "name": "stdout",
     "output_type": "stream",
     "text": [
      "6.283185307179586\n"
     ]
    }
   ],
   "source": [
    "circ = Circle(0.2,15,1)#Set where the circle exists in 2d space\n",
    "circ2 = Circle(1,1,1)\n",
    "print(circ.circumference)\n",
    "\n"
   ]
  },
  {
   "cell_type": "code",
   "execution_count": 70,
   "metadata": {},
   "outputs": [
    {
     "name": "stdout",
     "output_type": "stream",
     "text": [
      "1,-2,0,0\n",
      "[1, -2, 0, 0]\n",
      "2.23606797749979\n"
     ]
    }
   ],
   "source": [
    "\n",
    "from math import dist\n",
    "\n",
    "def calc_dist(p1, p2, q1, q2):\n",
    "    return dist((p1, p2), (q1, q2))\n",
    "\n",
    "row = \"(1,-2), (0,0)\"\n",
    "\n",
    "row = row.replace(\"(\", \"\")\n",
    "row = row.replace(\")\", \"\")\n",
    "row = row.replace(\" \", \"\")\n",
    "\n",
    "row_clean = row.split(\",\")\n",
    "\n",
    "for index, value in enumerate(row_clean):\n",
    "    row_clean[index] = int(value)\n",
    "\n",
    "print(row)\n",
    "print(row_clean)\n",
    "\n",
    "print(calc_dist(*row_clean))"
   ]
  },
  {
   "cell_type": "code",
   "execution_count": 71,
   "metadata": {},
   "outputs": [
    {
     "data": {
      "image/png": "[encoded data removed]",
      "text/plain": [
       "<Figure size 640x480 with 1 Axes>"
      ]
     },
     "metadata": {},
     "output_type": "display_data"
    }
   ],
   "source": [
    "import matplotlib.pyplot as plt\n",
    "from matplotlib.patches import Rectangle\n",
    "\n",
    "#define Matplotlib figure and axis\n",
    "fig, ax = plt.subplots()\n",
    "\n",
    "#create simple line plot\n",
    "ax.plot([0, 10],[0, 10])\n",
    "\n",
    "#add rectangle to plot\n",
    "ax.add_patch(Rectangle((1, 1), 2, 6))\n",
    "\n",
    "#display plot\n",
    "plt.show()"
   ]
  },
  {
   "cell_type": "code",
   "execution_count": 72,
   "metadata": {},
   "outputs": [
    {
     "name": "stdout",
     "output_type": "stream",
     "text": [
      "True\n",
      "False\n",
      "True\n",
      "False\n"
     ]
    }
   ],
   "source": [
    "from Lab_3 import Circle, Rectangle, Shape\n",
    "\n",
    "cirkel1 = Circle(0,0,1) # Enhetscirkel\n",
    "cirkel2 = Circle(1,1,1)\n",
    "cirkel3 = Circle(0,0,2)\n",
    "rektangel1 = Rectangle(0,0,1,1)\n",
    "rektangel2 = Rectangle(1,1,1,1)\n",
    "rektangel3 = Rectangle(0,0,2,2)\n",
    "\n",
    "print(cirkel1==cirkel2) # True\n",
    "print(cirkel2==rektangel1) # False\n",
    "\n",
    "print(cirkel1.point_inside_circle(0.5,0.5)) # True\n",
    "\n",
    "cirkel1.translation(5,5) \n",
    "\n",
    "print(cirkel1.point_inside_circle(0.5,0.5)) # False\n",
    "\n",
    "#cirkel1.translation(5,\"TRE\") # ge ValueError med lämplig kommentar\n"
   ]
  },
  {
   "cell_type": "markdown",
   "metadata": {},
   "source": [
    "## Testing equal operator"
   ]
  },
  {
   "cell_type": "code",
   "execution_count": 73,
   "metadata": {},
   "outputs": [
    {
     "name": "stdout",
     "output_type": "stream",
     "text": [
      "True\n",
      "True\n",
      "False\n"
     ]
    }
   ],
   "source": [
    "print(cirkel1==cirkel2) # True\n",
    "print(rektangel1==rektangel2) # True\n",
    "print(cirkel2==rektangel1) # False"
   ]
  },
  {
   "cell_type": "markdown",
   "metadata": {},
   "source": [
    "## Testing less than operator"
   ]
  },
  {
   "cell_type": "code",
   "execution_count": 74,
   "metadata": {},
   "outputs": [
    {
     "name": "stdout",
     "output_type": "stream",
     "text": [
      "False\n",
      "False\n"
     ]
    }
   ],
   "source": [
    "print(cirkel1<cirkel3) # True\n",
    "print(rektangel1<rektangel3) # True\n"
   ]
  }
 ],
 "metadata": {
  "kernelspec": {
   "display_name": "Python 3.9.13 ('Python-Alexander-Andersson-rXBoH5sP')",
   "language": "python",
   "name": "python3"
  },
  "language_info": {
   "codemirror_mode": {
    "name": "ipython",
    "version": 3
   },
   "file_extension": ".py",
   "mimetype": "text/x-python",
   "name": "python",
   "nbconvert_exporter": "python",
   "pygments_lexer": "ipython3",
   "version": "3.9.13"
  },
  "orig_nbformat": 4,
  "vscode": {
   "interpreter": {
    "hash": "b14cc422d827dd3ad3e166e9b0c2744dfcee3cbacc81397c64432efd767b4494"
   }
  }
 },
 "nbformat": 4,
 "nbformat_minor": 2
}
