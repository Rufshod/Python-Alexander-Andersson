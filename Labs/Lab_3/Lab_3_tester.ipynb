{
 "cells": [
  {
   "cell_type": "code",
   "execution_count": null,
   "metadata": {},
   "outputs": [],
   "source": [
    "    "
   ]
  },
  {
   "cell_type": "code",
   "execution_count": null,
   "metadata": {},
   "outputs": [],
   "source": []
  },
  {
   "cell_type": "code",
   "execution_count": 31,
   "metadata": {},
   "outputs": [
    {
     "name": "stdout",
     "output_type": "stream",
     "text": [
      "1,-2,0,0\n",
      "[1, -2, 0, 0]\n",
      "2.23606797749979\n"
     ]
    }
   ],
   "source": [
    "\n",
    "from math import dist\n",
    "\n",
    "def calc_dist(p1, p2, q1, q2):\n",
    "    return dist((p1, p2), (q1, q2))\n",
    "\n",
    "row = \"(1,-2), (0,0)\"\n",
    "\n",
    "row = row.replace(\"(\", \"\")\n",
    "row = row.replace(\")\", \"\")\n",
    "row = row.replace(\" \", \"\")\n",
    "\n",
    "row_clean = row.split(\",\")\n",
    "\n",
    "for index, value in enumerate(row_clean):\n",
    "    row_clean[index] = int(value)\n",
    "\n",
    "print(row)\n",
    "print(row_clean)\n",
    "\n",
    "print(calc_dist(*row_clean))"
   ]
  },
  {
   "cell_type": "code",
   "execution_count": 32,
   "metadata": {},
   "outputs": [
    {
     "data": {
      "image/png": "[encoded data removed]",
      "text/plain": [
       "<Figure size 640x480 with 1 Axes>"
      ]
     },
     "metadata": {},
     "output_type": "display_data"
    }
   ],
   "source": [
    "import matplotlib.pyplot as plt\n",
    "from matplotlib.patches import Rectangle\n",
    "\n",
    "#define Matplotlib figure and axis\n",
    "fig, ax = plt.subplots()\n",
    "\n",
    "#create simple line plot\n",
    "ax.plot([1],[1])\n",
    "\n",
    "#add rectangle to plot\n",
    "ax.add_patch(Rectangle((-1, -1), 1, 1))\n",
    "\n",
    "#display plot\n",
    "plt.show()"
   ]
  },
  {
   "cell_type": "code",
   "execution_count": 33,
   "metadata": {},
   "outputs": [
    {
     "name": "stdout",
     "output_type": "stream",
     "text": [
      "True\n",
      "False\n",
      "True\n",
      "False\n"
     ]
    }
   ],
   "source": [
    "from Lab_3 import Circle, Rectangle, Shape\n",
    "\n",
    "cirkel1 = Circle(0,0,1) # Enhetscirkel\n",
    "cirkel2 = Circle(1,1,1)\n",
    "cirkel3 = Circle(0,0,2)\n",
    "rektangel1 = Rectangle(0,0,1,1)\n",
    "rektangel2 = Rectangle(1,1,1,1)\n",
    "rektangel3 = Rectangle(0,0,2,2)\n",
    "\n",
    "print(cirkel1==cirkel2) # True\n",
    "print(cirkel2==rektangel1) # False\n",
    "\n",
    "print(cirkel1.point_inside_circle(0.5,0.5)) # True\n",
    "\n",
    "cirkel1.translation(5,5) \n",
    "\n",
    "print(cirkel1.point_inside_circle(0.5,0.5)) # False\n",
    "\n",
    "#cirkel1.translation(5,\"TRE\") # ge ValueError med lämplig kommentar\n"
   ]
  },
  {
   "cell_type": "markdown",
   "metadata": {},
   "source": [
    "## Testing equal operator"
   ]
  },
  {
   "cell_type": "markdown",
   "metadata": {},
   "source": []
  },
  {
   "cell_type": "code",
   "execution_count": 34,
   "metadata": {},
   "outputs": [
    {
     "name": "stdout",
     "output_type": "stream",
     "text": [
      "True\n",
      "True\n",
      "False\n"
     ]
    }
   ],
   "source": [
    "print(cirkel1==cirkel2) # True\n",
    "print(rektangel1==rektangel2) # True\n",
    "print(cirkel2==rektangel1) # False"
   ]
  },
  {
   "cell_type": "markdown",
   "metadata": {},
   "source": [
    "## Testing less than operator"
   ]
  },
  {
   "cell_type": "code",
   "execution_count": 35,
   "metadata": {},
   "outputs": [
    {
     "name": "stdout",
     "output_type": "stream",
     "text": [
      "True\n",
      "True\n",
      "False\n"
     ]
    }
   ],
   "source": [
    "print(cirkel1<cirkel3) # True\n",
    "print(rektangel1<rektangel3) # True\n",
    "print(rektangel3<rektangel2) # False"
   ]
  },
  {
   "cell_type": "markdown",
   "metadata": {},
   "source": [
    "## Testing greater than operator"
   ]
  },
  {
   "cell_type": "code",
   "execution_count": 36,
   "metadata": {},
   "outputs": [
    {
     "name": "stdout",
     "output_type": "stream",
     "text": [
      "False\n",
      "False\n",
      "True\n"
     ]
    }
   ],
   "source": [
    "print(cirkel1>cirkel3) # False\n",
    "print(rektangel1>rektangel3) # False\n",
    "print(rektangel3>rektangel2) # True"
   ]
  },
  {
   "cell_type": "markdown",
   "metadata": {},
   "source": [
    "## Lesser or Equal"
   ]
  },
  {
   "cell_type": "code",
   "execution_count": 37,
   "metadata": {},
   "outputs": [
    {
     "name": "stdout",
     "output_type": "stream",
     "text": [
      "True\n",
      "False\n",
      "True\n"
     ]
    }
   ],
   "source": [
    "print(cirkel1<=cirkel2) # True\n",
    "print(rektangel3<=rektangel1) # False\n",
    "print(rektangel1<=rektangel2) # True"
   ]
  },
  {
   "cell_type": "markdown",
   "metadata": {},
   "source": [
    "## Greater or Equal"
   ]
  },
  {
   "cell_type": "code",
   "execution_count": 38,
   "metadata": {},
   "outputs": [
    {
     "name": "stdout",
     "output_type": "stream",
     "text": [
      "True\n",
      "False\n",
      "True\n"
     ]
    }
   ],
   "source": [
    "print(cirkel1>=cirkel2) # True\n",
    "print(rektangel1>=rektangel3) # False\n",
    "print(rektangel2>=rektangel1) # True"
   ]
  },
  {
   "cell_type": "markdown",
   "metadata": {},
   "source": [
    "## Translation Tester\n"
   ]
  },
  {
   "cell_type": "code",
   "execution_count": 39,
   "metadata": {},
   "outputs": [
    {
     "name": "stdout",
     "output_type": "stream",
     "text": [
      "The Circle's position is x: 6, y: 10. The radius is: 1, Area: 3.141592653589793, Circumference: 6.283185307179586.\n"
     ]
    },
    {
     "ename": "TypeError",
     "evalue": "x_value must be float or int",
     "output_type": "error",
     "traceback": [
      "\u001b[1;31m---------------------------------------------------------------------------\u001b[0m",
      "\u001b[1;31mTypeError\u001b[0m                                 Traceback (most recent call last)",
      "\u001b[1;32mc:\\Users\\agam\\Documents\\Github\\Python-Alexander-Andersson\\Labs\\Lab_3\\Lab_3_tester.ipynb Cell 18\u001b[0m in \u001b[0;36m<cell line: 3>\u001b[1;34m()\u001b[0m\n\u001b[0;32m      <a href='vscode-notebook-cell:/c%3A/Users/agam/Documents/Github/Python-Alexander-Andersson/Labs/Lab_3/Lab_3_tester.ipynb#X23sZmlsZQ%3D%3D?line=0'>1</a>\u001b[0m cirkel1\u001b[39m.\u001b[39mtranslation(\u001b[39m1\u001b[39m,\u001b[39m5\u001b[39m)\n\u001b[0;32m      <a href='vscode-notebook-cell:/c%3A/Users/agam/Documents/Github/Python-Alexander-Andersson/Labs/Lab_3/Lab_3_tester.ipynb#X23sZmlsZQ%3D%3D?line=1'>2</a>\u001b[0m \u001b[39mprint\u001b[39m(cirkel1)\n\u001b[1;32m----> <a href='vscode-notebook-cell:/c%3A/Users/agam/Documents/Github/Python-Alexander-Andersson/Labs/Lab_3/Lab_3_tester.ipynb#X23sZmlsZQ%3D%3D?line=2'>3</a>\u001b[0m cirkel2\u001b[39m.\u001b[39;49mtranslation(\u001b[39m\"\u001b[39;49m\u001b[39mett\u001b[39;49m\u001b[39m\"\u001b[39;49m,\u001b[39m1\u001b[39;49m)\n\u001b[0;32m      <a href='vscode-notebook-cell:/c%3A/Users/agam/Documents/Github/Python-Alexander-Andersson/Labs/Lab_3/Lab_3_tester.ipynb#X23sZmlsZQ%3D%3D?line=3'>4</a>\u001b[0m cirkel2\u001b[39m.\u001b[39mtranslation(\u001b[39m1\u001b[39m,\u001b[39m\"\u001b[39m\u001b[39mtre\u001b[39m\u001b[39m\"\u001b[39m)\n",
      "File \u001b[1;32mc:\\Users\\agam\\Documents\\Github\\Python-Alexander-Andersson\\Labs\\Lab_3\\Lab_3.py:108\u001b[0m, in \u001b[0;36mShape.translation\u001b[1;34m(self, x_value, y_value)\u001b[0m\n\u001b[0;32m    106\u001b[0m \u001b[39m\"\"\"Translation method is used in order to change the values of the x, y position for\"\"\"\u001b[39;00m\n\u001b[0;32m    107\u001b[0m \u001b[39mif\u001b[39;00m \u001b[39mnot\u001b[39;00m \u001b[39misinstance\u001b[39m(x_value, (\u001b[39mfloat\u001b[39m, \u001b[39mint\u001b[39m)):\n\u001b[1;32m--> 108\u001b[0m     \u001b[39mraise\u001b[39;00m \u001b[39mTypeError\u001b[39;00m(\u001b[39m\"\u001b[39m\u001b[39mx_value must be float or int\u001b[39m\u001b[39m\"\u001b[39m)\n\u001b[0;32m    109\u001b[0m \u001b[39mself\u001b[39m\u001b[39m.\u001b[39mx_pos \u001b[39m+\u001b[39m\u001b[39m=\u001b[39m x_value\n\u001b[0;32m    110\u001b[0m \u001b[39mif\u001b[39;00m \u001b[39mnot\u001b[39;00m \u001b[39misinstance\u001b[39m(y_value, (\u001b[39mfloat\u001b[39m, \u001b[39mint\u001b[39m)):\n",
      "\u001b[1;31mTypeError\u001b[0m: x_value must be float or int"
     ]
    }
   ],
   "source": [
    "cirkel1.translation(1,5)\n",
    "print(cirkel1)\n",
    "cirkel2.translation(\"ett\",1)\n",
    "cirkel2.translation(1,\"tre\")"
   ]
  },
  {
   "cell_type": "code",
   "execution_count": null,
   "metadata": {},
   "outputs": [],
   "source": []
  }
 ],
 "metadata": {
  "kernelspec": {
   "display_name": "Python 3.9.13 ('Python-Alexander-Andersson-6f9gzyEi')",
   "language": "python",
   "name": "python3"
  },
  "language_info": {
   "codemirror_mode": {
    "name": "ipython",
    "version": 3
   },
   "file_extension": ".py",
   "mimetype": "text/x-python",
   "name": "python",
   "nbconvert_exporter": "python",
   "pygments_lexer": "ipython3",
   "version": "3.9.13"
  },
  "orig_nbformat": 4,
  "vscode": {
   "interpreter": {
    "hash": "0e170795d12b9f00bb6c905343705ccb98da647a4486686bf7cb14fa618c1741"
   }
  }
 },
 "nbformat": 4,
 "nbformat_minor": 2
}
