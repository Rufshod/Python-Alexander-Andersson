{
 "cells": [
  {
   "cell_type": "code",
   "execution_count": null,
   "metadata": {},
   "outputs": [],
   "source": []
  },
  {
   "cell_type": "markdown",
   "metadata": {},
   "source": [
    "# Lab_2 TODO\n",
    "- Read in tha data XXXXXXXXXXXXx\n",
    "- Clean data so that it can be used. XXXXXXXX\n",
    "- Plot all data using matplotlib.pyplot XXXXXXXXXX\n",
    "- Clarify that the testdata works.\n"
   ]
  },
  {
   "cell_type": "markdown",
   "metadata": {},
   "source": [
    "## Reading Data"
   ]
  },
  {
   "cell_type": "code",
   "execution_count": 2,
   "metadata": {},
   "outputs": [
    {
     "name": "stdout",
     "output_type": "stream",
     "text": [
      "(width (cm), height (cm), label (0-pichu, 1-pikachu))\n",
      "21.959384499160468, 31.23956701424158, 0\n",
      "23.63591632187622, 36.46821490673444, 1\n",
      "17.714056417303343, 31.44170391314962, 0\n",
      "21.78020031891186, 33.213397759738264, 1\n",
      "25.20630552859312, 36.558816149350534, 1\n",
      "19.332572350434354, 32.25325633655492, 0\n",
      "24.73645685241186, 35.33291181124776, 1\n",
      "23.79257560586339, 38.10372825362463, 1\n",
      "24.557612968127465, 36.73144402805611, 1\n",
      "20.191281253428173, 35.06966921830237, 0\n",
      "25.813562951888365, 35.561029988644336, 1\n",
      "24.923378667802954, 34.463907946680294, 1\n",
      "25.311244044578427, 34.117212558131975, 1\n",
      "22.819091361866796, 34.25516433025548, 1\n",
      "19.639358214988224, 34.56117030001663, 0\n",
      "18.341233265627693, 31.399261188293124, 0\n",
      "22.723629043769336, 34.83845262048311, 1\n",
      "25.82936770950206, 33.16210202637511, 1\n",
      "20.23890182459327, 32.78945132868386, 0\n",
      "17.905128921789093, 28.88813385482529, 0\n",
      "24.385289647525166, 37.335669057387726, 1\n",
      "26.525412887538252, 35.2192205449002, 1\n",
      "19.299333494980544, 30.486337996080024, 0\n",
      "20.118681851201636, 31.89116680793916, 0\n",
      "22.980962976720388, 35.3191819848619, 1\n",
      "17.96926166354966, 32.48406633310577, 0\n",
      "21.58631807419169, 30.975094109600928, 0\n",
      "18.659636883604406, 33.04492931889734, 0\n",
      "19.209914415003638, 31.420355685575746, 0\n",
      "18.16229126686346, 29.93643755301725, 0\n",
      "19.120619567709372, 30.699542112256864, 0\n",
      "25.17676132371397, 34.393601274285054, 1\n",
      "18.583516818010633, 31.317010181098944, 0\n",
      "24.68867147060795, 35.363481550256644, 1\n",
      "23.02865997158701, 35.4082866561793, 1\n",
      "20.282109030336354, 33.18796105898338, 0\n",
      "17.672876665469843, 32.67247775608707, 0\n",
      "20.795121649361587, 32.493051910886486, 0\n",
      "20.101930916301317, 31.19190374413498, 0\n",
      "20.39204407747099, 32.08774193592624, 0\n",
      "23.868174335146136, 35.449698119416254, 1\n",
      "26.388368121945867, 35.62090746957761, 1\n",
      "25.567802785102412, 35.66631613405574, 1\n",
      "23.99071038023876, 35.06411342600334, 1\n",
      "23.792145242488125, 35.107650004447365, 1\n",
      "24.111063562798908, 31.418267572382227, 1\n",
      "20.098954730848863, 33.067467402673685, 0\n",
      "20.88810038727894, 32.644004609994596, 0\n",
      "24.587154114074174, 35.61397200548726, 1\n",
      "21.65956855815321, 36.81907508404582, 1\n",
      "18.59843317023302, 32.60944545701523, 0\n",
      "21.069573240979203, 32.21936612110862, 0\n",
      "24.87225986527509, 36.149522366845794, 1\n",
      "20.276898330625336, 33.84658247356705, 0\n",
      "19.592545899041802, 30.59392660926762, 0\n",
      "20.323269906838078, 32.29574812465895, 0\n",
      "21.35018601896744, 33.94708664610186, 0\n",
      "20.1569063412357, 31.639314277796213, 0\n",
      "18.929553010373773, 33.331523282909906, 0\n",
      "22.121125492746756, 34.690328304537594, 1\n",
      "19.499062316347583, 31.139578977011656, 0\n",
      "26.517189386365075, 34.7011323493234, 1\n",
      "23.388322747322558, 36.769999842308025, 1\n",
      "20.579090632339703, 30.771060416224586, 0\n",
      "20.240420339246214, 33.87654102727224, 1\n",
      "24.59096971887165, 33.61859674823029, 1\n",
      "25.116586706562245, 36.20121874558056, 1\n",
      "25.557501503948984, 36.39246631338593, 1\n",
      "24.387651550868913, 33.2827564295772, 1\n",
      "19.69944356712352, 30.714803909172808, 0\n",
      "22.826788929142136, 37.16482263385777, 1\n",
      "24.609041154081922, 36.104823979389685, 1\n",
      "19.893039297257797, 30.792717627266093, 0\n",
      "20.554378047506688, 31.190868044454003, 0\n",
      "19.55060327163345, 34.602756266320824, 0\n",
      "23.619820901736276, 36.98566859418098, 1\n",
      "25.15076144887497, 33.89409391341271, 1\n",
      "24.47796159427686, 35.32146634770389, 1\n",
      "24.004087953898246, 35.618803262029324, 1\n",
      "20.759216855120783, 32.46166610892119, 0\n",
      "22.493387946548573, 36.78517041843648, 1\n",
      "20.008781128403864, 32.15292152986537, 0\n",
      "22.42591934771403, 34.789785253591695, 1\n",
      "22.15365577923418, 37.131777154514445, 1\n",
      "19.56686423226426, 30.326934442372128, 0\n",
      "24.991105175469915, 34.10979431232785, 1\n",
      "25.5491811833759, 33.52624549604696, 1\n",
      "21.762001750531006, 33.05861298355044, 0\n",
      "18.989418138097026, 30.90556767082746, 0\n",
      "20.216002852334192, 33.41610156154373, 1\n",
      "19.689909518113225, 31.931042667213433, 0\n",
      "25.922634453956498, 35.2215760062586, 1\n",
      "20.670175582205307, 32.56517816055985, 0\n",
      "26.5173046073707, 35.18452932633369, 1\n",
      "19.615470460641276, 31.431998074581394, 0\n",
      "19.63004376836659, 33.17007380684688, 0\n",
      "23.213535136458052, 30.885396636777646, 0\n",
      "20.286130095999752, 32.05337469378953, 0\n",
      "21.23487155577698, 36.5105588800243, 1\n",
      "21.735098682375444, 36.51127780882874, 1\n",
      "18.310337204918557, 32.21783772801109, 0\n",
      "19.510846016895872, 29.897476657136767, 0\n",
      "24.686621418656394, 33.104763826036056, 1\n",
      "23.417849657642716, 30.787174197048245, 0\n",
      "27.194383786280955, 36.267507265697255, 1\n",
      "22.943474306364404, 37.07911595862419, 1\n",
      "18.424438779822488, 31.79940219340467, 0\n",
      "23.506242342727596, 34.65976495915212, 1\n",
      "22.091553997471266, 31.28659385225738, 0\n",
      "23.982852691650397, 36.01635437187656, 1\n",
      "22.69081372502663, 35.561787418827784, 1\n",
      "25.23472228644244, 32.641361593924174, 1\n",
      "25.094170820930774, 34.58523945069137, 1\n",
      "21.19030359241021, 35.40347944144049, 0\n",
      "23.22258522384455, 30.98700760873653, 0\n",
      "23.6967469082275, 32.52744160379351, 0\n",
      "21.07884990354048, 32.02998372994636, 0\n",
      "16.866105280907732, 28.984730409305136, 0\n",
      "25.102866296361412, 33.30022994232253, 1\n",
      "25.276930013476704, 35.131360854176535, 1\n",
      "19.213188999276543, 31.71415755285442, 0\n",
      "19.245073847748515, 32.58876412530819, 0\n",
      "25.31359693611633, 35.516462459726284, 1\n",
      "18.43905922308554, 30.82782241883467, 0\n",
      "19.64717255190365, 32.82976709158487, 0\n",
      "23.729020953235672, 40.1471703193656, 1\n",
      "24.77859198674412, 34.15166673260206, 1\n",
      "20.860495554922544, 29.030638237258632, 0\n",
      "24.601954468608902, 32.78817486174627, 1\n",
      "21.78836263199249, 32.339722449295664, 0\n",
      "23.10295249458573, 34.771846982043876, 1\n",
      "20.01813734259072, 32.22092994622254, 0\n",
      "23.846379201803554, 36.1414458257896, 1\n",
      "23.783158802270272, 36.043496466883504, 1\n",
      "24.961373776424374, 33.9228476372155, 1\n",
      "25.023623126719983, 34.28266788814326, 1\n",
      "18.836400960218388, 35.028108243261656, 0\n",
      "23.062887108583702, 35.04075442599907, 1\n",
      "23.114574183632723, 35.530813208835745, 1\n",
      "23.64067859798334, 38.192278809575996, 1\n",
      "23.631672104136165, 34.52980905331491, 1\n",
      "20.411629224757448, 32.263992292489995, 0\n",
      "19.574019952530243, 31.935886159584427, 0\n",
      "21.457545842765146, 31.659809960209728, 0\n",
      "18.124817511542226, 31.997288449746307, 0\n",
      "18.990689973799388, 32.387963045016726, 0\n",
      "23.541999631800756, 32.4751927528317, 0\n",
      "19.64060341428934, 30.2915567287162, 0\n",
      "21.989953947825015, 33.64590281447322, 1\n",
      "22.30210323807139, 32.73237945145149, 0\n"
     ]
    }
   ],
   "source": [
    "with open(\"Lab_2_Data/datapoints.txt\", \"r\") as file_data_read:\n",
    "    for line in file_data_read:\n",
    "        print(line, end=\"\")\n"
   ]
  },
  {
   "cell_type": "markdown",
   "metadata": {},
   "source": [
    "## Cleaning data"
   ]
  },
  {
   "cell_type": "code",
   "execution_count": 3,
   "metadata": {},
   "outputs": [
    {
     "name": "stdout",
     "output_type": "stream",
     "text": [
      "21.959384499160468, 31.23956701424158, 0\n",
      "21.959384499160468, 31.23956701424158, 0\n",
      "21.959384499160468\n",
      "31.23956701424158\n",
      "0.0\n"
     ]
    }
   ],
   "source": [
    "with open(\"Lab_2_Data/datapoints.txt\", \"r\") as file_data_read, open (\"Lab_2_Data/testpoints.txt\", \"r\") as file_test_read:  \n",
    "\n",
    "    data_lst = [data.strip(\"\\n\") for data in file_data_read] # Created a list with every line as a index.\n",
    "    \n",
    "    # pop / remove the first line in the newly formed list\n",
    "    data_lst.pop(0)\n",
    "    print(data_lst[0])\n",
    "\n",
    "\n",
    "    # Splitting data_lst into seperate indexes, Split at \",\"\n",
    "    # Seperating the list into width height and label \n",
    "    width_lst = [data.split(\",\")[0] for data in data_lst]\n",
    "    width = []\n",
    "    for item in width_lst: # Converting indexes into floats into a new list.\n",
    "        width.append(float(item))\n",
    "    \n",
    "    height_lst = [data.split(\",\")[1] for data in data_lst]\n",
    "    height = []\n",
    "    for item in height_lst:\n",
    "        height.append(float(item))\n",
    "    \n",
    "    label_lst = [data.split(\",\")[2] for data in data_lst]\n",
    "    label = []\n",
    "    for item in label_lst:\n",
    "        label.append(float(item))\n",
    "\n",
    "    test = 0\n",
    "    print(data_lst[test])\n",
    "    print(width[test])\n",
    "    print(height[test])\n",
    "    print(label[test])\n"
   ]
  },
  {
   "cell_type": "code",
   "execution_count": 29,
   "metadata": {},
   "outputs": [
    {
     "name": "stdout",
     "output_type": "stream",
     "text": [
      "21.959384499160468\n",
      "31.23956701424158\n",
      "0.0\n",
      "(21.959384499160468, 31.23956701424158, 0.0)\n",
      "Pikachu\n",
      "Pichu\n",
      "Pikachu\n",
      "Pichu\n",
      "Pichu\n",
      "Pikachu\n",
      "Pichu\n",
      "Pichu\n",
      "Pichu\n",
      "Pikachu\n",
      "Pichu\n",
      "Pichu\n",
      "Pichu\n",
      "Pichu\n",
      "Pikachu\n",
      "Pikachu\n",
      "Pichu\n",
      "Pichu\n",
      "Pikachu\n",
      "Pikachu\n",
      "Pichu\n",
      "Pichu\n",
      "Pikachu\n",
      "Pikachu\n",
      "Pichu\n",
      "Pikachu\n",
      "Pikachu\n",
      "Pikachu\n",
      "Pikachu\n",
      "Pikachu\n",
      "Pikachu\n",
      "Pichu\n",
      "Pikachu\n",
      "Pichu\n",
      "Pichu\n",
      "Pikachu\n",
      "Pikachu\n",
      "Pikachu\n",
      "Pikachu\n",
      "Pikachu\n",
      "Pichu\n",
      "Pichu\n",
      "Pichu\n",
      "Pichu\n",
      "Pichu\n",
      "Pichu\n",
      "Pikachu\n",
      "Pikachu\n",
      "Pichu\n",
      "Pichu\n",
      "Pikachu\n",
      "Pikachu\n",
      "Pichu\n",
      "Pikachu\n",
      "Pikachu\n",
      "Pikachu\n",
      "Pikachu\n",
      "Pikachu\n",
      "Pikachu\n",
      "Pichu\n",
      "Pikachu\n",
      "Pichu\n",
      "Pichu\n",
      "Pikachu\n",
      "Pichu\n",
      "Pichu\n",
      "Pichu\n",
      "Pichu\n",
      "Pichu\n",
      "Pikachu\n",
      "Pichu\n",
      "Pichu\n",
      "Pikachu\n",
      "Pikachu\n",
      "Pikachu\n",
      "Pichu\n",
      "Pichu\n",
      "Pichu\n",
      "Pichu\n",
      "Pikachu\n",
      "Pichu\n",
      "Pikachu\n",
      "Pichu\n",
      "Pichu\n",
      "Pikachu\n",
      "Pichu\n",
      "Pichu\n",
      "Pikachu\n",
      "Pikachu\n",
      "Pichu\n",
      "Pikachu\n",
      "Pichu\n",
      "Pikachu\n",
      "Pichu\n",
      "Pikachu\n",
      "Pikachu\n",
      "Pikachu\n",
      "Pikachu\n",
      "Pichu\n",
      "Pichu\n",
      "Pikachu\n",
      "Pikachu\n",
      "Pichu\n",
      "Pikachu\n",
      "Pichu\n",
      "Pichu\n",
      "Pikachu\n",
      "Pichu\n",
      "Pikachu\n",
      "Pichu\n",
      "Pichu\n",
      "Pichu\n",
      "Pichu\n",
      "Pikachu\n",
      "Pikachu\n",
      "Pikachu\n",
      "Pikachu\n",
      "Pikachu\n",
      "Pichu\n",
      "Pichu\n",
      "Pikachu\n",
      "Pikachu\n",
      "Pichu\n",
      "Pikachu\n",
      "Pikachu\n",
      "Pichu\n",
      "Pichu\n",
      "Pikachu\n",
      "Pichu\n",
      "Pikachu\n",
      "Pichu\n",
      "Pikachu\n",
      "Pichu\n",
      "Pichu\n",
      "Pichu\n",
      "Pichu\n",
      "Pikachu\n",
      "Pichu\n",
      "Pichu\n",
      "Pichu\n",
      "Pichu\n",
      "Pikachu\n",
      "Pikachu\n",
      "Pikachu\n",
      "Pikachu\n",
      "Pikachu\n",
      "Pikachu\n",
      "Pikachu\n",
      "Pichu\n",
      "Pikachu\n"
     ]
    }
   ],
   "source": [
    "#Testing Zip funtcion with lists\n",
    "print(width[test])\n",
    "print(height[test])\n",
    "print(label[test])\n",
    "\n",
    "new_lst = list(zip(width,height,label))\n",
    "print(new_lst[test])\n",
    "#list(zip(...,...,)) Returns a touple.  TOUPLE\n",
    "\n",
    "for (w, h, l) in zip(width, height, label):\n",
    "    if l == 0:\n",
    "        print(\"Pikachu\")\n",
    "    else:\n",
    "        print(\"Pichu\")"
   ]
  },
  {
   "cell_type": "markdown",
   "metadata": {},
   "source": []
  },
  {
   "cell_type": "markdown",
   "metadata": {},
   "source": [
    "## Plot data"
   ]
  },
  {
   "cell_type": "markdown",
   "metadata": {},
   "source": [
    "\n",
    "# plotting with multiple colors"
   ]
  },
  {
   "cell_type": "code",
   "execution_count": 5,
   "metadata": {},
   "outputs": [
    {
     "data": {
      "image/png": "[encoded data removed]",
      "text/plain": [
       "<Figure size 640x480 with 1 Axes>"
      ]
     },
     "metadata": {},
     "output_type": "display_data"
    }
   ],
   "source": [
    "# importing pyplot\n",
    "import matplotlib.pyplot as plt\n",
    "\n",
    "#Creating a loop with if statement in order to decide what color should be chosen in the scatter plot\n",
    "\n",
    "p_c = \"\" #Creating a variable for pokemon color\n",
    "\n",
    "for (w, h, l) in zip(width, height, label): # Jonas Bengtström helped me with this code.\n",
    "    if l != 1.0:\n",
    "        p_c = \"darkgreen\"\n",
    "\n",
    "    else:\n",
    "        p_c = \"orange\"\n",
    "    plt.scatter(w, h, c = p_c)\n",
    "plt.grid()\n"
   ]
  },
  {
   "cell_type": "markdown",
   "metadata": {},
   "source": [
    "## Reading the test data\n",
    "- Cleaning the test data"
   ]
  },
  {
   "cell_type": "code",
   "execution_count": 6,
   "metadata": {},
   "outputs": [
    {
     "name": "stdout",
     "output_type": "stream",
     "text": [
      "2. (24.2, 31.5)\n",
      "['2. (24.2']\n"
     ]
    }
   ],
   "source": [
    "with open (\"Lab_2_Data/testpoints.txt\", \"r\") as file_test_read:\n",
    "    test_lst = [test.strip(\"\\n\") for test in file_test_read]\n",
    "\n",
    "    test_lst.pop(0)\n",
    "    print(test_lst[1])\n",
    "\n",
    "    test_w_lst = [test.split(\",\")[:1] for test in test_lst]\n",
    "    print(test_w_lst[1])\n",
    "\n",
    "    "
   ]
  },
  {
   "cell_type": "code",
   "execution_count": null,
   "metadata": {},
   "outputs": [],
   "source": []
  },
  {
   "cell_type": "markdown",
   "metadata": {},
   "source": []
  },
  {
   "cell_type": "code",
   "execution_count": 7,
   "metadata": {},
   "outputs": [
    {
     "ename": "IndentationError",
     "evalue": "unexpected indent (1695239007.py, line 4)",
     "output_type": "error",
     "traceback": [
      "\u001b[1;36m  Input \u001b[1;32mIn [7]\u001b[1;36m\u001b[0m\n\u001b[1;33m    data_lst.pop(0)\u001b[0m\n\u001b[1;37m    ^\u001b[0m\n\u001b[1;31mIndentationError\u001b[0m\u001b[1;31m:\u001b[0m unexpected indent\n"
     ]
    }
   ],
   "source": [
    " data_lst = [data.strip(\"\\n\") for data in file_data_read] # Created a list with every line as a index.\n",
    "    \n",
    "    # pop / remove the first line in the newly formed list\n",
    "    data_lst.pop(0)\n",
    "    print(data_lst[0])\n",
    "\n",
    "\n",
    "    # Splitting data_lst into seperate indexes, Split at \",\"\n",
    "    # Seperating the list into width height and label \n",
    "    width_lst = [data.split(\",\")[0] for data in data_lst]\n",
    "    width = []\n",
    "    for item in width_lst: # Converting indexes into floats into a new list.\n",
    "        width.append(float(item))"
   ]
  },
  {
   "cell_type": "markdown",
   "metadata": {},
   "source": [
    "# Calculating if test point is Pichu or Pikachu\n"
   ]
  },
  {
   "cell_type": "markdown",
   "metadata": {},
   "source": [
    "Create a list with test data and split into h w and label.\n",
    "- split that list depending on the label\n",
    "- add all height width numbers together,\n",
    "- the smallest total is the correct answer\n",
    "\n",
    "- save the distance list as a matrix? or list?"
   ]
  },
  {
   "cell_type": "markdown",
   "metadata": {},
   "source": [
    "## Math time boi"
   ]
  },
  {
   "cell_type": "code",
   "execution_count": 59,
   "metadata": {},
   "outputs": [
    {
     "name": "stdout",
     "output_type": "stream",
     "text": [
      "Pika\n",
      "Pika\n",
      "Pika\n",
      "Pichu\n",
      "0.0\n",
      "21.959384499160468 31.23956701424158\n"
     ]
    }
   ],
   "source": [
    "from math import sqrt\n",
    "\n",
    "test_w = [25 , 24.2, 22, 20.5] # temporary list to test test data\n",
    "test_h = [32 , 31.5, 34, 34] # same as above\n",
    "\n",
    "\n",
    "\n",
    "\n",
    "test_count = 0 # Counter for loop below\n",
    "\n",
    "\n",
    "# The point of this list is to find the nearest neighbor from the test data and the sample data.\n",
    "for test_width, test_height in zip(test_w, test_h):\n",
    "    #We start by counting through our test lists for width and height\n",
    "    dist_lst = [] #Creatint a list for distance between the test point and all sample points\n",
    "    #We also empty it between every run of the loop below\n",
    "    \n",
    "    for w, h, l in zip(width, height, label): # Looping through sample data\n",
    "        \n",
    "        # Calculating the euclidean distance between the sample point and test point\n",
    "        dist = (sqrt((w - test_w[test_count])**2 + (h - test_h[test_count])**2))\n",
    "        \n",
    "        dist_lst.append([dist, l]) # Adding the distance between sample and test and adding the label, 1.0 or 0.0\n",
    "\n",
    "    dist_lst = sorted(dist_lst) # At the end of the first loop we sort the list to find the shortest distance\n",
    "    if dist_lst[0][1] == 0.0: #Checking to see if the label in the shortest distance is a Pichu or Pikachu\n",
    "        print(\"Pichu\")\n",
    "    else:\n",
    "        print(\"Pika\")\n",
    "    \n",
    "    test_count += 1 # Adding one to the counter so that the next loop it checks the next point in the test list.\n",
    "\n",
    "    \n",
    "\n",
    "print(dist_lst[0][1])\n",
    "print(width[0], height[0])\n"
   ]
  },
  {
   "cell_type": "code",
   "execution_count": null,
   "metadata": {},
   "outputs": [
    {
     "data": {
      "text/plain": [
       "'\\nimport numpy as py\\n\\n\\npokemon_list2 = [\\n    [rnd.randint(20,35), rnd.randint(20,35), rnd.randint(0,1)] for _ in range(20)\\n\\n]\\n\\npokemon.array(pokemon_list2)\\n\\nplt.scatter(pokemon_array[:,1])\\n\\n##-----------------------------------------------------##\\n\\nimport random as rnd\\nimport matplotlib.pyplot as plt\\n\\npokemon = [\\n    [rnd.randint(20, 30) for _ in range(200)], #width\\n    [rnd.randint(20, 30) for _ in range(200)], #height\\n    [rnd.randint(20, 30) for _ in range(200)], #label\\n]\\n\\nplt.plot(pokemon, 0)\\n'"
      ]
     },
     "execution_count": 42,
     "metadata": {},
     "output_type": "execute_result"
    }
   ],
   "source": [
    "'''\n",
    "import numpy as py\n",
    "\n",
    "\n",
    "pokemon_list2 = [\n",
    "    [rnd.randint(20,35), rnd.randint(20,35), rnd.randint(0,1)] for _ in range(20)\n",
    "\n",
    "]\n",
    "\n",
    "pokemon.array(pokemon_list2)\n",
    "\n",
    "plt.scatter(pokemon_array[:,1])\n",
    "\n",
    "##-----------------------------------------------------##\n",
    "\n",
    "import random as rnd\n",
    "import matplotlib.pyplot as plt\n",
    "\n",
    "pokemon = [\n",
    "    [rnd.randint(20, 30) for _ in range(200)], #width\n",
    "    [rnd.randint(20, 30) for _ in range(200)], #height\n",
    "    [rnd.randint(20, 30) for _ in range(200)], #label\n",
    "]\n",
    "\n",
    "plt.plot(pokemon, 0)\n",
    "'''"
   ]
  },
  {
   "cell_type": "markdown",
   "metadata": {},
   "source": []
  }
 ],
 "metadata": {
  "kernelspec": {
   "display_name": "Python 3.9.13 ('Python-Alexander-Andersson-6f9gzyEi')",
   "language": "python",
   "name": "python3"
  },
  "language_info": {
   "codemirror_mode": {
    "name": "ipython",
    "version": 3
   },
   "file_extension": ".py",
   "mimetype": "text/x-python",
   "name": "python",
   "nbconvert_exporter": "python",
   "pygments_lexer": "ipython3",
   "version": "3.9.13"
  },
  "orig_nbformat": 4,
  "vscode": {
   "interpreter": {
    "hash": "0e170795d12b9f00bb6c905343705ccb98da647a4486686bf7cb14fa618c1741"
   }
  }
 },
 "nbformat": 4,
 "nbformat_minor": 2
}
