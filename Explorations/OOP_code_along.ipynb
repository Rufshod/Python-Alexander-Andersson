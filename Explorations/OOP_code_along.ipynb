{
 "cells": [
  {
   "cell_type": "markdown",
   "metadata": {},
   "source": [
    "# Python Object Oriented Programming (OOP) - For Beginners\n",
    "- https://www.youtube.com/watch?v=JeznW_7DlB0"
   ]
  },
  {
   "cell_type": "code",
   "execution_count": 3,
   "metadata": {},
   "outputs": [
    {
     "name": "stdout",
     "output_type": "stream",
     "text": [
      "<class 'function'>\n",
      "HELLO\n"
     ]
    }
   ],
   "source": [
    "def hello(): # Everytime we create something in python it is an object. in this case it is a function.\n",
    "    print(\"hello\")\n",
    "\n",
    "print(type(hello))\n",
    "\n",
    "x = 1       # int object\n",
    "y = \"hello\" # string object\n",
    "\n",
    "string = \"Hello\"\n",
    "\n",
    "print(string.upper()) # upper is a method. a \".\" opperator\n",
    "# upper method only works with string.\n",
    "\n"
   ]
  },
  {
   "cell_type": "code",
   "execution_count": 24,
   "metadata": {},
   "outputs": [
    {
     "name": "stdout",
     "output_type": "stream",
     "text": [
      "Tim 12\n",
      "Tim 17\n",
      "Bill\n",
      "<class '__main__.Dog'>\n"
     ]
    }
   ],
   "source": [
    "class Dog:          # We created a class\n",
    "\n",
    "    def __init__(self, name, age): #Everytime we instanceat a new object, when we write d = Dog(\"Tim\"), we pass \"Tim\" to the __init__ function\n",
    "        self.name = name      # Creating an attribute and we store it in the dog.\n",
    "        self.age = age\n",
    "\n",
    "    def get_name(self):       # This is a method\n",
    "        return self.name\n",
    "\n",
    "    def get_age(self):        # Allows us to get the age (when printing in this example)\n",
    "        return self.age\n",
    "\n",
    "    def set_age(self, age):   # Allows us to change the age, or set age.\n",
    "        self.age = age\n",
    "\n",
    "d = Dog(\"Tim\", 12) # \n",
    "\n",
    "print(d.get_name(), d.get_age()) # Using a method\n",
    "\n",
    "d.set_age(17)\n",
    "\n",
    "print(d.get_name(), d.get_age()) # Using a method\n",
    "\n",
    "d2 = Dog(\"Bill\", 5)\n",
    "print(d2.get_name())\n",
    "\n",
    "\n",
    "\n",
    "print(type(d))\n"
   ]
  },
  {
   "cell_type": "markdown",
   "metadata": {},
   "source": [
    "# Student example"
   ]
  },
  {
   "cell_type": "code",
   "execution_count": 33,
   "metadata": {},
   "outputs": [
    {
     "name": "stdout",
     "output_type": "stream",
     "text": [
      "Tim\n"
     ]
    }
   ],
   "source": [
    "class Student:\n",
    "    def __init__(self, name, age, grade):\n",
    "        self.name  = name\n",
    "        self.age   = age\n",
    "        self.grade = grade\n",
    "\n",
    "        def get_grade(self):\n",
    "            return self.grade\n",
    "\n",
    "class Course:\n",
    "    def __init__(self, name, max_students):\n",
    "        self.name = name\n",
    "        self.max_students = max_students\n",
    "        self.students = []      # We can add attributes that are not set in the __init__ method. e.g students in this case.\n",
    "\n",
    "    def add_student(self, student):\n",
    "        if len(self.students) < self.max_students:\n",
    "            self.students.append(student)\n",
    "            return True # Returns true if the student is added sucessfully\n",
    "        return False    # Returns False if student is not added sucessfully\n",
    "\n",
    "    def get_average_grade(self):\n",
    "        value = 0\n",
    "        for student in self.students:\n",
    "            value += student.get_grade()\n",
    "\n",
    "s1 = Student(\"Tim\", 19, 95) # Creates student\n",
    "s2 = Student(\"Bill\", 19, 75)\n",
    "s3 = Student(\"Jill\", 19, 65)\n",
    "\n",
    "course = Course(\"Science\", 2) # Creates a course\n",
    "course.add_student(s1) # Adds student to course\n",
    "course.add_student(s2)\n",
    "print(course.students[0].name) # Prints out the first student in course lists name"
   ]
  },
  {
   "cell_type": "code",
   "execution_count": 35,
   "metadata": {},
   "outputs": [
    {
     "name": "stdout",
     "output_type": "stream",
     "text": [
      "83\n"
     ]
    }
   ],
   "source": [
    "x = 500\n",
    "y = 6\n",
    "\n",
    "print(x//y)"
   ]
  }
 ],
 "metadata": {
  "kernelspec": {
   "display_name": "Python 3.9.13 ('Python-Alexander-Andersson-rXBoH5sP')",
   "language": "python",
   "name": "python3"
  },
  "language_info": {
   "codemirror_mode": {
    "name": "ipython",
    "version": 3
   },
   "file_extension": ".py",
   "mimetype": "text/x-python",
   "name": "python",
   "nbconvert_exporter": "python",
   "pygments_lexer": "ipython3",
   "version": "3.9.13"
  },
  "orig_nbformat": 4,
  "vscode": {
   "interpreter": {
    "hash": "b14cc422d827dd3ad3e166e9b0c2744dfcee3cbacc81397c64432efd767b4494"
   }
  }
 },
 "nbformat": 4,
 "nbformat_minor": 2
}
