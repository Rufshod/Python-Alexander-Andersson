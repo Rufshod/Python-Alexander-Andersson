{
 "cells": [
  {
   "cell_type": "markdown",
   "metadata": {},
   "source": [
    "# Python Object Oriented Programming (OOP) - For Beginners\n",
    "- https://www.youtube.com/watch?v=JeznW_7DlB0"
   ]
  },
  {
   "cell_type": "code",
   "execution_count": 1,
   "metadata": {},
   "outputs": [
    {
     "name": "stdout",
     "output_type": "stream",
     "text": [
      "<class 'function'>\n",
      "HELLO\n"
     ]
    }
   ],
   "source": [
    "def hello(): # Everytime we create something in python it is an object. in this case it is a function.\n",
    "    print(\"hello\")\n",
    "\n",
    "print(type(hello))\n",
    "\n",
    "x = 1       # int object\n",
    "y = \"hello\" # string object\n",
    "\n",
    "string = \"Hello\"\n",
    "\n",
    "print(string.upper()) # upper is a method. a \".\" opperator\n",
    "# upper method only works with string.\n",
    "\n"
   ]
  },
  {
   "cell_type": "code",
   "execution_count": 2,
   "metadata": {},
   "outputs": [
    {
     "name": "stdout",
     "output_type": "stream",
     "text": [
      "Tim 12\n",
      "Tim 17\n",
      "Bill\n",
      "<class '__main__.Dog'>\n"
     ]
    }
   ],
   "source": [
    "class Dog:          # We created a class\n",
    "\n",
    "    def __init__(self, name, age): #Everytime we instanceat a new object, when we write d = Dog(\"Tim\"), we pass \"Tim\" to the __init__ function\n",
    "        self.name = name      # Creating an attribute and we store it in the dog.\n",
    "        self.age = age\n",
    "\n",
    "    def get_name(self):       # This is a method\n",
    "        return self.name\n",
    "\n",
    "    def get_age(self):        # Allows us to get the age (when printing in this example)\n",
    "        return self.age\n",
    "\n",
    "    def set_age(self, age):   # Allows us to change the age, or set age.\n",
    "        self.age = age\n",
    "\n",
    "d = Dog(\"Tim\", 12) # \n",
    "\n",
    "print(d.get_name(), d.get_age()) # Using a method\n",
    "\n",
    "d.set_age(17)\n",
    "\n",
    "print(d.get_name(), d.get_age()) # Using a method\n",
    "\n",
    "d2 = Dog(\"Bill\", 5)\n",
    "print(d2.get_name())\n",
    "\n",
    "\n",
    "\n",
    "print(type(d))\n"
   ]
  },
  {
   "cell_type": "markdown",
   "metadata": {},
   "source": [
    "# Student example"
   ]
  },
  {
   "cell_type": "code",
   "execution_count": 3,
   "metadata": {},
   "outputs": [
    {
     "name": "stdout",
     "output_type": "stream",
     "text": [
      "Bill\n",
      "False\n",
      "85.0\n"
     ]
    }
   ],
   "source": [
    "class Student:\n",
    "    def __init__(self, name, age, grade):\n",
    "        self.name = name\n",
    "        self.age = age\n",
    "        self.grade = grade\n",
    "\n",
    "    def get_grade(self):\n",
    "        return self.grade\n",
    "            \n",
    "\n",
    "class Course:\n",
    "    def __init__(self, name, max_students):\n",
    "        self.name = name\n",
    "        self.max_students = max_students\n",
    "        self.students = []      # We can add attributes that are not set in the __init__ method. e.g students in this case.\n",
    "\n",
    "    def add_student(self, student):\n",
    "        if len(self.students) < self.max_students:\n",
    "            self.students.append(student)\n",
    "            return True # Returns true if the student is added sucessfully\n",
    "        return False    # Returns False if student is not added sucessfully\n",
    "\n",
    "    def get_average_grade(self):\n",
    "        value = 0\n",
    "        for student in self.students:\n",
    "            value += student.get_grade()\n",
    "\n",
    "        return value / len(self.students)\n",
    "\n",
    "s1 = Student(\"Tim\", 19, 95) # Creates student\n",
    "s2 = Student(\"Bill\", 19, 75)\n",
    "s3 = Student(\"Jill\", 19, 65)\n",
    "\n",
    "\n",
    "course = Course(\"Science\", 2) # Creates a course\n",
    "course.add_student(s1) # Adds student to course\n",
    "course.add_student(s2)\n",
    "print(course.students[1].name)# Prints out the second student in course lists name\n",
    "\n",
    "print(course.add_student(s3)) #returns false because no more room in course. Due to add student method\n",
    "\n",
    "print(course.get_average_grade()) # Average grade only checks s1 and s2 because course is full"
   ]
  },
  {
   "cell_type": "markdown",
   "metadata": {},
   "source": [
    "# Inheritance"
   ]
  },
  {
   "cell_type": "code",
   "execution_count": 4,
   "metadata": {},
   "outputs": [],
   "source": [
    "class Cat:\n",
    "    def __init__(self, name, age):\n",
    "        self.name = name # In example below we remove the __init__ in order to set it up as a different class.\n",
    "        self.age = age\n",
    "    \n",
    "    def speak(self):\n",
    "        print(\"Meow\")\n",
    "\n",
    "class Dog:                      #These Classes are almost identical. The only difference is that the def speak prints something different. \n",
    "    def __init__(self, name, age):\n",
    "        self.name = name\n",
    "        self.age = age\n",
    "    \n",
    "    def speak(self):\n",
    "        print(\"Bark\")"
   ]
  },
  {
   "cell_type": "code",
   "execution_count": 5,
   "metadata": {},
   "outputs": [
    {
     "name": "stdout",
     "output_type": "stream",
     "text": [
      "I don't know what I say!\n",
      "I am Bill and I am 34 years old and I am Red\n",
      "Bark\n",
      "I don't know what I say!\n"
     ]
    }
   ],
   "source": [
    "class Pet: # General class\n",
    "    def __init__(self, name, age):\n",
    "        self.name = name\n",
    "        self.age = age\n",
    "    \n",
    "    def show(self):\n",
    "        print(f\"I am {self.name} and I am {self.age} years old\")\n",
    "\n",
    "    def speak(self):\n",
    "        print(\"I don't know what I say!\")\n",
    "\n",
    "#Specific class\n",
    "class Cat(Pet): # cat(Pet) makes it so that it inherets.\n",
    "    def __init__(self, name, age, color):\n",
    "        super().__init__(name, age) #call the super class, to inherit name and age\n",
    "        self.color = color\n",
    "\n",
    "\n",
    "    def speak(self): #Overrites the speak method in Pet when we call it, specific method.\n",
    "        print(\"Meow\")\n",
    "\n",
    "    def show(self):\n",
    "        print(f\"I am {self.name} and I am {self.age} years old and I am {self.color}\")\n",
    "\n",
    "class Dog(Pet):                      \n",
    "\n",
    "    \n",
    "    def speak(self):\n",
    "        print(\"Bark\")\n",
    "\n",
    "class Fish(Pet):\n",
    "    pass\n",
    "\n",
    "p = Pet(\"Tim\", 19)\n",
    "p.speak()\n",
    "c = Cat(\"Bill\", 34, \"Red\") \n",
    "c.show() # No method show in Cat! Inhereted from Pet.\n",
    "d = Dog(\"Jill\", 25)\n",
    "d.speak()\n",
    "f = Fish(\"Bubbles\", 2)\n",
    "f.speak()"
   ]
  },
  {
   "cell_type": "markdown",
   "metadata": {},
   "source": [
    "# Class Attributes"
   ]
  },
  {
   "cell_type": "code",
   "execution_count": 9,
   "metadata": {},
   "outputs": [
    {
     "name": "stdout",
     "output_type": "stream",
     "text": [
      "1\n",
      "2\n"
     ]
    }
   ],
   "source": [
    "class Person:\n",
    "    number_of_people = 0\n",
    "\n",
    "    def __init__(self, name):\n",
    "        self.name = name\n",
    "        Person.add_person()\n",
    "\n",
    "\n",
    "#Class Methods\n",
    "    @classmethod\n",
    "    def number_of_people_(cls): # (cls) because no object. \n",
    "        return cls.number_of_people\n",
    "\n",
    "    @classmethod\n",
    "    def add_person(cls):\n",
    "        cls.number_of_people += 1\n",
    "\n",
    "p1 = Person(\"Alex\")\n",
    "print(Person.number_of_people_())\n",
    "p2 = Person(\"Emily\")\n",
    "print(Person.number_of_people_())\n",
    "\n"
   ]
  },
  {
   "cell_type": "code",
   "execution_count": 14,
   "metadata": {},
   "outputs": [
    {
     "name": "stdout",
     "output_type": "stream",
     "text": [
      "run\n",
      "15\n"
     ]
    }
   ],
   "source": [
    "class Math:\n",
    "    #static method\n",
    "    @staticmethod\n",
    "    def add5(x):\n",
    "        return x + 5\n",
    "    @staticmethod    \n",
    "    def add10(x):\n",
    "        return x + 10\n",
    "\n",
    "    @staticmethod\n",
    "    def pr():\n",
    "        print(\"run\")\n",
    "Math.pr()\n",
    "print(Math.add10(5))"
   ]
  }
 ],
 "metadata": {
  "kernelspec": {
   "display_name": "Python 3.9.13 ('Python-Alexander-Andersson-rXBoH5sP')",
   "language": "python",
   "name": "python3"
  },
  "language_info": {
   "codemirror_mode": {
    "name": "ipython",
    "version": 3
   },
   "file_extension": ".py",
   "mimetype": "text/x-python",
   "name": "python",
   "nbconvert_exporter": "python",
   "pygments_lexer": "ipython3",
   "version": "3.9.13"
  },
  "orig_nbformat": 4,
  "vscode": {
   "interpreter": {
    "hash": "b14cc422d827dd3ad3e166e9b0c2744dfcee3cbacc81397c64432efd767b4494"
   }
  }
 },
 "nbformat": 4,
 "nbformat_minor": 2
}
