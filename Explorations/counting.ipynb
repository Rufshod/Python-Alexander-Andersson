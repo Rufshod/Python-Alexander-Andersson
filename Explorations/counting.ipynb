{
 "cells": [
  {
   "cell_type": "code",
   "execution_count": 19,
   "metadata": {},
   "outputs": [
    {
     "data": {
      "image/png": "[encoded data removed]",
      "text/latex": [
       "$\\displaystyle \\left( 0, \\  4, \\  7, \\  -41, \\  -15\\right)$"
      ],
      "text/plain": [
       "(0, 4, 7, -41, -15)"
      ]
     },
     "execution_count": 19,
     "metadata": {},
     "output_type": "execute_result"
    }
   ],
   "source": [
    "-5 * 1 + 5 , -5 * -1 + -1, -5 * -2 + -3, -5 * 2 + -31, -5 * -1 + -20 "
   ]
  },
  {
   "cell_type": "code",
   "execution_count": 20,
   "metadata": {},
   "outputs": [
    {
     "data": {
      "image/png": "[encoded data removed]",
      "text/latex": [
       "$\\displaystyle -53$"
      ],
      "text/plain": [
       "-53"
      ]
     },
     "execution_count": 20,
     "metadata": {},
     "output_type": "execute_result"
    }
   ],
   "source": [
    "2 * -6 + -41"
   ]
  },
  {
   "cell_type": "code",
   "execution_count": 21,
   "metadata": {},
   "outputs": [
    {
     "data": {
      "image/png": "[encoded data removed]",
      "text/latex": [
       "$\\displaystyle 1$"
      ],
      "text/plain": [
       "1"
      ]
     },
     "execution_count": 21,
     "metadata": {},
     "output_type": "execute_result"
    }
   ],
   "source": [
    "-18 * -3 + -53"
   ]
  },
  {
   "cell_type": "code",
   "execution_count": 22,
   "metadata": {},
   "outputs": [
    {
     "data": {
      "image/png": "[encoded data removed]",
      "text/latex": [
       "$\\displaystyle -6.0$"
      ],
      "text/plain": [
       "-6.0"
      ]
     },
     "execution_count": 22,
     "metadata": {},
     "output_type": "execute_result"
    }
   ],
   "source": [
    "-18/3"
   ]
  },
  {
   "cell_type": "code",
   "execution_count": 23,
   "metadata": {},
   "outputs": [
    {
     "data": {
      "image/png": "[encoded data removed]",
      "text/latex": [
       "$\\displaystyle -4.0$"
      ],
      "text/plain": [
       "-4.0"
      ]
     },
     "execution_count": 23,
     "metadata": {},
     "output_type": "execute_result"
    }
   ],
   "source": [
    "-12/3\n"
   ]
  },
  {
   "cell_type": "code",
   "execution_count": 24,
   "metadata": {},
   "outputs": [
    {
     "data": {
      "image/png": "[encoded data removed]",
      "text/latex": [
       "$\\displaystyle 0$"
      ],
      "text/plain": [
       "0"
      ]
     },
     "execution_count": 24,
     "metadata": {},
     "output_type": "execute_result"
    }
   ],
   "source": [
    "-1*-6 + -6"
   ]
  },
  {
   "cell_type": "code",
   "execution_count": 25,
   "metadata": {},
   "outputs": [
    {
     "data": {
      "image/png": "[encoded data removed]",
      "text/latex": [
       "$\\displaystyle \\left( 0, \\  2, \\  5\\right)$"
      ],
      "text/plain": [
       "(0, 2, 5)"
      ]
     },
     "execution_count": 25,
     "metadata": {},
     "output_type": "execute_result"
    }
   ],
   "source": [
    "1 * 6 + -6, 1 * 6 + -4, 1 * 6 + -1"
   ]
  },
  {
   "cell_type": "code",
   "execution_count": 26,
   "metadata": {},
   "outputs": [],
   "source": [
    "from sympy import *\n",
    "\n",
    "init_printing(use_unicode=True)\n"
   ]
  },
  {
   "cell_type": "code",
   "execution_count": 27,
   "metadata": {},
   "outputs": [
    {
     "data": {
      "text/latex": [
       "$\\displaystyle \\left[\\begin{matrix}1 & -1\\\\3 & 4\\\\0 & 2\\end{matrix}\\right]$"
      ],
      "text/plain": [
       "⎡1  -1⎤\n",
       "⎢     ⎥\n",
       "⎢3  4 ⎥\n",
       "⎢     ⎥\n",
       "⎣0  2 ⎦"
      ]
     },
     "execution_count": 27,
     "metadata": {},
     "output_type": "execute_result"
    }
   ],
   "source": [
    "Matrix([[1, -1], [3, 4], [0, 2]])"
   ]
  },
  {
   "cell_type": "code",
   "execution_count": 29,
   "metadata": {},
   "outputs": [
    {
     "name": "stdout",
     "output_type": "stream",
     "text": [
      "(Matrix([\n",
      "[1, -2, 0, 0, 3],\n",
      "[0,  0, 1, 0, 2],\n",
      "[0,  0, 0, 1, 1],\n",
      "[0,  0, 0, 0, 0]]), (0, 2, 3))\n"
     ]
    }
   ],
   "source": [
    "M = Matrix(\n",
    "    [[1, -2, 3, 5, 14], \n",
    "    [-2, 4, -5, -10, -26], \n",
    "    [2, -4, 6, 11, 29], \n",
    "    [-1, 2, -2, -5, -12]]\n",
    ")\n",
    "\n",
    "print(M.rref())"
   ]
  },
  {
   "cell_type": "code",
   "execution_count": 44,
   "metadata": {},
   "outputs": [
    {
     "name": "stdout",
     "output_type": "stream",
     "text": [
      "(Matrix([\n",
      "[1, 0, 0, 0],\n",
      "[0, 1, 0, 0],\n",
      "[0, 0, 1, 0],\n",
      "[0, 0, 0, 1]]), (0, 1, 2, 3))\n"
     ]
    }
   ],
   "source": [
    "M = Matrix(\n",
    "    [[1, 2, -1, 1], \n",
    "    [3, -1, -2, 9], \n",
    "    [3, 4, 7, -5], \n",
    "    [2, -2, -1, -4]]\n",
    ")\n",
    "\n",
    "print(M.rref())"
   ]
  },
  {
   "cell_type": "code",
   "execution_count": 55,
   "metadata": {},
   "outputs": [
    {
     "data": {
      "image/png": "[encoded data removed]",
      "text/latex": [
       "$\\displaystyle \\left( 2.0, \\  -0.285714285714286, \\  -1.71428571428571\\right)$"
      ],
      "text/plain": [
       "(2.0, -0.2857142857142857, -1.7142857142857142)"
      ]
     },
     "execution_count": 55,
     "metadata": {},
     "output_type": "execute_result"
    }
   ],
   "source": [
    "n = 1/7\n",
    "\n",
    "14*n, -2*n, -12*n"
   ]
  },
  {
   "cell_type": "code",
   "execution_count": 52,
   "metadata": {},
   "outputs": [
    {
     "data": {
      "image/png": "[encoded data removed]",
      "text/latex": [
       "$\\displaystyle \\left( 13.8571428571429, \\  -1.28571428571429, \\  -11.8571428571429\\right)$"
      ],
      "text/plain": [
       "(13.857142857142858, -1.2857142857142858, -11.857142857142858)"
      ]
     },
     "execution_count": 52,
     "metadata": {},
     "output_type": "execute_result"
    }
   ],
   "source": [
    "n = 1/14\n",
    "y = -2\n",
    "z = 10\n",
    "S = 2\n",
    "\n",
    "\n",
    "\n",
    "y*n+14, z*n+ -2, S*n -12"
   ]
  },
  {
   "cell_type": "code",
   "execution_count": 70,
   "metadata": {},
   "outputs": [
    {
     "name": "stdout",
     "output_type": "stream",
     "text": [
      "0 -2 9 31 \n",
      " 0 -1 4 14\n"
     ]
    }
   ],
   "source": [
    "\n",
    "print(1 * -2 + 2 , -2*-2+ -6, -2*1+11, -2*2+35,\"\\n\",3*1+-3, 3*-2+5, 1*3+1, 3*2+8)"
   ]
  },
  {
   "cell_type": "code",
   "execution_count": 67,
   "metadata": {},
   "outputs": [
    {
     "name": "stdout",
     "output_type": "stream",
     "text": [
      "-5 10 9\n"
     ]
    }
   ],
   "source": [
    "print(1 *  + 0 , -2*-2+6, -2*1+11,)"
   ]
  },
  {
   "cell_type": "code",
   "execution_count": 78,
   "metadata": {},
   "outputs": [
    {
     "data": {
      "image/png": "[encoded data removed]",
      "text/latex": [
       "$\\displaystyle -19$"
      ],
      "text/plain": [
       "-19"
      ]
     },
     "execution_count": 78,
     "metadata": {},
     "output_type": "execute_result"
    }
   ],
   "source": [
    "2*-10 + 1"
   ]
  }
 ],
 "metadata": {
  "kernelspec": {
   "display_name": "Python 3.9.13 ('Python-Alexander-Andersson-rXBoH5sP')",
   "language": "python",
   "name": "python3"
  },
  "language_info": {
   "codemirror_mode": {
    "name": "ipython",
    "version": 3
   },
   "file_extension": ".py",
   "mimetype": "text/x-python",
   "name": "python",
   "nbconvert_exporter": "python",
   "pygments_lexer": "ipython3",
   "version": "3.9.13"
  },
  "orig_nbformat": 4,
  "vscode": {
   "interpreter": {
    "hash": "b14cc422d827dd3ad3e166e9b0c2744dfcee3cbacc81397c64432efd767b4494"
   }
  }
 },
 "nbformat": 4,
 "nbformat_minor": 2
}
