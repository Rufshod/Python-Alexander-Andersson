{
 "cells": [
  {
   "cell_type": "markdown",
   "metadata": {},
   "source": [
    "# Testing Baye's rule"
   ]
  },
  {
   "cell_type": "code",
   "execution_count": 3,
   "metadata": {},
   "outputs": [
    {
     "ename": "NameError",
     "evalue": "name 'prevelance' is not defined",
     "output_type": "error",
     "traceback": [
      "\u001b[1;31m---------------------------------------------------------------------------\u001b[0m",
      "\u001b[1;31mNameError\u001b[0m                                 Traceback (most recent call last)",
      "\u001b[1;32mc:\\Users\\agam\\Documents\\Github\\Python-Alexander-Andersson\\Explorations\\Bayesian_Inference.ipynb Cell 2\u001b[0m in \u001b[0;36m<cell line: 10>\u001b[1;34m()\u001b[0m\n\u001b[0;32m      <a href='vscode-notebook-cell:/c%3A/Users/agam/Documents/Github/Python-Alexander-Andersson/Explorations/Bayesian_Inference.ipynb#W0sZmlsZQ%3D%3D?line=0'>1</a>\u001b[0m \u001b[39mdef\u001b[39;00m \u001b[39mdrug_user\u001b[39m(\n\u001b[0;32m      <a href='vscode-notebook-cell:/c%3A/Users/agam/Documents/Github/Python-Alexander-Andersson/Explorations/Bayesian_Inference.ipynb#W0sZmlsZQ%3D%3D?line=1'>2</a>\u001b[0m     prob_th\u001b[39m=\u001b[39m\u001b[39m0.5\u001b[39m,\n\u001b[0;32m      <a href='vscode-notebook-cell:/c%3A/Users/agam/Documents/Github/Python-Alexander-Andersson/Explorations/Bayesian_Inference.ipynb#W0sZmlsZQ%3D%3D?line=2'>3</a>\u001b[0m     sensitivity\u001b[39m=\u001b[39m\u001b[39m0.99\u001b[39m,\n\u001b[0;32m      <a href='vscode-notebook-cell:/c%3A/Users/agam/Documents/Github/Python-Alexander-Andersson/Explorations/Bayesian_Inference.ipynb#W0sZmlsZQ%3D%3D?line=3'>4</a>\u001b[0m     specificity\u001b[39m=\u001b[39m\u001b[39m0.99\u001b[39m,\n\u001b[0;32m      <a href='vscode-notebook-cell:/c%3A/Users/agam/Documents/Github/Python-Alexander-Andersson/Explorations/Bayesian_Inference.ipynb#W0sZmlsZQ%3D%3D?line=4'>5</a>\u001b[0m     prevelance\u001b[39m=\u001b[39m\u001b[39m0.01\u001b[39m,\n\u001b[0;32m      <a href='vscode-notebook-cell:/c%3A/Users/agam/Documents/Github/Python-Alexander-Andersson/Explorations/Bayesian_Inference.ipynb#W0sZmlsZQ%3D%3D?line=5'>6</a>\u001b[0m     verbose\u001b[39m=\u001b[39m\u001b[39mTrue\u001b[39;00m):\n\u001b[0;32m      <a href='vscode-notebook-cell:/c%3A/Users/agam/Documents/Github/Python-Alexander-Andersson/Explorations/Bayesian_Inference.ipynb#W0sZmlsZQ%3D%3D?line=6'>7</a>\u001b[0m     \u001b[39m\"\"\"\u001b[39;00m\n\u001b[0;32m      <a href='vscode-notebook-cell:/c%3A/Users/agam/Documents/Github/Python-Alexander-Andersson/Explorations/Bayesian_Inference.ipynb#W0sZmlsZQ%3D%3D?line=7'>8</a>\u001b[0m \u001b[39m    Computes the posterior using Bayes' rule\u001b[39;00m\n\u001b[0;32m      <a href='vscode-notebook-cell:/c%3A/Users/agam/Documents/Github/Python-Alexander-Andersson/Explorations/Bayesian_Inference.ipynb#W0sZmlsZQ%3D%3D?line=8'>9</a>\u001b[0m \u001b[39m    \"\"\"\u001b[39;00m\n\u001b[1;32m---> <a href='vscode-notebook-cell:/c%3A/Users/agam/Documents/Github/Python-Alexander-Andersson/Explorations/Bayesian_Inference.ipynb#W0sZmlsZQ%3D%3D?line=9'>10</a>\u001b[0m p_user \u001b[39m=\u001b[39m prevelance\n\u001b[0;32m     <a href='vscode-notebook-cell:/c%3A/Users/agam/Documents/Github/Python-Alexander-Andersson/Explorations/Bayesian_Inference.ipynb#W0sZmlsZQ%3D%3D?line=10'>11</a>\u001b[0m p_non_user \u001b[39m=\u001b[39m \u001b[39m1\u001b[39m\u001b[39m-\u001b[39mprevelance\n\u001b[0;32m     <a href='vscode-notebook-cell:/c%3A/Users/agam/Documents/Github/Python-Alexander-Andersson/Explorations/Bayesian_Inference.ipynb#W0sZmlsZQ%3D%3D?line=11'>12</a>\u001b[0m p_pos_user \u001b[39m=\u001b[39m sensitivity\n",
      "\u001b[1;31mNameError\u001b[0m: name 'prevelance' is not defined"
     ]
    }
   ],
   "source": [
    "\n",
    "def drug_user(\n",
    "    prob_th=0.5,\n",
    "    sensitivity=0.99,\n",
    "    specificity=0.99,\n",
    "    prevelance=0.01,\n",
    "    verbose=True):\n",
    "    \"\"\"\n",
    "    Computes the posterior using Bayes' rule\n",
    "    \"\"\"\n",
    "p_user = prevelance\n",
    "p_non_user = 1-prevelance\n",
    "p_pos_user = sensitivity\n",
    "p_neg_user = specificity\n",
    "prevelance = 1-specificity\n",
    "\n",
    "num = p_pos_user*p_user\n",
    "den = p_pos_user*p_user+p_pos_non_user*p_non_user\n",
    "\n",
    "prob = num/den\n",
    "\n",
    "if verbose:\n",
    "    if prob > prob_th:\n",
    "        print(\"The test-taker could be a user\")\n",
    "    else:\n",
    "        print(\"The test-taker may not be a user\")\n",
    "    \n"
   ]
  },
  {
   "cell_type": "markdown",
   "metadata": {},
   "source": []
  }
 ],
 "metadata": {
  "kernelspec": {
   "display_name": "Python 3.9.13 ('Python-Alexander-Andersson-6f9gzyEi')",
   "language": "python",
   "name": "python3"
  },
  "language_info": {
   "codemirror_mode": {
    "name": "ipython",
    "version": 3
   },
   "file_extension": ".py",
   "mimetype": "text/x-python",
   "name": "python",
   "nbconvert_exporter": "python",
   "pygments_lexer": "ipython3",
   "version": "3.9.13"
  },
  "orig_nbformat": 4,
  "vscode": {
   "interpreter": {
    "hash": "0e170795d12b9f00bb6c905343705ccb98da647a4486686bf7cb14fa618c1741"
   }
  }
 },
 "nbformat": 4,
 "nbformat_minor": 2
}
