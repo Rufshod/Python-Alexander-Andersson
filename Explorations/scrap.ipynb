{
 "cells": [
  {
   "cell_type": "code",
   "execution_count": 1,
   "metadata": {},
   "outputs": [],
   "source": [
    "#immutable"
   ]
  },
  {
   "cell_type": "code",
   "execution_count": 5,
   "metadata": {},
   "outputs": [
    {
     "name": "stdout",
     "output_type": "stream",
     "text": [
      "[100, 2, 3] [100, 2, 3]\n"
     ]
    }
   ],
   "source": [
    "#str\n",
    "#int\n",
    "#float\n",
    "#bool\n",
    "#bytes\n",
    "#tuple\n",
    "# Theese are immutable and can not be changed.\n",
    "x = [1,2,3]\n",
    "#[0] = 1 does not work\n",
    "y = x\n",
    "\n",
    "x[0] = 100\n",
    "\n",
    "print(x,y)\n",
    "\n",
    "\n",
    "#list\n",
    "#set\n",
    "#dict\n",
    "\n",
    "# Theese are mutable and can be changed."
   ]
  },
  {
   "cell_type": "code",
   "execution_count": 6,
   "metadata": {},
   "outputs": [
    {
     "name": "stdout",
     "output_type": "stream",
     "text": [
      "[2, 4, 6, 8, 10, 12, 14, 16, 123, 321, 1]\n",
      "[1, 2, 4, 6, 8, 10, 12, 14, 16, 123, 321]\n"
     ]
    }
   ],
   "source": [
    "def get_largest_numbers(numbers, n):\n",
    "        numbers.sort()\n",
    "\n",
    "        return numbers[-n:]\n",
    "\n",
    "nums = [2, 4, 6, 8, 10, 12, 14, 16, 123, 321, 1]\n",
    "\n",
    "print(nums)\n",
    "largest = get_largest_numbers(nums, 2)\n",
    "print(nums)\n",
    "\n",
    "# the nums list gets called as numbers in get_largest_numbers function"
   ]
  },
  {
   "cell_type": "code",
   "execution_count": 7,
   "metadata": {},
   "outputs": [
    {
     "name": "stdout",
     "output_type": "stream",
     "text": [
      "[0, 1, 2, 3, 4, 5, 6, 7, 8, 9]\n"
     ]
    }
   ],
   "source": [
    "x = [i for i in range(10)] # list comprehension\n",
    "print(x)"
   ]
  },
  {
   "cell_type": "code",
   "execution_count": 9,
   "metadata": {},
   "outputs": [
    {
     "name": "stdout",
     "output_type": "stream",
     "text": [
      "[[0, 1, 2, 3, 4], [0, 1, 2, 3, 4], [0, 1, 2, 3, 4], [0, 1, 2, 3, 4], [0, 1, 2, 3, 4], [0, 1, 2, 3, 4], [0, 1, 2, 3, 4], [0, 1, 2, 3, 4], [0, 1, 2, 3, 4], [0, 1, 2, 3, 4]]\n"
     ]
    }
   ],
   "source": [
    "x = [[j for j in range(5)] for i in range(10)]\n",
    "print(x)"
   ]
  },
  {
   "cell_type": "code",
   "execution_count": 13,
   "metadata": {},
   "outputs": [
    {
     "name": "stdout",
     "output_type": "stream",
     "text": [
      "1 1\n"
     ]
    }
   ],
   "source": [
    "def complicated_function(x, y, z = None):\n",
    "    print(x, y)\n",
    "    pass\n",
    "\n",
    "complicated_function(1, y = 1)"
   ]
  },
  {
   "cell_type": "code",
   "execution_count": 14,
   "metadata": {},
   "outputs": [
    {
     "name": "stdout",
     "output_type": "stream",
     "text": [
      "1 2 (3, 4, 5, 6, 7)\n"
     ]
    }
   ],
   "source": [
    "def complicated_function(x, y, *args):\n",
    "    print(x, y, args) # args saves values in a tuple\n",
    "    pass\n",
    "\n",
    "complicated_function(1, 2, 3, 4, 5, 6, 7)"
   ]
  },
  {
   "cell_type": "code",
   "execution_count": 15,
   "metadata": {},
   "outputs": [
    {
     "name": "stdout",
     "output_type": "stream",
     "text": [
      "(1, 2, 3, 4, 5, 6, 7) {'x': 1, 'y': 2, 'z': 3}\n"
     ]
    }
   ],
   "source": [
    "def complicated_function(*args, **kwargs):\n",
    "    print(args, kwargs) # args saves values in a tuple\n",
    "    pass # kwargs saves values in a dict\n",
    "\n",
    "complicated_function(1, 2, 3, 4, 5, 6, 7, x = 1, y = 2, z = 3)"
   ]
  },
  {
   "cell_type": "code",
   "execution_count": 19,
   "metadata": {},
   "outputs": [
    {
     "name": "stdout",
     "output_type": "stream",
     "text": [
      "1 2 hello hej\n"
     ]
    }
   ],
   "source": [
    "def complicated_function(a,b,c,d):\n",
    "    print(a,b,c,d) # args saves values in a tuple\n",
    "    pass # kwargs saves values in a dict\n",
    "\n",
    "complicated_function(*[1, 2], **{\"c\": \"hello\", \"d\": \"hej\"} )"
   ]
  },
  {
   "cell_type": "code",
   "execution_count": 20,
   "metadata": {},
   "outputs": [
    {
     "name": "stdout",
     "output_type": "stream",
     "text": [
      "3\n"
     ]
    }
   ],
   "source": [
    "def add(a, b):\n",
    "    return a + b\n",
    "\n",
    "x = add(1, 2)\n",
    "print(x)"
   ]
  },
  {
   "cell_type": "code",
   "execution_count": 21,
   "metadata": {},
   "outputs": [
    {
     "name": "stdout",
     "output_type": "stream",
     "text": [
      "Hello world\n"
     ]
    }
   ],
   "source": [
    "if __name__ == \"__main__\":\n",
    "    print(\"Hello world\")\n",
    "    pass"
   ]
  },
  {
   "cell_type": "code",
   "execution_count": null,
   "metadata": {},
   "outputs": [],
   "source": [
    "# interpreter lock\n",
    "# GIL\n",
    "# Global interpreter lock\n",
    "# Only one thread can run at a time\n",
    "# Python is not good for multithreading\n",
    "# Python is good for multiprocessing\n",
    "# each core can run one operation at a time\n",
    "# Python is good for asynchronous programming\n"
   ]
  },
  {
   "cell_type": "code",
   "execution_count": 24,
   "metadata": {},
   "outputs": [],
   "source": [
    "def q1():\n",
    "\tprint(\"hello\" * 5)\n",
    "\tprint(\"\\nq1\\nhello 5 times\")\n",
    "def q2():\n",
    "\tx, y = 4, 5\n",
    "\ty, x = x, y\n",
    "\tprint(x)\n",
    "\tprint(y)\n",
    "\tprint(\"q2\\nx and y are swapped, x = 5 and y = 4\")\n",
    "\n",
    "def q3():\n",
    "\tz = 9\n",
    "\tlst = [0] * z\n",
    "\tprint(lst[:-1])\n",
    "\tprint(\"q3\\nlist of 9 zeros, but only the last 0 will be printed\")\n",
    "\n",
    "def q4():\n",
    "\tdef help(x):\n",
    "\t\treturn x % 2 == 0\n",
    "\n",
    "\tlst = [i**2 for i in range(10)] \n",
    "\tlst = filter(help, lst) \n",
    "\tprint(list(lst)[::2]) \n",
    "\tprint(\"q4\\nlist of squares of numbers from 0 to 9, but only the even numbers will be printed\")\n",
    "def q5():\n",
    "\tz = 0\n",
    "\tfor i in range(1, 10):\n",
    "\t\tif (i + 1 // 2) % 7 == 0:\n",
    "\t\t\tbreak\n",
    "\t\telse:\n",
    "\t\t\tz += int(i % 2 == 0)\n",
    "\t\t\tprint(z)\n",
    "\telse:\n",
    "\t\tprint('end')\n",
    "\n",
    "def q6():\n",
    "\timport math\n",
    "\n",
    "\tfor i in range(1, 100):\n",
    "\t\tif math.sqrt(i) == (i - 5)**2:\n",
    "\t\t\tprint(i)\n",
    "\t\t\tbreak\n",
    "\telse:\n",
    "\t\tprint('no')\n",
    "\n",
    "def q7():\n",
    "\tclass A:\n",
    "\t\tdef __init__(self, x):\n",
    "\t\t\tself.x = x\n",
    "\n",
    "\t\tdef __eq__(self, o):\n",
    "\t\t\treturn self.x == o.x\n",
    "\n",
    "\ta = A(2)\n",
    "\tb = A(2)\n",
    "\tprint(a == b)\n",
    "\tprint(a is b)\n",
    "\tprint(b is a)\n",
    "\tprint(a is a)\n",
    "\tprint(a == a)\n",
    "\n",
    "def q8():\n",
    "\tclass A:\n",
    "\t\tdef __init__(self, x, y):\n",
    "\t\t\tself.x = x\n",
    "\t\t\tself.y = y\n",
    "\n",
    "\t\tdef print(self):\n",
    "\t\t\tprint(self.x, self.y)\n",
    "\n",
    "\tclass B(A):\n",
    "\t\tdef print(self):\n",
    "\t\t\tprint(self.y, self.x)\n",
    "\n",
    "\tclass C(B):\n",
    "\t\tdef __init__(self, x, y, z):\n",
    "\t\t\tsuper().__init__(x, y)\n",
    "\t\t\tself.z = z\n",
    "\n",
    "\td = A(2, 4)\n",
    "\te = B(4, 5)\n",
    "\tg = C(3, 4, 7)\n",
    "\tg.x = g.z\n",
    "\td.print()\n",
    "\te.print()\n",
    "\tg.print()\n",
    "\n",
    "def q9():\n",
    "\tdef x(z):\n",
    "\t\tdef q(x, y):\n",
    "\t\t\tx = y + z + x\n",
    "\t\t\tprint(x)\n",
    "\n",
    "\t\treturn q\n",
    "\n",
    "\tfor i in range(10):\n",
    "\t\tfunc = x(i)\n",
    "\t\tfunc(i, i-1)\n",
    "\n",
    "def q10():\n",
    "\tdef d(f):\n",
    "\t\tdef w(*args, **kwargs):\n",
    "\t\t\tr = f(*args, **kwargs) \n",
    "\t\t\tr += 1 \n",
    "\t\t\treturn r \n",
    "\n",
    "\t\treturn w\n",
    "\n",
    "\t@d\n",
    "\tdef a(x):\n",
    "\t\treturn x + 1\n",
    "\n",
    "\tprint(a(5))\n",
    "\n",
    "def q11():\n",
    "\tprint(*list(map(lambda x: chr(ord(x) + 1), [\"a\", \"b\", \"c\"])))\n",
    "\n",
    "\n",
    "def q12():\n",
    "\tx = 0.1\n",
    "\ty = 0.10000000000000001\n",
    "\tprint(x == y)\n",
    "\n",
    "def q13():\n",
    "\tx = [True, 1, \"a\", \"b\", \"2\"]\n",
    "\tprint(any(x)) \n",
    "\n",
    "def q14():\n",
    "\tx = [\"a\", 1, 2, 3, 4]\n",
    "\ty = z = x\n",
    "\tz[1] = 7\n",
    "\ty[3] = 2\n",
    "\tx[2] = 9\n",
    "\tprint(x)\n",
    "\tprint(y)\n",
    "\tprint(z)\n",
    "\n",
    "def q15():\n",
    "\tprint(1 == True)\n",
    "\tprint(\"1\" == 1)\n",
    "\n",
    "def q16():\n",
    "\tx = b'1001'\n",
    "\ty = b'1010'\n",
    "\tz = x + y\n",
    "\tprint(z)\n",
    "\n",
    "def q17():\n",
    "\tx = 0b1001\n",
    "\ty = 0b1010\n",
    "\tz = x + y\n",
    "\tprint(z)"
   ]
  },
  {
   "cell_type": "code",
   "execution_count": 28,
   "metadata": {},
   "outputs": [
    {
     "name": "stdout",
     "output_type": "stream",
     "text": [
      "[0, 16, 64]\n",
      "q4\n",
      "list of squares of numbers from 0 to 9, but only the even numbers will be printed\n"
     ]
    }
   ],
   "source": [
    "q4()"
   ]
  }
 ],
 "metadata": {
  "kernelspec": {
   "display_name": "Python 3",
   "language": "python",
   "name": "python3"
  },
  "language_info": {
   "codemirror_mode": {
    "name": "ipython",
    "version": 3
   },
   "file_extension": ".py",
   "mimetype": "text/x-python",
   "name": "python",
   "nbconvert_exporter": "python",
   "pygments_lexer": "ipython3",
   "version": "3.9.13"
  },
  "orig_nbformat": 4
 },
 "nbformat": 4,
 "nbformat_minor": 2
}
