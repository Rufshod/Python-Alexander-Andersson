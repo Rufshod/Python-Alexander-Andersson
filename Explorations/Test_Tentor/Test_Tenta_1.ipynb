{
 "cells": [
  {
   "cell_type": "markdown",
   "metadata": {},
   "source": [
    "## Uppgift 1 (3p)\n",
    "Förklara vad den här koden gör och vad som ritas ut:\n",
    "```py\n",
    "import matplotlib.pyplot as plt\n",
    "\n",
    "x = list(range(10)) \n",
    "y = [i**2 for i in x]\n",
    "fig, ax = plt.figure(), plt.axes()\n",
    "ax.plot(x,y)\n",
    "ax.set(title=\"Plot\", xlabel=\"x\", ylabel=\"y\")\n",
    "```\n",
    "Skriv en kort kommentar för varje rad."
   ]
  },
  {
   "cell_type": "code",
   "execution_count": 20,
   "metadata": {},
   "outputs": [
    {
     "data": {
      "text/plain": [
       "[Text(0.5, 1.0, 'Plot'), Text(0.5, 0, 'x'), Text(0, 0.5, 'y')]"
      ]
     },
     "execution_count": 20,
     "metadata": {},
     "output_type": "execute_result"
    },
    {
     "data": {
      "image/png": "[encoded data removed]",
      "text/plain": [
       "<Figure size 640x480 with 1 Axes>"
      ]
     },
     "metadata": {},
     "output_type": "display_data"
    }
   ],
   "source": [
    "import matplotlib.pyplot as plt                 # Importerar matplotlib.pyplot modulen med namn plt\n",
    "\n",
    "x = list(range(10))                             #skapar en lista med siffror 0-9\n",
    "y = [i**2 for i in x]                           # höjer upp varje index i x till 2. så 0**2, 1**2, 2**2, ..., 9**2\n",
    "fig, ax = plt.figure(), plt.axes()              # Skapar variabler med funktioner ifrån Matplotlib.pyplot som vi döpt till plt\n",
    "ax.plot(x,y)                                    # Tar värdena i våran x lista och y lista och plottar.\n",
    "ax.set(title=\"Plot\", xlabel=\"x\", ylabel=\"y\")    # sätter namn och vädern i våran graf\n"
   ]
  },
  {
   "cell_type": "markdown",
   "metadata": {},
   "source": [
    "## Uppgift 2 (3p)\n",
    "Simulera 1000000 tärningskast och beräkna antalet ettor, tvåor, treor, fyror, femmor och sexor. Spara\n",
    "resultatet i en lämplig datastruktur."
   ]
  },
  {
   "cell_type": "code",
   "execution_count": 21,
   "metadata": {},
   "outputs": [
    {
     "name": "stdout",
     "output_type": "stream",
     "text": [
      "{'roll1': 166727, 'roll2': 166886, 'roll3': 165731, 'roll4': 167021, 'roll5': 167151, 'roll6': 166484}\n"
     ]
    }
   ],
   "source": [
    "import random as rnd\n",
    "\n",
    "rolls = [rnd.randint(1,6) for i in range(1000000)]\n",
    "dice_rolls = dict(\n",
    "roll1 = rolls.count(1),\n",
    "roll2 = rolls.count(2),\n",
    "roll3 = rolls.count(3),\n",
    "roll4 = rolls.count(4),\n",
    "roll5 = rolls.count(5),\n",
    "roll6 = rolls.count(6)\n",
    ")\n",
    "\n",
    "print(dice_rolls)"
   ]
  },
  {
   "cell_type": "markdown",
   "metadata": {},
   "source": [
    " ## Uppgift 3 (3p)\n",
    "Skriv en funktion som tar in en radie som inparameter och som returnerar volymen av en sfär. Volymen för en\n",
    "sfär är:\n",
    "$$V_{sphere} = \\frac{4}{3}\\pi r^3$$\n",
    "Låt användaren mata in ett tal och kör funktionen. Tänk på att ta med lämplig felhantering."
   ]
  },
  {
   "cell_type": "code",
   "execution_count": 3,
   "metadata": {},
   "outputs": [
    {
     "name": "stdout",
     "output_type": "stream",
     "text": [
      "4.1887902047863905\n"
     ]
    }
   ],
   "source": [
    "\n",
    "from __future__ import annotations\n",
    "from math import pi\n",
    "from typing import Type\n",
    "\n",
    "def calc_sphere_volume(radius: (int | float)):\n",
    "\t\"\"\"calculates volume of sphere of a given radius\"\"\"\n",
    "\tif not isinstance(radius, (int, float)):\n",
    "\t\traise TypeError(f\"Radius must be int or float, not {type(radius).__name__}\") #.__name__ returns changes <class str> to str.\n",
    "\tif radius <= 0:\n",
    "\t\traise ValueError(f\"Radius must be a positive value, not {radius}\")\n",
    "\treturn print((4*pi*(radius**3))/3)\n",
    "\n",
    "#calc_sphere_volume(float(input(\"Enter radius of sphere to calculate its volume: \")))\n",
    "\n",
    "while True:\n",
    "\tuser_input = input(\"Enter radius to calculate the volume\")\n",
    "\ttry:\n",
    "\t\tuser_input = float(user_input)\n",
    "\t\tcalc_sphere_volume(user_input)\n",
    "\t\tbreak\n",
    "\texcept TypeError as err:\n",
    "\t\tprint(err)\n",
    "\texcept ValueError as err:\n",
    "\t\tprint(err)"
   ]
  },
  {
   "cell_type": "markdown",
   "metadata": {},
   "source": [
    "## Uppgift 4 (3p)\n",
    "Läs in en textfil som heter bamba.txt och innehåller:\n",
    "```\n",
    "v42\n",
    "Chili sin carne \n",
    "Pannkakor\n",
    "Ärtsoppa\n",
    "Kebab\n",
    "Vegetarisk lasagne\n",
    "```\n",
    "Läs in texterna och skriv ut dem i terminalen"
   ]
  },
  {
   "cell_type": "code",
   "execution_count": 6,
   "metadata": {},
   "outputs": [
    {
     "name": "stdout",
     "output_type": "stream",
     "text": [
      "v42\n",
      " + mån\n",
      "Chili sin carne \n",
      " + tis\n",
      "Pannkakor\n",
      " + ons\n",
      "Ã„rtsoppa\n",
      " + tors\n",
      "Kebab\n",
      " + fre\n",
      "Vegetarisk lasagne + lör\n"
     ]
    }
   ],
   "source": [
    "\n",
    "file_path = \"bamba.txt\"\n",
    "week = [\"mån\", \"tis\", \"ons\",\"tors\",\"fre\",\"lör\"]\n",
    "count = 0\n",
    "\n",
    "\n",
    "with open(file_path, \"r\") as read_file:\n",
    "\tfor lines in read_file:\n",
    "\t\tprint(f\"{lines} + {week[count]}\")\n",
    "\t\tcount += 1\n"
   ]
  },
  {
   "cell_type": "code",
   "execution_count": 4,
   "metadata": {},
   "outputs": [
    {
     "name": "stdout",
     "output_type": "stream",
     "text": [
      " v42\n",
      "mån Chili sin carne \n",
      "tis Pannkakor\n",
      "ons Ã„rtsoppa\n",
      "tors Kebab\n",
      "fre Vegetarisk lasagne"
     ]
    }
   ],
   "source": [
    "with open (\"bamba.txt\", \"r\") as f:\n",
    "    lines = f.readlines()\n",
    "    \n",
    "weekdays = [\"\",\"mån\", \"tis\", \"ons\", \"tors\", \"fre\"]\n",
    "both = [weekdays, lines]\n",
    "\n",
    "for i in zip(*both):\n",
    "    print(*i, end=\"\")"
   ]
  },
  {
   "cell_type": "markdown",
   "metadata": {},
   "source": [
    "## Uppgift 5 (3p)\n",
    "Skapa en funktion som tar in två punkter i 2D , och som returnerar tillbaka avståndet mellan\n",
    "dessa. Anropa därefter denna funktion för test\n",
    "Det finns en textfil som heter testpunkter.txt som ligger i undermappen testpoints och innehåller:\n",
    "```\n",
    "Punkt 1, punkt 2 \n",
    "(1,2), (0,0)\n",
    "(2,0), (3,5)\n",
    "...\n",
    "(-2,-2), (9,2)\n",
    "```"
   ]
  },
  {
   "cell_type": "code",
   "execution_count": 43,
   "metadata": {},
   "outputs": [
    {
     "name": "stdout",
     "output_type": "stream",
     "text": [
      "[1.0, 2.0, 0.0, 0.0, 2.0, 0.0, 3.0, 5.0]\n"
     ]
    }
   ],
   "source": [
    "\n",
    "with open (\"testpunkter.txt\", \"r\") as f_read: # should be with open(\"testpoints/testpunkter.txt\", \"r\")\n",
    "\tlines = f_read.readlines()\n",
    "\tlines.pop(0)\n",
    "\t\n",
    "\tlines_clean = []\n",
    "\tfor line in lines:\n",
    "\t\tline = line.replace(\"()\\n \") #removes unnecesery symbols.\n",
    "\t\n",
    "\t\tlines_clean.append(line)\n",
    "\t\t\n",
    "\tlines_split = []\n",
    "\tfor line in lines_clean:\n",
    "\t\tlines_split.append(line.split(\",\")) # \"1,2,0,0\" -> [\"1\", \"2\", \"0\", \"0\"}\n",
    "\t\n",
    "\tlines_float = []\n",
    "\tfor line in lines_split:\n",
    "\t\tfor index in line:\n",
    "\t\t\tlines_float.append(float(index)) # converts to float.\n",
    "\n",
    "print(lines_float)"
   ]
  },
  {
   "cell_type": "code",
   "execution_count": 6,
   "metadata": {},
   "outputs": [
    {
     "ename": "ValueError",
     "evalue": "could not convert string to float: ''",
     "output_type": "error",
     "traceback": [
      "\u001b[1;31m---------------------------------------------------------------------------\u001b[0m",
      "\u001b[1;31mValueError\u001b[0m                                Traceback (most recent call last)",
      "\u001b[1;32mc:\\Users\\agam\\Documents\\Github\\Python-Alexander-Andersson\\Explorations\\Test_Tentor\\Test_Tenta_1.ipynb Cell 12\u001b[0m in \u001b[0;36m<cell line: 2>\u001b[1;34m()\u001b[0m\n\u001b[0;32m      <a href='vscode-notebook-cell:/c%3A/Users/agam/Documents/Github/Python-Alexander-Andersson/Explorations/Test_Tentor/Test_Tenta_1.ipynb#X35sZmlsZQ%3D%3D?line=0'>1</a>\u001b[0m f \u001b[39m=\u001b[39m \u001b[39m\"\u001b[39m\u001b[39m(1,2), (0,0) (2,0), (3,5)\u001b[39m\u001b[39m\"\u001b[39m\n\u001b[0;32m      <a href='vscode-notebook-cell:/c%3A/Users/agam/Documents/Github/Python-Alexander-Andersson/Explorations/Test_Tentor/Test_Tenta_1.ipynb#X35sZmlsZQ%3D%3D?line=1'>2</a>\u001b[0m \u001b[39mfor\u001b[39;00m row \u001b[39min\u001b[39;00m f:\n\u001b[1;32m----> <a href='vscode-notebook-cell:/c%3A/Users/agam/Documents/Github/Python-Alexander-Andersson/Explorations/Test_Tentor/Test_Tenta_1.ipynb#X35sZmlsZQ%3D%3D?line=2'>3</a>\u001b[0m \ttmp \u001b[39m=\u001b[39m [\u001b[39mfloat\u001b[39m(i\u001b[39m.\u001b[39mstrip(\u001b[39m\"\u001b[39m\u001b[39m(,) \u001b[39m\u001b[39m\\n\u001b[39;00m\u001b[39m\"\u001b[39m)) \u001b[39mfor\u001b[39;00m i \u001b[39min\u001b[39;00m row\u001b[39m.\u001b[39msplit(\u001b[39m\"\u001b[39m\u001b[39m,\u001b[39m\u001b[39m\"\u001b[39m)]\n",
      "\u001b[1;32mc:\\Users\\agam\\Documents\\Github\\Python-Alexander-Andersson\\Explorations\\Test_Tentor\\Test_Tenta_1.ipynb Cell 12\u001b[0m in \u001b[0;36m<listcomp>\u001b[1;34m(.0)\u001b[0m\n\u001b[0;32m      <a href='vscode-notebook-cell:/c%3A/Users/agam/Documents/Github/Python-Alexander-Andersson/Explorations/Test_Tentor/Test_Tenta_1.ipynb#X35sZmlsZQ%3D%3D?line=0'>1</a>\u001b[0m f \u001b[39m=\u001b[39m \u001b[39m\"\u001b[39m\u001b[39m(1,2), (0,0) (2,0), (3,5)\u001b[39m\u001b[39m\"\u001b[39m\n\u001b[0;32m      <a href='vscode-notebook-cell:/c%3A/Users/agam/Documents/Github/Python-Alexander-Andersson/Explorations/Test_Tentor/Test_Tenta_1.ipynb#X35sZmlsZQ%3D%3D?line=1'>2</a>\u001b[0m \u001b[39mfor\u001b[39;00m row \u001b[39min\u001b[39;00m f:\n\u001b[1;32m----> <a href='vscode-notebook-cell:/c%3A/Users/agam/Documents/Github/Python-Alexander-Andersson/Explorations/Test_Tentor/Test_Tenta_1.ipynb#X35sZmlsZQ%3D%3D?line=2'>3</a>\u001b[0m \ttmp \u001b[39m=\u001b[39m [\u001b[39mfloat\u001b[39;49m(i\u001b[39m.\u001b[39;49mstrip(\u001b[39m\"\u001b[39;49m\u001b[39m(,) \u001b[39;49m\u001b[39m\\n\u001b[39;49;00m\u001b[39m\"\u001b[39;49m)) \u001b[39mfor\u001b[39;00m i \u001b[39min\u001b[39;00m row\u001b[39m.\u001b[39msplit(\u001b[39m\"\u001b[39m\u001b[39m,\u001b[39m\u001b[39m\"\u001b[39m)]\n",
      "\u001b[1;31mValueError\u001b[0m: could not convert string to float: ''"
     ]
    }
   ],
   "source": [
    "f = \"(1,2), (0,0) (2,0), (3,5)\" #Does not work. Why?\n",
    "for row in f:\n",
    "\ttmp = [float(i.strip(\"(,) \\n\")) for i in row.split(\",\")] "
   ]
  },
  {
   "cell_type": "code",
   "execution_count": 2,
   "metadata": {},
   "outputs": [
    {
     "data": {
      "text/plain": [
       "[[1.0, 2.0, 0.0, 0.0], [2.0, 0.0, 3.0, 5.0]]"
      ]
     },
     "execution_count": 2,
     "metadata": {},
     "output_type": "execute_result"
    }
   ],
   "source": [
    "with open(\"testpunkter.txt\", \"r\") as f_read:\n",
    "    s = [\n",
    "        [\n",
    "            float(character.strip(\"() \\n\"))\n",
    "            for character in row.split(\",\")\n",
    "            if character.strip(\"() \\n\") != \"\"\n",
    "        ]\n",
    "        for index, row in enumerate(f_read)\n",
    "        if index > 0\n",
    "    ]\n",
    "s  # -> [[1.0, 2.0, 0.0, 0.0], [2.0, 0.0, 3.0, 5.0], [-2.0, -2.0, 9.0, 2.0]]\n"
   ]
  },
  {
   "cell_type": "code",
   "execution_count": 23,
   "metadata": {},
   "outputs": [],
   "source": [
    "# Get into folder testpoints\n",
    "# read testpunkter.txt\n",
    "# clean testpunkter.txt\n",
    "# from math import sqrt\n",
    "# create function that calculates"
   ]
  },
  {
   "cell_type": "code",
   "execution_count": 17,
   "metadata": {},
   "outputs": [
    {
     "name": "stdout",
     "output_type": "stream",
     "text": [
      "2.23606797749979\n",
      "5.099019513592785\n",
      "5.8309518948453\n",
      "8.246211251235321\n",
      "11.704699910719626\n"
     ]
    }
   ],
   "source": [
    "# Andreas MVG ++ Solution:\n",
    "\n",
    "from math import dist\n",
    "\n",
    "def calc_dist(p, q) -> float:\n",
    "    return dist(p, q)\n",
    "\n",
    "file_path = \"testpunkter.txt\"\n",
    "with open(file_path, \"r\") as f:\n",
    "    clean = list()\n",
    "    for row in f.readlines()[1:]:\n",
    "        temp = [float(i.strip(\"() \\n\")) for i in row.split(\",\")]\n",
    "        clean.append(temp)\n",
    "\n",
    "for points in clean:\n",
    "    p = (points[0], points[1])\n",
    "    q = (points[2], points[3])\n",
    "    print(calc_dist(p, q))\n",
    "\n",
    "# with open(\"testpunkter.txt\",\"r\") as f_read:\n",
    "# \tfor row in f_read.readlines()[1:]:\n",
    "# \t\tpoints = [float(i.strip(\"(,) \\n\")) for i in row]\n",
    "\n",
    "#     print(points)"
   ]
  },
  {
   "cell_type": "markdown",
   "metadata": {},
   "source": [
    "## Uppgift 6 (4p)\n",
    "I den här uppgiften ska du skapa ett blackjack som är ett kortspel. Förenklat är reglerna för blackjack:\n",
    "\n",
    "- dealern tar två kort\n",
    "- dealern visar sitt första kort\n",
    "- spelaren tar två kort\n",
    "- spelaren får välja att ta nytt kort eller stanna\n",
    "- när spelaren stannar räknar man poängen genom:\n",
    "\n",
    "- - J, K, Q värda 10p\n",
    "- - A värd 1 eller 11\n",
    "- - Övriga kort värda deras valör\n",
    "\n",
    "- om spelarens poäng mindre eller lika med 21, vinner spelaren om hens poäng överstiger dealerns,\n",
    "annars vinner dealern"
   ]
  },
  {
   "cell_type": "code",
   "execution_count": 22,
   "metadata": {},
   "outputs": [
    {
     "name": "stdout",
     "output_type": "stream",
     "text": [
      "['J', 'K', 'Q', 'a', 'A', '1', '2', '3', '4', '5', '6', '7', '8', '9', '10', 'J', 'K', 'Q', 'a', 'A', '1', '2', '3', '4', '5', '6', '7', '8', '9', '10', 'J', 'K', 'Q', 'a', 'A', '1', '2', '3', '4', '5', '6', '7', '8', '9', '10', 'J', 'K', 'Q', 'a', 'A', '1', '2', '3', '4', '5', '6', '7', '8', '9', '10']\n"
     ]
    }
   ],
   "source": [
    "import random as rnd\n",
    "\n",
    "\n",
    "# Card Variable List\n",
    "\n",
    "# Player\n",
    "\n",
    "# Player pick card\n",
    "\n",
    "# Dealer\n",
    "\n",
    "# Show card.\n",
    "\n",
    "# Calculate score.\n",
    "\n",
    "# Winner\n",
    "\n",
    "# Dicitonary for all cards and their value\n",
    "card_values = {\n",
    "    \"J\": 10,\n",
    "    \"K\": 10,\n",
    "    \"Q\": 10,\n",
    "    \"a\": 1,\n",
    "    \"A\": 11,\n",
    "    \"1\": 1,\n",
    "    \"2\": 2,\n",
    "    \"3\": 3,\n",
    "    \"4\": 4,\n",
    "    \"5\": 5,\n",
    "    \"6\": 6,\n",
    "    \"7\": 7,\n",
    "    \"8\": 8,\n",
    "    \"9\": 9,\n",
    "    \"10\": 10,\n",
    "}\n",
    "deck = []\n",
    "for i in range(4):\n",
    "    for key, value in card_values.items():\n",
    "        deck.append(key) \n",
    "\n",
    "print(deck)"
   ]
  },
  {
   "cell_type": "code",
   "execution_count": 26,
   "metadata": {},
   "outputs": [
    {
     "name": "stdout",
     "output_type": "stream",
     "text": [
      "8\n",
      "['A', '8'] 19\n",
      "Player wins\n",
      "Player hand: ['A', '8'], 19\n",
      "Dealers hand: ['8', '2'], 10\n"
     ]
    }
   ],
   "source": [
    "import random as rnd\n",
    "\n",
    "def pull_card(deck: list) -> str:\n",
    "\t\"\"\"pulls random card from deck\"\"\"\n",
    "\tindex = rnd.randint(0, len(deck)-1)\n",
    "\tcard = deck[index]\n",
    "\tdeck.pop(index)\n",
    "\treturn card\n",
    "\n",
    "def get_hand_value(hand: list) -> int:\n",
    "\t\"\"\"calculates combined value of cards in hand\"\"\"\n",
    "\tsum_cards = 0\n",
    "\tfor key, value in card_value.items():\n",
    "\t\tfor item in hand:\n",
    "\t\t\tif item == key:\n",
    "\t\t\t\tsum_cards += value\n",
    "\t# converting aces from 11 to 1 in value if value of hand is too large\n",
    "\tif sum_cards > 21 and \"A\" in hand:\n",
    "\t\tfor i in (range(hand.count(\"A\"))):\n",
    "\t\t\tsum_cards -= 10\n",
    "\t\t\tif sum_cards <= 21:\n",
    "\t\t\t\tbreak\n",
    "\treturn sum_cards\n",
    "\n",
    "# create dictionary of symbols paired with their value\n",
    "card_value = {\n",
    "\"A\": 11,\n",
    "\"J\": 10,\n",
    "\"K\": 10,\n",
    "\"Q\": 10,\n",
    "\"2\": 2,\n",
    "\"3\": 3,\n",
    "\"4\": 4,\n",
    "\"5\": 5,\n",
    "\"6\": 6,\n",
    "\"7\": 7,\n",
    "\"8\": 8,\n",
    "\"9\": 9,\n",
    "\"10\": 10,\n",
    "}\n",
    "\n",
    "def play():\n",
    "# create a deck list of (decks) decks containing all 52 cards from each deck\n",
    "\n",
    "\n",
    "    deck = []\n",
    "    decks = 1\n",
    "    for i in range(4 * decks):\n",
    "        for key, value in card_value.items():\n",
    "            deck.append(key)\n",
    "\n",
    "    \n",
    "\t# initialize lists to hold the cards of players and dealers hand\n",
    "    my_hand = []\n",
    "    dealers_hand = []\n",
    "\t\n",
    "\t# dealer draws 2 cards\n",
    "    for i in range(2):\n",
    "        dealers_hand.append(pull_card(deck))\n",
    "\t\n",
    "\t# dealer shows first card drawn\n",
    "    print(dealers_hand[0])\n",
    "\n",
    "\t# player draws 2 cards\n",
    "    for i in range(2):\n",
    "        my_hand.append(pull_card(deck))\n",
    "\t\n",
    "\t# show players hand\n",
    "    print(my_hand, get_hand_value(my_hand))\n",
    "\t\n",
    "\t# player choses to pull more cards or stop\n",
    "    while True:\n",
    "        choice = input(\"\\\"H\\\" for hit, \\\"S\\\" for stay\").upper()\n",
    "        if choice == \"H\":\n",
    "            my_hand.append(pull_card(deck))\n",
    "            print(my_hand, get_hand_value(my_hand))\n",
    "            if get_hand_value(my_hand) > 21:\n",
    "                break\n",
    "        elif choice == \"S\":\n",
    "            break\n",
    "        else:\n",
    "            print(f\"Make sure to input \\\"H\\\" or \\\"S\\\", {choice} not accepted\")\n",
    "\t\n",
    "\t# print string based on who wins\n",
    "    if get_hand_value(my_hand) <= 21 and get_hand_value(my_hand) > get_hand_value(dealers_hand):\n",
    "        print(f\"Player wins\\nPlayer hand: {my_hand}, {get_hand_value(my_hand)}\\nDealers hand: {dealers_hand}, {get_hand_value(dealers_hand)}\")\n",
    "    else:\n",
    "        print(f\"Dealer wins\\nPlayer hand: {my_hand}, {get_hand_value(my_hand)}\\nDealers hand: {dealers_hand}, {get_hand_value(dealers_hand)}\")\n",
    "\n",
    "play()"
   ]
  },
  {
   "cell_type": "code",
   "execution_count": null,
   "metadata": {},
   "outputs": [],
   "source": [
    "# returns count of unique values in array\n",
    "import numpy as np\n",
    "\n",
    "np.unique(np.randint(),)\n",
    "\n"
   ]
  },
  {
   "cell_type": "markdown",
   "metadata": {},
   "source": [
    "## Uppgift 7 (4p)\n",
    "- Skapa en klass som heter NormalDist som följer detta UML:\n",
    "- vid addition av två objekt av typen NormalDist ska dess respektive mu och sigma adderas.\n",
    "- formeln för pdf för normaldistribution:"
   ]
  },
  {
   "cell_type": "code",
   "execution_count": 30,
   "metadata": {},
   "outputs": [],
   "source": [
    "# mu är u-liknande symbolen\n",
    "# sigma ser ut som ett snett q\n",
    "\n",
    "from __future__ import annotations\n",
    "\n",
    "from math import sqrt, pi, e\n",
    "import numpy as np\n",
    "import matplotlib.pyplot as plt\n",
    "\n",
    "class NormalDist:\n",
    "    def __init__(self, mu: float = 0, sigma: float = 1):\n",
    "        self._mu = mu\n",
    "        self._sigma = sigma\n",
    "\t\t\n",
    "    def pdf(self, x: float) -> float: # probability density function\n",
    "        return (1/(self._sigma*sqrt(2*pi)))*e**(-(1/2)*((x - self._mu) / self._sigma)**2)\n",
    "\t\t\n",
    "    def plot_pdf(self, x: float, y: float): # TODO type hint check.\n",
    "        interval = np.linspace(x, y)\n",
    "        plt.plot(interval, self.pdf(interval))\n",
    "\t\t\n",
    "    def __add__(self, other: NormalDist) -> NormalDist:\n",
    "        return NormalDist(self._mu + other._mu, self._sigma + other._sigma)\n",
    "\t\t\n",
    "    def __repr__(self) -> str:\n",
    "\t    return f\"NormalDist(mu = {self._mu}, sigma = {self._sigma}\""
   ]
  },
  {
   "cell_type": "code",
   "execution_count": 31,
   "metadata": {},
   "outputs": [
    {
     "data": {
      "image/png": "[encoded data removed]",
      "text/plain": [
       "<Figure size 640x480 with 1 Axes>"
      ]
     },
     "metadata": {},
     "output_type": "display_data"
    }
   ],
   "source": [
    "a = NormalDist()\n",
    "b = NormalDist()\n",
    "c = a+b\n",
    "c.plot_pdf(-3,3)\n",
    "a.plot_pdf(-3,3)"
   ]
  }
 ],
 "metadata": {
  "kernelspec": {
   "display_name": "Python 3.9.13 ('Python-Alexander-Andersson-rXBoH5sP')",
   "language": "python",
   "name": "python3"
  },
  "language_info": {
   "codemirror_mode": {
    "name": "ipython",
    "version": 3
   },
   "file_extension": ".py",
   "mimetype": "text/x-python",
   "name": "python",
   "nbconvert_exporter": "python",
   "pygments_lexer": "ipython3",
   "version": "3.9.13"
  },
  "orig_nbformat": 4,
  "vscode": {
   "interpreter": {
    "hash": "b14cc422d827dd3ad3e166e9b0c2744dfcee3cbacc81397c64432efd767b4494"
   }
  }
 },
 "nbformat": 4,
 "nbformat_minor": 2
}
