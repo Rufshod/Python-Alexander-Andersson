{
 "cells": [
  {
   "cell_type": "markdown",
   "metadata": {},
   "source": [
    "## Uppgift 1 (3p)\n",
    "Förklara vad den här koden gör och vad som ritas ut:\n",
    "```py\n",
    "import matplotlib.pyplot as plt\n",
    "\n",
    "x = list(range(10)) \n",
    "y = [i**2 for i in x]\n",
    "fig, ax = plt.figure(), plt.axes()\n",
    "ax.plot(x,y)\n",
    "ax.set(title=\"Plot\", xlabel=\"x\", ylabel=\"y\")\n",
    "```\n",
    "Skriv en kort kommentar för varje rad."
   ]
  },
  {
   "cell_type": "code",
   "execution_count": 20,
   "metadata": {},
   "outputs": [
    {
     "data": {
      "text/plain": [
       "[Text(0.5, 1.0, 'Plot'), Text(0.5, 0, 'x'), Text(0, 0.5, 'y')]"
      ]
     },
     "execution_count": 20,
     "metadata": {},
     "output_type": "execute_result"
    },
    {
     "data": {
      "image/png": "[encoded data removed]",
      "text/plain": [
       "<Figure size 640x480 with 1 Axes>"
      ]
     },
     "metadata": {},
     "output_type": "display_data"
    }
   ],
   "source": [
    "import matplotlib.pyplot as plt                 # Importerar matplotlib.pyplot modulen med namn plt\n",
    "\n",
    "x = list(range(10))                             #skapar en lista med siffror 0-9\n",
    "y = [i**2 for i in x]                           # höjer upp varje index i x till 2. så 0**2, 1**2, 2**2, ..., 9**2\n",
    "fig, ax = plt.figure(), plt.axes()              # Skapar variabler med funktioner ifrån Matplotlib.pyplot som vi döpt till plt\n",
    "ax.plot(x,y)                                    # Tar värdena i våran x lista och y lista och plottar.\n",
    "ax.set(title=\"Plot\", xlabel=\"x\", ylabel=\"y\")    # sätter namn och vädern i våran graf\n"
   ]
  },
  {
   "cell_type": "markdown",
   "metadata": {},
   "source": [
    "## Uppgift 2 (3p)\n",
    "Simulera 1000000 tärningskast och beräkna antalet ettor, tvåor, treor, fyror, femmor och sexor. Spara\n",
    "resultatet i en lämplig datastruktur."
   ]
  },
  {
   "cell_type": "code",
   "execution_count": 21,
   "metadata": {},
   "outputs": [
    {
     "name": "stdout",
     "output_type": "stream",
     "text": [
      "{'roll1': 166727, 'roll2': 166886, 'roll3': 165731, 'roll4': 167021, 'roll5': 167151, 'roll6': 166484}\n"
     ]
    }
   ],
   "source": [
    "import random as rnd\n",
    "\n",
    "rolls = [rnd.randint(1,6) for i in range(1000000)]\n",
    "dice_rolls = dict(\n",
    "roll1 = rolls.count(1),\n",
    "roll2 = rolls.count(2),\n",
    "roll3 = rolls.count(3),\n",
    "roll4 = rolls.count(4),\n",
    "roll5 = rolls.count(5),\n",
    "roll6 = rolls.count(6)\n",
    ")\n",
    "\n",
    "print(dice_rolls)"
   ]
  },
  {
   "cell_type": "markdown",
   "metadata": {},
   "source": [
    " ## Uppgift 3 (3p)\n",
    "Skriv en funktion som tar in en radie som inparameter och som returnerar volymen av en sfär. Volymen för en\n",
    "sfär är:\n",
    "$$V_{sphere} = \\frac{4}{3}\\pi r^3$$\n",
    "Låt användaren mata in ett tal och kör funktionen. Tänk på att ta med lämplig felhantering."
   ]
  },
  {
   "cell_type": "code",
   "execution_count": 24,
   "metadata": {},
   "outputs": [],
   "source": [
    "\n",
    "from __future__ import annotations\n",
    "from math import pi\n",
    "from typing import Type\n",
    "\n",
    "def calc_sphere_volume(radius: (int | float)):\n",
    "\t\"\"\"calculates volume of sphere of a given radius\"\"\"\n",
    "\tif not isinstance(radius, (int, float)):\n",
    "\t\traise TypeError(f\"Radius must be int or float, not {type(radius).__name__}\") #.__name__ returns changes <class str> to str.\n",
    "\tif radius <= 0:\n",
    "\t\traise ValueError(f\"Radius must be a positive value, not {radius}\")\n",
    "\treturn (4*pi*(radius**3))/3\n",
    "\n",
    "#calc_sphere_volume(float(input(\"Enter radius of sphere to calculate its volume: \")))\n",
    "\n",
    "while True:\n",
    "\tuser_input = input(\"Enter radius to calculate the volume\")\n",
    "\ttry:\n",
    "\t\tuser_input = float(user_input)\n",
    "\t\tcalc_sphere_volume(user_input)\n",
    "\t\tbreak\n",
    "\texcept TypeError as err:\n",
    "\t\tprint(err)\n",
    "\texcept ValueError as err:\n",
    "\t\tprint(err)"
   ]
  },
  {
   "cell_type": "markdown",
   "metadata": {},
   "source": [
    "## Uppgift 4 (3p)\n",
    "Läs in en textfil som heter bamba.txt och innehåller:\n",
    "```\n",
    "v42\n",
    "Chili sin carne \n",
    "Pannkakor\n",
    "Ärtsoppa\n",
    "Kebab\n",
    "Vegetarisk lasagne\n",
    "```\n",
    "Läs in texterna och skriv ut dem i terminalen"
   ]
  },
  {
   "cell_type": "code",
   "execution_count": 4,
   "metadata": {},
   "outputs": [
    {
     "name": "stdout",
     "output_type": "stream",
     "text": [
      "v42\n",
      "mån\n",
      "Chili sin carne \n",
      "tis\n",
      "Pannkakor\n",
      "ons\n",
      "Ã„rtsoppa\n",
      "tors\n",
      "Kebab\n",
      "fre\n",
      "Vegetarisk lasagnelör\n"
     ]
    }
   ],
   "source": [
    "\n",
    "file_path = \"bamba.txt\"\n",
    "week = [\"mån\", \"tis\", \"ons\",\"tors\",\"fre\",\"lör\"]\n",
    "count = 0\n",
    "\n",
    "\n",
    "with open(file_path, \"r\") as read_file:\n",
    "\tfor lines in read_file:\n",
    "\t\tprint(f\"{lines+week[count]}\")\n",
    "\t\tcount += 1\n"
   ]
  },
  {
   "cell_type": "code",
   "execution_count": 34,
   "metadata": {},
   "outputs": [
    {
     "name": "stdout",
     "output_type": "stream",
     "text": [
      " v42\n",
      "mån Chili sin carne \n",
      "tis Pannkakor\n",
      "ons Ã„rtsoppa\n",
      "tors Kebab\n",
      "fre Vegetarisk lasagne"
     ]
    }
   ],
   "source": [
    "with open (\"bamba.txt\", \"r\") as f:\n",
    "    lines = f.readlines()\n",
    "    \n",
    "weekdays = [\"\",\"mån\", \"tis\", \"ons\", \"tors\", \"fre\"]\n",
    "both = [weekdays, lines]\n",
    "\n",
    "for i in zip(*both):\n",
    "    print(*i, end=\"\")"
   ]
  },
  {
   "cell_type": "markdown",
   "metadata": {},
   "source": [
    "## Uppgift 5 (3p)\n",
    "Skapa en funktion som tar in två punkter i 2D , och som returnerar tillbaka avståndet mellan\n",
    "dessa. Anropa därefter denna funktion för test\n",
    "Det finns en textfil som heter testpunkter.txt som ligger i undermappen testpoints och innehåller:\n",
    "```\n",
    "Punkt 1, punkt 2 \n",
    "(1,2), (0,0)\n",
    "(2,0), (3,5)\n",
    "...\n",
    "(-2,-2), (9,2)\n",
    "```"
   ]
  },
  {
   "cell_type": "code",
   "execution_count": 43,
   "metadata": {},
   "outputs": [
    {
     "name": "stdout",
     "output_type": "stream",
     "text": [
      "[1.0, 2.0, 0.0, 0.0, 2.0, 0.0, 3.0, 5.0]\n"
     ]
    }
   ],
   "source": [
    "\n",
    "with open (\"testpunkter.txt\", \"r\") as f_read: # should be with open(\"testpoints/testpunkter.txt\", \"r\")\n",
    "\tlines = f_read.readlines()\n",
    "\tlines.pop(0)\n",
    "\t\n",
    "\tlines_clean = []\n",
    "\tfor line in lines:\n",
    "\t\tline = line.replace(\"()\\n \") #removes unnecesery symbols.\n",
    "\t\n",
    "\t\tlines_clean.append(line)\n",
    "\t\t\n",
    "\tlines_split = []\n",
    "\tfor line in lines_clean:\n",
    "\t\tlines_split.append(line.split(\",\")) # \"1,2,0,0\" -> [\"1\", \"2\", \"0\", \"0\"}\n",
    "\t\n",
    "\tlines_float = []\n",
    "\tfor line in lines_split:\n",
    "\t\tfor index in line:\n",
    "\t\t\tlines_float.append(float(index)) # converts to float.\n",
    "\n",
    "print(lines_float)"
   ]
  },
  {
   "cell_type": "code",
   "execution_count": null,
   "metadata": {},
   "outputs": [],
   "source": []
  },
  {
   "cell_type": "code",
   "execution_count": 23,
   "metadata": {},
   "outputs": [],
   "source": [
    "# Get into folder testpoints\n",
    "# read testpunkter.txt\n",
    "# clean testpunkter.txt\n",
    "# from math import sqrt\n",
    "# create function that calculates"
   ]
  },
  {
   "cell_type": "markdown",
   "metadata": {},
   "source": [
    "## Uppgift 6 (4p)\n",
    "I den här uppgiften ska du skapa ett blackjack som är ett kortspel. Förenklat är reglerna för blackjack:\n",
    "\n",
    "- dealern tar två kort\n",
    "- dealern visar sitt första kort\n",
    "- spelaren tar två kort\n",
    "- spelaren får välja att ta nytt kort eller stanna\n",
    "- när spelaren stannar räknar man poängen genom:\n",
    "\n",
    "- - J, K, Q värda 10p\n",
    "- - A värd 1 eller 11\n",
    "- - Övriga kort värda deras valör\n",
    "\n",
    "- om spelarens poäng mindre eller lika med 21, vinner spelaren om hens poäng överstiger dealerns,\n",
    "annars vinner dealern"
   ]
  },
  {
   "cell_type": "code",
   "execution_count": null,
   "metadata": {},
   "outputs": [],
   "source": []
  }
 ],
 "metadata": {
  "kernelspec": {
   "display_name": "Python 3.9.13 ('Python-Alexander-Andersson-6f9gzyEi')",
   "language": "python",
   "name": "python3"
  },
  "language_info": {
   "codemirror_mode": {
    "name": "ipython",
    "version": 3
   },
   "file_extension": ".py",
   "mimetype": "text/x-python",
   "name": "python",
   "nbconvert_exporter": "python",
   "pygments_lexer": "ipython3",
   "version": "3.9.13"
  },
  "orig_nbformat": 4,
  "vscode": {
   "interpreter": {
    "hash": "0e170795d12b9f00bb6c905343705ccb98da647a4486686bf7cb14fa618c1741"
   }
  }
 },
 "nbformat": 4,
 "nbformat_minor": 2
}
