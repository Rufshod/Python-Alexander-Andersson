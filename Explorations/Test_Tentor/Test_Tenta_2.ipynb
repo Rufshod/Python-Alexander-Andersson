{
 "cells": [
  {
   "cell_type": "markdown",
   "metadata": {},
   "source": [
    "## Uppgift 1 (3p)\n",
    "Beskriv vad koden gör och vad som skrivs ut:\n",
    "\n",
    "```py\n",
    "frukter = [\"jordgubbe\", \"vindruva\", \"grape\"]\n",
    "godfrukt = frukter[2]\n",
    "print(godfrukt[-1])\n",
    "```\n",
    "Skriv en kort kommentar för varje rad."
   ]
  },
  {
   "cell_type": "code",
   "execution_count": 1,
   "metadata": {},
   "outputs": [
    {
     "name": "stdout",
     "output_type": "stream",
     "text": [
      "e\n"
     ]
    }
   ],
   "source": [
    "frukter = [\"jordgubbe\", \"vindruva\", \"grape\"]\n",
    "godfrukt = frukter[2]\n",
    "print(godfrukt[-1])\n",
    "# definierar frukter som en lista, den innehåller 3st strings.\n",
    "# definierar en ny variabel som får värdet \"grape\"\n",
    "# skriver ut den sista bokstaven i \"grape\". e skrivs ut."
   ]
  },
  {
   "cell_type": "markdown",
   "metadata": {},
   "source": [
    "## Uppgift 2 (3p)\n",
    "Skapa en funktion som tar in ett heltal n som parameter och skriver ut följande mönstret nedan.\n",
    "Exempel när n = 5:\n",
    "```\n",
    "x o o o o\n",
    "x x o o o\n",
    "x x x o o\n",
    "x x x x o\n",
    "x x x x x\n",
    "```"
   ]
  },
  {
   "cell_type": "code",
   "execution_count": 8,
   "metadata": {},
   "outputs": [
    {
     "name": "stdout",
     "output_type": "stream",
     "text": [
      "x o o o o \n",
      "x x o o o \n",
      "x x x o o \n",
      "x x x x o \n",
      "x x x x x \n"
     ]
    }
   ],
   "source": [
    "def my_func(n):\n",
    "\tfor i in range(1,n+1):\n",
    "\t\tprint(\"x \"*i + \"o \"*(n-i))\n",
    "\t\t\n",
    "my_func(5)"
   ]
  },
  {
   "cell_type": "code",
   "execution_count": 15,
   "metadata": {},
   "outputs": [
    {
     "name": "stdout",
     "output_type": "stream",
     "text": [
      "x\n",
      "o\n",
      "xx\n",
      "oo\n",
      "xxx\n",
      "ooo\n",
      "xxxx\n",
      "oooo\n"
     ]
    }
   ],
   "source": [
    "def myfunc(n):\n",
    "    for i in range(1, n):\n",
    "        print(\"x\"*i, end=\"\")\n",
    "        print(\"o\"*)\n",
    "\n",
    "myfunc(5)"
   ]
  },
  {
   "cell_type": "markdown",
   "metadata": {},
   "source": [
    "## Uppgift 3 (3p)\n",
    "Skriv en funktion som tar in en radie och en höjd som inparametrar och som returnerar volymen av en\n",
    "cylinder. Volymen för en cylinder är:\n",
    "$$V = \\pi r^2 h$$\n",
    "Låt användaren mata in en radie och en höjd och kör funktionen. Tänk på att ta med lämplig felhantering."
   ]
  },
  {
   "cell_type": "code",
   "execution_count": 10,
   "metadata": {},
   "outputs": [
    {
     "name": "stdout",
     "output_type": "stream",
     "text": [
      "Radius must be a float value\n",
      "height must be a float value\n"
     ]
    },
    {
     "data": {
      "text/plain": [
       "72.25663103256524"
      ]
     },
     "execution_count": 10,
     "metadata": {},
     "output_type": "execute_result"
    }
   ],
   "source": [
    "from math import pi\n",
    "\n",
    "def calc_sphere_volume():\n",
    "\t\n",
    "\n",
    "\tradius = float(input(\"Enter the radius of the cylinder\"))\n",
    "\tif radius != float:\n",
    "\t\tprint(\"Radius must be a float value\")\n",
    "\t\n",
    "\theight = float(input(\"Enter the height of the cylinder\"))\n",
    "\tif height != float:\n",
    "\t\tprint(\"height must be a float value\")\n",
    "\t\n",
    "\treturn pi*(radius**2)*height\n",
    "\t\n",
    "calc_sphere_volume()"
   ]
  },
  {
   "cell_type": "markdown",
   "metadata": {},
   "source": [
    "## Uppgift 4 (3p)\n",
    "Läs in en textfil som heter bamba.txt och innehåller:\n",
    "```\n",
    "v42\n",
    "Chili sin carne\n",
    "Pannkakor\n",
    "Ärtsoppa\n",
    "Kebab\n",
    "Vegetarisk lasagne\n",
    "```\n",
    "Skriv därefter ut dem med korresponderande dagar.\n",
    "\n",
    "```\n",
    "v42\n",
    "Mån: Chili sin carne\n",
    "Tis: Pannkakor\n",
    "Ons: Ärtsoppa\n",
    "Tor: Kebab\n",
    "Fre: Vegetarisk lasagne\n",
    "```"
   ]
  },
  {
   "cell_type": "code",
   "execution_count": 15,
   "metadata": {},
   "outputs": [
    {
     "name": "stdout",
     "output_type": "stream",
     "text": [
      "v42\n",
      "\n",
      "Mån:  Chili sin carne \n",
      "\n",
      "Tis:  Pannkakor\n",
      "\n",
      "Ons:  Ã„rtsoppa\n",
      "\n",
      "Tor:  Kebab\n",
      "\n",
      "Fre:  Vegetarisk lasagne\n"
     ]
    }
   ],
   "source": [
    "with open(\"bamba.txt\", \"r\") as file:\n",
    "\tweekday = [\"Mån: \",\"Tis: \",\"Ons: \",\"Tor: \",\"Fre: \"]\n",
    "\tclean = [] \n",
    "\tcounter = 0\n",
    "\tfor line in file.readlines():\n",
    "\t\tif counter == 0:\n",
    "\t\t\tprint(line)\n",
    "\t\telse:\n",
    "\t\t\tprint(weekday[counter-1], line)\n",
    "\t\tcounter += 1"
   ]
  },
  {
   "cell_type": "code",
   "execution_count": 32,
   "metadata": {},
   "outputs": [
    {
     "name": "stdout",
     "output_type": "stream",
     "text": [
      " v42\n",
      "Mån:  Chili sin carne \n",
      "Tis:  Pannkakor\n",
      "Ons:  Ã„rtsoppa\n",
      "Tor:  Kebab\n",
      "Fre:  Vegetarisk lasagne"
     ]
    }
   ],
   "source": [
    "with open(\"bamba.txt\", \"r\") as f_read:\n",
    "    lines = f_read.readlines()\n",
    "    weekdays = [\"\",\"Mån: \",\"Tis: \",\"Ons: \",\"Tor: \",\"Fre: \"]\n",
    "    both = [weekdays, lines]\n",
    "    for i in zip(*both):\n",
    "        print(*i, end=\"\")"
   ]
  },
  {
   "cell_type": "markdown",
   "metadata": {},
   "source": [
    "## Uppgift 5 (4p)\n",
    "Skapa en funktion som tar in en summa pengar. Den ska printa ut en representation av sedlar och mynt som\n",
    "representerar summan.\n",
    "Exempel 3214 ska ge:\n",
    "\n",
    "- Tusenlapp: 3\n",
    "- Tvåhundralapp: 1\n",
    "- Tiokrona: 1\n",
    "- Enkrona: 4"
   ]
  },
  {
   "cell_type": "code",
   "execution_count": 19,
   "metadata": {},
   "outputs": [
    {
     "name": "stdout",
     "output_type": "stream",
     "text": [
      "Tusenlappar: 3\n",
      "Tvåhundralappar: 1\n",
      "Tiokrona: 1\n",
      "Enkrona: 4\n"
     ]
    }
   ],
   "source": [
    "def money_splitter(money):\n",
    "    Tusenlapp, Tvåhundralapp, Tiokrona, Enkrona = 0, 0, 0, 0\n",
    "\n",
    "    while money >= 0:\n",
    "        if money >= 1000:\n",
    "            Tusenlapp += 1\n",
    "            money -= 1000\n",
    "\n",
    "        elif money >= 200:\n",
    "            Tvåhundralapp += 1\n",
    "            money -= 200\n",
    "\n",
    "        elif money >= 10:\n",
    "            Tiokrona += 1\n",
    "            money -= 10\n",
    "\n",
    "        elif money >= 1:\n",
    "            Enkrona += 1\n",
    "            money -= 1\n",
    "\n",
    "        else:\n",
    "            return print(\n",
    "                f\"Tusenlappar: {Tusenlapp}\\nTvåhundralappar: {Tvåhundralapp}\\nTiokrona: {Tiokrona}\\nEnkrona: {Enkrona}\"\n",
    "            )\n",
    "\n",
    "\n",
    "money_splitter(3214)\n"
   ]
  },
  {
   "cell_type": "code",
   "execution_count": 9,
   "metadata": {},
   "outputs": [
    {
     "name": "stdout",
     "output_type": "stream",
     "text": [
      "Tusenlapp: 9\n",
      "Tvåhundralapp: 4\n",
      "Tiokrona: 19\n",
      "Enkrona: 9\n",
      "\n"
     ]
    }
   ],
   "source": [
    "def money_split(money):\n",
    "    tusen = 0\n",
    "    tvåhundra = 0\n",
    "    tio = 0\n",
    "    en = 0\n",
    "    while money >= 0:\n",
    "        if money >= 1000:\n",
    "            tusen += 1\n",
    "            money -= 1000\n",
    "        elif money >= 200:\n",
    "            tvåhundra += 1\n",
    "            money -= 200\n",
    "        elif money >= 10:\n",
    "            tio += 1\n",
    "            money -= 10\n",
    "        elif money >= 1:\n",
    "            en += 1\n",
    "            money -= 1\n",
    "        else:\n",
    "            return print(f\"Tusenlapp: {tusen}\\nTvåhundralapp: {tvåhundra}\\nTiokrona: {tio}\\nEnkrona: {en}\\n\")\n",
    "\n",
    "\n",
    "money_split(9999)\n"
   ]
  },
  {
   "cell_type": "code",
   "execution_count": 7,
   "metadata": {},
   "outputs": [
    {
     "name": "stdout",
     "output_type": "stream",
     "text": [
      "Tusenlapp: 3 \n",
      "Tvåhundralapp: 1 \n",
      "Tiokrona: 1 \n",
      "Enkrona: 4\n"
     ]
    }
   ],
   "source": [
    "\n",
    "def money_splitter(money: int): # Defining function \n",
    "    tusenlapp , tvåhundralapp, tiokrona, enkrona = 0, 0, 0, 0 # Setting variables for all the different currenceys\n",
    "\n",
    "    while money >= 0: # While loop that goes through 1000 currencey\n",
    "        if 1000 <= money:\n",
    "            tusenlapp += 1 # adds one to variable tusenlapp.\n",
    "            money -= 1000 # removes 1000 from money\n",
    "        elif 200 <= money:\n",
    "            tvåhundralapp += 1\n",
    "            money -= 200\n",
    "        elif 10 <= money:\n",
    "            tiokrona += 1\n",
    "            money -= 10\n",
    "        elif 1 <= money:\n",
    "            enkrona += 1\n",
    "            money -= 1\n",
    "        else:\n",
    "            return print(f\"Tusenlapp: {tusenlapp} \\nTvåhundralapp: {tvåhundralapp} \\nTiokrona: {tiokrona} \\nEnkrona: {enkrona}\")\n",
    "\n",
    "#Calling the function\n",
    "money_splitter(3214)"
   ]
  },
  {
   "cell_type": "markdown",
   "metadata": {},
   "source": [
    "## Uppgift 6 (4p)\n",
    "Du har följande kod:\n",
    "```py\n",
    "class Animal:\n",
    "    def __init__(self, name):\n",
    "        self.name = name\n",
    "    def __str__(self):\n",
    "        return f\"Animal {self.name}\"\n",
    "class Dog(Animal):\n",
    "    # notera att __init__ är nedärvd\n",
    "    def __repr__(self):\n",
    "        return f\"Dog: {self.name}\"\n",
    "class Fish(Animal):\n",
    "    def __repr__(self):\n",
    "        return f\"Fish: {self.name}\"\n",
    "#TODO: implementera PetOwner\n",
    "class PetOwner:\n",
    "# manuell test av PetOwner\n",
    "owner1 = PetOwner(\"Ada\",[\"Snoopy\", \"Pluto\"], [\"Fishy\", \"Buppy\"])\n",
    "owner2 = PetOwner(\"Beda\", [\"Barkly\"] )\n",
    "print(owner1)\n",
    "print(owner2)\n",
    "```\n",
    "\n",
    "Implementera PetOwner klassen så att du får liknande utskrift som nedan med det manuella testet.\n",
    "\n",
    "```py\n",
    "Ada owns:\n",
    "[Dog: Snoopy, Dog: Pluto]\n",
    "[Fish: Fishy, Fish: Buppy]\n",
    "Beda owns:\n",
    "[Dog: Barkly]\n",
    "```"
   ]
  },
  {
   "cell_type": "code",
   "execution_count": 13,
   "metadata": {},
   "outputs": [
    {
     "ename": "IndentationError",
     "evalue": "expected an indented block (1386942490.py, line 20)",
     "output_type": "error",
     "traceback": [
      "\u001b[1;36m  Input \u001b[1;32mIn [13]\u001b[1;36m\u001b[0m\n\u001b[1;33m    f = Fish(\"Fisk\")\u001b[0m\n\u001b[1;37m    ^\u001b[0m\n\u001b[1;31mIndentationError\u001b[0m\u001b[1;31m:\u001b[0m expected an indented block\n"
     ]
    }
   ],
   "source": [
    "class Animal:\n",
    "    def __init__(self, name):\n",
    "        self.name = name\n",
    "    def __str__(self):\n",
    "        return f\"Animal {self.name}\"\n",
    "class Dog(Animal):\n",
    "    # notera att __init__ är nedärvd\n",
    "    def __repr__(self):\n",
    "        return f\"Dog: {self.name}\"\n",
    "class Fish(Animal):\n",
    "    def __repr__(self):\n",
    "        return f\"Fish: {self.name}\"\n",
    "    #TODO: implementera PetOwner\n",
    "\n",
    "\n",
    "    \n",
    "class PetOwner(Animal):\n",
    "    def __init__(self, name):\n",
    "        super().__init__(name)\n",
    "    def __repr__(self):\n",
    "        return\n",
    "\n",
    "f = Fish(\"Fisk\")\n",
    "print(f)\n",
    "print(f)\n",
    "# manuell test av PetOwner\n",
    "\n",
    "#owner1 = PetOwner(\"Ada\",[\"Snoopy\", \"Pluto\"], [\"Fishy\", \"Buppy\"])\n",
    "#owner2 = PetOwner(\"Beda\", [\"Barkly\"] )"
   ]
  },
  {
   "cell_type": "code",
   "execution_count": 20,
   "metadata": {},
   "outputs": [
    {
     "ename": "TypeError",
     "evalue": "Dog must be entered as a list with dog names",
     "output_type": "error",
     "traceback": [
      "\u001b[1;31m---------------------------------------------------------------------------\u001b[0m",
      "\u001b[1;31mTypeError\u001b[0m                                 Traceback (most recent call last)",
      "\u001b[1;32mc:\\Users\\Agam\\Documents\\Github\\Python-Alexander-Andersson\\Explorations\\Test_Tentor\\Test_Tenta_2.ipynb Cell 17\u001b[0m in \u001b[0;36m<cell line: 69>\u001b[1;34m()\u001b[0m\n\u001b[0;32m     <a href='vscode-notebook-cell:/c%3A/Users/Agam/Documents/Github/Python-Alexander-Andersson/Explorations/Test_Tentor/Test_Tenta_2.ipynb#X15sZmlsZQ%3D%3D?line=60'>61</a>\u001b[0m         \u001b[39mreturn\u001b[39;00m print_string\n\u001b[0;32m     <a href='vscode-notebook-cell:/c%3A/Users/Agam/Documents/Github/Python-Alexander-Andersson/Explorations/Test_Tentor/Test_Tenta_2.ipynb#X15sZmlsZQ%3D%3D?line=66'>67</a>\u001b[0m \u001b[39m# manuell test av PetOwner\u001b[39;00m\n\u001b[1;32m---> <a href='vscode-notebook-cell:/c%3A/Users/Agam/Documents/Github/Python-Alexander-Andersson/Explorations/Test_Tentor/Test_Tenta_2.ipynb#X15sZmlsZQ%3D%3D?line=68'>69</a>\u001b[0m owner1 \u001b[39m=\u001b[39m PetOwner(\u001b[39m\"\u001b[39m\u001b[39mAda\u001b[39m\u001b[39m\"\u001b[39m,[\u001b[39m\"\u001b[39m\u001b[39mSnoopy\u001b[39m\u001b[39m\"\u001b[39m, \u001b[39m\"\u001b[39m\u001b[39mPluto\u001b[39m\u001b[39m\"\u001b[39m], [\u001b[39m\"\u001b[39m\u001b[39mFishy\u001b[39m\u001b[39m\"\u001b[39m, \u001b[39m\"\u001b[39m\u001b[39mBuppy\u001b[39m\u001b[39m\"\u001b[39m])\n\u001b[0;32m     <a href='vscode-notebook-cell:/c%3A/Users/Agam/Documents/Github/Python-Alexander-Andersson/Explorations/Test_Tentor/Test_Tenta_2.ipynb#X15sZmlsZQ%3D%3D?line=69'>70</a>\u001b[0m owner2 \u001b[39m=\u001b[39m PetOwner(\u001b[39m\"\u001b[39m\u001b[39mBeda\u001b[39m\u001b[39m\"\u001b[39m, [\u001b[39m\"\u001b[39m\u001b[39mBarkly\u001b[39m\u001b[39m\"\u001b[39m] )\n\u001b[0;32m     <a href='vscode-notebook-cell:/c%3A/Users/Agam/Documents/Github/Python-Alexander-Andersson/Explorations/Test_Tentor/Test_Tenta_2.ipynb#X15sZmlsZQ%3D%3D?line=71'>72</a>\u001b[0m \u001b[39mprint\u001b[39m(owner1)\n",
      "\u001b[1;32mc:\\Users\\Agam\\Documents\\Github\\Python-Alexander-Andersson\\Explorations\\Test_Tentor\\Test_Tenta_2.ipynb Cell 17\u001b[0m in \u001b[0;36mPetOwner.__init__\u001b[1;34m(self, name, dogs, fishes)\u001b[0m\n\u001b[0;32m     <a href='vscode-notebook-cell:/c%3A/Users/Agam/Documents/Github/Python-Alexander-Andersson/Explorations/Test_Tentor/Test_Tenta_2.ipynb#X15sZmlsZQ%3D%3D?line=29'>30</a>\u001b[0m \u001b[39mself\u001b[39m\u001b[39m.\u001b[39mname \u001b[39m=\u001b[39m name\n\u001b[0;32m     <a href='vscode-notebook-cell:/c%3A/Users/Agam/Documents/Github/Python-Alexander-Andersson/Explorations/Test_Tentor/Test_Tenta_2.ipynb#X15sZmlsZQ%3D%3D?line=31'>32</a>\u001b[0m \u001b[39mif\u001b[39;00m \u001b[39mtype\u001b[39m(dogs) \u001b[39m!=\u001b[39m []:\n\u001b[1;32m---> <a href='vscode-notebook-cell:/c%3A/Users/Agam/Documents/Github/Python-Alexander-Andersson/Explorations/Test_Tentor/Test_Tenta_2.ipynb#X15sZmlsZQ%3D%3D?line=32'>33</a>\u001b[0m     \u001b[39mraise\u001b[39;00m \u001b[39mTypeError\u001b[39;00m(\u001b[39m\"\u001b[39m\u001b[39mDog must be entered as a list with dog names\u001b[39m\u001b[39m\"\u001b[39m)\n\u001b[0;32m     <a href='vscode-notebook-cell:/c%3A/Users/Agam/Documents/Github/Python-Alexander-Andersson/Explorations/Test_Tentor/Test_Tenta_2.ipynb#X15sZmlsZQ%3D%3D?line=33'>34</a>\u001b[0m templist \u001b[39m=\u001b[39m []\n\u001b[0;32m     <a href='vscode-notebook-cell:/c%3A/Users/Agam/Documents/Github/Python-Alexander-Andersson/Explorations/Test_Tentor/Test_Tenta_2.ipynb#X15sZmlsZQ%3D%3D?line=35'>36</a>\u001b[0m \u001b[39mfor\u001b[39;00m name \u001b[39min\u001b[39;00m dogs:\n",
      "\u001b[1;31mTypeError\u001b[0m: Dog must be entered as a list with dog names"
     ]
    }
   ],
   "source": [
    "\n",
    "class Animal:\n",
    "\n",
    "\tdef __init__(self, name):\n",
    "\t\tself.name = name\n",
    "\n",
    "\tdef __str__(self):\n",
    "\t\treturn f\"Animal {self.name}\"\n",
    "class Dog(Animal):\n",
    "\t# notera att __init__ är nedärvd\n",
    "\t\n",
    "\tdef __repr__(self):\n",
    "\t\treturn f\"Dog: {self.name}\"\n",
    "\t\t\n",
    "\t\t\n",
    "class Fish(Animal):\n",
    "\n",
    "\tdef __repr__(self):\n",
    "\t\treturn f\"Fish: {self.name}\"\n",
    "\n",
    "\n",
    "\t#TODO: implementera PetOwner\n",
    "class PetOwner:\n",
    "    def __init__(self, name: str, dogs: list = [], fishes: list = []):\n",
    "\t\n",
    "        if type(name) != str:\n",
    "            raise TypeError(\"Name must be string, not type(name).__name__\")\n",
    "        if name == None:\n",
    "            raise ValueError(\"Name can not be empty\")\n",
    "\t\t\n",
    "        self.name = name\n",
    "            \n",
    "        if type(dogs) != []:\n",
    "            raise TypeError(\"Dog must be entered as a list with dog names\")\n",
    "        templist = []\n",
    "        \n",
    "        for name in dogs:\n",
    "            if type(name) != str:\n",
    "                raise TypeError(f\"Name must be string, not type(name).__name__\")\n",
    "            if name == None:\n",
    "                raise ValueError(f\"Name can not be empty\")\n",
    "            templist.append(Dog(name))\n",
    "        \n",
    "        self.dogs = templist\n",
    "                \n",
    "        \n",
    "        if type(fishes) != []:\n",
    "            raise TypeError(f\"Fish must be entered as a list with fish names\")\n",
    "        templist = []\n",
    "        \n",
    "        for fish in fishes:\n",
    "            if type(name) != str:\n",
    "                raise TypeError(\"Name must be string\")\n",
    "            templist.append(fish)\n",
    "\t\t\n",
    "    def __str__(self):\n",
    "        print_string = f\"{self.name} owns:\"\n",
    "        if self.dogs != []: # if owner has at least one dog\n",
    "            print_string += f\"\\n{self.dogs}\"\n",
    "        if self.fishes != []: # if owner has at least one fish\n",
    "            print_string += f\"\\n{self.fishes}\"\n",
    "        return print_string\n",
    "\n",
    "\n",
    "\n",
    "\n",
    "\n",
    "# manuell test av PetOwner\n",
    "\n",
    "owner1 = PetOwner(\"Ada\",[\"Snoopy\", \"Pluto\"], [\"Fishy\", \"Buppy\"])\n",
    "owner2 = PetOwner(\"Beda\", [\"Barkly\"] )\n",
    "\n",
    "print(owner1)\n",
    "print(owner2)"
   ]
  },
  {
   "cell_type": "code",
   "execution_count": 21,
   "metadata": {},
   "outputs": [
    {
     "name": "stdout",
     "output_type": "stream",
     "text": [
      "Ada owns:\n",
      "[Dog: Snoopy, Dog: Pluto]\n",
      "[Fish: Fishy, Fish: Buppy]\n",
      "Beda owns:\n",
      "[Dog: Barkly]\n"
     ]
    }
   ],
   "source": [
    "class PetOwner:\n",
    "    def __init__(self, name: str, dogs: list = [], fishes: list = []):\n",
    "        self.name = name\n",
    "        self.dogs = dogs\n",
    "        self.fishes = fishes\n",
    "    \n",
    "    @property\n",
    "    def name(self):\n",
    "        return self._name\n",
    "\n",
    "    @name.setter\n",
    "    def name(self, name):\n",
    "        if type(name) != str:\n",
    "            raise TypeError(f\"Name must be a string, not {type(name).__name__}\")\n",
    "        if name.strip() == \"\":\n",
    "            raise ValueError(f\"Name must contain letters, \\\"{name}\\\" not accepted\")\n",
    "        self._name = name\n",
    "    @property\n",
    "    def dogs(self):\n",
    "        return self._dogs\n",
    "\n",
    "    @dogs.setter\n",
    "    def dogs(self, dog_names):\n",
    "        # ----- error handling for dog name list -----\n",
    "        if type(dog_names) != list:\n",
    "            raise TypeError(f\"Dogs must be a list of dog names, not {type(dog_names).__name__}\")\n",
    "        temp_list = [] # creating temp list to store dogs in\n",
    "        for name in dog_names:\n",
    "            # ----- error handling for names in list -----\n",
    "            if type(name) != str:\n",
    "                raise TypeError(f\"Names must be a string, not {type(name).__name__} (\\\"{name}\\\")\")\n",
    "            if name.strip() == \"\":\n",
    "                raise ValueError(f\"Names must contain letters, \\\"{name}\\\" not accepted\")\n",
    "            temp_list.append(Dog(name)) # add Dog with name {name} to temp list\n",
    "        self._dogs = temp_list # set dogs to created list of dogs\n",
    "\n",
    "    @property\n",
    "    def fishes(self):\n",
    "        return self._fishes\n",
    "\n",
    "    @fishes.setter\n",
    "    def fishes(self, fish_names):\n",
    "        # ----- error handling for fish name list -----\n",
    "        if type(fish_names) != list:\n",
    "            raise TypeError(f\"Fishes must be a list of fish names, not {type(fish_names).__name__}\")\n",
    "        temp_list = [] # creating temp list to store fishes in\n",
    "        for name in fish_names:\n",
    "            # ----- error handling for names in list -----\n",
    "            if type(name) != str:\n",
    "                raise TypeError(f\"Names must be a string, not {type(name).__name__} (\\\"{name}\\\")\")\n",
    "            if name.strip() == \"\":\n",
    "                raise ValueError(f\"Names must contain letters, \\\"{name}\\\" not accepted\")\n",
    "            temp_list.append(Fish(name)) # add Fish with name {name} to temp list\n",
    "        self._fishes = temp_list # set fishes to created list of fishes\n",
    "    def __str__(self):\n",
    "        print_string = f\"{self.name} owns:\"\n",
    "        if self.dogs != []: # if owner has at least one dog\n",
    "            print_string += f\"\\n{self.dogs}\"\n",
    "        if self.fishes != []: # if owner has at least one fish\n",
    "            print_string += f\"\\n{self.fishes}\"\n",
    "        return print_string\n",
    "\n",
    "owner1 = PetOwner(\"Ada\",[\"Snoopy\", \"Pluto\"], [\"Fishy\", \"Buppy\"])\n",
    "owner2 = PetOwner(\"Beda\", [\"Barkly\"] )\n",
    "print(owner1)\n",
    "print(owner2)"
   ]
  }
 ],
 "metadata": {
  "kernelspec": {
   "display_name": "Python 3.9.13 ('Python-Alexander-Andersson-rXBoH5sP')",
   "language": "python",
   "name": "python3"
  },
  "language_info": {
   "codemirror_mode": {
    "name": "ipython",
    "version": 3
   },
   "file_extension": ".py",
   "mimetype": "text/x-python",
   "name": "python",
   "nbconvert_exporter": "python",
   "pygments_lexer": "ipython3",
   "version": "3.9.13"
  },
  "orig_nbformat": 4,
  "vscode": {
   "interpreter": {
    "hash": "b14cc422d827dd3ad3e166e9b0c2744dfcee3cbacc81397c64432efd767b4494"
   }
  }
 },
 "nbformat": 4,
 "nbformat_minor": 2
}
