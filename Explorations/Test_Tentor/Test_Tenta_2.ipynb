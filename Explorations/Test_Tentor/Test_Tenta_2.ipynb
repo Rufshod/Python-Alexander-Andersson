{
 "cells": [
  {
   "cell_type": "markdown",
   "metadata": {},
   "source": [
    "## Uppgift 1 (3p)\n",
    "Beskriv vad koden gör och vad som skrivs ut:\n",
    "\n",
    "```py\n",
    "frukter = [\"jordgubbe\", \"vindruva\", \"grape\"]\n",
    "godfrukt = frukter[2]\n",
    "print(godfrukt[-1])\n",
    "```\n",
    "Skriv en kort kommentar för varje rad."
   ]
  },
  {
   "cell_type": "markdown",
   "metadata": {},
   "source": [
    "## Uppgift 2 (3p)\n",
    "Skapa en funktion som tar in ett heltal n som parameter och skriver ut följande mönstret nedan.\n",
    "Exempel när n = 5:\n",
    "```\n",
    "x o o o o\n",
    "x x o o o\n",
    "x x x o o\n",
    "x x x x o\n",
    "x x x x x\n",
    "```"
   ]
  },
  {
   "cell_type": "code",
   "execution_count": null,
   "metadata": {},
   "outputs": [],
   "source": []
  },
  {
   "cell_type": "markdown",
   "metadata": {},
   "source": [
    "## Uppgift 3 (3p)\n",
    "Skriv en funktion som tar in en radie och en höjd som inparametrar och som returnerar volymen av en\n",
    "cylinder. Volymen för en cylinder är:\n",
    "$$V = \\pi r^2 h$$\n",
    "Låt användaren mata in en radie och en höjd och kör funktionen. Tänk på att ta med lämplig felhantering."
   ]
  },
  {
   "cell_type": "code",
   "execution_count": null,
   "metadata": {},
   "outputs": [],
   "source": []
  },
  {
   "cell_type": "markdown",
   "metadata": {},
   "source": [
    "## Uppgift 4 (3p)\n",
    "Läs in en textfil som heter bamba.txt och innehåller:\n",
    "```\n",
    "v42\n",
    "Chili sin carne\n",
    "Pannkakor\n",
    "Ärtsoppa\n",
    "Kebab\n",
    "Vegetarisk lasagne\n",
    "```\n",
    "Skriv därefter ut dem med korresponderande dagar.\n",
    "\n",
    "```\n",
    "v42\n",
    "Mån: Chili sin carne\n",
    "Tis: Pannkakor\n",
    "Ons: Ärtsoppa\n",
    "Tor: Kebab\n",
    "Fre: Vegetarisk lasagne\n",
    "```"
   ]
  },
  {
   "cell_type": "markdown",
   "metadata": {},
   "source": [
    "## Uppgift 5 (4p)\n",
    "Skapa en funktion som tar in en summa pengar. Den ska printa ut en representation av sedlar och mynt som\n",
    "representerar summan.\n",
    "Exempel 3214 ska ge:\n",
    "\n",
    "- Tusenlapp: 3\n",
    "- Tvåhundralapp: 1\n",
    "- Tiokrona: 1\n",
    "- Enkrona: 4"
   ]
  },
  {
   "cell_type": "code",
   "execution_count": 7,
   "metadata": {},
   "outputs": [
    {
     "name": "stdout",
     "output_type": "stream",
     "text": [
      "Tusenlapp: 3 \n",
      "Tvåhundralapp: 1 \n",
      "Tiokrona: 1 \n",
      "Enkrona: 4\n"
     ]
    }
   ],
   "source": [
    "\n",
    "def money_splitter(money: int): # Defining function \n",
    "    tusenlapp , tvåhundralapp, tiokrona, enkrona = 0, 0, 0, 0 # Setting variables for all the different currenceys\n",
    "\n",
    "    while money >= 0: # While loop that goes through 1000 currencey\n",
    "        if 1000 <= money:\n",
    "            tusenlapp += 1 # adds one to variable tusenlapp.\n",
    "            money -= 1000 # removes 1000 from money\n",
    "        elif 200 <= money:\n",
    "            tvåhundralapp += 1\n",
    "            money -= 200\n",
    "        elif 10 <= money:\n",
    "            tiokrona += 1\n",
    "            money -= 10\n",
    "        elif 1 <= money:\n",
    "            enkrona += 1\n",
    "            money -= 1\n",
    "        else:\n",
    "            return print(f\"Tusenlapp: {tusenlapp} \\nTvåhundralapp: {tvåhundralapp} \\nTiokrona: {tiokrona} \\nEnkrona: {enkrona}\")\n",
    "\n",
    "#Calling the function\n",
    "money_splitter(3214)"
   ]
  },
  {
   "cell_type": "markdown",
   "metadata": {},
   "source": [
    "## Uppgift 6 (4p)\n",
    "Du har följande kod:\n",
    "```py\n",
    "class Animal:\n",
    "def __init__(self, name):\n",
    "self.name = name\n",
    "def __str__(self):\n",
    "return f\"Animal {self.name}\"\n",
    "class Dog(Animal):\n",
    "# notera att __init__ är nedärvd\n",
    "def __repr__(self):\n",
    "return f\"Dog: {self.name}\"\n",
    "class Fish(Animal):\n",
    "def __repr__(self):\n",
    "return f\"Fish: {self.name}\"\n",
    "#TODO: implementera PetOwner\n",
    "class PetOwner:\n",
    "# manuell test av PetOwner\n",
    "owner1 = PetOwner(\"Ada\",[\"Snoopy\", \"Pluto\"], [\"Fishy\", \"Buppy\"])\n",
    "owner2 = PetOwner(\"Beda\", [\"Barkly\"] )\n",
    "print(owner1)\n",
    "print(owner2)\n",
    "```\n",
    "\n",
    "Implementera PetOwner klassen så att du får liknande utskrift som nedan med det manuella testet.\n",
    "\n",
    "```py\n",
    "Ada owns:\n",
    "[Dog: Snoopy, Dog: Pluto]\n",
    "[Fish: Fishy, Fish: Buppy]\n",
    "Beda owns:\n",
    "[Dog: Barkly]\n",
    "```"
   ]
  },
  {
   "cell_type": "code",
   "execution_count": null,
   "metadata": {},
   "outputs": [],
   "source": [
    "class Animal:\n",
    "    def __init__(self, name):\n",
    "        self.name = name\n",
    "    def __str__(self):\n",
    "        return f\"Animal {self.name}\"\n",
    "class Dog(Animal):\n",
    "    # notera att __init__ är nedärvd\n",
    "    def __repr__(self):\n",
    "        return f\"Dog: {self.name}\"\n",
    "class Fish(Animal):\n",
    "    def __repr__(self):\n",
    "        return f\"Fish: {self.name}\"\n",
    "    #TODO: implementera PetOwner\n",
    "class PetOwner:\n",
    "    # manuell test av PetOwner\n",
    "    owner1 = PetOwner(\"Ada\",[\"Snoopy\", \"Pluto\"], [\"Fishy\", \"Buppy\"])\n",
    "    owner2 = PetOwner(\"Beda\", [\"Barkly\"] )"
   ]
  }
 ],
 "metadata": {
  "kernelspec": {
   "display_name": "Python 3.9.13 ('Python-Alexander-Andersson-rXBoH5sP')",
   "language": "python",
   "name": "python3"
  },
  "language_info": {
   "codemirror_mode": {
    "name": "ipython",
    "version": 3
   },
   "file_extension": ".py",
   "mimetype": "text/x-python",
   "name": "python",
   "nbconvert_exporter": "python",
   "pygments_lexer": "ipython3",
   "version": "3.9.13"
  },
  "orig_nbformat": 4,
  "vscode": {
   "interpreter": {
    "hash": "b14cc422d827dd3ad3e166e9b0c2744dfcee3cbacc81397c64432efd767b4494"
   }
  }
 },
 "nbformat": 4,
 "nbformat_minor": 2
}
