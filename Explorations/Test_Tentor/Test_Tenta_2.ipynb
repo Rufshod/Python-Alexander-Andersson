{
 "cells": [
  {
   "cell_type": "markdown",
   "metadata": {},
   "source": [
    "## Uppgift 1 (3p)\n",
    "Beskriv vad koden gör och vad som skrivs ut:\n",
    "\n",
    "```py\n",
    "frukter = [\"jordgubbe\", \"vindruva\", \"grape\"]\n",
    "godfrukt = frukter[2]\n",
    "print(godfrukt[-1])\n",
    "```\n",
    "Skriv en kort kommentar för varje rad."
   ]
  },
  {
   "cell_type": "markdown",
   "metadata": {},
   "source": [
    "## Uppgift 2 (3p)\n",
    "Skapa en funktion som tar in ett heltal n som parameter och skriver ut följande mönstret nedan.\n",
    "Exempel när n = 5:\n",
    "```\n",
    "x o o o o\n",
    "x x o o o\n",
    "x x x o o\n",
    "x x x x o\n",
    "x x x x x\n",
    "```"
   ]
  },
  {
   "cell_type": "code",
   "execution_count": null,
   "metadata": {},
   "outputs": [],
   "source": []
  },
  {
   "cell_type": "markdown",
   "metadata": {},
   "source": [
    "## Uppgift 3 (3p)\n",
    "Skriv en funktion som tar in en radie och en höjd som inparametrar och som returnerar volymen av en\n",
    "cylinder. Volymen för en cylinder är:\n",
    "$$V = \\pi r^2 h$$\n",
    "Låt användaren mata in en radie och en höjd och kör funktionen. Tänk på att ta med lämplig felhantering."
   ]
  },
  {
   "cell_type": "code",
   "execution_count": 2,
   "metadata": {},
   "outputs": [
    {
     "ename": "SyntaxError",
     "evalue": "invalid syntax (1168007205.py, line 6)",
     "output_type": "error",
     "traceback": [
      "\u001b[1;36m  Input \u001b[1;32mIn [2]\u001b[1;36m\u001b[0m\n\u001b[1;33m    if not  isinstance(radius: (int, float):\u001b[0m\n\u001b[1;37m                             ^\u001b[0m\n\u001b[1;31mSyntaxError\u001b[0m\u001b[1;31m:\u001b[0m invalid syntax\n"
     ]
    }
   ],
   "source": [
    "\n",
    "from __future__ import annotations\n",
    "from math import pi\n",
    "\n",
    "def calc_sphere_volume(radius: (int | float)):\n",
    "\t\"\"\"calculates volume of sphere of a given radius\"\"\"\n",
    "\tif not  isinstance(radius (int, float)),:\n",
    "\t\traise TypeError(f\"Radius must be int or float, not {type(radius).__name__}\") #.__name__ returns changes <class str> to str.\n",
    "\tif radius <= 0:\n",
    "\t\traise ValueError(f\"Radius must be a positive value, not {radius}\")\n",
    "\treturn (4*pi*(radius**3))/3\n",
    "\n",
    "#calc_sphere_volume(int(input(\"Enter radius of sphere to calculate its volume: \"))\n",
    "\n",
    "\n",
    "while True:\n",
    "\tuser_input = input(\"Enter radius to calculate the volume\")\n",
    "\ttry:\n",
    "\t\tuser_input = float(user_input)\n",
    "\t\tcalc_sphere_volume(user_input)\n",
    "\t\tbreak\n",
    "\texcept TypeError as err:\n",
    "\t\tprint(err)\n",
    "\texcept ValueError as err:\n",
    "\t\tprint(err)\n"
   ]
  },
  {
   "cell_type": "markdown",
   "metadata": {},
   "source": [
    "## Uppgift 4 (3p)\n",
    "Läs in en textfil som heter bamba.txt och innehåller:\n",
    "```\n",
    "v42\n",
    "Chili sin carne\n",
    "Pannkakor\n",
    "Ärtsoppa\n",
    "Kebab\n",
    "Vegetarisk lasagne\n",
    "```\n",
    "Skriv därefter ut dem med korresponderande dagar.\n",
    "\n",
    "```\n",
    "v42\n",
    "Mån: Chili sin carne\n",
    "Tis: Pannkakor\n",
    "Ons: Ärtsoppa\n",
    "Tor: Kebab\n",
    "Fre: Vegetarisk lasagne\n",
    "```"
   ]
  },
  {
   "cell_type": "markdown",
   "metadata": {},
   "source": [
    "## Uppgift 5 (4p)\n",
    "Skapa en funktion som tar in en summa pengar. Den ska printa ut en representation av sedlar och mynt som\n",
    "representerar summan.\n",
    "Exempel 3214 ska ge:\n",
    "\n",
    "- Tusenlapp: 3\n",
    "- Tvåhundralapp: 1\n",
    "- Tiokrona: 1\n",
    "- Enkrona: 4"
   ]
  },
  {
   "cell_type": "code",
   "execution_count": 7,
   "metadata": {},
   "outputs": [
    {
     "name": "stdout",
     "output_type": "stream",
     "text": [
      "Tusenlapp: 3 \n",
      "Tvåhundralapp: 1 \n",
      "Tiokrona: 1 \n",
      "Enkrona: 4\n"
     ]
    }
   ],
   "source": [
    "\n",
    "def money_splitter(money: int): # Defining function \n",
    "    tusenlapp , tvåhundralapp, tiokrona, enkrona = 0, 0, 0, 0 # Setting variables for all the different currenceys\n",
    "\n",
    "    while money >= 0: # While loop that goes through 1000 currencey\n",
    "        if 1000 <= money:\n",
    "            tusenlapp += 1 # adds one to variable tusenlapp.\n",
    "            money -= 1000 # removes 1000 from money\n",
    "        elif 200 <= money:\n",
    "            tvåhundralapp += 1\n",
    "            money -= 200\n",
    "        elif 10 <= money:\n",
    "            tiokrona += 1\n",
    "            money -= 10\n",
    "        elif 1 <= money:\n",
    "            enkrona += 1\n",
    "            money -= 1\n",
    "        else:\n",
    "            return print(f\"Tusenlapp: {tusenlapp} \\nTvåhundralapp: {tvåhundralapp} \\nTiokrona: {tiokrona} \\nEnkrona: {enkrona}\")\n",
    "\n",
    "#Calling the function\n",
    "money_splitter(3214)"
   ]
  },
  {
   "cell_type": "markdown",
   "metadata": {},
   "source": [
    "## Uppgift 6 (4p)\n",
    "Du har följande kod:\n",
    "```py\n",
    "class Animal:\n",
    "def __init__(self, name):\n",
    "self.name = name\n",
    "def __str__(self):\n",
    "return f\"Animal {self.name}\"\n",
    "class Dog(Animal):\n",
    "# notera att __init__ är nedärvd\n",
    "def __repr__(self):\n",
    "return f\"Dog: {self.name}\"\n",
    "class Fish(Animal):\n",
    "def __repr__(self):\n",
    "return f\"Fish: {self.name}\"\n",
    "#TODO: implementera PetOwner\n",
    "class PetOwner:\n",
    "# manuell test av PetOwner\n",
    "owner1 = PetOwner(\"Ada\",[\"Snoopy\", \"Pluto\"], [\"Fishy\", \"Buppy\"])\n",
    "owner2 = PetOwner(\"Beda\", [\"Barkly\"] )\n",
    "print(owner1)\n",
    "print(owner2)\n",
    "```\n",
    "\n",
    "Implementera PetOwner klassen så att du får liknande utskrift som nedan med det manuella testet.\n",
    "\n",
    "```py\n",
    "Ada owns:\n",
    "[Dog: Snoopy, Dog: Pluto]\n",
    "[Fish: Fishy, Fish: Buppy]\n",
    "Beda owns:\n",
    "[Dog: Barkly]\n",
    "```"
   ]
  },
  {
   "cell_type": "code",
   "execution_count": null,
   "metadata": {},
   "outputs": [],
   "source": [
    "class Animal:\n",
    "    def __init__(self, name):\n",
    "        self.name = name\n",
    "    def __str__(self):\n",
    "        return f\"Animal {self.name}\"\n",
    "class Dog(Animal):\n",
    "    # notera att __init__ är nedärvd\n",
    "    def __repr__(self):\n",
    "        return f\"Dog: {self.name}\"\n",
    "class Fish(Animal):\n",
    "    def __repr__(self):\n",
    "        return f\"Fish: {self.name}\"\n",
    "    #TODO: implementera PetOwner\n",
    "class PetOwner:\n",
    "    # manuell test av PetOwner\n",
    "    owner1 = PetOwner(\"Ada\",[\"Snoopy\", \"Pluto\"], [\"Fishy\", \"Buppy\"])\n",
    "    owner2 = PetOwner(\"Beda\", [\"Barkly\"] )"
   ]
  },
  {
   "cell_type": "code",
   "execution_count": null,
   "metadata": {},
   "outputs": [],
   "source": [
    "\n",
    "\n",
    "cirkel1 = Circle(0,0,1) # Enhetscirkel\n",
    "cirkel2 = Circle(1,1,1)\n",
    "rektangel = Rectangle(0,0,1,1)\n",
    "\n",
    "print(cirkel1==cirkel2) # True\n",
    "print(cirkel2==rektangel) # False\n",
    "\n",
    "print(cirkel1.point_inside_circle(0.5,0.5)) # True\n",
    "\n",
    "cirkel1.translation(5,5) \n",
    "\n",
    "print(cirkel1.point_inside_circle(0.5,0.5)) # False\n",
    "\n",
    "#cirkel1.translate(5,5) # ge ValueError med lämplig kommentar\n"
   ]
  }
 ],
 "metadata": {
  "kernelspec": {
   "display_name": "Python 3.9.13 ('Python-Alexander-Andersson-6f9gzyEi')",
   "language": "python",
   "name": "python3"
  },
  "language_info": {
   "codemirror_mode": {
    "name": "ipython",
    "version": 3
   },
   "file_extension": ".py",
   "mimetype": "text/x-python",
   "name": "python",
   "nbconvert_exporter": "python",
   "pygments_lexer": "ipython3",
   "version": "3.9.13"
  },
  "orig_nbformat": 4,
  "vscode": {
   "interpreter": {
    "hash": "0e170795d12b9f00bb6c905343705ccb98da647a4486686bf7cb14fa618c1741"
   }
  }
 },
 "nbformat": 4,
 "nbformat_minor": 2
}
