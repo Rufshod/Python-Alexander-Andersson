{
 "cells": [
  {
   "cell_type": "markdown",
   "metadata": {},
   "source": [
    "## Exercise 03-06\n",
    "\n",
    "- 8x8 1 2 4 8 16 32 64 128 256 516\n",
    "-     2^0 2^1 2^2 2^3 2^4 2^5\n",
    "- n = 64\n",
    "- LaTeX\n",
    "- $$s = \\sum_{i=0}^{63} 2^i = 2^0 + 2^1 + \\ldots + 2^{63}$$\n",
    "- "
   ]
  },
  {
   "cell_type": "markdown",
   "metadata": {},
   "source": [
    "---\n",
    "## 6. Rice on chessboard (*)\n",
    "\n",
    "In first square of the chessboard there is one grain of rice, in the second square there is two grains, in the third square there is four grains and so on. How many grains are there in the whole chessboard when all squares are filled using this pattern?\n",
    "\n",
    "<img align=\"left\" src=\"../../assets/chessboard.png\" width=\"300\"/>"
   ]
  },
  {
   "cell_type": "code",
   "execution_count": 1,
   "metadata": {},
   "outputs": [
    {
     "name": "stdout",
     "output_type": "stream",
     "text": [
      "4137113856168020\n"
     ]
    }
   ],
   "source": [
    "my_sum = 0\n",
    "rice = 1\n",
    "board = 64\n",
    "for i in range(board):\n",
    "    rice += rice**i\n",
    "    i +=1\n",
    "print(rice)"
   ]
  },
  {
   "cell_type": "code",
   "execution_count": 4,
   "metadata": {},
   "outputs": [
    {
     "name": "stdout",
     "output_type": "stream",
     "text": [
      "18446744073709551615\n"
     ]
    }
   ],
   "source": [
    "my_sum = 0\n",
    "board = 64\n",
    "for i in range(board):\n",
    "    my_sum += 2**i\n",
    "\n",
    "print(f\" total amount of rice {my_sum}.\")"
   ]
  },
  {
   "cell_type": "code",
   "execution_count": 2,
   "metadata": {},
   "outputs": [
    {
     "name": "stdout",
     "output_type": "stream",
     "text": [
      "1 at square 1\n",
      "2 at square 2\n",
      "4 at square 3\n",
      "8 at square 4\n",
      "16 at square 5\n",
      "32 at square 6\n",
      "64 at square 7\n",
      "128 at square 8\n",
      "256 at square 9\n",
      "512 at square 10\n",
      "1024 at square 11\n",
      "2048 at square 12\n",
      "4096 at square 13\n",
      "8192 at square 14\n",
      "16384 at square 15\n",
      "32768 at square 16\n",
      "65536 at square 17\n",
      "131072 at square 18\n",
      "262144 at square 19\n",
      "524288 at square 20\n",
      "1048576 at square 21\n",
      "2097152 at square 22\n",
      "4194304 at square 23\n",
      "8388608 at square 24\n",
      "16777216 at square 25\n",
      "33554432 at square 26\n",
      "67108864 at square 27\n",
      "134217728 at square 28\n",
      "268435456 at square 29\n",
      "536870912 at square 30\n",
      "1073741824 at square 31\n",
      "2147483648 at square 32\n",
      "4294967296 at square 33\n",
      "8589934592 at square 34\n",
      "17179869184 at square 35\n",
      "34359738368 at square 36\n",
      "68719476736 at square 37\n",
      "137438953472 at square 38\n",
      "274877906944 at square 39\n",
      "549755813888 at square 40\n",
      "1099511627776 at square 41\n",
      "2199023255552 at square 42\n",
      "4398046511104 at square 43\n",
      "8796093022208 at square 44\n",
      "17592186044416 at square 45\n",
      "35184372088832 at square 46\n",
      "70368744177664 at square 47\n",
      "140737488355328 at square 48\n",
      "281474976710656 at square 49\n",
      "562949953421312 at square 50\n",
      "1125899906842624 at square 51\n",
      "2251799813685248 at square 52\n",
      "4503599627370496 at square 53\n",
      "9007199254740992 at square 54\n",
      "18014398509481984 at square 55\n",
      "36028797018963968 at square 56\n",
      "72057594037927936 at square 57\n",
      "144115188075855872 at square 58\n",
      "288230376151711744 at square 59\n",
      "576460752303423488 at square 60\n",
      "1152921504606846976 at square 61\n",
      "2305843009213693952 at square 62\n",
      "4611686018427387904 at square 63\n",
      "9223372036854775808 at square 64\n",
      "The total amount of rice is:18446744073709551615\n"
     ]
    }
   ],
   "source": [
    "rows = 8 \n",
    "columns = 8\n",
    "squares = rows * columns\n",
    "rice = 1\n",
    "rice_total = 0\n",
    "\n",
    "for square in range(squares):\n",
    "    print(f\"{rice} at square {square+1}\")\n",
    "    rice_total += rice\n",
    "    rice *= 2\n",
    "print(f\"The total amount of rice is:{rice_total}\")"
   ]
  },
  {
   "cell_type": "code",
   "execution_count": 3,
   "metadata": {},
   "outputs": [
    {
     "name": "stdout",
     "output_type": "stream",
     "text": [
      "18446744073709551615\n"
     ]
    }
   ],
   "source": [
    "sum_num = 0\n",
    "for i in range(0, 64):\n",
    "    sum_num += (2**i)\n",
    "print(sum_num)"
   ]
  }
 ],
 "metadata": {
  "kernelspec": {
   "display_name": "Python 3.9.13 ('Python-Alexander-Andersson-6f9gzyEi')",
   "language": "python",
   "name": "python3"
  },
  "language_info": {
   "codemirror_mode": {
    "name": "ipython",
    "version": 3
   },
   "file_extension": ".py",
   "mimetype": "text/x-python",
   "name": "python",
   "nbconvert_exporter": "python",
   "pygments_lexer": "ipython3",
   "version": "3.9.13"
  },
  "orig_nbformat": 4,
  "vscode": {
   "interpreter": {
    "hash": "0e170795d12b9f00bb6c905343705ccb98da647a4486686bf7cb14fa618c1741"
   }
  }
 },
 "nbformat": 4,
 "nbformat_minor": 2
}
