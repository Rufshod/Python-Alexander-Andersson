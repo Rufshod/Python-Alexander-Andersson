{
 "cells": [
  {
   "cell_type": "markdown",
   "metadata": {},
   "source": [
    "# Exercise session 1\n",
    "\n",
    "## Exercise 00-3"
   ]
  },
  {
   "cell_type": "markdown",
   "metadata": {},
   "source": [
    "$$accuracy = \\frac {TP+TN}{TP+TN+FP+FN}$$ \n",
    "fix this later"
   ]
  },
  {
   "cell_type": "code",
   "execution_count": 1,
   "metadata": {},
   "outputs": [
    {
     "name": "stdout",
     "output_type": "stream",
     "text": [
      "Accuracy of this fire model: 0.987\n"
     ]
    }
   ],
   "source": [
    "true_positive = 2\n",
    "false_positive = 2\n",
    "false_negative = 11\n",
    "true_negative = 985\n",
    "\n",
    "accuracy = (true_positive+true_negative)/(true_positive+true_negative+false_positive+false_negative)\n",
    "\n",
    "print(f\"Accuracy of this fire model: {accuracy}\")\n",
    "\n",
    "# is this a good model?\n",
    "# No, dont always trust the numbers. too many false positives"
   ]
  },
  {
   "cell_type": "markdown",
   "metadata": {},
   "source": [
    "## Exercise 00-5\n",
    "## 5. Euclidean distance (*)\n",
    "\n",
    "The Euclideam distance between the points $P_1$ and $P_2$ is the length of a line between them. Let $P_1: (3,5)$ and $P_2: (-2,4)$ and compute the distance between them.\n",
    "\n",
    "\n",
    "Formula\n",
    "$$d = \\sqrt{(x_1-x_2)^2+(y_1-y_2)^2}$$"
   ]
  },
  {
   "cell_type": "code",
   "execution_count": 9,
   "metadata": {},
   "outputs": [
    {
     "name": "stdout",
     "output_type": "stream",
     "text": [
      "Distance between [3, 5] and [-2, 4] is 5.1 distance units\n"
     ]
    }
   ],
   "source": [
    "import math\n",
    "\n",
    "point1 = [3,5]\n",
    "point2 = [-2,4]\n",
    "\n",
    "distance = math.sqrt((point1[0]-point2[0])**2 + (point1[1]-point2[1])**2)\n",
    "\n",
    "print(f\"Distance between {point1} and {point2} is {distance:.1f} distance units\")\n"
   ]
  },
  {
   "cell_type": "code",
   "execution_count": 3,
   "metadata": {},
   "outputs": [
    {
     "name": "stdout",
     "output_type": "stream",
     "text": [
      "(3, 5) (-2, 4)\n",
      " distance = 5.1\n"
     ]
    }
   ],
   "source": [
    "from math import sqrt\n",
    "p1 = (3,5)\n",
    "p2 = (-2,4)\n",
    "x1= 3\n",
    "y1= 5\n",
    "x2= -2\n",
    "y2= 4\n",
    "distance = (x1-x2)**2 + (y1-y2)**2\n",
    "\n",
    "print(p1,p2)\n",
    "print(f\" distance = {sqrt(distance):.1f}\")\n"
   ]
  },
  {
   "cell_type": "markdown",
   "metadata": {},
   "source": [
    "## 3. Right angle (*)\n",
    "\n",
    "Ask the user to input three angles and check if the triangle has a right angle. Your code should make sure that all three angles are valid and make up a triangle.\n",
    "\n",
    "Valid angle:\n",
    "- positive\n",
    "- $\\alpha + \\beta + \\gamma = 180$\n",
    "\n",
    "check if one angle is 90 degrees"
   ]
  },
  {
   "cell_type": "code",
   "execution_count": 24,
   "metadata": {},
   "outputs": [
    {
     "name": "stdout",
     "output_type": "stream",
     "text": [
      "['1221']\n",
      "invalid angles 180\n",
      "angle sum is not between 0 - 180\n"
     ]
    }
   ],
   "source": [
    "angles = input(\"Input three angles seperated with space: \")\n",
    "\n",
    "#angles = \"30 60 90\" #dummy\n",
    "print(angles.split())\n",
    "\n",
    "\n",
    "# angles.split() → gives a list of strings\n",
    "# angle → gets value of each list item\n",
    "# float(angle) → type converts each string element to decimal number\n",
    "angles = [float(angle) for angle in angles.split()]\n",
    "\n",
    "if sum(angles) != 180:\n",
    "    print(\"invalid angles 180\")\n",
    "\n",
    "for angle in angles:\n",
    "    if not 0 <= angle <= 180:\n",
    "        print(\"angle sum is not between 0 - 180\")\n",
    "\n",
    "    if angle == 90:\n",
    "        print(\"rightangles\")"
   ]
  }
 ],
 "metadata": {
  "kernelspec": {
   "display_name": "Python 3.9.13 ('Python-Alexander-Andersson-6f9gzyEi')",
   "language": "python",
   "name": "python3"
  },
  "language_info": {
   "codemirror_mode": {
    "name": "ipython",
    "version": 3
   },
   "file_extension": ".py",
   "mimetype": "text/x-python",
   "name": "python",
   "nbconvert_exporter": "python",
   "pygments_lexer": "ipython3",
   "version": "3.9.13"
  },
  "orig_nbformat": 4,
  "vscode": {
   "interpreter": {
    "hash": "0e170795d12b9f00bb6c905343705ccb98da647a4486686bf7cb14fa618c1741"
   }
  }
 },
 "nbformat": 4,
 "nbformat_minor": 2
}
