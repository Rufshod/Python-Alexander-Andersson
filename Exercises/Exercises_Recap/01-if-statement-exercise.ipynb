{
 "cells": [
  {
   "attachments": {},
   "cell_type": "markdown",
   "metadata": {},
   "source": [
    "\n",
    "<a href=\"https://colab.research.google.com/github/kokchun/Python-course-AI22/blob/main/Exercises/01-if-statement-exercise.ipynb\" target=\"_parent\"><img align=\"left\" src=\"https://colab.research.google.com/assets/colab-badge.svg\" alt=\"Open In Colab\"/></a> &nbsp; to see hints and answers."
   ]
  },
  {
   "attachments": {},
   "cell_type": "markdown",
   "metadata": {},
   "source": [
    "# if statements exercises\n",
    "\n",
    "---\n",
    "These are introductory exercises in Python with focus in **if** statement.\n",
    "\n",
    "<p class = \"alert alert-info\" role=\"alert\"><b>Remember</b> to use <b>descriptive variable names</b> in order to get readable code </p>\n",
    "\n",
    "<p class = \"alert alert-info\" role=\"alert\"><b>Remember</b> to format your answers in a neat way using <b>f-strings</b>\n",
    "\n",
    "<p class = \"alert alert-info\" role=\"alert\"><b>Remember</b> to format your input questions in a pedagogical way to guide the user\n",
    "\n",
    "The number of stars (\\*), (\\*\\*), (\\*\\*\\*) denotes the difficulty level of the task\n",
    "\n",
    "---"
   ]
  },
  {
   "attachments": {},
   "cell_type": "markdown",
   "metadata": {},
   "source": [
    "## 1. Check sign (*)\n",
    "\n",
    "Ask the user to input a number and check if this number is **positive**, **negative** or **zero** and print it out."
   ]
  },
  {
   "cell_type": "code",
   "execution_count": 19,
   "metadata": {},
   "outputs": [
    {
     "name": "stdout",
     "output_type": "stream",
     "text": [
      "Please enter a valid number\n"
     ]
    }
   ],
   "source": [
    "def is_even():\n",
    "    user_number = input(\"Enter a number: \")\n",
    "    if user_number.isdigit():\n",
    "        if int(user_number) % 2 == 0:\n",
    "            print(\"The number is even\")\n",
    "        else:\n",
    "            print(\"The number is odd\")\n",
    "    else:\n",
    "        print(\"Please enter a valid number\")\n",
    "\n",
    "is_even()"
   ]
  },
  {
   "attachments": {},
   "cell_type": "markdown",
   "metadata": {},
   "source": [
    "---\n",
    "## 2. Smallest (*)\n",
    "Ask the user to input two numbers and check which one is the smallest and print it out.   "
   ]
  },
  {
   "cell_type": "code",
   "execution_count": 13,
   "metadata": {},
   "outputs": [
    {
     "name": "stdout",
     "output_type": "stream",
     "text": [
      "Please enter a valid number\n"
     ]
    }
   ],
   "source": [
    "def num2():\n",
    "    user_number_1 = input(\"Enter a number: \")\n",
    "    user_number_2 = input(\"Enter a number: \")\n",
    "    if user_number_1.isdigit() and user_number_2.isdigit():\n",
    "        if user_number_1 > user_number_2:\n",
    "            print(\"The first number is greater than the second\")\n",
    "        elif user_number_1 < user_number_2:\n",
    "            print(\"The first number is smaller than the second\")\n",
    "        elif user_number_1 == user_number_2:\n",
    "            print(\"The numbers are equal\")\n",
    "    else:\n",
    "        print(\"Please enter a valid number\")\n",
    "\n",
    "num2()"
   ]
  },
  {
   "attachments": {},
   "cell_type": "markdown",
   "metadata": {},
   "source": [
    "---\n",
    "## 3. Right angle (*)\n",
    "\n",
    "Ask the user to input three angles and check if the triangle has a right angle. Your code should make sure that all three angles are valid and make up a triangle.\n",
    "\n",
    "<img align=\"left\" src=\"../../assets/triangle_angles.png\" width=\"200\"/>"
   ]
  },
  {
   "cell_type": "code",
   "execution_count": 39,
   "metadata": {},
   "outputs": [
    {
     "name": "stdout",
     "output_type": "stream",
     "text": [
      "This is a valid triangle\n"
     ]
    }
   ],
   "source": [
    "# Three user inputs that will be creating a triangle\n",
    "def triangle():\n",
    "    angle_1 = input(\"Enter the first angle: \")\n",
    "    angle_2 = input(\"Enter the second angle: \")\n",
    "    angle_3 = input(\"Enter the third angle: \")\n",
    "\n",
    "    if angle_1.isdigit() and angle_2.isdigit() and angle_3.isdigit() and  angle_1 != \"0\" and angle_2 != \"0\" and angle_3 != \"0\":\n",
    "        if int(angle_1) + int(angle_2) + int(angle_3) == 180:\n",
    "            print(\"This is a valid triangle\")\n",
    "        else:\n",
    "            print(\"This is not a valid triangle\")\n",
    "    else:\n",
    "        print(\"Please enter a valid number\")\n",
    "\n",
    "triangle()\n"
   ]
  },
  {
   "attachments": {},
   "cell_type": "markdown",
   "metadata": {},
   "source": [
    "----\n",
    "## 4. Medicine (*)\n",
    "\n",
    "The information in the following table is stated in a medicine package. Also it is stated that for children weight is more important than age.\n",
    "\n",
    "<table align=\"left\">\n",
    "<thead>\n",
    "    <tr>\n",
    "        <th></th>\n",
    "        <th>Age</th>\n",
    "        <th>Number of pills</th>\n",
    "    </tr>\n",
    "</thead>\n",
    "\n",
    "<tbody>\n",
    "  <tr>\n",
    "    <td>Adults & adolescent <br>over 40 kg</td>\n",
    "    <td>over 12 years</td>\n",
    "    <td>1-2</td>\n",
    "  </tr>\n",
    "\n",
    "  <tr>\n",
    "    <td>Children 26-40 kg</td>\n",
    "    <td>7-12 years</td>\n",
    "    <td>1/2-1</td>\n",
    "  </tr>\n",
    "\n",
    "  <tr>\n",
    "    <td>Children 15-25 kg</td>\n",
    "    <td>3-7 years</td>\n",
    "    <td>1/2</td>\n",
    "  </tr>\n",
    "</tbody>\n",
    "</table>"
   ]
  },
  {
   "attachments": {},
   "cell_type": "markdown",
   "metadata": {},
   "source": [
    "Let the user input an **age** and a **weight**, the program should recommend the number of pills for the user."
   ]
  },
  {
   "attachments": {},
   "cell_type": "markdown",
   "metadata": {},
   "source": [
    "---\n",
    "## 5. Divisible (*)\n",
    "Let the user input a number. Check if the number is\n",
    "<ol type=\"a\">\n",
    "  <li>even or odd</li>\n",
    "  <li>is divisible by 5</li>\n",
    "  <li>is divisble by 5 and odd</li>\n",
    "</ol> "
   ]
  },
  {
   "cell_type": "code",
   "execution_count": null,
   "metadata": {},
   "outputs": [],
   "source": [
    "# Let the user input a number. Check if the number is\n",
    "# even or odd\n",
    "\n",
    "def user_input():\n",
    "    user_number = input(\"Enter a number: \")\n",
    "    if user_number.isdigit():\n",
    "        if int(user_number) % 2 == 0:\n",
    "            print(\"The number is even\")\n",
    "        else:\n",
    "            print(\"The number is odd\")\n",
    "    else:\n",
    "        print(\"Please enter a valid number\")\n",
    "\n",
    "# is divisible by 5\n",
    "def divisible_by_5():\n",
    "    user_number = input(\"Enter a number: \")\n",
    "    if user_number.isdigit():\n",
    "        if int(user_number) % 5 == 0:\n",
    "            print(\"The number is divisible by 5\")\n",
    "        else:\n",
    "            print(\"The number is not divisible by 5\")\n",
    "    else:\n",
    "        print(\"Please enter a valid number\")\n",
    "\n",
    "#"
   ]
  },
  {
   "attachments": {},
   "cell_type": "markdown",
   "metadata": {},
   "source": [
    "---\n",
    "## 6. Luggage size (*)\n",
    "\n",
    "The maximum allowed luggage size for boarding an airplane is: \n",
    "- weight: 8kg\n",
    "- dimensions: 55x40x23cm (length x width x height) \n",
    "\n",
    "Let the user input weight, length, width and height of the luggage. The program should check if the luggage is allowed or not."
   ]
  },
  {
   "attachments": {},
   "cell_type": "markdown",
   "metadata": {},
   "source": [
    "---\n",
    "\n",
    "Kokchun Giang\n",
    "\n",
    "[LinkedIn][linkedIn_kokchun]\n",
    "\n",
    "[GitHub portfolio][github_portfolio]\n",
    "\n",
    "[linkedIn_kokchun]: https://www.linkedin.com/in/kokchungiang/\n",
    "[github_portfolio]: https://github.com/kokchun/Portfolio-Kokchun-Giang\n",
    "\n",
    "---"
   ]
  },
  {
   "cell_type": "code",
   "execution_count": 1,
   "metadata": {},
   "outputs": [
    {
     "name": "stdout",
     "output_type": "stream",
     "text": [
      "Area of the polygon: 3.9999798481999997\n"
     ]
    }
   ],
   "source": [
    "import math\n",
    "\n",
    "# Example data\n",
    "angles = [0, math.pi/2, math.pi, 3*math.pi/2]  # angles in radians\n",
    "distances = [1.41421, 1.41421, 1.41421, 1.41421]  # distances from ORIGO to corners\n",
    "\n",
    "# Convert angles and distances to vertices\n",
    "vertices = [(r * math.cos(theta), r * math.sin(theta)) for r, theta in zip(distances, angles)]\n",
    "\n",
    "# Add the first vertex to the end of the list to close the polygon\n",
    "vertices.append(vertices[0])\n",
    "\n",
    "# Calculate area\n",
    "area = 0.5 * sum(xj*yk - xk*yj for (xj, yj), (xk, yk) in zip(vertices[:-1], vertices[1:]))\n",
    "\n",
    "print(\"Area of the polygon:\", area)\n"
   ]
  },
  {
   "cell_type": "code",
   "execution_count": 6,
   "metadata": {},
   "outputs": [
    {
     "name": "stdout",
     "output_type": "stream",
     "text": [
      "Polygon area: 3.9999798481999997\n"
     ]
    }
   ],
   "source": [
    "import math\n",
    "\n",
    "def calculate_polygon_area(angles, lengths):\n",
    "    if len(angles) != len(lengths):\n",
    "        raise ValueError(\"Number of angles and lengths should be the same.\")\n",
    "    \n",
    "    num_sides = len(angles)\n",
    "    total_area = 0\n",
    "    \n",
    "    for i in range(num_sides):\n",
    "        j = (i + 1) % num_sides\n",
    "        area = 0.5 * lengths[i] * lengths[j] * math.sin(math.radians(angles[i]))\n",
    "        total_area += area\n",
    "    \n",
    "    return total_area\n",
    "\n",
    "# Example usage:\n",
    "lst_angles = [90, 90, 90, 90]  # Angles of a square\n",
    "lst_lengths = [1.41421, 1.41421, 1.41421, 1.41421]  # Lengths of the sides of a square\n",
    "\n",
    "polygon_area = calculate_polygon_area(lst_angles, lst_lengths)\n",
    "print(\"Polygon area:\", polygon_area)\n"
   ]
  },
  {
   "cell_type": "code",
   "execution_count": 8,
   "metadata": {},
   "outputs": [
    {
     "name": "stdout",
     "output_type": "stream",
     "text": [
      "Overlap area: 0.0\n"
     ]
    }
   ],
   "source": [
    "def calculate_polygon_overlap_area(poly1, poly2):\n",
    "    def point_in_polygon(x, y, polygon):\n",
    "        n = len(polygon)\n",
    "        inside = False\n",
    "        p1x, p1y = polygon[0]\n",
    "        for i in range(n + 1):\n",
    "            p2x, p2y = polygon[i % n]\n",
    "            if y > min(p1y, p2y):\n",
    "                if y <= max(p1y, p2y):\n",
    "                    if x <= max(p1x, p2x):\n",
    "                        if p1y != p2y:\n",
    "                            xinters = (y - p1y) * (p2x - p1x) / (p2y - p1y) + p1x\n",
    "                        if p1x == p2x or x <= xinters:\n",
    "                            inside = not inside\n",
    "            p1x, p1y = p2x, p2y\n",
    "        return inside\n",
    "\n",
    "    def calculate_polygon_area(polygon):\n",
    "        n = len(polygon)\n",
    "        area = 0\n",
    "        for i in range(n):\n",
    "            x1, y1 = polygon[i]\n",
    "            x2, y2 = polygon[(i + 1) % n]\n",
    "            area += x1 * y2 - x2 * y1\n",
    "        return abs(area) / 2\n",
    "\n",
    "    overlap_points = []\n",
    "    for point in poly1:\n",
    "        if point_in_polygon(point[0], point[1], poly2):\n",
    "            overlap_points.append(point)\n",
    "    for point in poly2:\n",
    "        if point_in_polygon(point[0], point[1], poly1):\n",
    "            overlap_points.append(point)\n",
    "\n",
    "    overlap_area = calculate_polygon_area(overlap_points)\n",
    "    return overlap_area\n",
    "\n",
    "# Example usage:\n",
    "poly1 = [(1, 1), (3, 1), (3, 3), (1, 3)]  # Square\n",
    "poly2 = [(1, 1), (3, 1), (3, 3), (1, 3)]  # Square\n",
    "\n",
    "overlap_area = calculate_polygon_overlap_area(poly1, poly2)\n",
    "print(\"Overlap area:\", overlap_area)\n"
   ]
  },
  {
   "cell_type": "code",
   "execution_count": 22,
   "metadata": {},
   "outputs": [
    {
     "name": "stdout",
     "output_type": "stream",
     "text": [
      "Overlap area: 2.220446049250313e-16\n"
     ]
    }
   ],
   "source": [
    "import math\n",
    "\n",
    "def calculate_polygon_area(angles, lengths):\n",
    "    if len(angles) != len(lengths):\n",
    "        raise ValueError(\"Number of angles and lengths should be the same.\")\n",
    "\n",
    "    num_sides = len(angles)\n",
    "    total_area = 0\n",
    "\n",
    "    for i in range(num_sides):\n",
    "        j = (i + 1) % num_sides\n",
    "        area = 0.5 * lengths[i] * lengths[j] * math.sin(math.radians(angles[i]))\n",
    "        total_area += area\n",
    "\n",
    "    return total_area\n",
    "\n",
    "\n",
    "def calculate_overlap_area(poly1_angles, poly1_lengths, poly2_angles, poly2_lengths):\n",
    "    poly1_area = calculate_polygon_area(poly1_angles, poly1_lengths)\n",
    "    poly2_area = calculate_polygon_area(poly2_angles, poly2_lengths)\n",
    "\n",
    "    intersection_area = 0\n",
    "\n",
    "    for i in range(len(poly1_angles)):\n",
    "        for j in range(len(poly2_angles)):\n",
    "            x1 = poly1_lengths[i] * math.cos(math.radians(poly1_angles[i]))\n",
    "            y1 = poly1_lengths[i] * math.sin(math.radians(poly1_angles[i]))\n",
    "\n",
    "            x2 = poly1_lengths[(i + 1) % len(poly1_angles)] * math.cos(math.radians(poly1_angles[(i + 1) % len(poly1_angles)]))\n",
    "            y2 = poly1_lengths[(i + 1) % len(poly1_angles)] * math.sin(math.radians(poly1_angles[(i + 1) % len(poly1_angles)]))\n",
    "\n",
    "            x3 = poly2_lengths[j] * math.cos(math.radians(poly2_angles[j]))\n",
    "            y3 = poly2_lengths[j] * math.sin(math.radians(poly2_angles[j]))\n",
    "\n",
    "            x4 = poly2_lengths[(j + 1) % len(poly2_angles)] * math.cos(math.radians(poly2_angles[(j + 1) % len(poly2_angles)]))\n",
    "            y4 = poly2_lengths[(j + 1) % len(poly2_angles)] * math.sin(math.radians(poly2_angles[(j + 1) % len(poly2_angles)]))\n",
    "\n",
    "            intersection_area += calculate_intersection_area(x1, y1, x2, y2, x3, y3, x4, y4)\n",
    "\n",
    "    return intersection_area\n",
    "\n",
    "\n",
    "def calculate_intersection_area(x1, y1, x2, y2, x3, y3, x4, y4):\n",
    "    area = 0\n",
    "\n",
    "    a1 = y2 - y1\n",
    "    b1 = x1 - x2\n",
    "    c1 = x2 * y1 - x1 * y2\n",
    "\n",
    "    a2 = y4 - y3\n",
    "    b2 = x3 - x4\n",
    "    c2 = x4 * y3 - x3 * y4\n",
    "\n",
    "    det = a1 * b2 - a2 * b1\n",
    "\n",
    "    if det != 0:\n",
    "        intersection_x = (b1 * c2 - b2 * c1) / det\n",
    "        intersection_y = (a2 * c1 - a1 * c2) / det\n",
    "\n",
    "        if (min(x1, x2) <= intersection_x <= max(x1, x2)) and (min(x3, x4) <= intersection_x <= max(x3, x4)) and \\\n",
    "                (min(y1, y2) <= intersection_y <= max(y1, y2)) and (min(y3, y4) <= intersection_y <= max(y3, y4)):\n",
    "            area = calculate_triangle_area(x1, y1, intersection_x, intersection_y, x3, y3)\n",
    "\n",
    "    return area\n",
    "\n",
    "\n",
    "def calculate_triangle_area(x1, y1, x2, y2, x3, y3):\n",
    "    return abs(0.5 * ((x1 * (y2 - y3)) + (x2 * (y3 - y1)) + (x3 * (y1 - y2))))\n",
    "\n",
    "\n",
    "# Example usage:\n",
    "poly1_angles = [45, 135, 225, 315]  # Angles of a square\n",
    "poly1_lengths = [1.41421, 1.41421, 1.41421, 1.41421]  # Lengths of the sides of a square\n",
    "\n",
    "poly2_angles = [45, 135, 225, 315]  # Angles of a rhomb\n",
    "poly2_lengths = [1.41421, 1.41421, 1.41421, 1.41421]  # Lengths of the sides of a rhomb\n",
    "\n",
    "overlap_area = calculate_overlap_area(poly1_angles, poly1_lengths, poly2_angles, poly2_lengths)\n",
    "print(\"Overlap area:\", overlap_area)\n"
   ]
  }
 ],
 "metadata": {
  "kernelspec": {
   "display_name": "Python 3.9.6 64-bit",
   "language": "python",
   "name": "python3"
  },
  "language_info": {
   "codemirror_mode": {
    "name": "ipython",
    "version": 3
   },
   "file_extension": ".py",
   "mimetype": "text/x-python",
   "name": "python",
   "nbconvert_exporter": "python",
   "pygments_lexer": "ipython3",
   "version": "3.9.13"
  },
  "orig_nbformat": 4,
  "vscode": {
   "interpreter": {
    "hash": "0da836a34428266995a795f1e1e27b816fa1c02f148d9728b3fbbbc5459afca6"
   }
  }
 },
 "nbformat": 4,
 "nbformat_minor": 2
}
