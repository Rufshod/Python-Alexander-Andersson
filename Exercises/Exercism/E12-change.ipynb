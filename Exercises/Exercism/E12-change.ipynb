{
 "cells": [
  {
   "cell_type": "code",
   "execution_count": 30,
   "metadata": {},
   "outputs": [],
   "source": [
    "\n",
    "from __future__ import annotations\n",
    "\n",
    "def find_fewest_coins(coins: (int | float), target: list) -> list:\n",
    "    # coins is int or float\n",
    "    if not isinstance(coins, (int, float)): # ifall instance (coins) INTE är (int, float)\n",
    "        raise TypeError(f\"Coins must be a number, not {type(coins).name}\")\n",
    "    # coins is not negative\n",
    "    if coins < 0:\n",
    "        raise ValueError(f\"Coins must be greater than zero, not {coins}\")\n",
    "    # target is list\n",
    "    if type(target) != list:\n",
    "        raise TypeError(f\"Target must be a list, not a{type(target).name}\")\n",
    "    # target contains only int or float\n",
    "    # target contains only values greater than 0\n",
    "    for index, value in enumerate(target):\n",
    "        if not isinstance(value, (int, float)):\n",
    "            raise TypeError(f\"Target must contain numbers, value index {index} ({value}) is not accepted\")\n",
    "        if not value > 0: # ifall inte värdet är större än 0\n",
    "            raise ValueError(f\"Coins must be greater than zero, not {coins}\")\n",
    "    return_list = []\n",
    "    for value in reversed(target):\n",
    "        while True:\n",
    "            if (coins - value) >= 0:\n",
    "                coins -= value\n",
    "                return_list.append(value)\n",
    "            else:\n",
    "                break\n",
    "    return return_list[::-1]\n",
    "    \n",
    "    \n",
    "    \n",
    "    \n",
    "    \n",
    "    \n",
    "    # for index, value in enumerate(target):\n",
    "    #     if index + 1 == len(target):\n",
    "    #         return_list.append(coins // value)\n",
    "    #     else:\n",
    "    #         count = coins % target[index + 1]\n",
    "    #         for i in range(count // value):\n",
    "    #             return_list.append(value)\n",
    "    #         coins -= value\n",
    "    #return return_list\n",
    "        "
   ]
  },
  {
   "cell_type": "code",
   "execution_count": 31,
   "metadata": {},
   "outputs": [
    {
     "data": {
      "text/plain": [
       "[1, 1, 1, 1, 10, 10, 25, 25, 25]"
      ]
     },
     "execution_count": 31,
     "metadata": {},
     "output_type": "execute_result"
    }
   ],
   "source": [
    "find_fewest_coins(99, [1, 5, 10, 25, 100])"
   ]
  }
 ],
 "metadata": {
  "kernelspec": {
   "display_name": "Python 3.9.13 ('Python-Alexander-Andersson-6f9gzyEi')",
   "language": "python",
   "name": "python3"
  },
  "language_info": {
   "codemirror_mode": {
    "name": "ipython",
    "version": 3
   },
   "file_extension": ".py",
   "mimetype": "text/x-python",
   "name": "python",
   "nbconvert_exporter": "python",
   "pygments_lexer": "ipython3",
   "version": "3.9.13"
  },
  "orig_nbformat": 4,
  "vscode": {
   "interpreter": {
    "hash": "0e170795d12b9f00bb6c905343705ccb98da647a4486686bf7cb14fa618c1741"
   }
  }
 },
 "nbformat": 4,
 "nbformat_minor": 2
}
