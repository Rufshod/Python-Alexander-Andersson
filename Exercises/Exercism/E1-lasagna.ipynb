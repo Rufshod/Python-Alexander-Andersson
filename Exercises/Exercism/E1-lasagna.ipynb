{
 "cells": [
  {
   "cell_type": "code",
   "execution_count": 5,
   "metadata": {},
   "outputs": [
    {
     "name": "stdout",
     "output_type": "stream",
     "text": [
      "-39\n"
     ]
    }
   ],
   "source": [
    "\"\"\"Functions used in preparing Guido's gorgeous lasagna.\n",
    "\n",
    "Learn about Guido, the creator of the Python language: https://en.wikipedia.org/wiki/Guido_van_Rossum\n",
    "\"\"\"\n",
    "\n",
    "# TODO: define the 'EXPECTED_BAKE_TIME' constant\n",
    "\n",
    "EXPECTED_BAKE_TIME = 40\n",
    "\n",
    "# TODO: consider defining the 'PREPARATION_TIME' constant\n",
    "#       equal to the time it takes to prepare a single layer\n",
    "PREPARATION_TIME = 2\n",
    "\n",
    "# TODO: define the 'bake_time_remaining()' function\n",
    "def bake_time_remaining(time):\n",
    "    return (time - EXPECTED_BAKE_TIME)\n",
    "    \n",
    "print(bake_time_remaining(1))\n",
    "\"\"\"Calculate the bake time remaining.\n",
    "\n",
    ":param elapsed_bake_time: int - baking time already elapsed.\n",
    ":return: int - remaining bake time (in minutes) derived from 'EXPECTED_BAKE_TIME'.\n",
    "\n",
    "Function that takes the actual minutes the lasagna has been in the oven as\n",
    "an argument and returns how many minutes the lasagna still needs to bake\n",
    "based on the `EXPECTED_BAKE_TIME`.\n",
    "\"\"\"\n",
    "\n",
    "\n",
    "\n",
    "# TODO: define the 'preparation_time_in_minutes()' function\n",
    "#       and consider using 'PREPARATION_TIME' here\n",
    "def preparation_time_in_minutes(layers):\n",
    "    return PREPARATION_TIME * layers\n",
    "\n",
    "# TODO: define the 'elapsed_time_in_minutes()' function\n",
    "def elapsed_time_in_minutes(layers):\n",
    "    return PREPARATION_TIME * layers"
   ]
  }
 ],
 "metadata": {
  "kernelspec": {
   "display_name": "Python 3.9.13 ('Python-Alexander-Andersson-6f9gzyEi')",
   "language": "python",
   "name": "python3"
  },
  "language_info": {
   "codemirror_mode": {
    "name": "ipython",
    "version": 3
   },
   "file_extension": ".py",
   "mimetype": "text/x-python",
   "name": "python",
   "nbconvert_exporter": "python",
   "pygments_lexer": "ipython3",
   "version": "3.9.13"
  },
  "orig_nbformat": 4,
  "vscode": {
   "interpreter": {
    "hash": "0e170795d12b9f00bb6c905343705ccb98da647a4486686bf7cb14fa618c1741"
   }
  }
 },
 "nbformat": 4,
 "nbformat_minor": 2
}
