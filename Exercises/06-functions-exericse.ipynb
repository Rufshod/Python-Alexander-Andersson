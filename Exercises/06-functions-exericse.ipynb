{
 "cells": [
  {
   "cell_type": "markdown",
   "metadata": {},
   "source": [
    "\n",
    "<a href=\"https://colab.research.google.com/github/kokchun/Python-course-AI22/blob/main/Exercises/06-functions-exericse.ipynb\" target=\"_parent\"><img align=\"left\" src=\"https://colab.research.google.com/assets/colab-badge.svg\" alt=\"Open In Colab\"/></a> &nbsp; to see hints and answers."
   ]
  },
  {
   "cell_type": "markdown",
   "metadata": {},
   "source": [
    "# functions exercises\n",
    "\n",
    "---\n",
    "These are introductory exercises in Python with focus in **functions**.\n",
    "\n",
    "<p class = \"alert alert-info\" role=\"alert\"><b>Remember</b> to use <b>descriptive variable and function names</b> in order to get readable code </p>\n",
    "\n",
    "<p class = \"alert alert-info\" role=\"alert\"><b>Remember</b> to format your answers in a neat way using <b>f-strings</b>\n",
    "\n",
    "<p class = \"alert alert-info\" role=\"alert\"><b>Remember</b> to format your input questions in a pedagogical way to guide the user\n",
    "\n",
    "The number of stars (\\*), (\\*\\*), (\\*\\*\\*) denotes the difficulty level of the task\n",
    "\n",
    "---"
   ]
  },
  {
   "cell_type": "markdown",
   "metadata": {},
   "source": [
    "## 1. Area (*)\n",
    "\n",
    "Create a function that takes the base and height of a triangle as input parameters and returns the area of the triangle."
   ]
  },
  {
   "cell_type": "code",
   "execution_count": 5,
   "metadata": {},
   "outputs": [
    {
     "name": "stdout",
     "output_type": "stream",
     "text": [
      "The area of the triangle is: 50.0\n"
     ]
    }
   ],
   "source": [
    "def triangle(b_input, h_input):\n",
    "\n",
    "    return print(f\"The area of the triangle is: {(b_input*h_input)/2}\")\n",
    "\n",
    "triangle(10, 10)"
   ]
  },
  {
   "cell_type": "code",
   "execution_count": 9,
   "metadata": {},
   "outputs": [
    {
     "name": "stdout",
     "output_type": "stream",
     "text": [
      "10 * 10 / 2 = 50.0\n"
     ]
    }
   ],
   "source": [
    "def area(basen, hojden):\n",
    "    utrakning = basen * hojden / 2\n",
    "    return print(f\"{basen} * {hojden} / 2 = {utrakning}\")\n",
    "    \n",
    "area(10,10)"
   ]
  },
  {
   "cell_type": "markdown",
   "metadata": {},
   "source": [
    "---\n",
    "\n",
    "## 2. Euclidean distance (*)\n",
    "\n",
    "The formula for Euclidean distance in 2D between $P: (p_1, p_2)$ and $Q: (q_1, q_2)$  is: \n",
    "\n",
    "$d(P,Q) = \\sqrt{(p_1-q_1)^2 + (p_2-q_2)^2}$\n",
    "\n",
    "&nbsp; a) &nbsp; Create a function that takes two points as input parameters and return the Euclidean between them. (*)\n",
    "\n",
    "&nbsp; b) &nbsp; Let the user input two points. Call the function using the users input points. (*)\n",
    "\n",
    "&nbsp; c) &nbsp; Use your function to calculate distances between the origin (0, 0) and each of these points: (10, 3), (-1, -9), (10, -10), (4, -2), (9, -10). (*)\n",
    "\n",
    "<details>\n",
    "\n",
    "<summary>Hint</summary>\n",
    "\n",
    "Use a **for** statement\n",
    "\n",
    "</details>\n",
    "<br>\n",
    "<details>\n",
    "\n",
    "<summary>Answer</summary>\n",
    "\n",
    "c)\n",
    "\n",
    "```\n",
    "[10.4, 9.1, 14.1, 4.5, 13.5]\n",
    "```\n",
    "\n",
    "</details>\n"
   ]
  },
  {
   "cell_type": "code",
   "execution_count": 36,
   "metadata": {},
   "outputs": [
    {
     "name": "stdout",
     "output_type": "stream",
     "text": [
      "Distance P(3, 5) Q(-2, 4) = 5.1\n",
      "Distance P(1, 2) Q(3, 4) = 2.8\n",
      "Distance P(0, 0) Q(10, 3) = 10.4\n"
     ]
    }
   ],
   "source": [
    "from math import sqrt\n",
    "\n",
    "#a)\n",
    "def distance(p1,p2, q1,q2):\n",
    "    return print(f\"Distance P{p1,p2} Q{q1,q2} = {sqrt((p1 - q1)**2 + (p2 - q2)**2):.1f}\") \n",
    "#test original function\n",
    "distance(3,5,-2,4) #TODO CLEAN UP AND MAKE A FOR LOOP THAT ADDS , so that only one input is needed\n",
    "\n",
    "#b)\n",
    "#user_points = input(\"Write 4 numbers seperated by , to calculate the distance between two points: \")\n",
    "#for i in user_points:\n",
    "    #user_points.append(\",\") ::: does not work\n",
    "u_p1 = int(input(\"P1\"))\n",
    "u_p2 = int(input(\"P2\"))\n",
    "u_q1 = int(input(\"Q1\"))\n",
    "u_q2 = int(input(\"Q1\"))\n",
    "\n",
    "distance(u_p1,u_p2,u_q1,u_q2)\n",
    "\n",
    "#c)\n",
    "distance(0,0,10,3)\n"
   ]
  },
  {
   "cell_type": "code",
   "execution_count": 53,
   "metadata": {},
   "outputs": [
    {
     "name": "stdout",
     "output_type": "stream",
     "text": [
      "Distance  = 5.1\n",
      "0\n",
      "0\n",
      "0\n",
      "0\n",
      "0\n",
      "0\n",
      "0\n",
      "0\n",
      "9\n",
      "9\n",
      "9\n",
      "9\n",
      "3\n",
      "3\n",
      "3\n",
      "3\n",
      "-10\n",
      "-10\n",
      "-10\n",
      "-10\n",
      "3\n",
      "3\n",
      "3\n",
      "3\n",
      "9\n",
      "9\n",
      "9\n",
      "9\n"
     ]
    },
    {
     "ename": "IndexError",
     "evalue": "list index out of range",
     "output_type": "error",
     "traceback": [
      "\u001b[1;31m---------------------------------------------------------------------------\u001b[0m",
      "\u001b[1;31mIndexError\u001b[0m                                Traceback (most recent call last)",
      "\u001b[1;32mc:\\Users\\Agam\\Documents\\Github\\Python-Alexander-Andersson\\Exercises\\06-functions-exericse.ipynb Cell 8\u001b[0m in \u001b[0;36m<cell line: 30>\u001b[1;34m()\u001b[0m\n\u001b[0;32m     <a href='vscode-notebook-cell:/c%3A/Users/Agam/Documents/Github/Python-Alexander-Andersson/Exercises/06-functions-exericse.ipynb#X16sZmlsZQ%3D%3D?line=29'>30</a>\u001b[0m \u001b[39mfor\u001b[39;00m d \u001b[39min\u001b[39;00m d_num:\n\u001b[0;32m     <a href='vscode-notebook-cell:/c%3A/Users/Agam/Documents/Github/Python-Alexander-Andersson/Exercises/06-functions-exericse.ipynb#X16sZmlsZQ%3D%3D?line=30'>31</a>\u001b[0m     \u001b[39mfor\u001b[39;00m i \u001b[39min\u001b[39;00m \u001b[39mrange\u001b[39m(\u001b[39m4\u001b[39m):\n\u001b[1;32m---> <a href='vscode-notebook-cell:/c%3A/Users/Agam/Documents/Github/Python-Alexander-Andersson/Exercises/06-functions-exericse.ipynb#X16sZmlsZQ%3D%3D?line=31'>32</a>\u001b[0m         d_lst\u001b[39m.\u001b[39mappend(d_num[d])\n\u001b[0;32m     <a href='vscode-notebook-cell:/c%3A/Users/Agam/Documents/Github/Python-Alexander-Andersson/Exercises/06-functions-exericse.ipynb#X16sZmlsZQ%3D%3D?line=32'>33</a>\u001b[0m         \u001b[39mprint\u001b[39m(d_num[d])\n\u001b[0;32m     <a href='vscode-notebook-cell:/c%3A/Users/Agam/Documents/Github/Python-Alexander-Andersson/Exercises/06-functions-exericse.ipynb#X16sZmlsZQ%3D%3D?line=33'>34</a>\u001b[0m     \u001b[39m#for b in range(4):\u001b[39;00m\n",
      "\u001b[1;31mIndexError\u001b[0m: list index out of range"
     ]
    }
   ],
   "source": [
    "from math import sqrt\n",
    "\n",
    "#a)\n",
    "def distance(p1,p2, q1,q2):\n",
    "    true_dist = sqrt((p1 - q1)**2 + (p2 - q2)**2)\n",
    "    return true_dist\n",
    "#test original function\n",
    "distance(3,5,-2,4) #TODO CLEAN UP AND MAKE A FOR LOOP THAT ADDS , so that only one input is needed\n",
    "print(f\"Distance  = {distance(3,5,-2,4):.1f}\")\n",
    "#b)\n",
    "#user_points = input(\"Write 4 numbers seperated by , to calculate the distance between two points: \")\n",
    "#for i in user_points:\n",
    "    #user_points.append(\",\") ::: does not work\n",
    "#u_p1 = int(input(\"P1\"))\n",
    "#u_p2 = int(input(\"P2\"))\n",
    "#u_q1 = int(input(\"Q1\"))\n",
    "#u_q2 = int(input(\"Q1\"))\n",
    "\n",
    "#distance(u_p1,u_p2,u_q1,u_q2)\n",
    "\n",
    "#c)\n",
    "d_lst = []\n",
    "d_num = [0,0,10,3,-1,-9,10,-19,4,-2,9,-10]\n",
    "#d_lst.append(distance(0,0,10,3))\n",
    "#d_lst.append(distance(0,0,-1,-9))\n",
    "#d_lst.append(distance(0,0,10,-10))\n",
    "#d_lst.append(distance(0,0,9,-10))\n",
    "\n",
    "\n",
    "for d in d_num:\n",
    "    for i in range(4):\n",
    "        d_lst.append(d_num[d])\n",
    "        print(d_num[d])\n",
    "    #for b in range(4):\n",
    "\n",
    "\n",
    "print(f\"{d_lst}\")\n"
   ]
  },
  {
   "cell_type": "markdown",
   "metadata": {},
   "source": [
    "---\n",
    "## 3. Mathematical functions (*)\n",
    "\n",
    "Make the following functions with **def** or **lambda** and plot their graphs in the same figure window, with $x\\in [-10,10]$ :\n",
    "\n",
    "&nbsp; a) &nbsp;  $f(x) = x^2 -3$ (*)\n",
    "\n",
    "&nbsp; b) &nbsp; $g(x) = 4x-7$ (*)\n",
    "\n",
    "What could the relation between $f(x)$ and $g(x)$ be?\n",
    "\n",
    "<details>\n",
    "\n",
    "<summary>Hint</summary>\n",
    "Use numpy's linspace function:\n",
    "\n",
    "```python\n",
    "import numpy as np\n",
    "x = np.linspace(-10,10)\n",
    "```\n",
    "\n",
    "[Derivative video][derivative_video] (Swedish)\n",
    "\n",
    "[Derivative of polynomials][derivative_polynomial] (Swedish)\n",
    "\n",
    "[derivative_video]: https://www.youtube.com/watch?v=hzXJxOXkU_M\n",
    "[derivative_polynomial]: https://www.youtube.com/watch?v=dFnro1sBn1Y\n",
    "\n",
    "</details>\n",
    "<br>\n",
    "<details>\n",
    "\n",
    "<summary>Answer</summary>\n",
    "\n",
    "<img align=\"left\" src=\"../assets/functions_graph.png\" width=\"200\"/>\n",
    "\n",
    "</details>\n"
   ]
  },
  {
   "cell_type": "code",
   "execution_count": null,
   "metadata": {},
   "outputs": [],
   "source": []
  },
  {
   "cell_type": "markdown",
   "metadata": {},
   "source": [
    "---\n",
    "## 4. Name cleaner (*)\n",
    "\n",
    "Create a function that takes a name as an input and:\n",
    "\n",
    "- removes all leading and trailing blank spaces\n",
    "- make capitalize the first character of each name, and make the rest lowercase\n",
    "\n",
    "Use your function on this list of strings: \n",
    "\n",
    "```\n",
    "[\"  MaRcUs \", \" iDA aNderSon\", \"OLOF Olofsson            \"  ]\n",
    "```\n",
    "\n",
    "\n",
    "<details>\n",
    "\n",
    "<summary>Hint</summary>\n",
    "Use \n",
    "\n",
    "- [title() method][str_title]\n",
    "- [strip() method][str_strip]\n",
    "- [join() method][str_join]\n",
    "- [split() method][str_split]\n",
    "\n",
    "[str_title]: https://www.w3schools.com/python/ref_string_title.asp\n",
    "[str_strip]: https://www.w3schools.com/python/ref_string_strip.asp\n",
    "[str_join]: https://www.w3schools.com/python/ref_string_join.asp\n",
    "[str_split]: https://www.w3schools.com/python/ref_string_split.asp \n",
    "\n",
    "</details>\n",
    "<br>\n",
    "<details>\n",
    "\n",
    "<summary>Answer</summary>\n",
    "\n",
    "```\n",
    "Marcus\n",
    "Ida Anderson\n",
    "Olof Olofsson\n",
    "```\n",
    "\n",
    "</details>\n"
   ]
  },
  {
   "cell_type": "markdown",
   "metadata": {},
   "source": [
    "---\n",
    "## 5. Change (**)\n",
    "\n",
    "Create a function that takes a value as input parameter and print out the banknotes and coins in Swedish currency representing this value. For example 5289 would give the following printout: \n",
    "\n",
    "- 5st 1000-lapp\n",
    "- 1st 200-lapp\n",
    "- 1st 50-lapp\n",
    "- 1st 20-lapp\n",
    "- 1st 10-krona\n",
    "- 1st 5-krona\n",
    "- 2st 2-krona\n",
    "\n",
    "Now let the user input a value, and use the function to calculate the change."
   ]
  },
  {
   "cell_type": "markdown",
   "metadata": {},
   "source": [
    "---\n",
    "\n",
    "Kokchun Giang\n",
    "\n",
    "[LinkedIn][linkedIn_kokchun]\n",
    "\n",
    "[GitHub portfolio][github_portfolio]\n",
    "\n",
    "[linkedIn_kokchun]: https://www.linkedin.com/in/kokchungiang/\n",
    "[github_portfolio]: https://github.com/kokchun/Portfolio-Kokchun-Giang\n",
    "\n",
    "---"
   ]
  }
 ],
 "metadata": {
  "kernelspec": {
   "display_name": "Python 3.9.13 64-bit",
   "language": "python",
   "name": "python3"
  },
  "language_info": {
   "codemirror_mode": {
    "name": "ipython",
    "version": 3
   },
   "file_extension": ".py",
   "mimetype": "text/x-python",
   "name": "python",
   "nbconvert_exporter": "python",
   "pygments_lexer": "ipython3",
   "version": "3.9.13"
  },
  "orig_nbformat": 4,
  "vscode": {
   "interpreter": {
    "hash": "c56e5b80eca90f739ebc5f4de2af0357e4a7c530ad3d2ce2afd3ba8e912e4590"
   }
  }
 },
 "nbformat": 4,
 "nbformat_minor": 2
}
