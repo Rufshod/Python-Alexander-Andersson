{
 "cells": [
  {
   "cell_type": "markdown",
   "metadata": {},
   "source": [
    "\n",
    "<a href=\"https://colab.research.google.com/github/kokchun/Python-course-AI22/blob/main/Exercises/09-dictionary-exercises.ipynb\" target=\"_parent\"><img align=\"left\" src=\"https://colab.research.google.com/assets/colab-badge.svg\" alt=\"Open In Colab\"/></a> &nbsp; to see hints and answers."
   ]
  },
  {
   "cell_type": "markdown",
   "metadata": {},
   "source": [
    "# dictionary exercises\n",
    "\n",
    "---\n",
    "These are introductory exercises in Python with focus in **dictionary**.\n",
    "\n",
    "<p class = \"alert alert-info\" role=\"alert\"><b>Remember</b> to use <b>descriptive variable and function names</b> in order to get readable code </p>\n",
    "\n",
    "<p class = \"alert alert-info\" role=\"alert\"><b>Remember</b> to format your answers in a neat way using <b>f-strings</b>\n",
    "\n",
    "<p class = \"alert alert-info\" role=\"alert\"><b>Remember</b> to format your input questions in a pedagogical way to guide the user\n",
    "\n",
    "The number of stars (\\*), (\\*\\*), (\\*\\*\\*) denotes the difficulty level of the task\n",
    "\n",
    "---"
   ]
  },
  {
   "cell_type": "markdown",
   "metadata": {},
   "source": [
    "## 1. Curriculum (*)\n",
    "\n",
    "Create a dictionary containing all the courses that you will study in this program, with the course names as **keys** and the amount of points as **value**. Then calculate the number of points that you will study in total. (*)\n",
    "\n",
    "<details>\n",
    "\n",
    "<summary>Answer</summary>\n",
    "\n",
    "Look at your course program curriculum\n",
    "\n",
    "</details>\n"
   ]
  },
  {
   "cell_type": "code",
   "execution_count": 15,
   "metadata": {},
   "outputs": [
    {
     "name": "stdout",
     "output_type": "stream",
     "text": [
      "Total points you will study in total = 400\n"
     ]
    }
   ],
   "source": [
    "courses = dict(\n",
    "    intro_till_ai = 5,\n",
    "    programmering_med_python = 40,\n",
    "    databehandling = 25,\n",
    "    linjär_algebra = 20,\n",
    "    statistiska_metoder = 30,\n",
    "    maskininlärning = 45,\n",
    "    djup_maskininlärning = 40,\n",
    "    databaser = 25,\n",
    "    LIA_1 = 40,\n",
    "    dataengineering_och_agil_metodik = 45,\n",
    "    LIA_2 = 70,\n",
    "    examensarbete = 15,\n",
    ")\n",
    "total_points = 0\n",
    "for keys, values in courses.items():\n",
    "   total_points += values\n",
    "\n",
    "print(f\"Total points you will study in total = {total_points}\")"
   ]
  },
  {
   "cell_type": "markdown",
   "metadata": {},
   "source": [
    "---\n",
    "## 2. Dice simulation (*)\n",
    "\n",
    "Simulate 1000000 dice rolls and save the number of ones, twos, ..., sixes in a dictionary. Then print them out in the terminal. (*)\n",
    "\n",
    "<details>\n",
    "\n",
    "<summary>Answer</summary>\n",
    "\n",
    "```\n",
    "1: 166481\n",
    "2: 166844\n",
    "3: 166154\n",
    "4: 167400\n",
    "5: 167260\n",
    "6: 165861\n",
    "```\n",
    "\n",
    "</details>\n"
   ]
  },
  {
   "cell_type": "code",
   "execution_count": 35,
   "metadata": {},
   "outputs": [
    {
     "name": "stdout",
     "output_type": "stream",
     "text": [
      "{'one': 166901, 'two': 166430, 'three': 166731, 'four': 166444, 'five': 166775, 'six': 166719}\n"
     ]
    }
   ],
   "source": [
    "## Coded with Rasmus\n",
    "\n",
    "import random as rnd\n",
    "#Creates the dictionary with numbers as key and 0 as value\n",
    "dice_guide = {\n",
    "    \"one\": 0,\n",
    "    \"two\": 0,\n",
    "    \"three\" : 0,\n",
    "    \"four\" : 0,\n",
    "    \"five\" : 0,\n",
    "    \"six\" : 0,\n",
    "}\n",
    "rolls = [rnd.randint(1,6) for _ in range(1000000)] #Rolls the \"dice\" and creates a list with every value\n",
    "\n",
    "for roll in rolls: #goes through the rolls list\n",
    "    i = 0\n",
    "    for dice, guide in dice_guide.items(): #goes through the dictionary and adds 1 to i\n",
    "        i += 1\n",
    "        if i == roll: #if i == the role\n",
    "            dice_guide[dice] += 1 #adds one to the value in dice_guide\n",
    "\n",
    "print(dice_guide)"
   ]
  },
  {
   "cell_type": "markdown",
   "metadata": {},
   "source": [
    "---\n",
    "## 3. Pokemon list (*)\n",
    "\n",
    "Read in the file pokemon_list.txt in Python. Create a variable with name pokedex with the key:value **\"pokemon\":\"type, index\"**. For example when searching for the keys \"Gengar\" and \"Pikachu\": (*)\n",
    "\n",
    "```python\n",
    "\n",
    "print(pokedex[\"Gengar\"])\n",
    "print(pokedex[\"Pikachu\"])\n",
    "\n",
    "Spöke/Gift, 94\n",
    "Elektrisk, 25\n",
    "```\n",
    "\n",
    "<details>\n",
    "\n",
    "<summary>Answer</summary>\n",
    "\n",
    "```\n",
    "{'Bulbasaur': 'Gräs/Gift, 1',\n",
    " 'Ivysaur': 'Gräs/Gift, 2',\n",
    " 'Venusaur': 'Gräs/Gift, 3',\n",
    " 'Charmander': 'Eld, 4',\n",
    " 'Charmeleon': 'Eld, 5',\n",
    " 'Charizard': 'Eld/Flygande, 6',\n",
    " 'Squirtle': 'Vatten, 7',\n",
    " 'Wartortle': 'Vatten, 8',\n",
    " 'Blastoise': 'Vatten, 9',\n",
    " ...\n",
    "}\n",
    "```\n",
    "\n",
    "</details>\n"
   ]
  },
  {
   "cell_type": "code",
   "execution_count": 67,
   "metadata": {},
   "outputs": [
    {
     "name": "stdout",
     "output_type": "stream",
     "text": [
      "Pikachu has the type and index Elektrisk, 25\n"
     ]
    }
   ],
   "source": [
    "with open(\"../Data/pokemon_list.txt\", \"r\") as f_read:  # ../ means you go back one step\n",
    "    poke_list = [poke.strip(\"\\n\").split(\" \") for poke in f_read]\n",
    "\n",
    "\n",
    "pokedex = {} #set the dictionary\n",
    "\n",
    "for i in range(len(poke_list)): #loop through text file\n",
    "    pokedex.update({poke_list[i][1]: poke_list[i][-1] + \", \" + poke_list[i][0]}) #adds list elements to dictionary\n",
    "\n",
    "pokemon = input(\"Search for a pokemon\") # Gets input from user to search.\n",
    "\n",
    "print(f\"{pokemon} has the type and index {pokedex[pokemon]}\")\n"
   ]
  },
  {
   "cell_type": "markdown",
   "metadata": {},
   "source": [
    "---\n",
    "## 4. Morse code (**)\n",
    "\n",
    "Read in the file morse.txt, save it in a dictionary and create a function that lets the user input a message to get it translated to morse code. For example  (**)\n",
    "\n",
    "```python\n",
    "\n",
    "print(morse[\"SOS\"])\n",
    "print(morse[\"POKEMON\"])\n",
    "\n",
    "...---...\n",
    ".------.-.------.\n",
    "```"
   ]
  },
  {
   "cell_type": "code",
   "execution_count": 76,
   "metadata": {},
   "outputs": [
    {
     "name": "stdout",
     "output_type": "stream",
     "text": [
      "{'A': '.-', 'B': '-...', 'C': '-.-.', 'D': '-..', 'E': '.', 'F': '..-.', 'G': '--', 'H': '....', 'I': '..', 'J': '.---', 'K': '-.-', 'L': '.-..', 'M': '--', 'N': '-.', 'O': '---', 'P': '.--', 'Q': '--.-', 'R': '.-.', 'S': '...', 'T': '-', 'U': '..-', 'V': '...-', 'W': '.--', 'X': '-..-', 'Y': '-.--', 'Z': '--..', 'Ã…': '.--.-', 'Ã„': '.-.-', 'Ã–': '---'}\n"
     ]
    }
   ],
   "source": [
    "with open(\"../Data/morse.txt\", \"r\") as f_read:  # ../ means you go back one step\n",
    "    \n",
    "    morse = dict(i.strip(\"\\n\").split(\": \") for i in f_read)\n",
    "\n",
    "print(morse)"
   ]
  },
  {
   "cell_type": "code",
   "execution_count": 96,
   "metadata": {},
   "outputs": [
    {
     "name": "stdout",
     "output_type": "stream",
     "text": [
      "HELLO\n",
      "......-...-..---"
     ]
    }
   ],
   "source": [
    "##TODO, INSERT INTO A FUNCTION\n",
    "\n",
    "msg = input(\"Write a word\").upper()\n",
    "print(msg)\n",
    "\n",
    "\n",
    "for letter in msg:\n",
    "    for key, value in morse.items():\n",
    "        if letter == key:\n",
    "            print(value, end=\"\")"
   ]
  },
  {
   "cell_type": "markdown",
   "metadata": {},
   "source": [
    "---\n",
    "\n",
    "Kokchun Giang\n",
    "\n",
    "[LinkedIn][linkedIn_kokchun]\n",
    "\n",
    "[GitHub portfolio][github_portfolio]\n",
    "\n",
    "[linkedIn_kokchun]: https://www.linkedin.com/in/kokchungiang/\n",
    "[github_portfolio]: https://github.com/kokchun/Portfolio-Kokchun-Giang\n",
    "\n",
    "---"
   ]
  }
 ],
 "metadata": {
  "kernelspec": {
   "display_name": "Python 3.9.13 ('Python-Alexander-Andersson-6f9gzyEi')",
   "language": "python",
   "name": "python3"
  },
  "language_info": {
   "codemirror_mode": {
    "name": "ipython",
    "version": 3
   },
   "file_extension": ".py",
   "mimetype": "text/x-python",
   "name": "python",
   "nbconvert_exporter": "python",
   "pygments_lexer": "ipython3",
   "version": "3.9.13"
  },
  "orig_nbformat": 4,
  "vscode": {
   "interpreter": {
    "hash": "0e170795d12b9f00bb6c905343705ccb98da647a4486686bf7cb14fa618c1741"
   }
  }
 },
 "nbformat": 4,
 "nbformat_minor": 2
}
