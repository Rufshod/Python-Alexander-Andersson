{
 "cells": [
  {
   "cell_type": "markdown",
   "metadata": {},
   "source": [
    "\n",
    "<a href=\"https://colab.research.google.com/github/kokchun/Python-course-AI22/blob/main/Exercises/09-dictionary-exercises.ipynb\" target=\"_parent\"><img align=\"left\" src=\"https://colab.research.google.com/assets/colab-badge.svg\" alt=\"Open In Colab\"/></a> &nbsp; to see hints and answers."
   ]
  },
  {
   "cell_type": "markdown",
   "metadata": {},
   "source": [
    "# dictionary exercises\n",
    "\n",
    "---\n",
    "These are introductory exercises in Python with focus in **dictionary**.\n",
    "\n",
    "<p class = \"alert alert-info\" role=\"alert\"><b>Remember</b> to use <b>descriptive variable and function names</b> in order to get readable code </p>\n",
    "\n",
    "<p class = \"alert alert-info\" role=\"alert\"><b>Remember</b> to format your answers in a neat way using <b>f-strings</b>\n",
    "\n",
    "<p class = \"alert alert-info\" role=\"alert\"><b>Remember</b> to format your input questions in a pedagogical way to guide the user\n",
    "\n",
    "The number of stars (\\*), (\\*\\*), (\\*\\*\\*) denotes the difficulty level of the task\n",
    "\n",
    "---"
   ]
  },
  {
   "cell_type": "markdown",
   "metadata": {},
   "source": [
    "## 1. Curriculum (*)\n",
    "\n",
    "Create a dictionary containing all the courses that you will study in this program, with the course names as **keys** and the amount of points as **value**. Then calculate the number of points that you will study in total. (*)\n",
    "\n",
    "<details>\n",
    "\n",
    "<summary>Answer</summary>\n",
    "\n",
    "Look at your course program curriculum\n",
    "\n",
    "</details>\n"
   ]
  },
  {
   "cell_type": "markdown",
   "metadata": {},
   "source": [
    "---\n",
    "## 2. Dice simulation (*)\n",
    "\n",
    "Simulate 1000000 dice rolls and save the number of ones, twos, ..., sixes in a dictionary. Then print them out in the terminal. (*)\n",
    "\n",
    "<details>\n",
    "\n",
    "<summary>Answer</summary>\n",
    "\n",
    "```\n",
    "1: 166481\n",
    "2: 166844\n",
    "3: 166154\n",
    "4: 167400\n",
    "5: 167260\n",
    "6: 165861\n",
    "```\n",
    "\n",
    "</details>\n"
   ]
  },
  {
   "cell_type": "markdown",
   "metadata": {},
   "source": [
    "---\n",
    "## 3. Pokemon list (*)\n",
    "\n",
    "Read in the file pokemon_list.txt in Python. Create a variable with name pokedex with the key:value **\"pokemon\":\"type, index\"**. For example when searching for the keys \"Gengar\" and \"Pikachu\": (*)\n",
    "\n",
    "```python\n",
    "\n",
    "print(pokedex[\"Gengar\"])\n",
    "print(pokedex[\"Pikachu\"])\n",
    "\n",
    "Spöke/Gift, 94\n",
    "Elektrisk, 25\n",
    "```\n",
    "\n",
    "<details>\n",
    "\n",
    "<summary>Answer</summary>\n",
    "\n",
    "```\n",
    "{'Bulbasaur': 'Gräs/Gift, 1',\n",
    " 'Ivysaur': 'Gräs/Gift, 2',\n",
    " 'Venusaur': 'Gräs/Gift, 3',\n",
    " 'Charmander': 'Eld, 4',\n",
    " 'Charmeleon': 'Eld, 5',\n",
    " 'Charizard': 'Eld/Flygande, 6',\n",
    " 'Squirtle': 'Vatten, 7',\n",
    " 'Wartortle': 'Vatten, 8',\n",
    " 'Blastoise': 'Vatten, 9',\n",
    " ...\n",
    "}\n",
    "```\n",
    "\n",
    "</details>\n"
   ]
  },
  {
   "cell_type": "markdown",
   "metadata": {},
   "source": [
    "---\n",
    "## 4. Morse code (**)\n",
    "\n",
    "Read in the file morse.txt, save it in a dictionary and create a function that lets the user input a message to get it translated to morse code. For example  (**)\n",
    "\n",
    "```python\n",
    "\n",
    "print(morse[\"SOS\"])\n",
    "print(morse[\"POKEMON\"])\n",
    "\n",
    "...---...\n",
    ".------.-.------.\n",
    "```"
   ]
  },
  {
   "cell_type": "markdown",
   "metadata": {},
   "source": [
    "---\n",
    "\n",
    "Kokchun Giang\n",
    "\n",
    "[LinkedIn][linkedIn_kokchun]\n",
    "\n",
    "[GitHub portfolio][github_portfolio]\n",
    "\n",
    "[linkedIn_kokchun]: https://www.linkedin.com/in/kokchungiang/\n",
    "[github_portfolio]: https://github.com/kokchun/Portfolio-Kokchun-Giang\n",
    "\n",
    "---"
   ]
  }
 ],
 "metadata": {
  "kernelspec": {
   "display_name": "Python 3.9.6 64-bit",
   "language": "python",
   "name": "python3"
  },
  "language_info": {
   "name": "python",
   "version": "3.9.6"
  },
  "orig_nbformat": 4,
  "vscode": {
   "interpreter": {
    "hash": "0da836a34428266995a795f1e1e27b816fa1c02f148d9728b3fbbbc5459afca6"
   }
  }
 },
 "nbformat": 4,
 "nbformat_minor": 2
}
