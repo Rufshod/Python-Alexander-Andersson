{
 "cells": [
  {
   "cell_type": "markdown",
   "metadata": {},
   "source": [
    "<a href=\"https://colab.research.google.com/github/kokchun/Python-course-AI22/blob/main/Exercises/07-exception-exercise.ipynb\" target=\"_parent\"><img align=\"left\" src=\"https://colab.research.google.com/assets/colab-badge.svg\" alt=\"Open In Colab\"/></a> &nbsp; to see hints and answers."
   ]
  },
  {
   "cell_type": "markdown",
   "metadata": {},
   "source": [
    "# Error handling exercises\n",
    "\n",
    "---\n",
    "These are introductory exercises in Python with focus in **error handling** statement.\n",
    "\n",
    "<p class = \"alert alert-info\" role=\"alert\"><b>Remember</b> to use <b>descriptive variable and function names</b> in order to get readable code </p>\n",
    "\n",
    "<p class = \"alert alert-info\" role=\"alert\"><b>Remember</b> to format your answers in a neat way using <b>f-strings</b>\n",
    "\n",
    "<p class = \"alert alert-info\" role=\"alert\"><b>Remember</b> to format your input questions in a pedagogical way to guide the user\n",
    "\n",
    "The number of stars (\\*), (\\*\\*), (\\*\\*\\*) denotes the difficulty level of the task\n",
    "\n",
    "---"
   ]
  },
  {
   "cell_type": "markdown",
   "metadata": {},
   "source": [
    "## 1. Find errors (*)\n",
    "\n",
    "Find the errors in this code to compute the distance between the point $(x,y)$ and the origin in a cartesian coordinate system.\n",
    "\n",
    "```python\n",
    "impor numpy as np\n",
    "\n",
    "def distance(x,y)\n",
    "    reurn np.sqrt(x+y)\n",
    "\n",
    "print(distance([0.5, 0.5]))\n",
    "\n",
    "```\n",
    "\n",
    "<details>\n",
    "\n",
    "<summary>Hint </summary>\n",
    "\n",
    "Also look for logical errors. \n",
    "\n",
    "</details>\n",
    "<br>\n",
    "<details>\n",
    "\n",
    "<summary>Answer </summary>\n",
    "\n",
    "```\n",
    "The distance between (0.5, 0.5) and origin is around 0.707.\n",
    "```\n",
    "\n",
    "</details>\n"
   ]
  },
  {
   "cell_type": "code",
   "execution_count": 35,
   "metadata": {},
   "outputs": [
    {
     "name": "stdout",
     "output_type": "stream",
     "text": [
      "0.7071067811865476\n"
     ]
    }
   ],
   "source": [
    "import numpy as np\n",
    "\n",
    "def distance(x,y):\n",
    "    return np.sqrt(x**2+y**2)\n",
    "\n",
    "print(distance(0.5, 0.5))\n"
   ]
  },
  {
   "cell_type": "markdown",
   "metadata": {},
   "source": [
    "---\n",
    "## 2. Find errors (*)\n",
    "\n",
    "Find the errors in this code. Just change the function, don't touch the test program.\n",
    "\n",
    "```python\n",
    "\n",
    "def is_fourdigit(number):\n",
    "    if number//1000 < 10\n",
    "        return true\n",
    "    else \n",
    "        return false\n",
    "\n",
    "# test program\n",
    "test_numbers = [231, 3124, -4124, -1000,-999, 1001, 10000, -10000, 999]\n",
    "\n",
    "for number in test_numbers:\n",
    "    if is_fourdigit(number):\n",
    "        print(f\"{number} is four-digit\")\n",
    "    else:\n",
    "        print(f\"{number} is not four-digit\")\n",
    "\n",
    "```\n",
    "\n",
    "<details>\n",
    "\n",
    "<summary>Hint </summary>\n",
    "\n",
    "Print out and test different cases to build up the condition in the if-statement\n",
    "\n",
    "</details>\n",
    "<br>\n",
    "<details>\n",
    "\n",
    "<summary>Answer </summary>\n",
    "\n",
    "```\n",
    "\n",
    "231 is not four-digit\n",
    "3124 is four-digit\n",
    "-4124 is four-digit\n",
    "-1000 is four-digit\n",
    "-999 is not four-digit\n",
    "1001 is four-digit\n",
    "10000 is not four-digit\n",
    "-10000 is not four-digit\n",
    "999 is not four-digit\n",
    "\n",
    "```\n",
    "\n",
    "</details>\n"
   ]
  },
  {
   "cell_type": "code",
   "execution_count": 7,
   "metadata": {},
   "outputs": [
    {
     "name": "stdout",
     "output_type": "stream",
     "text": [
      "231 is four-digit\n",
      "3124 is four-digit\n",
      "-4124 is four-digit\n",
      "-1000 is four-digit\n",
      "-999 is four-digit\n",
      "1001 is four-digit\n",
      "10000 is not four-digit\n",
      "-10000 is four-digit\n",
      "999 is four-digit\n"
     ]
    }
   ],
   "source": [
    "def is_fourdigit(number):\n",
    "    if number//1000 < 10:\n",
    "        return True\n",
    "    else: \n",
    "        return False\n",
    "\n",
    "# test program\n",
    "test_numbers = [231, 3124, -4124, -1000,-999, 1001, 10000, -10000, 999]\n",
    "\n",
    "for number in test_numbers:\n",
    "    if is_fourdigit(number):\n",
    "        print(f\"{number} is four-digit\")\n",
    "    else:\n",
    "        print(f\"{number} is not four-digit\")"
   ]
  },
  {
   "cell_type": "markdown",
   "metadata": {},
   "source": [
    "---\n",
    "## 3. Tram (*)\n",
    "\n",
    "Kokchun is a **clumpsy** computer user that doesn't take trams too often. Write a program to prompt the user for: \n",
    "- number of times he/she wants to take tram in one month\n",
    "- cost for one ticket\n",
    "- cost for monthly card\n",
    "\n",
    "The program should calculate if it's worth for him to buy  monthly card or not. Make the program user friendly with clear error messages and ask again in case of input errors. \n",
    "\n",
    "<details>\n",
    "\n",
    "<summary>Hint </summary>\n",
    "\n",
    "Raise user friendly exceptions to guide the user to give right input format.\n",
    "\n",
    "</details>\n",
    "<br>\n",
    "<details>\n",
    "\n",
    "<summary>Answer </summary>\n",
    "\n",
    "For example: \n",
    "\n",
    "```\n",
    "How many times do you take tram in one month? -23\n",
    "Number of times you take tram must be between 0 and 100\n",
    "\n",
    "How much does one ticket cost? (kr) 1000\n",
    "One ticket must cost between 0 and 100 kr\n",
    "\n",
    "How many times do you take tram in one month? 23\n",
    "How much does one ticket cost? (kr) 35\n",
    "How much does one month card cost? (kr) 600\n",
    "\n",
    "Cost with one-time tickets 805.0\n",
    "Cost with monthly card 600.0\n",
    "It's worth to buy a monthly card\n",
    "\n",
    "```\n",
    "\n",
    "</details>\n"
   ]
  },
  {
   "cell_type": "markdown",
   "metadata": {},
   "source": [
    "What the program needs.\n",
    "- PRICE FOR ONE TICKET\n",
    "- PRICE FOR MONTHLY CARD\n",
    "- INPUT FROM USER HOW MANY TIMES USER WANTS TO RIDE\n",
    "- FUNCTION THAT USES INPUT TO CHECK NUMBER **IF** WHAT USER SHOULD USE\n",
    "- FAILSAFE WITH INFINITE LOOP AND HELP FUNCTION"
   ]
  },
  {
   "cell_type": "code",
   "execution_count": 34,
   "metadata": {},
   "outputs": [
    {
     "name": "stdout",
     "output_type": "stream",
     "text": [
      "The number of rides you input is invalid hello, Needs to be between 0-200\n",
      "Be sure to input a number without any SPECIAL CHARACTERS. The number needs to be between 0 and 200\n",
      "The number of rides you input is invalid help, Needs to be between 0-200\n",
      "The number of rides you input is invalid -100, Needs to be between 0-200\n",
      "The number of rides you input is invalid 201, Needs to be between 0-200\n",
      "The number of rides you input is invalid , Needs to be between 0-200\n",
      "The number of rides you input is invalid , Needs to be between 0-200\n",
      "Because you will ride the tram 45 this month it is a good idea to for you purchase a monthly card.\n",
      "Price if you use single tickets for every ride 1575kr\n",
      "You will save 760kr each month\n"
     ]
    }
   ],
   "source": [
    "## PROTOTYPE\n",
    "# Prices\n",
    "from distutils.log import error\n",
    "\n",
    "\n",
    "ticket = 35\n",
    "monthly = 815\n",
    "ticket_sum = 0 # used to calculate multiple tickets\n",
    "month = 31\n",
    "days = 0 # used to check if days will be larger than month\n",
    "\n",
    "\n",
    "while True:\n",
    "    num_rides = input(\"Please input how many times you plan to ride a tram this month: \")\n",
    "    if num_rides.upper() == \"HELP\":\n",
    "        print(\"Be sure to input a number without any SPECIAL CHARACTERS. The number needs to be between 0 and 200\")\n",
    "        \n",
    "    try:\n",
    "\n",
    "        num_rides = int(num_rides)\n",
    "        if not 0 <= num_rides <= 200:\n",
    "            raise ValueError(f\"The number of rides you input is invalid {num_rides}, Needs to be between 0-200, if you need further help. write HELP\")\n",
    "\n",
    "        break\n",
    "    except ValueError as error:\n",
    "        print(f\"The number of rides you input is invalid {num_rides}, Needs to be between 0-200\")\n",
    "for i in range(0,num_rides): #Calculating total price of tickets\n",
    "    ticket_sum += ticket\n",
    "\n",
    "if ticket_sum >= monthly: # Calculating and telling user that it is a good idea to get a monthly card\n",
    "    print(f\"Because you will ride the tram {num_rides} this month it is a good idea to for you purchase a monthly card.\\nPrice if you use single tickets for every ride {ticket_sum}kr\\nYou will save {ticket_sum - monthly}kr each month\")\n",
    "else: # if its not worth print this\n",
    "    print(f\"You will ride the tram {num_rides} time(s) this month.\\nYou will spend {ticket_sum}kr in total.\\nIt is NOT recommended to purchase a monthly card this month\")\n",
    "\n",
    "\n"
   ]
  },
  {
   "cell_type": "markdown",
   "metadata": {},
   "source": [
    "---\n",
    "\n",
    "Kokchun Giang\n",
    "\n",
    "[LinkedIn][linkedIn_kokchun]\n",
    "\n",
    "[GitHub portfolio][github_portfolio]\n",
    "\n",
    "[linkedIn_kokchun]: https://www.linkedin.com/in/kokchungiang/\n",
    "[github_portfolio]: https://github.com/kokchun/Portfolio-Kokchun-Giang\n",
    "\n",
    "---"
   ]
  }
 ],
 "metadata": {
  "kernelspec": {
   "display_name": "Python 3.9.13 64-bit",
   "language": "python",
   "name": "python3"
  },
  "language_info": {
   "codemirror_mode": {
    "name": "ipython",
    "version": 3
   },
   "file_extension": ".py",
   "mimetype": "text/x-python",
   "name": "python",
   "nbconvert_exporter": "python",
   "pygments_lexer": "ipython3",
   "version": "3.9.13"
  },
  "orig_nbformat": 4,
  "vscode": {
   "interpreter": {
    "hash": "287876418b1177767fd3ee26a082a634abf206aa424861d57cf76d9abc857edd"
   }
  }
 },
 "nbformat": 4,
 "nbformat_minor": 2
}
