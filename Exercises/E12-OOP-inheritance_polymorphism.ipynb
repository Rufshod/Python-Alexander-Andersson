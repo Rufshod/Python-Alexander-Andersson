{
 "cells": [
  {
   "cell_type": "markdown",
   "metadata": {},
   "source": [
    "\n",
    "<a href=\"https://colab.research.google.com/github/kokchun/Python-course-AI22/blob/main/Exercises/E12-OOP-inheritance_polymorphism.ipynb\" target=\"_parent\"><img align=\"left\" src=\"https://colab.research.google.com/assets/colab-badge.svg\" alt=\"Open In Colab\"/></a> &nbsp; to see hints and answers."
   ]
  },
  {
   "cell_type": "markdown",
   "metadata": {},
   "source": [
    "# OOP exercises - inheritance and polymorphism\n",
    "\n",
    "---\n",
    "These are introductory exercises in Python with focus in **Object oriented programming**. \n",
    "\n",
    "<p class = \"alert alert-info\" role=\"alert\"><b>Remember</b> to use <b>descriptive variable, function and class names</b> in order to get readable code </p>\n",
    "\n",
    "<p class = \"alert alert-info\" role=\"alert\"><b>Remember</b> to format your answers in a neat way using <b>f-strings</b></p>\n",
    "\n",
    "<p class = \"alert alert-info\" role=\"alert\"><b>Remember</b> to format your input questions in a pedagogical way to guide the user</p>\n",
    "\n",
    "<p class = \"alert alert-info\" role=\"alert\"><b>Remember</b> to write good docstrings for your methods and classes </p> \n",
    "\n",
    "The number of stars (\\*), (\\*\\*), (\\*\\*\\*) denotes the difficulty level of the task\n",
    "\n",
    "---"
   ]
  },
  {
   "cell_type": "markdown",
   "metadata": {},
   "source": [
    "## 1. Video (*)\n",
    "\n",
    "Create classes following this UML:\n",
    "\n",
    "<img src=\"../assets/UML_video_polymorphism.png\" width=\"700\"/>\n",
    "\n",
    "Note that the method info() should be different in the different classes where it should be implemented. \n",
    "\n",
    "Use the following code to test your program.\n",
    "\n",
    "```python\n",
    "pokemon = TV_serie(\"Pokemon\", \"Cartoon\", 4.5, 550)\n",
    "titanic = Movie(\"Titanic\", \"Romance\", 4.7, 194)\n",
    "code = Documentary(\"The Code\", \"Math\", 4)\n",
    "\n",
    "for video in tuple((pokemon, titanic, code)):\n",
    "    print(video.info())\n",
    "```\n",
    "\n",
    "An example output could be: \n",
    "```\n",
    "TV series with title Pokemon, genre Cartoon, rating 4.5 and episodes 550\n",
    "\n",
    "Movie with title Titanic, genre Romance, rating 4.7, duration 194 minutes\n",
    "\n",
    "Video with title The Code, genre Math and rating 4\n",
    "```\n",
    "\n",
    "(*)\n",
    "\n",
    "<details>\n",
    "\n",
    "<summary>Hint</summary>\n",
    "\n",
    "Use ```__super__()``` in each subclass to call the \\_\\_init\\_\\_() in parent class. Add additional parameters in the \\_\\_init\\_\\_() of each subclass when needed. Keep error handling and validation in parent class and let the subclass inherit them in order to avoid repeating validation code.\n",
    "\n",
    "</details>"
   ]
  },
  {
   "cell_type": "markdown",
   "metadata": {},
   "source": [
    "---\n",
    "## 2. Fraction (**)\n",
    "\n",
    "Create a class called Frac to represent mathematical fractions. The class is instantiated with two instance variables: nominator and denominator. Objects instantiated from this class should have methods for addition, subtraction, multiplication, division using the operators +,-,*,/. Note that these implemented methods must be mathematically correct. Also implement the following methods: \n",
    "\n",
    "```python\n",
    "\n",
    "simplify(self, value = None) # simplifies to most simple form unless value is given \n",
    "\n",
    "__str__(self) # represent the fraction in a neat way for printing\n",
    "\n",
    "mixed(self) # represent the fraction in mixed terms \n",
    "\n",
    "__eq__(self, other) # checks equality by overloading ==\n",
    "\n",
    "```\n",
    "\n",
    "Also remember to handle errors and validations.\n",
    "\n",
    "Example of tests that it should handled: \n",
    "\n",
    "- 1/2 + 1/3 = 5/6       DONE\n",
    "- 1/2 - 1/3 = 1/6       DONE\n",
    "- 7/6 --> 1 1/6 (mixed) DONE\n",
    "- 3*1/2 = 3/2\n",
    "- 1/2 * 3 = 3/2\n",
    "- 1/4 + 2 = 9/4\n",
    "- 1/4 / 1/2 = 1/2\n",
    "- 2/4 == 1/2 --> True   Done\n",
    "- 3/4 += 2 = 11/4\n",
    "\n",
    "</details>\n"
   ]
  },
  {
   "cell_type": "code",
   "execution_count": 105,
   "metadata": {},
   "outputs": [],
   "source": [
    "from __future__ import annotations\n",
    "import math\n",
    "\n",
    "\n",
    "class Fraction:\n",
    "    def __init__(self, num: int, den: int) -> None:\n",
    "        self.num = num\n",
    "        self.den = den\n",
    "\n",
    "    def mixed(self) -> None:  # Mixed numbers function\n",
    "        if self.den == 1: # If the denominator == 1 it is not possible to have mixed numbers.\n",
    "            return self.num # returns the numerator value, because it is a whole number\n",
    "        elif self.num > self.den:\n",
    "            return (f\"{self.num//self.den} {self.num % self.den}/{self.den}\") # Takes the remainder as the mixed number and calculates the rest of the num.\n",
    "        else:\n",
    "            return self.show()\n",
    "\n",
    "    def __sub__(self,  value: (Fraction | int | float )) -> Fraction: # Subtraction dunder method\n",
    "        if type(value) == Fraction:\n",
    "            new_num = self.num * value.den - self.den * value.num # creates a new variable after calculation.\n",
    "            new_den = self.den * value.den\n",
    "            return Fraction(new_num, new_den)\n",
    "        else:\n",
    "            new_num = self.num - self.den * value\n",
    "            return Fraction(new_num, self.den)\n",
    "\n",
    "\n",
    "    def __add__(self, value: (Fraction | int | float )) -> Fraction: # Addition dunder method\n",
    "        if type(value) == Fraction:\n",
    "            new_num = self.num * value.den + self.den * value.num  # creates a new variable after calculation.\n",
    "            new_den = self.den * value.den\n",
    "            return Fraction(new_num, new_den)\n",
    "        else:\n",
    "            new_num = self.num + self.den * value\n",
    "            return Fraction(new_num, self.den)\n",
    "    \n",
    "    def __mul__(self, value) -> None:\n",
    "        new_num = self.num * value.num\n",
    "        new_den = self.den * value.den\n",
    "        return Fraction(new_num, new_den)\n",
    "\n",
    "    def multiply_by(self, value):\n",
    "        pass\n",
    "\n",
    "    def __eq__(self, value) -> None:\n",
    "        return (self.num * value.den == value.num * self.den)\n",
    "\n",
    "    def simplify(self, value = None):\n",
    "        if self.num % self.num == 1:\n",
    "            print(\"Simple\")\n",
    "        return  print(self.num % self.num)\n",
    "\n",
    "    def __str__(self) -> str:\n",
    "        \"\"\"Display Fraction in str\"\"\"\n",
    "        return f\"{self.num}/{self.den}\"\n",
    "\n",
    "\n",
    "\n",
    "x = Fraction(1,2)\n",
    "y = Fraction(1,3)\n",
    "a = Fraction(1,4)\n",
    "\n",
    "\n",
    "print(f\"Addition: {a} + 2 = {a + 2}\")"
   ]
  },
  {
   "cell_type": "code",
   "execution_count": 107,
   "metadata": {},
   "outputs": [
    {
     "name": "stdout",
     "output_type": "stream",
     "text": [
      "Addition with whole number: 1/4 + 2 = 9/4\n",
      "Addition with Fractions: 1/2 + 1/3 = 5/6\n"
     ]
    }
   ],
   "source": [
    "#Addition\n",
    "\n",
    "print(f\"Addition with whole number: {a} + 2 = {a + 2}\")\n",
    "print(f\"Addition with Fractions: {x} + {y} = {x + y}\")\n"
   ]
  },
  {
   "cell_type": "code",
   "execution_count": 110,
   "metadata": {},
   "outputs": [
    {
     "ename": "AttributeError",
     "evalue": "'int' object has no attribute 'den'",
     "output_type": "error",
     "traceback": [
      "\u001b[1;31m---------------------------------------------------------------------------\u001b[0m",
      "\u001b[1;31mAttributeError\u001b[0m                            Traceback (most recent call last)",
      "\u001b[1;32mc:\\Users\\Agam\\Documents\\Github\\Python-Alexander-Andersson\\Exercises\\E12-OOP-inheritance_polymorphism.ipynb Cell 7\u001b[0m in \u001b[0;36m<cell line: 3>\u001b[1;34m()\u001b[0m\n\u001b[0;32m      <a href='vscode-notebook-cell:/c%3A/Users/Agam/Documents/Github/Python-Alexander-Andersson/Exercises/E12-OOP-inheritance_polymorphism.ipynb#X13sZmlsZQ%3D%3D?line=0'>1</a>\u001b[0m \u001b[39m#Subtraction\u001b[39;00m\n\u001b[1;32m----> <a href='vscode-notebook-cell:/c%3A/Users/Agam/Documents/Github/Python-Alexander-Andersson/Exercises/E12-OOP-inheritance_polymorphism.ipynb#X13sZmlsZQ%3D%3D?line=2'>3</a>\u001b[0m \u001b[39mprint\u001b[39m(\u001b[39mf\u001b[39m\u001b[39m\"\u001b[39m\u001b[39mSubtraction with whole number: \u001b[39m\u001b[39m{\u001b[39;00ma\u001b[39m}\u001b[39;00m\u001b[39m - 2 = \u001b[39m\u001b[39m{\u001b[39;00ma \u001b[39m-\u001b[39m \u001b[39m2\u001b[39m\u001b[39m}\u001b[39;00m\u001b[39m\"\u001b[39m)\n\u001b[0;32m      <a href='vscode-notebook-cell:/c%3A/Users/Agam/Documents/Github/Python-Alexander-Andersson/Exercises/E12-OOP-inheritance_polymorphism.ipynb#X13sZmlsZQ%3D%3D?line=3'>4</a>\u001b[0m \u001b[39mprint\u001b[39m(\u001b[39mf\u001b[39m\u001b[39m\"\u001b[39m\u001b[39mSubtraction with Fractions: \u001b[39m\u001b[39m{\u001b[39;00mx\u001b[39m}\u001b[39;00m\u001b[39m - \u001b[39m\u001b[39m{\u001b[39;00my\u001b[39m}\u001b[39;00m\u001b[39m = \u001b[39m\u001b[39m{\u001b[39;00mx \u001b[39m-\u001b[39m y\u001b[39m}\u001b[39;00m\u001b[39m\"\u001b[39m)\n",
      "\u001b[1;32mc:\\Users\\Agam\\Documents\\Github\\Python-Alexander-Andersson\\Exercises\\E12-OOP-inheritance_polymorphism.ipynb Cell 7\u001b[0m in \u001b[0;36mFraction.__sub__\u001b[1;34m(self, value)\u001b[0m\n\u001b[0;32m     <a href='vscode-notebook-cell:/c%3A/Users/Agam/Documents/Github/Python-Alexander-Andersson/Exercises/E12-OOP-inheritance_polymorphism.ipynb#X13sZmlsZQ%3D%3D?line=17'>18</a>\u001b[0m \u001b[39mdef\u001b[39;00m \u001b[39m__sub__\u001b[39m(\u001b[39mself\u001b[39m, value) \u001b[39m-\u001b[39m\u001b[39m>\u001b[39m \u001b[39mNone\u001b[39;00m: \u001b[39m# Subtraction dunder method\u001b[39;00m\n\u001b[1;32m---> <a href='vscode-notebook-cell:/c%3A/Users/Agam/Documents/Github/Python-Alexander-Andersson/Exercises/E12-OOP-inheritance_polymorphism.ipynb#X13sZmlsZQ%3D%3D?line=18'>19</a>\u001b[0m     new_num \u001b[39m=\u001b[39m \u001b[39mself\u001b[39m\u001b[39m.\u001b[39mnum \u001b[39m*\u001b[39m value\u001b[39m.\u001b[39;49mden \u001b[39m-\u001b[39m \u001b[39mself\u001b[39m\u001b[39m.\u001b[39mden \u001b[39m*\u001b[39m value\u001b[39m.\u001b[39mnum \u001b[39m# creates a new variable after calculation.\u001b[39;00m\n\u001b[0;32m     <a href='vscode-notebook-cell:/c%3A/Users/Agam/Documents/Github/Python-Alexander-Andersson/Exercises/E12-OOP-inheritance_polymorphism.ipynb#X13sZmlsZQ%3D%3D?line=19'>20</a>\u001b[0m     new_den \u001b[39m=\u001b[39m \u001b[39mself\u001b[39m\u001b[39m.\u001b[39mden \u001b[39m*\u001b[39m value\u001b[39m.\u001b[39mden\n\u001b[0;32m     <a href='vscode-notebook-cell:/c%3A/Users/Agam/Documents/Github/Python-Alexander-Andersson/Exercises/E12-OOP-inheritance_polymorphism.ipynb#X13sZmlsZQ%3D%3D?line=20'>21</a>\u001b[0m     \u001b[39mreturn\u001b[39;00m Fraction(new_num, new_den)\n",
      "\u001b[1;31mAttributeError\u001b[0m: 'int' object has no attribute 'den'"
     ]
    }
   ],
   "source": [
    "#Subtraction\n",
    "\n",
    "print(f\"Subtraction with whole number: {a} - 2 = {a - 2}\")\n",
    "print(f\"Subtraction with Fractions: {x} - {y} = {x - y}\")"
   ]
  },
  {
   "cell_type": "markdown",
   "metadata": {},
   "source": [
    "---\n",
    "\n",
    "Kokchun Giang\n",
    "\n",
    "[LinkedIn][linkedIn_kokchun]\n",
    "\n",
    "[GitHub portfolio][github_portfolio]\n",
    "\n",
    "[linkedIn_kokchun]: https://www.linkedin.com/in/kokchungiang/\n",
    "[github_portfolio]: https://github.com/kokchun/Portfolio-Kokchun-Giang\n",
    "\n",
    "---"
   ]
  }
 ],
 "metadata": {
  "kernelspec": {
   "display_name": "Python 3.9.13 ('Python-Alexander-Andersson-rXBoH5sP')",
   "language": "python",
   "name": "python3"
  },
  "language_info": {
   "codemirror_mode": {
    "name": "ipython",
    "version": 3
   },
   "file_extension": ".py",
   "mimetype": "text/x-python",
   "name": "python",
   "nbconvert_exporter": "python",
   "pygments_lexer": "ipython3",
   "version": "3.9.13"
  },
  "orig_nbformat": 4,
  "vscode": {
   "interpreter": {
    "hash": "b14cc422d827dd3ad3e166e9b0c2744dfcee3cbacc81397c64432efd767b4494"
   }
  }
 },
 "nbformat": 4,
 "nbformat_minor": 2
}
