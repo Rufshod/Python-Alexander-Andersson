{
 "cells": [
  {
   "cell_type": "markdown",
   "metadata": {},
   "source": [
    "\n",
    "<a href=\"https://colab.research.google.com/github/kokchun/Python-course-AI22/blob/main/Exercises/E12-OOP-inheritance_polymorphism.ipynb\" target=\"_parent\"><img align=\"left\" src=\"https://colab.research.google.com/assets/colab-badge.svg\" alt=\"Open In Colab\"/></a> &nbsp; to see hints and answers."
   ]
  },
  {
   "cell_type": "markdown",
   "metadata": {},
   "source": [
    "# OOP exercises - inheritance and polymorphism\n",
    "\n",
    "---\n",
    "These are introductory exercises in Python with focus in **Object oriented programming**. \n",
    "\n",
    "<p class = \"alert alert-info\" role=\"alert\"><b>Remember</b> to use <b>descriptive variable, function and class names</b> in order to get readable code </p>\n",
    "\n",
    "<p class = \"alert alert-info\" role=\"alert\"><b>Remember</b> to format your answers in a neat way using <b>f-strings</b></p>\n",
    "\n",
    "<p class = \"alert alert-info\" role=\"alert\"><b>Remember</b> to format your input questions in a pedagogical way to guide the user</p>\n",
    "\n",
    "<p class = \"alert alert-info\" role=\"alert\"><b>Remember</b> to write good docstrings for your methods and classes </p> \n",
    "\n",
    "The number of stars (\\*), (\\*\\*), (\\*\\*\\*) denotes the difficulty level of the task\n",
    "\n",
    "---"
   ]
  },
  {
   "cell_type": "markdown",
   "metadata": {},
   "source": [
    "## 1. Video (*)\n",
    "\n",
    "Create classes following this UML:\n",
    "\n",
    "<img src=\"../assets/UML_video_polymorphism.png\" width=\"700\"/>\n",
    "\n",
    "Note that the method info() should be different in the different classes where it should be implemented. \n",
    "\n",
    "Use the following code to test your program.\n",
    "\n",
    "```python\n",
    "pokemon = TV_serie(\"Pokemon\", \"Cartoon\", 4.5, 550)\n",
    "titanic = Movie(\"Titanic\", \"Romance\", 4.7, 194)\n",
    "code = Documentary(\"The Code\", \"Math\", 4)\n",
    "\n",
    "for video in tuple((pokemon, titanic, code)):\n",
    "    print(video.info())\n",
    "```\n",
    "\n",
    "An example output could be: \n",
    "```\n",
    "TV series with title Pokemon, genre Cartoon, rating 4.5 and episodes 550\n",
    "\n",
    "Movie with title Titanic, genre Romance, rating 4.7, duration 194 minutes\n",
    "\n",
    "Video with title The Code, genre Math and rating 4\n",
    "```\n",
    "\n",
    "(*)\n",
    "\n",
    "<details>\n",
    "\n",
    "<summary>Hint</summary>\n",
    "\n",
    "Use ```__super__()``` in each subclass to call the \\_\\_init\\_\\_() in parent class. Add additional parameters in the \\_\\_init\\_\\_() of each subclass when needed. Keep error handling and validation in parent class and let the subclass inherit them in order to avoid repeating validation code.\n",
    "\n",
    "</details>"
   ]
  },
  {
   "cell_type": "markdown",
   "metadata": {},
   "source": [
    "---\n",
    "## 2. Fraction (**)\n",
    "\n",
    "Create a class called Frac to represent mathematical fractions. The class is instantiated with two instance variables: nominator and denominator. Objects instantiated from this class should have methods for addition, subtraction, multiplication, division using the operators +,-,*,/. Note that these implemented methods must be mathematically correct. Also implement the following methods: \n",
    "\n",
    "```python\n",
    "\n",
    "simplify(self, value = None) # simplifies to most simple form unless value is given \n",
    "\n",
    "__str__(self) # represent the fraction in a neat way for printing\n",
    "\n",
    "mixed(self) # represent the fraction in mixed terms \n",
    "\n",
    "__eq__(self, other) # checks equality by overloading ==\n",
    "\n",
    "```\n",
    "\n",
    "Also remember to handle errors and validations.\n",
    "\n",
    "Example of tests that it should handled: \n",
    "\n",
    "- 1/2 + 1/3 = 5/6\n",
    "- 1/2 - 1/3 = 1/6\n",
    "- 7/6 --> 1 1/6 (mixed)\n",
    "- 3*1/2 = 3/2\n",
    "- 1/2 * 3 = 3/2\n",
    "- 1/4 + 2 = 9/4\n",
    "- 1/4 / 1/2 = 1/2\n",
    "- 2/4 == 1/2 --> True\n",
    "- 3/4 += 2 = 11/4\n",
    "\n",
    "</details>\n"
   ]
  },
  {
   "cell_type": "markdown",
   "metadata": {},
   "source": [
    "---\n",
    "\n",
    "Kokchun Giang\n",
    "\n",
    "[LinkedIn][linkedIn_kokchun]\n",
    "\n",
    "[GitHub portfolio][github_portfolio]\n",
    "\n",
    "[linkedIn_kokchun]: https://www.linkedin.com/in/kokchungiang/\n",
    "[github_portfolio]: https://github.com/kokchun/Portfolio-Kokchun-Giang\n",
    "\n",
    "---"
   ]
  }
 ],
 "metadata": {
  "kernelspec": {
   "display_name": "Python 3.9.6 64-bit",
   "language": "python",
   "name": "python3"
  },
  "language_info": {
   "name": "python",
   "version": "3.9.6"
  },
  "orig_nbformat": 4,
  "vscode": {
   "interpreter": {
    "hash": "0da836a34428266995a795f1e1e27b816fa1c02f148d9728b3fbbbc5459afca6"
   }
  }
 },
 "nbformat": 4,
 "nbformat_minor": 2
}
