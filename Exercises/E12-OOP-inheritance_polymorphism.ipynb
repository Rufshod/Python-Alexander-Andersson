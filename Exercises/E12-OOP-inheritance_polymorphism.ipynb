{
 "cells": [
  {
   "cell_type": "markdown",
   "metadata": {},
   "source": [
    "\n",
    "<a href=\"https://colab.research.google.com/github/kokchun/Python-course-AI22/blob/main/Exercises/E12-OOP-inheritance_polymorphism.ipynb\" target=\"_parent\"><img align=\"left\" src=\"https://colab.research.google.com/assets/colab-badge.svg\" alt=\"Open In Colab\"/></a> &nbsp; to see hints and answers."
   ]
  },
  {
   "cell_type": "markdown",
   "metadata": {},
   "source": [
    "# OOP exercises - inheritance and polymorphism\n",
    "\n",
    "---\n",
    "These are introductory exercises in Python with focus in **Object oriented programming**. \n",
    "\n",
    "<p class = \"alert alert-info\" role=\"alert\"><b>Remember</b> to use <b>descriptive variable, function and class names</b> in order to get readable code </p>\n",
    "\n",
    "<p class = \"alert alert-info\" role=\"alert\"><b>Remember</b> to format your answers in a neat way using <b>f-strings</b></p>\n",
    "\n",
    "<p class = \"alert alert-info\" role=\"alert\"><b>Remember</b> to format your input questions in a pedagogical way to guide the user</p>\n",
    "\n",
    "<p class = \"alert alert-info\" role=\"alert\"><b>Remember</b> to write good docstrings for your methods and classes </p> \n",
    "\n",
    "The number of stars (\\*), (\\*\\*), (\\*\\*\\*) denotes the difficulty level of the task\n",
    "\n",
    "---"
   ]
  },
  {
   "cell_type": "markdown",
   "metadata": {},
   "source": [
    "## 1. Video (*)\n",
    "\n",
    "Create classes following this UML:\n",
    "\n",
    "<img src=\"../assets/UML_video_polymorphism.png\" width=\"700\"/>\n",
    "\n",
    "Note that the method info() should be different in the different classes where it should be implemented. \n",
    "\n",
    "Use the following code to test your program.\n",
    "\n",
    "```python\n",
    "pokemon = TV_serie(\"Pokemon\", \"Cartoon\", 4.5, 550)\n",
    "titanic = Movie(\"Titanic\", \"Romance\", 4.7, 194)\n",
    "code = Documentary(\"The Code\", \"Math\", 4)\n",
    "\n",
    "for video in tuple((pokemon, titanic, code)):\n",
    "    print(video.info())\n",
    "```\n",
    "\n",
    "An example output could be: \n",
    "```\n",
    "TV series with title Pokemon, genre Cartoon, rating 4.5 and episodes 550\n",
    "\n",
    "Movie with title Titanic, genre Romance, rating 4.7, duration 194 minutes\n",
    "\n",
    "Video with title The Code, genre Math and rating 4\n",
    "```\n",
    "\n",
    "(*)\n",
    "\n",
    "<details>\n",
    "\n",
    "<summary>Hint</summary>\n",
    "\n",
    "Use ```__super__()``` in each subclass to call the \\_\\_init\\_\\_() in parent class. Add additional parameters in the \\_\\_init\\_\\_() of each subclass when needed. Keep error handling and validation in parent class and let the subclass inherit them in order to avoid repeating validation code.\n",
    "\n",
    "</details>"
   ]
  },
  {
   "cell_type": "code",
   "execution_count": 91,
   "metadata": {},
   "outputs": [],
   "source": [
    "# TODO: class Video\n",
    "\n",
    "from __future__ import annotations\n",
    "\n",
    "\n",
    "class Video:\n",
    "    \"\"\"Parent Class for multimedia\"\"\"\n",
    "    def __init__(self, title: str, genre: str, rating: float) -> None:\n",
    "        self.title = title\n",
    "        self.genre = genre\n",
    "        self.rating = rating\n",
    "\n",
    "    # Title: getter\n",
    "    @property\n",
    "    def title(self) -> str:\n",
    "        \"\"\"Getter for title\"\"\"\n",
    "        return self._title\n",
    "\n",
    "    # Title: setter\n",
    "\n",
    "    @title.setter\n",
    "    def title(self, value: str) -> str:\n",
    "        if type(value) != str: # Checks if the type of value is not string\n",
    "            raise TypeError(f\"Title must be a string not {type(value).__name__}\") #Prints error message\n",
    "        if value.strip() == \"\":\n",
    "            raise ValueError(f\"Title can't be empty\")           # if len(value) < 1: was my solution\n",
    "        \n",
    "        value = value.capitalize()\n",
    "\n",
    "        self._title = value\n",
    "\n",
    "    # Genre: Getter\n",
    "    @property\n",
    "    def genre(self) -> str:\n",
    "        \"\"\"Getter for genre\"\"\"\n",
    "        return self._genre\n",
    "\n",
    "    # Genre: Setter\n",
    "    @genre.setter\n",
    "    def genre(self, value: str) -> str:\n",
    "        genre_lst = [\"action\", \"comedy\", \"drama\", \"fantasy\", \"horror\", \"mystery\", \"romance\", \"thriller\"] #list of genres in list\n",
    "\n",
    "        if value.lower() not in genre_lst: # checks to see if the genre exists in genre list. if not it will display error\n",
    "            raise ValueError(f\"{value}Genre does not exist!\\nMust be following {genre_lst}\")\n",
    "        #if type(value) != str: # Checks if the type of value is not string         NO NEED FOR THEESE, WE CHECK EVERYTHING IN ABOVE \n",
    "            #raise TypeError(f\"Genre must be a string not {type(value).__name__}\") \n",
    "        #if value.strip() == \"\":\n",
    "            #raise ValueError(f\"Genre can't be empty\")           \n",
    "        \n",
    "        value = value.capitalize()\n",
    "\n",
    "        self._genre = value\n",
    "\n",
    "\n",
    "    # Rating: Getter\n",
    "    @property\n",
    "    def rating(self, float):\n",
    "        \"\"\"Getter for rating\"\"\"\n",
    "        return self._rating\n",
    "\n",
    "    \n",
    "    # Rating: Setter\n",
    "    @rating.setter\n",
    "    def rating(self, value: float | int) -> float:\n",
    "        if not isinstance(value, (float, int)): # Checks if the type of value is not float or float\n",
    "            raise TypeError(f\"Rating must be a number not {type(value).__name__}\")\n",
    "        if not 0 <= value <= 10:\n",
    "            raise ValueError(f\"Rating must be between 1 and 10\")\n",
    "\n",
    "        value = round(value, 1)\n",
    "\n",
    "        self._rating = value\n",
    "\n",
    "\n",
    "    # Info Method.\n",
    "    def info(self) -> str:\n",
    "        \"\"\"Return info about the class in string form\"\"\"\n",
    "        if type(self) == Video:\n",
    "            return f\"Video with the title {self._title}, genre {self._genre}, rating {self._rating} and TODO \"\n",
    "    #TODO    if type(self) == Documentary:\n"
   ]
  },
  {
   "cell_type": "markdown",
   "metadata": {},
   "source": [
    "# Testing Code"
   ]
  },
  {
   "cell_type": "code",
   "execution_count": 84,
   "metadata": {},
   "outputs": [
    {
     "data": {
      "text/plain": [
       "'Video with the title 123213, genre Horror, rating 9.7 and TODO '"
      ]
     },
     "execution_count": 84,
     "metadata": {},
     "output_type": "execute_result"
    }
   ],
   "source": [
    "     \n",
    "v1 = Video(\"123213\", \"horror\", 9.7)\n",
    "v1.info()"
   ]
  },
  {
   "cell_type": "markdown",
   "metadata": {},
   "source": [
    "---\n",
    "## 2. Fraction (**)\n",
    "\n",
    "Create a class called Frac to represent mathematical fractions. The class is instantiated with two instance variables: nominator and denominator. Objects instantiated from this class should have methods for addition, subtraction, multiplication, division using the operators +,-,*,/. Note that these implemented methods must be mathematically correct. Also implement the following methods: \n",
    "\n",
    "```python\n",
    "\n",
    "simplify(self, value = None) # simplifies to most simple form unless value is given \n",
    "\n",
    "__str__(self) # represent the fraction in a neat way for printing\n",
    "\n",
    "mixed(self) # represent the fraction in mixed terms \n",
    "\n",
    "__eq__(self, other) # checks equality by overloading ==\n",
    "\n",
    "```\n",
    "\n",
    "Also remember to handle errors and validations.\n",
    "\n",
    "Example of tests that it should handled: \n",
    "\n",
    "- 1/2 + 1/3 = 5/6       DONE\n",
    "- 1/2 - 1/3 = 1/6       DONE\n",
    "- 7/6 --> 1 1/6 (mixed) DONE\n",
    "- 3*1/2 = 3/2\n",
    "- 1/2 * 3 = 3/2\n",
    "- 1/4 + 2 = 9/4\n",
    "- 1/4 / 1/2 = 1/2\n",
    "- 2/4 == 1/2 --> True   Done\n",
    "- 3/4 += 2 = 11/4\n",
    "\n",
    "</details>\n"
   ]
  },
  {
   "cell_type": "code",
   "execution_count": 85,
   "metadata": {},
   "outputs": [
    {
     "name": "stdout",
     "output_type": "stream",
     "text": [
      "Division with whole number: 1/3 / 3 = 3/3\n",
      "Division with Fractions: 1/5 / 1/3 = 3/5\n"
     ]
    }
   ],
   "source": [
    "from __future__ import annotations\n",
    "import math\n",
    "\n",
    "\n",
    "class Fraction:\n",
    "    def __init__(self, num: int, den: int) -> None:\n",
    "        self.num = num\n",
    "        self.den = den\n",
    "\n",
    "    def mixed(self) -> None:  # Mixed numbers function\n",
    "        if self.den == 1: # If the denominator == 1 it is not possible to have mixed numbers.\n",
    "            return self.num # returns the numerator value, because it is a whole number\n",
    "        elif self.num > self.den:\n",
    "            return (f\"{self.num//self.den} {self.num % self.den}/{self.den}\") # Takes the remainder as the mixed number and calculates the rest of the num.\n",
    "        else:\n",
    "            return self\n",
    "\n",
    "    def __sub__(self,  value: (Fraction | int | float )) -> Fraction: # Subtraction dunder method\n",
    "        if type(value) == Fraction:\n",
    "            new_num = self.num * value.den - self.den * value.num # creates a new variable after calculation.\n",
    "            new_den = self.den * value.den\n",
    "            return Fraction(new_num, new_den)\n",
    "        else:\n",
    "            new_num = self.num - self.den * value\n",
    "            return Fraction(new_num, self.den)\n",
    "\n",
    "\n",
    "    def __add__(self, value: (Fraction | int | float )) -> Fraction: # Addition dunder method\n",
    "        if type(value) == Fraction:\n",
    "            new_num = self.num * value.den + self.den * value.num  # creates a new variable after calculation.\n",
    "            new_den = self.den * value.den\n",
    "            return Fraction(new_num, new_den)\n",
    "        else:\n",
    "            new_num = self.num + self.den * value\n",
    "            return Fraction(new_num, self.den)\n",
    "    \n",
    "    def __mul__(self, value) -> None:\n",
    "        if type(value) == Fraction:\n",
    "            new_num = self.num * value.num\n",
    "            new_den = self.den * value.den\n",
    "            return Fraction(new_num, new_den)\n",
    "        else:\n",
    "            new_num = self.num * value\n",
    "            return Fraction(new_num, self.den)\n",
    "\n",
    "    def __truediv__(self, value: (Fraction | int | float)) -> Fraction: # TODO fix when denominators are not divisible by them selves\n",
    "        if type(value) == Fraction:\n",
    "            if self.den // value.den  == value.den:\n",
    "                new_num = value.den * self.num // value.den\n",
    "                new_den = value.num * self.den // value.den\n",
    "            else:\n",
    "                new_num = value.den * self.num\n",
    "                new_den = value.num * self.den\n",
    "            return Fraction(new_num, new_den)\n",
    "        else:\n",
    "            new_sum = Fraction(self.num, self.den*value)\n",
    "            return self*value\n",
    "\n",
    "    def __eq__(self, value: (Fraction | int | float )) -> Fraction:\n",
    "        if type(value) == Fraction:\n",
    "            return self.num * value.den == value.num * self.den\n",
    "        else:\n",
    "            return self.num / self.den == value\n",
    "\n",
    "    def simplify(self, value = None):\n",
    "        if self.num % self.num == 1:\n",
    "            pass\n",
    "\n",
    "    def __str__(self) -> str:\n",
    "        \"\"\"Display Fraction in str\"\"\"\n",
    "        return f\"{self.num}/{self.den}\"\n",
    "\n",
    "\n",
    "\n",
    "x = Fraction(1,2)\n",
    "y = Fraction(1,3)\n",
    "z = Fraction(1,5)\n",
    "a = Fraction(1,9)\n",
    "b = Fraction(2,4)\n",
    "\n",
    "\n",
    "#Division\n",
    "\n",
    "print(f\"Division with whole number: {y} / 3 = {y / 3}\")\n",
    "print(f\"Division with Fractions: {z} / {y} = {z / y}\")\n"
   ]
  },
  {
   "cell_type": "code",
   "execution_count": 86,
   "metadata": {},
   "outputs": [
    {
     "name": "stdout",
     "output_type": "stream",
     "text": [
      "Addition with whole number: 1/9 + 2 = 2 1/9\n",
      "Addition with Fractions: 1/2 + 1/3 = 5/6\n"
     ]
    }
   ],
   "source": [
    "#Addition\n",
    "\n",
    "print(f\"Addition with whole number: {a} + 2 = {(a + 2).mixed()}\")\n",
    "print(f\"Addition with Fractions: {x} + {y} = {x + y}\")\n"
   ]
  },
  {
   "cell_type": "code",
   "execution_count": 87,
   "metadata": {},
   "outputs": [
    {
     "name": "stdout",
     "output_type": "stream",
     "text": [
      "Subtraction with whole number: 1/9 - 2 = -17/9\n",
      "Subtraction with Fractions: 1/2 - 1/3 = 1/6\n"
     ]
    }
   ],
   "source": [
    "#Subtraction\n",
    "\n",
    "print(f\"Subtraction with whole number: {a} - 2 = {a - 2}\")\n",
    "print(f\"Subtraction with Fractions: {x} - {y} = {x - y}\")"
   ]
  },
  {
   "cell_type": "code",
   "execution_count": 88,
   "metadata": {},
   "outputs": [
    {
     "name": "stdout",
     "output_type": "stream",
     "text": [
      "Multiplication with whole number: 1/2 * 3 = 3/2\n",
      "Multiplication with Fractions: 1/2 * 1/3 = 1/6\n"
     ]
    }
   ],
   "source": [
    "#Multiplication\n",
    "\n",
    "print(f\"Multiplication with whole number: {x} * 3 = {x * 3}\")\n",
    "print(f\"Multiplication with Fractions: {x} * {y} = {x * y}\")"
   ]
  },
  {
   "cell_type": "code",
   "execution_count": 89,
   "metadata": {},
   "outputs": [
    {
     "name": "stdout",
     "output_type": "stream",
     "text": [
      "Division with whole number: 1/3 / 3 = 3/3\n",
      "Division with Fractions: 1/9 / 1/3 = 1/3 Divisible by itself\n",
      "Division with Fractions: 1/5 / 1/3 = 3/5\n"
     ]
    }
   ],
   "source": [
    "#Division\n",
    "\n",
    "print(f\"Division with whole number: {y} / 3 = {y / 3}\")\n",
    "print(f\"Division with Fractions: {a} / {y} = {a / y} Divisible by itself\")\n",
    "print(f\"Division with Fractions: {z} / {y} = {z / y}\")\n",
    "\n"
   ]
  },
  {
   "cell_type": "code",
   "execution_count": 90,
   "metadata": {},
   "outputs": [
    {
     "name": "stdout",
     "output_type": "stream",
     "text": [
      "Subtraction with whole number: 1/2 == 0.5 = True\n",
      "Subtraction with Fractions: 1/2 == 2/4 = True\n"
     ]
    }
   ],
   "source": [
    "#Equal To:\n",
    "print(f\"Subtraction with whole number: {x} == 0.5 = {x == 0.5}\")\n",
    "print(f\"Subtraction with Fractions: {x} == {b} = {x == b}\")"
   ]
  },
  {
   "cell_type": "markdown",
   "metadata": {},
   "source": [
    "---\n",
    "\n",
    "Kokchun Giang\n",
    "\n",
    "[LinkedIn][linkedIn_kokchun]\n",
    "\n",
    "[GitHub portfolio][github_portfolio]\n",
    "\n",
    "[linkedIn_kokchun]: https://www.linkedin.com/in/kokchungiang/\n",
    "[github_portfolio]: https://github.com/kokchun/Portfolio-Kokchun-Giang\n",
    "\n",
    "---"
   ]
  }
 ],
 "metadata": {
  "kernelspec": {
   "display_name": "Python 3.9.13 ('Python-Alexander-Andersson-rXBoH5sP')",
   "language": "python",
   "name": "python3"
  },
  "language_info": {
   "codemirror_mode": {
    "name": "ipython",
    "version": 3
   },
   "file_extension": ".py",
   "mimetype": "text/x-python",
   "name": "python",
   "nbconvert_exporter": "python",
   "pygments_lexer": "ipython3",
   "version": "3.9.13"
  },
  "orig_nbformat": 4,
  "vscode": {
   "interpreter": {
    "hash": "b14cc422d827dd3ad3e166e9b0c2744dfcee3cbacc81397c64432efd767b4494"
   }
  }
 },
 "nbformat": 4,
 "nbformat_minor": 2
}
