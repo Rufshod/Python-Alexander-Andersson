{
 "cells": [
  {
   "cell_type": "markdown",
   "metadata": {},
   "source": [
    "\n",
    "<a href=\"https://colab.research.google.com/github/kokchun/Python-course-AI22/blob/main/Exercises/E12-OOP-inheritance_polymorphism.ipynb\" target=\"_parent\"><img align=\"left\" src=\"https://colab.research.google.com/assets/colab-badge.svg\" alt=\"Open In Colab\"/></a> &nbsp; to see hints and answers."
   ]
  },
  {
   "cell_type": "markdown",
   "metadata": {},
   "source": [
    "# OOP exercises - inheritance and polymorphism\n",
    "\n",
    "---\n",
    "These are introductory exercises in Python with focus in **Object oriented programming**. \n",
    "\n",
    "<p class = \"alert alert-info\" role=\"alert\"><b>Remember</b> to use <b>descriptive variable, function and class names</b> in order to get readable code </p>\n",
    "\n",
    "<p class = \"alert alert-info\" role=\"alert\"><b>Remember</b> to format your answers in a neat way using <b>f-strings</b></p>\n",
    "\n",
    "<p class = \"alert alert-info\" role=\"alert\"><b>Remember</b> to format your input questions in a pedagogical way to guide the user</p>\n",
    "\n",
    "<p class = \"alert alert-info\" role=\"alert\"><b>Remember</b> to write good docstrings for your methods and classes </p> \n",
    "\n",
    "The number of stars (\\*), (\\*\\*), (\\*\\*\\*) denotes the difficulty level of the task\n",
    "\n",
    "---"
   ]
  },
  {
   "cell_type": "markdown",
   "metadata": {},
   "source": [
    "## 1. Video (*)\n",
    "\n",
    "Create classes following this UML:\n",
    "\n",
    "<img src=\"../assets/UML_video_polymorphism.png\" width=\"700\"/>\n",
    "\n",
    "Note that the method info() should be different in the different classes where it should be implemented. \n",
    "\n",
    "Use the following code to test your program.\n",
    "\n",
    "```python\n",
    "pokemon = TV_serie(\"Pokemon\", \"Cartoon\", 4.5, 550)\n",
    "titanic = Movie(\"Titanic\", \"Romance\", 4.7, 194)\n",
    "code = Documentary(\"The Code\", \"Math\", 4)\n",
    "\n",
    "for video in tuple((pokemon, titanic, code)):\n",
    "    print(video.info())\n",
    "```\n",
    "\n",
    "An example output could be: \n",
    "```\n",
    "TV series with title Pokemon, genre Cartoon, rating 4.5 and episodes 550\n",
    "\n",
    "Movie with title Titanic, genre Romance, rating 4.7, duration 194 minutes\n",
    "\n",
    "Video with title The Code, genre Math and rating 4\n",
    "```\n",
    "\n",
    "(*)\n",
    "\n",
    "<details>\n",
    "\n",
    "<summary>Hint</summary>\n",
    "\n",
    "Use ```__super__()``` in each subclass to call the \\_\\_init\\_\\_() in parent class. Add additional parameters in the \\_\\_init\\_\\_() of each subclass when needed. Keep error handling and validation in parent class and let the subclass inherit them in order to avoid repeating validation code.\n",
    "\n",
    "</details>"
   ]
  },
  {
   "cell_type": "markdown",
   "metadata": {},
   "source": [
    "---\n",
    "## 2. Fraction (**)\n",
    "\n",
    "Create a class called Frac to represent mathematical fractions. The class is instantiated with two instance variables: nominator and denominator. Objects instantiated from this class should have methods for addition, subtraction, multiplication, division using the operators +,-,*,/. Note that these implemented methods must be mathematically correct. Also implement the following methods: \n",
    "\n",
    "```python\n",
    "\n",
    "simplify(self, value = None) # simplifies to most simple form unless value is given \n",
    "\n",
    "__str__(self) # represent the fraction in a neat way for printing\n",
    "\n",
    "mixed(self) # represent the fraction in mixed terms \n",
    "\n",
    "__eq__(self, other) # checks equality by overloading ==\n",
    "\n",
    "```\n",
    "\n",
    "Also remember to handle errors and validations.\n",
    "\n",
    "Example of tests that it should handled: \n",
    "\n",
    "- 1/2 + 1/3 = 5/6\n",
    "- 1/2 - 1/3 = 1/6\n",
    "- 7/6 --> 1 1/6 (mixed)\n",
    "- 3*1/2 = 3/2\n",
    "- 1/2 * 3 = 3/2\n",
    "- 1/4 + 2 = 9/4\n",
    "- 1/4 / 1/2 = 1/2\n",
    "- 2/4 == 1/2 --> True\n",
    "- 3/4 += 2 = 11/4\n",
    "\n",
    "</details>\n"
   ]
  },
  {
   "cell_type": "code",
   "execution_count": 25,
   "metadata": {},
   "outputs": [
    {
     "ename": "TypeError",
     "evalue": "'int' object is not iterable",
     "output_type": "error",
     "traceback": [
      "\u001b[1;31m---------------------------------------------------------------------------\u001b[0m",
      "\u001b[1;31mTypeError\u001b[0m                                 Traceback (most recent call last)",
      "\u001b[1;32mc:\\Users\\Agam\\Documents\\Github\\Python-Alexander-Andersson\\Exercises\\E12-OOP-inheritance_polymorphism.ipynb Cell 5\u001b[0m in \u001b[0;36m<cell line: 13>\u001b[1;34m()\u001b[0m\n\u001b[0;32m      <a href='vscode-notebook-cell:/c%3A/Users/Agam/Documents/Github/Python-Alexander-Andersson/Exercises/E12-OOP-inheritance_polymorphism.ipynb#W5sZmlsZQ%3D%3D?line=6'>7</a>\u001b[0m             \u001b[39mif\u001b[39;00m \u001b[39mnot\u001b[39;00m \u001b[39misinstance\u001b[39m(nom, \u001b[39mint\u001b[39m):\n\u001b[0;32m      <a href='vscode-notebook-cell:/c%3A/Users/Agam/Documents/Github/Python-Alexander-Andersson/Exercises/E12-OOP-inheritance_polymorphism.ipynb#W5sZmlsZQ%3D%3D?line=7'>8</a>\u001b[0m                 \u001b[39mraise\u001b[39;00m \u001b[39mTypeError\u001b[39;00m(\u001b[39mf\u001b[39m\u001b[39m\"\u001b[39m\u001b[39m{\u001b[39;00mnom\u001b[39m}\u001b[39;00m\u001b[39m is not a valid number\u001b[39m\u001b[39m\"\u001b[39m)\n\u001b[1;32m---> <a href='vscode-notebook-cell:/c%3A/Users/Agam/Documents/Github/Python-Alexander-Andersson/Exercises/E12-OOP-inheritance_polymorphism.ipynb#W5sZmlsZQ%3D%3D?line=12'>13</a>\u001b[0m num \u001b[39m=\u001b[39m Frac(\u001b[39m12\u001b[39;49m ,\u001b[39m12\u001b[39;49m)\n\u001b[0;32m     <a href='vscode-notebook-cell:/c%3A/Users/Agam/Documents/Github/Python-Alexander-Andersson/Exercises/E12-OOP-inheritance_polymorphism.ipynb#W5sZmlsZQ%3D%3D?line=14'>15</a>\u001b[0m \u001b[39mprint\u001b[39m(num)\n",
      "\u001b[1;32mc:\\Users\\Agam\\Documents\\Github\\Python-Alexander-Andersson\\Exercises\\E12-OOP-inheritance_polymorphism.ipynb Cell 5\u001b[0m in \u001b[0;36mFrac.__init__\u001b[1;34m(self, nominator, denominator)\u001b[0m\n\u001b[0;32m      <a href='vscode-notebook-cell:/c%3A/Users/Agam/Documents/Github/Python-Alexander-Andersson/Exercises/E12-OOP-inheritance_polymorphism.ipynb#W5sZmlsZQ%3D%3D?line=2'>3</a>\u001b[0m \u001b[39mself\u001b[39m\u001b[39m.\u001b[39mnominator \u001b[39m=\u001b[39m nominator\n\u001b[0;32m      <a href='vscode-notebook-cell:/c%3A/Users/Agam/Documents/Github/Python-Alexander-Andersson/Exercises/E12-OOP-inheritance_polymorphism.ipynb#W5sZmlsZQ%3D%3D?line=3'>4</a>\u001b[0m \u001b[39mself\u001b[39m\u001b[39m.\u001b[39mdenominator \u001b[39m=\u001b[39m denominator\n\u001b[1;32m----> <a href='vscode-notebook-cell:/c%3A/Users/Agam/Documents/Github/Python-Alexander-Andersson/Exercises/E12-OOP-inheritance_polymorphism.ipynb#W5sZmlsZQ%3D%3D?line=5'>6</a>\u001b[0m \u001b[39mfor\u001b[39;00m nom, \u001b[39min\u001b[39;00m nominator:\n\u001b[0;32m      <a href='vscode-notebook-cell:/c%3A/Users/Agam/Documents/Github/Python-Alexander-Andersson/Exercises/E12-OOP-inheritance_polymorphism.ipynb#W5sZmlsZQ%3D%3D?line=6'>7</a>\u001b[0m     \u001b[39mif\u001b[39;00m \u001b[39mnot\u001b[39;00m \u001b[39misinstance\u001b[39m(nom, \u001b[39mint\u001b[39m):\n\u001b[0;32m      <a href='vscode-notebook-cell:/c%3A/Users/Agam/Documents/Github/Python-Alexander-Andersson/Exercises/E12-OOP-inheritance_polymorphism.ipynb#W5sZmlsZQ%3D%3D?line=7'>8</a>\u001b[0m         \u001b[39mraise\u001b[39;00m \u001b[39mTypeError\u001b[39;00m(\u001b[39mf\u001b[39m\u001b[39m\"\u001b[39m\u001b[39m{\u001b[39;00mnom\u001b[39m}\u001b[39;00m\u001b[39m is not a valid number\u001b[39m\u001b[39m\"\u001b[39m)\n",
      "\u001b[1;31mTypeError\u001b[0m: 'int' object is not iterable"
     ]
    }
   ],
   "source": [
    "class Frac:\n",
    "    def __init__(self, nominator: int, denominator: int):\n",
    "        self.nominator = nominator\n",
    "        self.denominator = denominator\n",
    "\n",
    "        for nom, in nominator:\n",
    "            if not isinstance(nom, int):\n",
    "                raise TypeError(f\"{nom} is not a valid number\")\n",
    "\n",
    "\n",
    "\n",
    "\n",
    "num = Frac(12 ,12)\n",
    "\n",
    "print(num)       "
   ]
  },
  {
   "cell_type": "code",
   "execution_count": 48,
   "metadata": {},
   "outputs": [
    {
     "name": "stdout",
     "output_type": "stream",
     "text": [
      "2 / 7\n",
      "2 / 7\n",
      "None\n",
      "ADD\n",
      "4 / 7\n"
     ]
    }
   ],
   "source": [
    "# Followed a code along, HUGE ISSUE, can not compute different denominators\n",
    "\n",
    "class Frac:\n",
    "    def __init__(self, nu, dn):\n",
    "        self.numerator = int(nu)\n",
    "        self.denominator = int(dn)\n",
    "\n",
    "    def __add__(self, other): # addition\n",
    "        if  self.denominator==other.denominator:\n",
    "            self.numerator += self.numerator\n",
    "        else:\n",
    "            self.numerator = self.numerator * other.demoniator + self.denominator * other.numerator\n",
    "            self.denominator = self.denominator * other.denominator\n",
    "\n",
    "    def __sub__(self, other): # Subtraction\n",
    "        if self.denominator == other.denominator:\n",
    "            self.numerator -= self.numerator\n",
    "        else:\n",
    "            self.numerator = self.numerator * other.denominator - self.denominator * other.numerator\n",
    "            self.denominator = self.denominator * other.denominator\n",
    "\n",
    "    def __mul__(self, other): # Multiply method for numerators and denominators\n",
    "        self.numerator *= other.numerator\n",
    "        self.denominator *= other.denominator\n",
    "\n",
    "    def __str__(self) -> str:  #Makes it so that we can print our instance, below we print num and num 1\n",
    "        return f\"{self.numerator} / {self.denominator}\"\n",
    "\n",
    "\n",
    "#Test code here\n",
    "\n",
    "num = Frac(2,7) # 1/3\n",
    "num1 = Frac(2,7) # 1/3\n",
    "print(num)\n",
    "print(num1)\n",
    "\n",
    "print(f\"{num+num1}\")\n",
    "\n",
    "#num.__add__(num1)\n",
    "print(f\"ADD\")\n",
    "print(num)\n"
   ]
  },
  {
   "cell_type": "code",
   "execution_count": 16,
   "metadata": {},
   "outputs": [
    {
     "name": "stdout",
     "output_type": "stream",
     "text": [
      "42/36\n",
      "1 1/6\n",
      "1/6\n",
      "1 -5/6\n"
     ]
    }
   ],
   "source": [
    "class Fraction: # Daniel Nilsson code\n",
    "    def __init__(self, num: int, den: int) -> None:\n",
    "        self.num = num\n",
    "        self.den = den\n",
    "\n",
    "    def __sub__(self, value):\n",
    "        new_num = self.num * value.den - self.den * value.num\n",
    "        new_den = self.den * value.den\n",
    "        return Fraction(new_num, new_den)\n",
    "\n",
    "    def __add__(self, value):\n",
    "        new_num = self.num * value.den + self.den * value.num\n",
    "        new_den = self.den * value.den\n",
    "        return Fraction(new_num, new_den)\n",
    "    \n",
    "    def mixed(self):\n",
    "        print(f\"1 {self.num - self.den}/{self.den}\")\n",
    "            \n",
    "\n",
    "    def show(self):\n",
    "        print(f\"{self.num}/{self.den}\")\n",
    "\n",
    "x = Fraction(4,6)\n",
    "y = Fraction(3,6)\n",
    "z = x+y\n",
    "z.show()\n",
    "\n",
    "zz = Fraction(7,6)\n",
    "\n",
    "\n",
    "zz.mixed()\n",
    "\n",
    "x = Fraction(1,2)\n",
    "y = Fraction(1,3)\n",
    "z = x-y\n",
    "z.show()\n"
   ]
  },
  {
   "cell_type": "markdown",
   "metadata": {},
   "source": [
    "---\n",
    "\n",
    "Kokchun Giang\n",
    "\n",
    "[LinkedIn][linkedIn_kokchun]\n",
    "\n",
    "[GitHub portfolio][github_portfolio]\n",
    "\n",
    "[linkedIn_kokchun]: https://www.linkedin.com/in/kokchungiang/\n",
    "[github_portfolio]: https://github.com/kokchun/Portfolio-Kokchun-Giang\n",
    "\n",
    "---"
   ]
  }
 ],
 "metadata": {
  "kernelspec": {
   "display_name": "Python 3.9.13 ('Python-Alexander-Andersson-rXBoH5sP')",
   "language": "python",
   "name": "python3"
  },
  "language_info": {
   "codemirror_mode": {
    "name": "ipython",
    "version": 3
   },
   "file_extension": ".py",
   "mimetype": "text/x-python",
   "name": "python",
   "nbconvert_exporter": "python",
   "pygments_lexer": "ipython3",
   "version": "3.9.13"
  },
  "orig_nbformat": 4,
  "vscode": {
   "interpreter": {
    "hash": "b14cc422d827dd3ad3e166e9b0c2744dfcee3cbacc81397c64432efd767b4494"
   }
  }
 },
 "nbformat": 4,
 "nbformat_minor": 2
}
