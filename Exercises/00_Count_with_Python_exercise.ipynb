{
  "cells": [
    {
      "cell_type": "markdown",
      "metadata": {
        "id": "vnlnz0uVpEsD"
      },
      "source": [
        "\n",
        "<a href=\"https://colab.research.google.com/github/kokchun/Python-course-AI22/blob/main/Exercises/00-Count-with-Python-exercise.ipynb\" target=\"_parent\"><img align=\"left\" src=\"https://colab.research.google.com/assets/colab-badge.svg\" alt=\"Open In Colab\"/></a> &nbsp; to see hints and answers."
      ]
    },
    {
      "cell_type": "markdown",
      "metadata": {
        "id": "4m7pAxrxpEsG"
      },
      "source": [
        "# Count with Python\n",
        "\n",
        "---\n",
        "These are introductory exercises in Python for fundamental mathematics. It is important to both know mathematics as well as Python in order to understand machine learning concepts. Also a focus here is to use Python as a tool for solving mathematical problems.\n",
        "\n",
        "<p class = \"alert alert-info\" role=\"alert\"><b>Remember</b> to use <b>variables</b> in your computations </p>\n",
        "\n",
        "<p class = \"alert alert-info\" role=\"alert\"><b>Remember</b> to format your answers in a neat way using <b>f-strings</b>\n",
        "\n",
        "The number of stars (\\*), (\\*\\*), (\\*\\*\\*) denotes the difficulty level of the task\n",
        "\n",
        "---"
      ]
    },
    {
      "cell_type": "markdown",
      "metadata": {
        "id": "6-4UWFmUpEsI"
      },
      "source": [
        "## 1. Pythagorean theorem (*)\n",
        "\n",
        "&nbsp; a) &nbsp;  A right angled triangle has the catheti: a = 3 and b = 4 length units. Compute the <b>hypothenuse</b> of the triangle. (*) \n",
        "  \n",
        "&nbsp; b) &nbsp;  A right angled triangle has hypothenuse c = 7.0 and a cathetus a = 5.0 length units. Compute the other cathetus and round to one decimal. (*)\n",
        "\n",
        "<img align=\"left\" src=\"https://github.com/kokchun/Python-course-AI22/blob/main/assets/right-angle-triangle.png?raw=1\" width=\"200\"/>"
      ]
    },
    {
      "cell_type": "code",
      "execution_count": 9,
      "metadata": {
        "colab": {
          "base_uri": "https://localhost:8080/"
        },
        "id": "KzS4u8IMqFqE",
        "outputId": "3baf6a4e-1d54-4963-be12-eb94acf2ade0"
      },
      "outputs": [
        {
          "name": "stdout",
          "output_type": "stream",
          "text": [
            "a) \n",
            " c = 5\n",
            "b) \n",
            " b = 4.9\n"
          ]
        }
      ],
      "source": [
        "import math\n",
        "#a)\n",
        "a = 3\n",
        "b = 4\n",
        "\n",
        "print(f\"a) \\n c = {math.sqrt(a**2 + b**2):.0f}\")\n",
        "#b)\n",
        "c = 7.0\n",
        "a = 5.0\n",
        "print(f\"b) \\n b = {math.sqrt(c**2-a**2):.1f}\")\n",
        "\n"
      ]
    },
    {
      "cell_type": "markdown",
      "metadata": {},
      "source": [
        "5*5 = 25 + b2 = 7*7 = 49\n",
        "b2 = 25 - 49 = 24"
      ]
    },
    {
      "cell_type": "markdown",
      "metadata": {
        "id": "JkSDQKxVpEsK"
      },
      "source": [
        "\n",
        "<details>\n",
        "\n",
        "<summary>Hint</summary>\n",
        "\n",
        "[Video lecture][pythagoras_video] (swedish)\n",
        "\n",
        "[pythagoras_video]: https://www.youtube.com/watch?v=3iivEnKEJ88\n",
        "\n",
        "To do square root in Python\n",
        "```python \n",
        "import math\n",
        "math.sqrt()\n",
        "```\n",
        "\n",
        "</details>\n",
        "<br>\n",
        "<details>\n",
        "\n",
        "<summary>Answer</summary>\n",
        "a) \n",
        "\n",
        "```\n",
        "The hypothenuse is 5 length units\n",
        "```\n",
        "\n",
        "b)\n",
        "\n",
        "```\n",
        "The other cathetus is 4.9 length units\n",
        "```\n",
        "\n",
        "</details>"
      ]
    },
    {
      "cell_type": "markdown",
      "metadata": {
        "id": "Tr-LCtHLpEsL"
      },
      "source": [
        "-----\n",
        "## 2. Classification accuracy (*)\n",
        "\n",
        "A machine learning algorithm has been trained to predict whether or not it would rain the next day. Out of 365 predictions, it got 300 correct, compute the accuracy of this model."
      ]
    },
    {
      "cell_type": "code",
      "execution_count": 20,
      "metadata": {},
      "outputs": [
        {
          "name": "stdout",
          "output_type": "stream",
          "text": [
            " The ML algorithm predicted the weather correctly 82% of the time\n"
          ]
        }
      ],
      "source": [
        "#tp = total predictions\n",
        "#cp = correct predictions\n",
        "\n",
        "tp = 365\n",
        "cp = 300\n",
        "print(f\" The ML algorithm predicted the weather correctly {cp/tp*100:.0f}% of the time.\")"
      ]
    },
    {
      "cell_type": "markdown",
      "metadata": {
        "id": "62JVakIipEsM"
      },
      "source": [
        "---\n",
        "## 3. Classification accuracy (*)\n",
        "A machine learning model has been trained to detect fire. Here is the result of its predictions: \n",
        "\n",
        "<table align=\"left\">\n",
        "<tbody>\n",
        "  <tr>\n",
        "    <td>True Positive (TP)\n",
        "      <ul>\n",
        "        <li>Reality: fire</li>\n",
        "        <li>Predicted: fire</li>\n",
        "        <li>Number of TP: 2</li>\n",
        "      </ul>\n",
        "    </td>\n",
        "    <td>False Positive (FP)\n",
        "      <ul>\n",
        "        <li>Reality: no fire</li>\n",
        "        <li>Predicted: fire</li>\n",
        "        <li>Number of FP: 2</li>\n",
        "      </ul>\n",
        "    </td>\n",
        "  </tr>\n",
        "\n",
        "  <tr>\n",
        "    <td>False Negative (FN)\n",
        "      <ul>\n",
        "        <li>Reality: fire</li>\n",
        "        <li>Predicted: no fire</li>\n",
        "        <li>Number of FN: 11</li>\n",
        "      </ul>\n",
        "    </td>\n",
        "    <td>True Negative (TN)\n",
        "      <ul>\n",
        "        <li>Reality: no fire</li>\n",
        "        <li>Predicted: no fire</li>\n",
        "        <li>Number of TN: 985</li>\n",
        "      </ul>\n",
        "    </td>\n",
        "  </tr>\n",
        "</tbody>\n",
        "</table>"
      ]
    },
    {
      "cell_type": "markdown",
      "metadata": {
        "id": "Uu9X3gg1pEsO"
      },
      "source": [
        "Calculated the accuracy using the following formula:\n",
        "\n",
        "$\\text{accuracy} = \\frac{TP+TN}{TP+TN+FP+FN}$\n",
        "\n",
        "Is this a good model?\n",
        "\n",
        "<details> \n",
        "\n",
        "<summary>Hint </summary>\n",
        "\n",
        "Try to understand what it means for the actual user with each category\n",
        "\n",
        "</details>\n",
        "<br>\n",
        "<details> \n",
        "\n",
        "<summary>Answer </summary>\n",
        "\n",
        "```\n",
        "The accuracy of this model is 0.987.\n",
        "```\n",
        "\n",
        "</details>"
      ]
    },
    {
      "cell_type": "code",
      "execution_count": 25,
      "metadata": {},
      "outputs": [
        {
          "name": "stdout",
          "output_type": "stream",
          "text": [
            " The accuracy of the model is: 0.987\n"
          ]
        }
      ],
      "source": [
        "print(f\" The accuracy of the model is: {(2+985)/(2+985+2+11)}\")"
      ]
    },
    {
      "cell_type": "markdown",
      "metadata": {
        "id": "EFK0fN0GpEsO"
      },
      "source": [
        "--- \n",
        "## 4. Line (*)\n",
        "Compute the slope $k$ and the constant term $m$ of this line using the points $A: (4,4)$ and $B: (0,1)$.  \n",
        "\n",
        "<img align=\"left\" src=\"https://github.com/kokchun/Python-course-AI22/blob/main/assets/line.png?raw=1\" width=\"200\"/>"
      ]
    },
    {
      "cell_type": "markdown",
      "metadata": {
        "id": "qC2hSDNBpEsP"
      },
      "source": [
        "<details> \n",
        "\n",
        "<summary>Hint </summary>\n",
        "\n",
        "$k = \\frac{\\Delta y}{\\Delta x} = \\frac{y_2 - y_1}{x_2 - x_1}$\n",
        "\n",
        "Either plug in one point into $y = kx + m$ and solve for $m$ or read the intersection with y-axis in the graph.\n",
        "\n",
        "[Video lecture][video_line] (Swedish)\n",
        "\n",
        "[video_line]: https://www.youtube.com/watch?v=9Buuq6rkaJ0\n",
        "\n",
        "</details>\n",
        "<br>\n",
        "<details> \n",
        "\n",
        "<summary>Solution </summary>\n",
        "\n",
        "```\n",
        "k = 0.75, m = 1, so the equation for the slope is y = 0.75x + 1\n",
        "```\n",
        "\n",
        "</details>\n"
      ]
    },
    {
      "cell_type": "markdown",
      "metadata": {
        "id": "2jeMwaMIpEsQ"
      },
      "source": [
        "---\n",
        "## 5. Euclidean distance (*)\n",
        "\n",
        "The Euclideam distance between the points $P_1$ and $P_2$ is the length of a line between them. Let $P_1: (3,5)$ and $P_2: (-2,4)$ and compute the distance between them."
      ]
    },
    {
      "cell_type": "markdown",
      "metadata": {
        "id": "63qKWG-apEsR"
      },
      "source": [
        "<details> \n",
        "\n",
        "<summary>Hint </summary>\n",
        "The formula is: \n",
        "\n",
        "$\\text{distance} = \\sqrt{(x_2-x_1)^2 +(y_2-y_1)^2}$\n",
        "\n",
        "[Video lecture][video_distance] (Swedish)\n",
        "\n",
        "[video_distance]: https://www.youtube.com/watch?v=DrTsKgHg7ng\n",
        "\n",
        "</details>\n",
        "<br>\n",
        "<details> \n",
        "\n",
        "<summary>Answer </summary>\n",
        "\n",
        "```\n",
        "The distance is around 5.1 length units.\n",
        "```\n",
        "\n",
        "</details>"
      ]
    },
    {
      "cell_type": "markdown",
      "metadata": {
        "id": "T1fhLS4fpEsS"
      },
      "source": [
        "---\n",
        "## 6. Euclidean distance in 3D (**)\n",
        "\n",
        "Calculate the distance between the points $P_1: (2,1,4)$ and $P_2: (3,1,0)$ \n",
        "\n",
        "<details> \n",
        "\n",
        "<summary>Hint </summary>\n",
        "\n",
        "Let $p =(p_1, p_2, p_3)$ and $q = (q_1, q_2, q_3) \\Rightarrow$   \n",
        "\n",
        "$d(p,q) = \\sqrt{(p_1-q_1)^2 +(p_2-q_2)^2 +(p_3-q_3)^2 }$, where $d(p,q)$ is the Euclidean distance between $p$ and $q$\n",
        "\n",
        "</details>\n",
        "<br>\n",
        "<details> \n",
        "\n",
        "<summary>Answer </summary>\n",
        "\n",
        "```\n",
        "The distance is around 4.12 l.u.\n",
        "```\n",
        "\n",
        "</details>"
      ]
    },
    {
      "cell_type": "markdown",
      "metadata": {
        "id": "deAaGVuJpEsS"
      },
      "source": [
        "---\n",
        "\n",
        "Kokchun Giang\n",
        "\n",
        "[LinkedIn][linkedIn_kokchun]\n",
        "\n",
        "[GitHub portfolio][github_portfolio]\n",
        "\n",
        "[linkedIn_kokchun]: https://www.linkedin.com/in/kokchungiang/\n",
        "[github_portfolio]: https://github.com/kokchun/Portfolio-Kokchun-Giang\n",
        "\n",
        "---"
      ]
    }
  ],
  "metadata": {
    "colab": {
      "provenance": []
    },
    "kernelspec": {
      "display_name": "Python 3.9.13 ('Python-Alexander-Andersson-6f9gzyEi')",
      "language": "python",
      "name": "python3"
    },
    "language_info": {
      "codemirror_mode": {
        "name": "ipython",
        "version": 3
      },
      "file_extension": ".py",
      "mimetype": "text/x-python",
      "name": "python",
      "nbconvert_exporter": "python",
      "pygments_lexer": "ipython3",
      "version": "3.9.13"
    },
    "orig_nbformat": 4,
    "vscode": {
      "interpreter": {
        "hash": "0e170795d12b9f00bb6c905343705ccb98da647a4486686bf7cb14fa618c1741"
      }
    }
  },
  "nbformat": 4,
  "nbformat_minor": 0
}
