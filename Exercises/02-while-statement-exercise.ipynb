{
 "cells": [
  {
   "cell_type": "markdown",
   "metadata": {},
   "source": [
    "<a href=\"https://colab.research.google.com/github/kokchun/Python-course-AI22/blob/main/Exercises/02-while-statement-exercise.ipynb\" target=\"_parent\"><img align=\"left\" src=\"https://colab.research.google.com/assets/colab-badge.svg\" alt=\"Open In Colab\"/></a> &nbsp; to see hints and answers."
   ]
  },
  {
   "cell_type": "markdown",
   "metadata": {},
   "source": [
    "# while statement exercises\n",
    "\n",
    "---\n",
    "These are introductory exercises in Python with focus in **while** statement.\n",
    "\n",
    "<p class = \"alert alert-info\" role=\"alert\"><b>Remember</b> to use <b>descriptive variable names</b> in order to get readable code </p>\n",
    "\n",
    "<p class = \"alert alert-info\" role=\"alert\"><b>Remember</b> to format your answers in a neat way using <b>f-strings</b>\n",
    "\n",
    "<p class = \"alert alert-info\" role=\"alert\"><b>Remember</b> to format your input questions in a pedagogical way to guide the user\n",
    "\n",
    "The number of stars (\\*), (\\*\\*), (\\*\\*\\*) denotes the difficulty level of the task\n",
    "\n",
    "---"
   ]
  },
  {
   "cell_type": "markdown",
   "metadata": {},
   "source": [
    "## 1. Count numbers (*)\n",
    "\n",
    "Use a **while** statement to count from -10 to 10 with one increment. \n",
    "\n",
    "<details>\n",
    "\n",
    "<summary>Hint </summary>\n",
    "\n",
    "```python\n",
    "\n",
    "i += 1 # adds one and assigns it to i, equivalent to i = i + 1\n",
    "```\n",
    "\n",
    "</details>\n",
    "<br>\n",
    "<details>\n",
    "\n",
    "<summary>Answer </summary>\n",
    "\n",
    "```\n",
    "\n",
    "-10 -9 -8 -7 -6 -5 -4 -3 -2 -1 0 1 2 3 4 5 6 7 8 9 10\n",
    "```\n",
    "\n",
    "</details>\n"
   ]
  },
  {
   "cell_type": "code",
   "execution_count": 18,
   "metadata": {},
   "outputs": [
    {
     "name": "stdout",
     "output_type": "stream",
     "text": [
      "-10\n",
      "-9\n",
      "-8\n",
      "-7\n",
      "-6\n",
      "-5\n",
      "-4\n",
      "-3\n",
      "-2\n",
      "-1\n",
      "0\n",
      "1\n",
      "2\n",
      "3\n",
      "4\n",
      "5\n",
      "6\n",
      "7\n",
      "8\n",
      "9\n",
      "10\n"
     ]
    }
   ],
   "source": [
    "i = -10\n",
    "while i < 11:\n",
    "    print(i)\n",
    "    i+=1\n"
   ]
  },
  {
   "cell_type": "markdown",
   "metadata": {},
   "source": [
    "--- \n",
    "## 2. Arithmetic sum (*)\n",
    "Use a **while** statement to compute the following sums: \n",
    "\n",
    "&nbsp; a) &nbsp; $\\text{sum} = 1 + 2 + \\ldots + 99+ 100$\n",
    "\n",
    "&nbsp; b) &nbsp; $\\text{sum} = 1 + 3 + 5 + \\ldots + 97 + 99$\n",
    "\n",
    "<details>\n",
    "\n",
    "<summary>Answer </summary>\n",
    "\n",
    "```\n",
    "a) 1 + 2 + ... + 99 + 100 = 5050 \n",
    "\n",
    "b) 1 + 3 + 5 +...+ 97 + 99 = 2500\n",
    "```\n",
    "\n",
    "</details>"
   ]
  },
  {
   "cell_type": "code",
   "execution_count": 19,
   "metadata": {},
   "outputs": [
    {
     "name": "stdout",
     "output_type": "stream",
     "text": [
      "5150\n"
     ]
    }
   ],
   "source": [
    "#a)\n",
    "i = 1\n",
    "sum = 0\n",
    "while i <= 100:\n",
    "    i += 1\n",
    "    sum += i\n",
    "print(f\"{sum}\")"
   ]
  },
  {
   "cell_type": "code",
   "execution_count": 20,
   "metadata": {},
   "outputs": [
    {
     "name": "stdout",
     "output_type": "stream",
     "text": [
      "2500\n"
     ]
    }
   ],
   "source": [
    "#b)\n",
    "i = 1\n",
    "sum = 0\n",
    "while i <= 100:\n",
    "    sum += i\n",
    "    i += 2\n",
    "print(f\"{sum}\")"
   ]
  },
  {
   "cell_type": "markdown",
   "metadata": {},
   "source": [
    "--- \n",
    "## 3. Guess number game (*)\n",
    "&nbsp; a) &nbsp; Create a guessing number game following this flow chart: \n",
    "\n",
    "<img align=\"left\" src=\"../assets/guessing_game.png\" width=\"300\"/>"
   ]
  },
  {
   "cell_type": "markdown",
   "metadata": {},
   "source": [
    "&nbsp; b) &nbsp; Make an algorithm to automatically guess the correct number. Can you optimize to get as few guesses as possible? (**)\n",
    "\n",
    "<details>\n",
    "\n",
    "<summary>Hint </summary>\n",
    "\n",
    "&nbsp; b) &nbsp; Half your testing number each time \n",
    "\n",
    "</details>"
   ]
  },
  {
   "cell_type": "code",
   "execution_count": 21,
   "metadata": {},
   "outputs": [
    {
     "name": "stdout",
     "output_type": "stream",
     "text": [
      "You guessed 10. That is to low\n",
      "You guessed 50. That is to low\n",
      "You guessed 70. That is to high\n",
      "You guessed 60. That is to low\n",
      "You guessed 65. That is to high\n",
      "You guessed 64. That is to high\n",
      "You guessed 63! That is correct!\n"
     ]
    }
   ],
   "source": [
    "#3. Guess number game a)\n",
    "import random\n",
    "\n",
    "\n",
    "random_num = random.randint(1,100) # Setting the random number to be guessed\n",
    "\n",
    "tries = 11\n",
    "while tries > 1:\n",
    "    guess = int(input(f\"Guess a number between 1 - 100: You have {tries} left!\")) # Getting the input from the user and \n",
    "    if guess == random_num:\n",
    "        print(f\"You guessed {guess}! That is correct!\")\n",
    "        break\n",
    "    elif guess < random_num:\n",
    "        print(f\"You guessed {guess}. That is to low\")\n",
    "        tries -= 1\n",
    "    else:\n",
    "        print(f\"You guessed {guess}. That is to high\")\n",
    "        tries -= 1"
   ]
  },
  {
   "cell_type": "code",
   "execution_count": 22,
   "metadata": {},
   "outputs": [
    {
     "name": "stdout",
     "output_type": "stream",
     "text": [
      "58\n",
      "\n",
      "Mid 50\n",
      "high100\n",
      "\n",
      "Mid 75\n",
      "high75\n",
      "\n",
      "Mid 62\n",
      "high62\n",
      "\n",
      "Mid 56\n",
      "high62\n",
      "\n",
      "Mid 59\n",
      "high59\n",
      "\n",
      "winner!\n"
     ]
    }
   ],
   "source": [
    "#b)\n",
    "import random\n",
    "correct = random.randint(1,100) # Setting the random number\n",
    "print(correct)\n",
    "win = False\n",
    "low = 1\n",
    "high = 100\n",
    "tries = 1\n",
    "guess = round((low+high)/2)\n",
    "while guess != correct and tries < 100:\n",
    "    mid = round((low+high)/2)\n",
    "    print(f\"\")\n",
    "    if mid < correct:\n",
    "        low = mid\n",
    "        tries += 1\n",
    "        print(f\"Mid {mid}\")\n",
    "        print(f\"high{high}\")\n",
    "    elif mid > correct:\n",
    "        high = mid\n",
    "        tries += 1\n",
    "        print(f\"Mid {mid}\")\n",
    "        print(f\"high{high}\")\n",
    "    else: \n",
    "        print(\"winner!\")\n",
    "        break\n",
    "\n",
    "\n"
   ]
  },
  {
   "cell_type": "markdown",
   "metadata": {},
   "source": [
    "--- \n",
    "## 4. Multiplication game (*)\n",
    "&nbsp; a) &nbsp; Create a multiplication game following this flow chart: \n",
    "\n",
    "<img align=\"left\" src=\"../assets/Multiplication_game.png\" width=\"300\"/>"
   ]
  },
  {
   "cell_type": "markdown",
   "metadata": {},
   "source": [
    "&nbsp; b) &nbsp; Add a menu for choosing difficulty level of the game\n",
    "\n",
    "&nbsp; c) &nbsp; Feel free to extend this program with features of your choice."
   ]
  },
  {
   "cell_type": "code",
   "execution_count": 23,
   "metadata": {},
   "outputs": [
    {
     "name": "stdout",
     "output_type": "stream",
     "text": [
      "x=4\n",
      "y=2\n",
      "4\n",
      "3\n",
      "2\n",
      "1\n",
      "0\n"
     ]
    }
   ],
   "source": [
    "import random as rnd #importing random\n",
    "#Setting the difficulty\n",
    "user_diff = 0\n",
    "user_diff = (int(input(\"Choose the difficulty of the multiplication game!\\nType 1 for Easy (1-10)\\nType 2 for Medium (1-20)\\nType 3 for Hard (1-30)\")))\n",
    "\n",
    "#Getting the amount of tries\n",
    "tries = 5\n",
    "#Setting variables\n",
    "x = rnd.randint(1,10*user_diff) #setting the x var\n",
    "y = rnd.randint(1,10*user_diff) #setting the y var\n",
    "#Answer\n",
    "xy = x*y\n",
    "print(f\"{x=}\")\n",
    "print(f\"{y=}\")\n",
    "#Guess\n",
    " \n",
    "while tries > 0:\n",
    "    user_guess = input(f\"What is {x} multiplied by {y}?\")\n",
    "    if xy == user_guess:\n",
    "        print(\"You win!\")\n",
    "        break\n",
    "    else:\n",
    "\n",
    "        tries -= 1\n",
    "        print(tries)\n",
    "\n"
   ]
  },
  {
   "cell_type": "code",
   "execution_count": 29,
   "metadata": {},
   "outputs": [
    {
     "name": "stdout",
     "output_type": "stream",
     "text": [
      "1\n",
      "Wrong answer, 9 * 3 = 27\n",
      "Tries left 4!\n",
      "2\n",
      "Wrong answer, 5 * 7 = 35\n",
      "Tries left 3!\n",
      "3\n",
      "Wrong answer, 3 * 4 = 12\n",
      "Tries left 2!\n",
      "4\n",
      "Wrong answer, 5 * 4 = 20\n",
      "Tries left 1!\n",
      "5\n",
      "Wrong answer, 7 * 5 = 35\n",
      "Tries left 0!\n",
      "Good game\n",
      "score=0\n"
     ]
    }
   ],
   "source": [
    "import random as rnd #importing random\n",
    "#Setting the difficulty\n",
    "user_diff = (int(input(\"Choose the difficulty of the multiplication game!\\nType 1 for Easy (1-10)\\nType 2 for Medium (1-20)\\nType 3 for Hard (1-30)\")))\n",
    "\n",
    "#Getting the amount of tries\n",
    "tries = 5\n",
    "score = 0\n",
    "retry = 0\n",
    "while tries > -1:\n",
    "    #Setting variables\n",
    "    x = rnd.randint(1,10*user_diff) #setting the x var\n",
    "    y = rnd.randint(1,10*user_diff) #setting the y var\n",
    "    #Guess\n",
    "    user_guess = int(input(f\"What is {x} multiplied by {y}?\"))\n",
    "    #Answer\n",
    "    xy = x * y\n",
    "    print(user_guess)\n",
    "    if user_guess == xy:\n",
    "        print(\"Correct\")\n",
    "        score+=1\n",
    "    else:\n",
    "        \n",
    "        print(f\"Wrong answer, {x} * {y} = {xy}\")\n",
    "        tries -= 1\n",
    "        print(f\"Tries left {tries}!\")\n",
    "        if tries == 0:\n",
    "            retry = input(\"Want to play again? y/n\")\n",
    "    if retry == \"n\":\n",
    "        print(\"Good game\")\n",
    "        tries -= 1\n",
    "\n",
    "print(f\"{score=}\")\n"
   ]
  },
  {
   "cell_type": "markdown",
   "metadata": {},
   "source": [
    "--- \n",
    "## 5. Check convergence (**)\n",
    "Use a while statement to compute the following sums: \n",
    "\n",
    "&nbsp; a) &nbsp; $\\text{sum} = 1 + \\frac{1}{2} + \\frac{1}{4} + \\frac{1}{8} + \\dots + \\frac{1}{2^n}$\n",
    "\n",
    "&nbsp; b) &nbsp; $\\text{sum} = 1 - \\frac{1}{3} + \\frac{1}{5} - \\frac{1}{7} + \\dots + \\frac{(-1)^n}{2n+1}$\n",
    "\n",
    "Try different values on $n$ to see which value it converges to.\n",
    "\n",
    "<details>\n",
    "\n",
    "<summary>Answer </summary>\n",
    "\n",
    "&nbsp; a) &nbsp; $1 + \\frac{1}{2} + \\frac{1}{4} + \\frac{1}{8} + \\dots + \\frac{1}{2^n} \\xrightarrow[n\\rightarrow \\infty]{} 2$ \n",
    "\n",
    "&nbsp; b) &nbsp; $ 1 - \\frac{1}{3} + \\frac{1}{5} - \\frac{1}{7} + \\dots + \\frac{(-1)^n}{2n+1} \\xrightarrow[n\\rightarrow \\infty]{} \\frac{\\pi}{4}$\n",
    "\n",
    "</details>"
   ]
  },
  {
   "cell_type": "code",
   "execution_count": 33,
   "metadata": {},
   "outputs": [
    {
     "name": "stdout",
     "output_type": "stream",
     "text": [
      "1.0\n",
      "0.5\n",
      "0.5\n",
      "0.5\n",
      "0.5\n",
      "0.5\n",
      "0.5\n",
      "0.5\n",
      "0.5\n",
      "0.5\n"
     ]
    }
   ],
   "source": [
    "#Daniel a) man gångrar med 5 så kommer det räknas upp?\n",
    "i = 0\n",
    "sum = 1\n",
    "stop = 0\n",
    "\n",
    "while stop < 10:\n",
    "    i = (i*.5)**i\n",
    "    stop += 1\n",
    "    print(i)\n",
    "\n",
    "#mats.abs(s[i] - s[i-1]) < tolerance\n"
   ]
  },
  {
   "cell_type": "code",
   "execution_count": 26,
   "metadata": {},
   "outputs": [],
   "source": [
    "# Kokchun förklaring:\n",
    "# 1 + 1/2 + 1/4 + 1/8 ... 1/2n\n",
    "# = 1 / 2 allt har en faktor med en halv. "
   ]
  },
  {
   "cell_type": "markdown",
   "metadata": {},
   "source": [
    "---\n",
    "\n",
    "Kokchun Giang\n",
    "\n",
    "[LinkedIn][linkedIn_kokchun]\n",
    "\n",
    "[GitHub portfolio][github_portfolio]\n",
    "\n",
    "[linkedIn_kokchun]: https://www.linkedin.com/in/kokchungiang/\n",
    "[github_portfolio]: https://github.com/kokchun/Portfolio-Kokchun-Giang\n",
    "\n",
    "---"
   ]
  }
 ],
 "metadata": {
  "kernelspec": {
   "display_name": "Python 3.9.13 64-bit",
   "language": "python",
   "name": "python3"
  },
  "language_info": {
   "codemirror_mode": {
    "name": "ipython",
    "version": 3
   },
   "file_extension": ".py",
   "mimetype": "text/x-python",
   "name": "python",
   "nbconvert_exporter": "python",
   "pygments_lexer": "ipython3",
   "version": "3.9.13"
  },
  "orig_nbformat": 4,
  "vscode": {
   "interpreter": {
    "hash": "287876418b1177767fd3ee26a082a634abf206aa424861d57cf76d9abc857edd"
   }
  }
 },
 "nbformat": 4,
 "nbformat_minor": 2
}
