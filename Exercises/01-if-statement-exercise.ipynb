{
 "cells": [
  {
   "cell_type": "markdown",
   "metadata": {},
   "source": [
    "\n",
    "<a href=\"https://colab.research.google.com/github/kokchun/Python-course-AI22/blob/main/Exercises/01-if-statement-exercise.ipynb\" target=\"_parent\"><img align=\"left\" src=\"https://colab.research.google.com/assets/colab-badge.svg\" alt=\"Open In Colab\"/></a> &nbsp; to see hints and answers."
   ]
  },
  {
   "cell_type": "markdown",
   "metadata": {},
   "source": [
    "# if statements exercises\n",
    "\n",
    "---\n",
    "These are introductory exercises in Python with focus in **if** statement.\n",
    "\n",
    "<p class = \"alert alert-info\" role=\"alert\"><b>Remember</b> to use <b>descriptive variable names</b> in order to get readable code </p>\n",
    "\n",
    "<p class = \"alert alert-info\" role=\"alert\"><b>Remember</b> to format your answers in a neat way using <b>f-strings</b>\n",
    "\n",
    "<p class = \"alert alert-info\" role=\"alert\"><b>Remember</b> to format your input questions in a pedagogical way to guide the user\n",
    "\n",
    "The number of stars (\\*), (\\*\\*), (\\*\\*\\*) denotes the difficulty level of the task\n",
    "\n",
    "---"
   ]
  },
  {
   "cell_type": "markdown",
   "metadata": {},
   "source": [
    "## 1. Check sign (*)\n",
    "\n",
    "Ask the user to input a number and check if this number is **positive**, **negative** or **zero** and print it out."
   ]
  },
  {
   "cell_type": "code",
   "execution_count": 9,
   "metadata": {},
   "outputs": [
    {
     "name": "stdout",
     "output_type": "stream",
     "text": [
      "Positive\n"
     ]
    }
   ],
   "source": [
    "num = int(input(\"Input a number: \"))\n",
    "if num == 0:\n",
    "    print(\"Zero\")\n",
    "elif num <= -1:\n",
    "    print(\"Negative\")\n",
    "elif num >= 1:\n",
    "    print(\"Positive\")\n",
    "else:\n",
    "    print(\"Invalid\")\n"
   ]
  },
  {
   "cell_type": "markdown",
   "metadata": {},
   "source": [
    "---\n",
    "## 2. Smallest (*)\n",
    "Ask the user to input two numbers and check which one is the smallest and print it out.   "
   ]
  },
  {
   "cell_type": "code",
   "execution_count": 13,
   "metadata": {},
   "outputs": [
    {
     "name": "stdout",
     "output_type": "stream",
     "text": [
      "The second number is larger than the first number.\n"
     ]
    }
   ],
   "source": [
    "num1 = int(input(\"Input the first number: \"))\n",
    "num2 = int(input(\"Input the second number: \"))\n",
    "\n",
    "if num1 > num2:\n",
    "    print(\"The first number is larger than the second number.\")\n",
    "elif num2 > num1:\n",
    "    print(\"The second number is larger than the first number.\")\n",
    "else: \n",
    "    print(\"The numbers are the same\")"
   ]
  },
  {
   "cell_type": "markdown",
   "metadata": {},
   "source": [
    "---\n",
    "## 3. Right angle (*)\n",
    "\n",
    "Ask the user to input three angles and check if the triangle has a right angle. Your code should make sure that all three angles are valid and make up a triangle.\n",
    "\n",
    "<img align=\"left\" src=\"../assets/triangle_angles.png\" width=\"200\"/>"
   ]
  },
  {
   "cell_type": "code",
   "execution_count": 3,
   "metadata": {},
   "outputs": [
    {
     "name": "stdout",
     "output_type": "stream",
     "text": [
      "Enter the three inputs that will make up the angles of a triangle\n",
      "Valid triangle\n"
     ]
    }
   ],
   "source": [
    "sum = 180\n",
    "print(\"Enter the three inputs that will make up the angles of a triangle\")\n",
    "a = float(input(\"a - angle: \"))\n",
    "b = float(input(\"b - angle: \"))\n",
    "c = float(input(\"c - angle: \"))\n",
    "\n",
    "if a+b+c == sum:\n",
    "    print(\"Valid triangle\")\n",
    "else: print(\"Invalid triangle\")"
   ]
  },
  {
   "cell_type": "markdown",
   "metadata": {},
   "source": [
    "----\n",
    "## 4. Medicine (*)\n",
    "\n",
    "The information in the following table is stated in a medicine package. Also it is stated that for children weight is more important than age.\n",
    "\n",
    "<table align=\"left\">\n",
    "<thead>\n",
    "    <tr>\n",
    "        <th></th>\n",
    "        <th>Age</th>\n",
    "        <th>Number of pills</th>\n",
    "    </tr>\n",
    "</thead>\n",
    "\n",
    "<tbody>\n",
    "  <tr>\n",
    "    <td>Adults & adolescent <br>over 40 kg</td>\n",
    "    <td>over 12 years</td>\n",
    "    <td>1-2</td>\n",
    "  </tr>\n",
    "\n",
    "  <tr>\n",
    "    <td>Children 26-40 kg</td>\n",
    "    <td>7-12 years</td>\n",
    "    <td>1/2-1</td>\n",
    "  </tr>\n",
    "\n",
    "  <tr>\n",
    "    <td>Children 15-25 kg</td>\n",
    "    <td>3-7 years</td>\n",
    "    <td>1/2</td>\n",
    "  </tr>\n",
    "</tbody>\n",
    "</table>"
   ]
  },
  {
   "cell_type": "markdown",
   "metadata": {},
   "source": [
    "Let the user input an **age** and a **weight**, the program should recommend the number of pills for the user."
   ]
  },
  {
   "cell_type": "code",
   "execution_count": 13,
   "metadata": {},
   "outputs": [
    {
     "name": "stdout",
     "output_type": "stream",
     "text": [
      "Number of pills: 1 - 2 \n"
     ]
    }
   ],
   "source": [
    "age = float(input(\"Enter the patients age: \"))\n",
    "kg = float(input(\"Enter the paitents weight: \"))\n",
    "\n",
    "if age < 2 or kg < 14:\n",
    "    print(\"Do not administer pills\")\n",
    "elif kg <= 40:\n",
    "    print(\"Number of pills: 1/2 - 1 \")\n",
    "elif kg <= 15:\n",
    "    print(\"Number of pills: 1/2 \")\n",
    "else:\n",
    "    print(\"Number of pills: 1 - 2 \")\n",
    "\n",
    "#if kg >= 41 and age >= 13:\n",
    "#    print(\"Number of pills 1 - 2\")\n",
    "#elif 26 >= kg <= 40 and 7 <= age >= 12:\n",
    "#    print(\"Number of pills: 1/2 - 1 \")\n",
    "#elif 15 > kg < 25 and 3 < age > 7:\n",
    "#    print(\"Number of pills 1/2\")\n",
    "#else: print(\"Do not administer pills\")"
   ]
  },
  {
   "cell_type": "markdown",
   "metadata": {},
   "source": [
    "---\n",
    "## 5. Divisible (*)\n",
    "Let the user input a number. Check if the number is\n",
    "<ol type=\"a\">\n",
    "  <li>even or odd</li>\n",
    "  <li>is divisible by 5</li>\n",
    "  <li>is divisble by 5 and odd</li>\n",
    "</ol> "
   ]
  },
  {
   "cell_type": "code",
   "execution_count": 3,
   "metadata": {},
   "outputs": [
    {
     "name": "stdout",
     "output_type": "stream",
     "text": [
      "The number is odd\n",
      "The number is divisible by 5\n",
      "The number is divisible by 5 and odd\n"
     ]
    }
   ],
   "source": [
    "num = int(input(\"Input a number: \"))\n",
    "\n",
    "if num == 0:\n",
    "    print(\"The number you have entered is 0\")\n",
    "else:\n",
    "    if num % 2 == 0:\n",
    "        print(\"The number is even\")\n",
    "\n",
    "    else: print(\"The number is odd\")\n",
    "\n",
    "    if num % 5 == 0:\n",
    "        print(\"The number is divisible by 5\")\n",
    "\n",
    "    else: print(\"The number is NOT divisible by 5\")\n",
    "\n",
    "    if num % 5 == 0 and num % 2 == 1:\n",
    "        print(\"The number is divisible by 5 and odd\")\n",
    "    \n",
    "    elif num % 5 == 0 and num % 2 == 0:\n",
    "        print(\"The number is divisible by 5 and is NOT odd\")\n",
    "\n",
    "    else: print(\"The number is NOT divisible by 5 and is not odd\")"
   ]
  },
  {
   "cell_type": "markdown",
   "metadata": {},
   "source": [
    "---\n",
    "## 6. Luggage size (*)\n",
    "\n",
    "The maximum allowed luggage size for boarding an airplane is: \n",
    "- weight: 8kg\n",
    "- dimensions: 55x40x23cm (length x width x height) \n",
    "\n",
    "Let the user input weight, length, width and height of the luggage. The program should check if the luggage is allowed or not."
   ]
  },
  {
   "cell_type": "code",
   "execution_count": 12,
   "metadata": {},
   "outputs": [
    {
     "name": "stdout",
     "output_type": "stream",
     "text": [
      "The bags to heavy 8kg or too big (100, 50, 40) cm \n"
     ]
    }
   ],
   "source": [
    "kg = int(input(\"Enter luggage weight: \"))\n",
    "length = int(input(\"length: \"))\n",
    "width = int(input(\"width: \"))\n",
    "height = int(input(\"height: \"))\n",
    "\n",
    "if kg > 8 or length > 55 or width > 40 or height > 23:\n",
    "    print(f\"The bags to heavy {kg}kg or too big {length, width, height} cm \")\n",
    "else: print(\"Your bag is good to go!\")"
   ]
  },
  {
   "cell_type": "markdown",
   "metadata": {},
   "source": [
    "---\n",
    "\n",
    "Kokchun Giang\n",
    "\n",
    "[LinkedIn][linkedIn_kokchun]\n",
    "\n",
    "[GitHub portfolio][github_portfolio]\n",
    "\n",
    "[linkedIn_kokchun]: https://www.linkedin.com/in/kokchungiang/\n",
    "[github_portfolio]: https://github.com/kokchun/Portfolio-Kokchun-Giang\n",
    "\n",
    "---"
   ]
  }
 ],
 "metadata": {
  "kernelspec": {
   "display_name": "Python 3.9.13 ('Python-Alexander-Andersson-6f9gzyEi')",
   "language": "python",
   "name": "python3"
  },
  "language_info": {
   "codemirror_mode": {
    "name": "ipython",
    "version": 3
   },
   "file_extension": ".py",
   "mimetype": "text/x-python",
   "name": "python",
   "nbconvert_exporter": "python",
   "pygments_lexer": "ipython3",
   "version": "3.9.13"
  },
  "orig_nbformat": 4,
  "vscode": {
   "interpreter": {
    "hash": "0e170795d12b9f00bb6c905343705ccb98da647a4486686bf7cb14fa618c1741"
   }
  }
 },
 "nbformat": 4,
 "nbformat_minor": 2
}
