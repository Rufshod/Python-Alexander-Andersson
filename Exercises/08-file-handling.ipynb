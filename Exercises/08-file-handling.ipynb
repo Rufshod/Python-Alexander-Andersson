{
 "cells": [
  {
   "cell_type": "markdown",
   "metadata": {},
   "source": [
    "<a href=\"https://colab.research.google.com/github/kokchun/Python-course-AI22/blob/main/Exercises/08-file-handling.ipynb\" target=\"_parent\"><img align=\"left\" src=\"https://colab.research.google.com/assets/colab-badge.svg\" alt=\"Open In Colab\"/></a> &nbsp; to see hints and answers."
   ]
  },
  {
   "cell_type": "markdown",
   "metadata": {},
   "source": [
    "# file handling exercises\n",
    "\n",
    "---\n",
    "These are introductory exercises in Python with focus in **file handling**.\n",
    "\n",
    "All files needed for these exercises can be found in the **files** folder in this repo. Clone the repo to access them.\n",
    "\n",
    "<p class = \"alert alert-info\" role=\"alert\"><b>Remember</b> to use <b>descriptive variable and function names</b> in order to get readable code </p>\n",
    "\n",
    "<p class = \"alert alert-info\" role=\"alert\"><b>Remember</b> to format your answers in a neat way using <b>f-strings</b>\n",
    "\n",
    "<p class = \"alert alert-info\" role=\"alert\"><b>Remember</b> to format your input questions in a pedagogical way to guide the user\n",
    "\n",
    "The number of stars (\\*), (\\*\\*), (\\*\\*\\*) denotes the difficulty level of the task\n",
    "\n",
    "---"
   ]
  },
  {
   "cell_type": "markdown",
   "metadata": {},
   "source": [
    "## 1. Dice rolls (*)\n",
    "Create a textfile called **dice_rolls.txt** using Python. Also for each subtask, write adequate headers. \n",
    "\n",
    "&nbsp; a) &nbsp; Simulate 20 dice rolls and write them to your textfile. (*)\n",
    "\n",
    "&nbsp; b) &nbsp; Sort the dice rolls from a) and write them to a separate row in the same textfile. (*)\n",
    "\n",
    "&nbsp; c) &nbsp; Count the number of fours in the dice rolls and write them to a separate row in the same textfile. (*)\n",
    "\n",
    "<details>\n",
    "\n",
    "<summary>Answer </summary>\n",
    "\n",
    "For example: \n",
    "\n",
    "```\n",
    "\n",
    "Simulate 20 dice rolls:\n",
    "[3 4 4 3 1 2 6 6 4 6 2 4 5 3 1 2 1 3 3 1]\n",
    "\n",
    "Sorted dice rolls:\n",
    "[1 1 1 1 2 2 2 3 3 3 3 3 4 4 4 4 5 6 6 6]\n",
    "\n",
    "Number of fours: 4\n",
    "\n",
    "```\n",
    "\n",
    "</details>"
   ]
  },
  {
   "cell_type": "code",
   "execution_count": 38,
   "metadata": {},
   "outputs": [
    {
     "name": "stdout",
     "output_type": "stream",
     "text": [
      "[1, 1, 1, 2, 2, 2, 2, 3, 3, 3, 3, 4, 4, 4, 4, 4, 5, 5, 5, 6]\n",
      "[4, 4, 4, 4, 4]\n"
     ]
    }
   ],
   "source": [
    "import random as rnd\n",
    "fours = []\n",
    "#a) opening file in write mode\n",
    "with open(\"../Data/dice_rolls.txt\", \"w\") as f:\n",
    "    rolls = [rnd.randint(1,6) for i in range(20)] #Making dice roll\n",
    " #c)\n",
    "    for roll in rolls: # checking for fours\n",
    "        if roll == 4:\n",
    "            fours.append(4)\n",
    "    for roll in rolls: # a loop that prints the numbers\n",
    "        f.write(str(roll)) #writing to file as str\n",
    "#b) \n",
    "    rolls.sort() # storting rolls\n",
    "    print(\"\\n\", file=f) # writing a newline to the file\n",
    "\n",
    "    for roll in rolls: # writing sorted files.\n",
    "        f.write(str(roll))\n",
    "\n",
    "    print(\"\\n\"+str(fours), file=f) # printing fours a s string on new line\n",
    "print(rolls)\n",
    "print(fours)"
   ]
  },
  {
   "cell_type": "markdown",
   "metadata": {},
   "source": [
    "---\n",
    "## 2. Test results (*)\n",
    "Read in the file [test_result.txt][test_result] in Python.\n",
    "\n",
    "[test_result]: https://github.com/kokchun/Programmering-med-Python-21/blob/main/Files/test_result.txt\n",
    "\n",
    "&nbsp; a) &nbsp; Print out the text in the terminal (*)\n",
    "\n",
    "&nbsp; b) &nbsp; Create new rows in the same file and write the people and their corresponding scores in alphabetical order. (*)\n",
    "\n",
    "&nbsp; c) &nbsp; Create additional rows in the same file and sort the people after their grades. The grade limits are: (**)\n",
    "\n",
    "- F < 20\n",
    "- E: 20-29\n",
    "- D: 30-39\n",
    "- C: 40-49\n",
    "- B: 50-59\n",
    "- A: 60-70\n",
    "\n",
    "<details>\n",
    "\n",
    "<summary>Hint </summary>\n",
    "\n",
    "Open the file using option \"r\" for read and open the file using option \"a\" for append. \n",
    "\n",
    "</details>\n",
    "<br>\n",
    "<details>\n",
    "\n",
    "<summary>Answer </summary>\n",
    "\n",
    "```\n",
    "\n",
    "Adam Gustafsson 25\n",
    "Emil Johansson 23\n",
    "Sven Erik Karlsson 13\n",
    "Ove Karlsten 41\n",
    "Emma Boden 32\n",
    "Ida Håkansson 23\n",
    "Ella Ester 41\n",
    "Hanna Karlsson 23 \n",
    "Johan Johansson 42\n",
    "Sven Erik Lundin 39\n",
    "Björn Björnsson 39\n",
    "Karl Karlsson 32\n",
    "Bose Bosseson 32\n",
    "Håkan Håkanson 24\n",
    "Jonas Jonasson 31\n",
    "Erik Eriksson 31\n",
    "Gore Bord 55\n",
    "Jakob Kallander 65\n",
    "Fredrika Ulven 10\n",
    "\n",
    "Sorted alphabetically\n",
    "Adam Gustafsson 25\n",
    "Björn Björnsson 39\n",
    "Bose Bosseson 32\n",
    "Ella Ester 41\n",
    "Emil Johansson 23\n",
    "Emma Boden 32\n",
    "Erik Eriksson 31\n",
    "Fredrika Ulven 10\n",
    "Gore Bord 55\n",
    "Hanna Karlsson 23\n",
    "Håkan Håkanson 24\n",
    "Ida Håkansson 23\n",
    "Jakob Kallander 65\n",
    "Johan Johansson 42\n",
    "Jonas Jonasson 31\n",
    "Karl Karlsson 32\n",
    "Ove Karlsten 41\n",
    "Sven Erik Karlsson 13\n",
    "Sven Erik Lundin 39\n",
    "\n",
    "Sorted results: \n",
    "Grade: F\n",
    "Fredrika Ulven 10\n",
    "Sven Erik Karlsson 13\n",
    "Grade: E\n",
    "Adam Gustafsson 25\n",
    "Emil Johansson 23\n",
    "Hanna Karlsson 23\n",
    "Håkan Håkanson 24\n",
    "Ida Håkansson 23\n",
    "Grade: D\n",
    "Björn Björnsson 39\n",
    "Bose Bosseson 32\n",
    "Emma Boden 32\n",
    "Erik Eriksson 31\n",
    "Jonas Jonasson 31\n",
    "Karl Karlsson 32\n",
    "Sven Erik Lundin 39\n",
    "Grade: C\n",
    "Ella Ester 41\n",
    "Johan Johansson 42\n",
    "Ove Karlsten 41\n",
    "Grade: B\n",
    "Gore Bord 55\n",
    "Grade: A\n",
    "Jakob Kallander 65\n",
    "\n",
    "```\n",
    "\n",
    "</details>"
   ]
  },
  {
   "cell_type": "markdown",
   "metadata": {},
   "source": [
    "What the program needs.\n",
    "- convert txt into list with all names and scores.\n",
    "- sort the list\n",
    "- append to the list\n",
    "- \n",
    "- \n"
   ]
  },
  {
   "cell_type": "code",
   "execution_count": 6,
   "metadata": {},
   "outputs": [
    {
     "name": "stdout",
     "output_type": "stream",
     "text": [
      "Adam Gustafsson 25\n",
      "BjÃ¶rn BjÃ¶rnsson 39\n",
      "Bose Bosseson 32\n",
      "Ella Ester 41\n",
      "Emil Johansson 23\n",
      "Emma Boden 32\n",
      "Erik Eriksson 31\n",
      "Fredrika Ulven 10Gore Bord 55\n",
      "Hanna Karlsson 23 \n",
      "HÃ¥kan HÃ¥kanson 24\n",
      "Ida HÃ¥kansson 23\n",
      "Jakob Kallander 65\n",
      "Johan Johansson 42\n",
      "Jonas Jonasson 31\n",
      "Karl Karlsson 32\n",
      "Ove Karlsten 41\n",
      "Sven Erik Karlsson 13\n",
      "Sven Erik Lundin 39\n"
     ]
    }
   ],
   "source": [
    "# A) Print out the text in the terminal (*)\n",
    "\n",
    "with open(\"../Data/provresultat.txt\", \"r\") as f:\n",
    "    \n",
    "    for lista in sorted(f):\n",
    "        print(lista, end=\"\")"
   ]
  },
  {
   "cell_type": "code",
   "execution_count": 1,
   "metadata": {},
   "outputs": [
    {
     "name": "stdout",
     "output_type": "stream",
     "text": [
      "<_io.TextIOWrapper name='../Data/test_result.txt' mode='r' encoding='cp1252'>\n"
     ]
    }
   ],
   "source": [
    "#b)\n",
    "import re\n",
    "#creating list variable\n",
    "lst = []\n",
    "s_lst = []\n",
    "with open(\"../Data/test_result.txt\", \"r\") as f_r, open(\"../Data/test_result.txt\", \"a\") as f_a:\n",
    "    #print(f_r)\n",
    "    for i in f_r:\n",
    "        lst.append(i.split(\"\\n\"))\n",
    "    print(f_r)\n",
    "    for ele in sorted(lst):\n",
    "        s_lst.append(ele)\n",
    "\n"
   ]
  },
  {
   "cell_type": "code",
   "execution_count": 68,
   "metadata": {},
   "outputs": [
    {
     "name": "stdout",
     "output_type": "stream",
     "text": [
      "None\n",
      "['AMe no likey', 'BHello my name is', 'CWhy do you hate me']\n"
     ]
    }
   ],
   "source": [
    "string = [\"BHello my name is\", \"CWhy do you hate me\", \"AMe no likey\"]\n",
    "print(string.sort())\n",
    "\n",
    "print(string)"
   ]
  },
  {
   "cell_type": "markdown",
   "metadata": {},
   "source": [
    "---\n",
    "## 3. National test (*)\n",
    "Read in the file [NPvt19Ma2A.txt][files] and [NPvt19Ma2C.txt][files] in Python. Use **matplotlib** to plot pie charts for each grade categories in each file. (*)\n",
    "\n",
    "[files]: https://github.com/kokchun/Programmering-med-Python-21/tree/main/Files\n",
    "\n",
    "<details>\n",
    "\n",
    "<summary>Hint </summary>\n",
    "\n",
    "Use **subplot** in **matplotlib**\n",
    "\n",
    "</details>\n",
    "<br>\n",
    "<details>\n",
    "\n",
    "<summary>Answer </summary>\n",
    "\n",
    "<img align=\"left\" src=\"../assets/NP.png\" width=\"300\"/>\n",
    "\n",
    "</details>"
   ]
  },
  {
   "cell_type": "markdown",
   "metadata": {},
   "source": [
    "---\n",
    "## 4. Dice roll experiment (**)\n",
    "Simulate 10, 100, 1000, 10000, 100000 dice rolls and count the freqencies and probabilities for each number in each simulation. Create a new text file using Python with the name \"simulation.txt\" and write the results to that text file.(**)\n",
    "\n",
    "[files]: https://github.com/kokchun/Programmering-med-Python-21/tree/main/Files\n",
    "\n",
    "<details>\n",
    "\n",
    "<summary>Answer </summary>\n",
    "\n",
    "```\n",
    "\n",
    "Number of rolls: 10 \n",
    "Ones: 4, probability: 0.4\n",
    "Twos: 1, probability: 0.1\n",
    "Threes: 1, probability: 0.1\n",
    "Fours: 2, probability: 0.2\n",
    "Fives: 1, probability: 0.1\n",
    "Sixes: 1, probability: 0.1\n",
    "\n",
    "Number of rolls: 100 \n",
    "Ones: 16, probability: 0.16\n",
    "Twos: 12, probability: 0.12\n",
    "Threes: 24, probability: 0.24\n",
    "Fours: 18, probability: 0.18\n",
    "Fives: 16, probability: 0.16\n",
    "Sixes: 14, probability: 0.14\n",
    "\n",
    "Number of rolls: 1000 \n",
    "Ones: 181, probability: 0.181\n",
    "Twos: 167, probability: 0.167\n",
    "Threes: 184, probability: 0.184\n",
    "Fours: 152, probability: 0.152\n",
    "Fives: 168, probability: 0.168\n",
    "Sixes: 148, probability: 0.148\n",
    "\n",
    "Number of rolls: 10000 \n",
    "Ones: 1630, probability: 0.163\n",
    "Twos: 1666, probability: 0.1666\n",
    "Threes: 1686, probability: 0.1686\n",
    "Fours: 1616, probability: 0.1616\n",
    "Fives: 1677, probability: 0.1677\n",
    "Sixes: 1725, probability: 0.1725\n",
    "\n",
    "Number of rolls: 100000 \n",
    "Ones: 16804, probability: 0.16804\n",
    "Twos: 16625, probability: 0.16625\n",
    "Threes: 16646, probability: 0.16646\n",
    "Fours: 16660, probability: 0.1666\n",
    "Fives: 16576, probability: 0.16576\n",
    "Sixes: 16689, probability: 0.16689\n",
    "\n",
    "```"
   ]
  },
  {
   "cell_type": "markdown",
   "metadata": {},
   "source": [
    "---\n",
    "\n",
    "Kokchun Giang\n",
    "\n",
    "[LinkedIn][linkedIn_kokchun]\n",
    "\n",
    "[GitHub portfolio][github_portfolio]\n",
    "\n",
    "[linkedIn_kokchun]: https://www.linkedin.com/in/kokchungiang/\n",
    "[github_portfolio]: https://github.com/kokchun/Portfolio-Kokchun-Giang\n",
    "\n",
    "---"
   ]
  }
 ],
 "metadata": {
  "kernelspec": {
   "display_name": "Python 3.9.13 ('Python-Alexander-Andersson-6f9gzyEi')",
   "language": "python",
   "name": "python3"
  },
  "language_info": {
   "codemirror_mode": {
    "name": "ipython",
    "version": 3
   },
   "file_extension": ".py",
   "mimetype": "text/x-python",
   "name": "python",
   "nbconvert_exporter": "python",
   "pygments_lexer": "ipython3",
   "version": "3.9.13"
  },
  "orig_nbformat": 4,
  "vscode": {
   "interpreter": {
    "hash": "0e170795d12b9f00bb6c905343705ccb98da647a4486686bf7cb14fa618c1741"
   }
  }
 },
 "nbformat": 4,
 "nbformat_minor": 2
}
